{
 "cells": [
  {
   "cell_type": "code",
   "execution_count": 2,
   "id": "51a4f383",
   "metadata": {},
   "outputs": [
    {
     "name": "stdout",
     "output_type": "stream",
     "text": [
      "hello\n"
     ]
    }
   ],
   "source": [
    "print(\"hello\")"
   ]
  },
  {
   "cell_type": "code",
   "execution_count": 4,
   "id": "a5a6f943",
   "metadata": {},
   "outputs": [
    {
     "name": "stdout",
     "output_type": "stream",
     "text": [
      "hello\n"
     ]
    }
   ],
   "source": [
    "print('hello')"
   ]
  },
  {
   "cell_type": "code",
   "execution_count": 12,
   "id": "aa55edda",
   "metadata": {},
   "outputs": [
    {
     "data": {
      "text/plain": [
       "'\"sdjlkjfsla\\nsdfijasgj\\ngdsiogaoi\\n'"
      ]
     },
     "execution_count": 12,
     "metadata": {},
     "output_type": "execute_result"
    }
   ],
   "source": [
    "#my name is manoj\n",
    "\"\"\"\"sdjlkjfsla\n",
    "sdfijasgj\n",
    "gdsiogaoi\n",
    "\"\"\""
   ]
  },
  {
   "cell_type": "code",
   "execution_count": 3,
   "id": "f92d7de7",
   "metadata": {},
   "outputs": [],
   "source": [
    "a, b=45,\"manoj\""
   ]
  },
  {
   "cell_type": "code",
   "execution_count": 6,
   "id": "9e566269",
   "metadata": {},
   "outputs": [
    {
     "name": "stdout",
     "output_type": "stream",
     "text": [
      "45 manoj\n"
     ]
    }
   ],
   "source": [
    "print(a,b)"
   ]
  },
  {
   "cell_type": "code",
   "execution_count": 9,
   "id": "b20ab784",
   "metadata": {},
   "outputs": [],
   "source": [
    "a,b,c=45,\"manoj\",\"dfjalks\"\n"
   ]
  },
  {
   "cell_type": "code",
   "execution_count": 11,
   "id": "b025f3df",
   "metadata": {},
   "outputs": [
    {
     "data": {
      "text/plain": [
       "45"
      ]
     },
     "execution_count": 11,
     "metadata": {},
     "output_type": "execute_result"
    }
   ],
   "source": [
    "a"
   ]
  },
  {
   "cell_type": "code",
   "execution_count": 13,
   "id": "f023d235",
   "metadata": {},
   "outputs": [
    {
     "data": {
      "text/plain": [
       "'manoj'"
      ]
     },
     "execution_count": 13,
     "metadata": {},
     "output_type": "execute_result"
    }
   ],
   "source": [
    "b"
   ]
  },
  {
   "cell_type": "code",
   "execution_count": 15,
   "id": "ca1d71f0",
   "metadata": {},
   "outputs": [
    {
     "data": {
      "text/plain": [
       "'dfjalks'"
      ]
     },
     "execution_count": 15,
     "metadata": {},
     "output_type": "execute_result"
    }
   ],
   "source": [
    "c"
   ]
  },
  {
   "cell_type": "code",
   "execution_count": 18,
   "id": "f54b288b",
   "metadata": {},
   "outputs": [
    {
     "data": {
      "text/plain": [
       "(45, 'manoj', 'dfjalks')"
      ]
     },
     "execution_count": 18,
     "metadata": {},
     "output_type": "execute_result"
    }
   ],
   "source": [
    "a,b,c"
   ]
  },
  {
   "cell_type": "code",
   "execution_count": 20,
   "id": "b577f0f0",
   "metadata": {},
   "outputs": [],
   "source": [
    "b=\"jajklfl\""
   ]
  },
  {
   "cell_type": "code",
   "execution_count": 22,
   "id": "bd625a35",
   "metadata": {},
   "outputs": [
    {
     "data": {
      "text/plain": [
       "'jajklfl'"
      ]
     },
     "execution_count": 22,
     "metadata": {},
     "output_type": "execute_result"
    }
   ],
   "source": [
    "b"
   ]
  },
  {
   "cell_type": "code",
   "execution_count": 24,
   "id": "e401fbcc",
   "metadata": {},
   "outputs": [
    {
     "ename": "SyntaxError",
     "evalue": "invalid syntax (Temp/ipykernel_15952/971994825.py, line 1)",
     "output_type": "error",
     "traceback": [
      "\u001b[1;36m  File \u001b[1;32m\"C:\\Users\\Manoj\\AppData\\Local\\Temp/ipykernel_15952/971994825.py\"\u001b[1;36m, line \u001b[1;32m1\u001b[0m\n\u001b[1;33m    1b=\"jkldsjfla\"\u001b[0m\n\u001b[1;37m     ^\u001b[0m\n\u001b[1;31mSyntaxError\u001b[0m\u001b[1;31m:\u001b[0m invalid syntax\n"
     ]
    }
   ],
   "source": [
    "1b=\"jkldsjfla\""
   ]
  },
  {
   "cell_type": "code",
   "execution_count": 25,
   "id": "69c3f02f",
   "metadata": {},
   "outputs": [
    {
     "ename": "SyntaxError",
     "evalue": "invalid syntax (Temp/ipykernel_15952/548055586.py, line 1)",
     "output_type": "error",
     "traceback": [
      "\u001b[1;36m  File \u001b[1;32m\"C:\\Users\\Manoj\\AppData\\Local\\Temp/ipykernel_15952/548055586.py\"\u001b[1;36m, line \u001b[1;32m1\u001b[0m\n\u001b[1;33m    2b=\"kdjsfalk\"\u001b[0m\n\u001b[1;37m     ^\u001b[0m\n\u001b[1;31mSyntaxError\u001b[0m\u001b[1;31m:\u001b[0m invalid syntax\n"
     ]
    }
   ],
   "source": [
    "2b=\"kdjsfalk\""
   ]
  },
  {
   "cell_type": "code",
   "execution_count": 27,
   "id": "a90f941b",
   "metadata": {},
   "outputs": [
    {
     "ename": "SyntaxError",
     "evalue": "invalid syntax (Temp/ipykernel_15952/1292295037.py, line 1)",
     "output_type": "error",
     "traceback": [
      "\u001b[1;36m  File \u001b[1;32m\"C:\\Users\\Manoj\\AppData\\Local\\Temp/ipykernel_15952/1292295037.py\"\u001b[1;36m, line \u001b[1;32m1\u001b[0m\n\u001b[1;33m    2a=64645465\u001b[0m\n\u001b[1;37m     ^\u001b[0m\n\u001b[1;31mSyntaxError\u001b[0m\u001b[1;31m:\u001b[0m invalid syntax\n"
     ]
    }
   ],
   "source": [
    "2a=64645465"
   ]
  },
  {
   "cell_type": "code",
   "execution_count": 29,
   "id": "1ecf204a",
   "metadata": {},
   "outputs": [
    {
     "ename": "SyntaxError",
     "evalue": "invalid syntax (Temp/ipykernel_15952/3129057703.py, line 1)",
     "output_type": "error",
     "traceback": [
      "\u001b[1;36m  File \u001b[1;32m\"C:\\Users\\Manoj\\AppData\\Local\\Temp/ipykernel_15952/3129057703.py\"\u001b[1;36m, line \u001b[1;32m1\u001b[0m\n\u001b[1;33m    @a=\"kjfalk\"\u001b[0m\n\u001b[1;37m      ^\u001b[0m\n\u001b[1;31mSyntaxError\u001b[0m\u001b[1;31m:\u001b[0m invalid syntax\n"
     ]
    }
   ],
   "source": [
    "@a=\"kjfalk\""
   ]
  },
  {
   "cell_type": "code",
   "execution_count": 32,
   "id": "a738c16d",
   "metadata": {},
   "outputs": [],
   "source": [
    "#d=\"kjfla\""
   ]
  },
  {
   "cell_type": "code",
   "execution_count": 34,
   "id": "68e18dce",
   "metadata": {},
   "outputs": [],
   "source": [
    "_d=\"jakdsfjal\""
   ]
  },
  {
   "cell_type": "code",
   "execution_count": 38,
   "id": "388b4db3",
   "metadata": {},
   "outputs": [
    {
     "ename": "NameError",
     "evalue": "name 'd' is not defined",
     "output_type": "error",
     "traceback": [
      "\u001b[1;31m---------------------------------------------------------------------------\u001b[0m",
      "\u001b[1;31mNameError\u001b[0m                                 Traceback (most recent call last)",
      "\u001b[1;32m~\\AppData\\Local\\Temp/ipykernel_15952/1535884393.py\u001b[0m in \u001b[0;36m<module>\u001b[1;34m\u001b[0m\n\u001b[1;32m----> 1\u001b[1;33m \u001b[0md\u001b[0m\u001b[1;33m&=\u001b[0m\u001b[1;34m\"alkfjdla\"\u001b[0m\u001b[1;33m\u001b[0m\u001b[1;33m\u001b[0m\u001b[0m\n\u001b[0m",
      "\u001b[1;31mNameError\u001b[0m: name 'd' is not defined"
     ]
    }
   ],
   "source": [
    "d&=\"alkfjdla\""
   ]
  },
  {
   "cell_type": "code",
   "execution_count": 39,
   "id": "a4569768",
   "metadata": {},
   "outputs": [],
   "source": [
    "a=1.3\n"
   ]
  },
  {
   "cell_type": "code",
   "execution_count": 50,
   "id": "179ad8c5",
   "metadata": {},
   "outputs": [
    {
     "data": {
      "text/plain": [
       "float"
      ]
     },
     "execution_count": 50,
     "metadata": {},
     "output_type": "execute_result"
    }
   ],
   "source": [
    "type(a)"
   ]
  },
  {
   "cell_type": "code",
   "execution_count": 51,
   "id": "cee76fa0",
   "metadata": {},
   "outputs": [
    {
     "ename": "TypeError",
     "evalue": "unsupported operand type(s) for +: 'int' and 'str'",
     "output_type": "error",
     "traceback": [
      "\u001b[1;31m---------------------------------------------------------------------------\u001b[0m",
      "\u001b[1;31mTypeError\u001b[0m                                 Traceback (most recent call last)",
      "\u001b[1;32m~\\AppData\\Local\\Temp/ipykernel_15952/3471557213.py\u001b[0m in \u001b[0;36m<module>\u001b[1;34m\u001b[0m\n\u001b[1;32m----> 1\u001b[1;33m \u001b[1;36m1\u001b[0m \u001b[1;33m+\u001b[0m \u001b[1;34m\"mamnoj\"\u001b[0m\u001b[1;33m\u001b[0m\u001b[1;33m\u001b[0m\u001b[0m\n\u001b[0m",
      "\u001b[1;31mTypeError\u001b[0m: unsupported operand type(s) for +: 'int' and 'str'"
     ]
    }
   ],
   "source": [
    "1 + \"mamnoj\""
   ]
  },
  {
   "cell_type": "code",
   "execution_count": 54,
   "id": "70f5f040",
   "metadata": {},
   "outputs": [
    {
     "data": {
      "text/plain": [
       "'1manoj'"
      ]
     },
     "execution_count": 54,
     "metadata": {},
     "output_type": "execute_result"
    }
   ],
   "source": [
    "\"1\" + \"manoj\""
   ]
  },
  {
   "cell_type": "code",
   "execution_count": 55,
   "id": "9f675777",
   "metadata": {},
   "outputs": [
    {
     "data": {
      "text/plain": [
       "2.2"
      ]
     },
     "execution_count": 55,
     "metadata": {},
     "output_type": "execute_result"
    }
   ],
   "source": [
    "1 + 1.2"
   ]
  },
  {
   "cell_type": "code",
   "execution_count": 57,
   "id": "1de6b6e2",
   "metadata": {},
   "outputs": [
    {
     "data": {
      "text/plain": [
       "int"
      ]
     },
     "execution_count": 57,
     "metadata": {},
     "output_type": "execute_result"
    }
   ],
   "source": [
    "a=1\n",
    "type(a)"
   ]
  },
  {
   "cell_type": "code",
   "execution_count": 59,
   "id": "38f62432",
   "metadata": {},
   "outputs": [
    {
     "data": {
      "text/plain": [
       "float"
      ]
     },
     "execution_count": 59,
     "metadata": {},
     "output_type": "execute_result"
    }
   ],
   "source": [
    "b=1.2\n",
    "type(b)"
   ]
  },
  {
   "cell_type": "code",
   "execution_count": 61,
   "id": "e3cbd2fe",
   "metadata": {},
   "outputs": [
    {
     "data": {
      "text/plain": [
       "2.2"
      ]
     },
     "execution_count": 61,
     "metadata": {},
     "output_type": "execute_result"
    }
   ],
   "source": [
    "a+b"
   ]
  },
  {
   "cell_type": "code",
   "execution_count": 63,
   "id": "b43fa2ac",
   "metadata": {},
   "outputs": [
    {
     "data": {
      "text/plain": [
       "float"
      ]
     },
     "execution_count": 63,
     "metadata": {},
     "output_type": "execute_result"
    }
   ],
   "source": [
    "type(a+b)"
   ]
  },
  {
   "cell_type": "code",
   "execution_count": 65,
   "id": "94297939",
   "metadata": {},
   "outputs": [
    {
     "data": {
      "text/plain": [
       "'manojmanojmanoj'"
      ]
     },
     "execution_count": 65,
     "metadata": {},
     "output_type": "execute_result"
    }
   ],
   "source": [
    "\"manoj\"+\"manoj\"+\"manoj\""
   ]
  },
  {
   "cell_type": "code",
   "execution_count": 66,
   "id": "13e28663",
   "metadata": {},
   "outputs": [
    {
     "data": {
      "text/plain": [
       "'manojmanojmanoj'"
      ]
     },
     "execution_count": 66,
     "metadata": {},
     "output_type": "execute_result"
    }
   ],
   "source": [
    "\"manoj\"*3"
   ]
  },
  {
   "cell_type": "code",
   "execution_count": 68,
   "id": "cc25e312",
   "metadata": {},
   "outputs": [
    {
     "data": {
      "text/plain": [
       "55"
      ]
     },
     "execution_count": 68,
     "metadata": {},
     "output_type": "execute_result"
    }
   ],
   "source": [
    "int(\"55\")"
   ]
  },
  {
   "cell_type": "code",
   "execution_count": 69,
   "id": "cd1c76ae",
   "metadata": {},
   "outputs": [
    {
     "ename": "ValueError",
     "evalue": "invalid literal for int() with base 10: 'mjka'",
     "output_type": "error",
     "traceback": [
      "\u001b[1;31m---------------------------------------------------------------------------\u001b[0m",
      "\u001b[1;31mValueError\u001b[0m                                Traceback (most recent call last)",
      "\u001b[1;32m~\\AppData\\Local\\Temp/ipykernel_15952/4162476078.py\u001b[0m in \u001b[0;36m<module>\u001b[1;34m\u001b[0m\n\u001b[1;32m----> 1\u001b[1;33m \u001b[0mint\u001b[0m\u001b[1;33m(\u001b[0m\u001b[1;34m\"mjka\"\u001b[0m\u001b[1;33m)\u001b[0m\u001b[1;33m\u001b[0m\u001b[1;33m\u001b[0m\u001b[0m\n\u001b[0m",
      "\u001b[1;31mValueError\u001b[0m: invalid literal for int() with base 10: 'mjka'"
     ]
    }
   ],
   "source": [
    "int(\"mjka\")"
   ]
  },
  {
   "cell_type": "code",
   "execution_count": 70,
   "id": "bf5c1852",
   "metadata": {},
   "outputs": [
    {
     "ename": "ValueError",
     "evalue": "invalid literal for int() with base 10: '5654dfah'",
     "output_type": "error",
     "traceback": [
      "\u001b[1;31m---------------------------------------------------------------------------\u001b[0m",
      "\u001b[1;31mValueError\u001b[0m                                Traceback (most recent call last)",
      "\u001b[1;32m~\\AppData\\Local\\Temp/ipykernel_15952/4229296660.py\u001b[0m in \u001b[0;36m<module>\u001b[1;34m\u001b[0m\n\u001b[1;32m----> 1\u001b[1;33m \u001b[0mint\u001b[0m\u001b[1;33m(\u001b[0m\u001b[1;34m\"5654dfah\"\u001b[0m\u001b[1;33m)\u001b[0m\u001b[1;33m\u001b[0m\u001b[1;33m\u001b[0m\u001b[0m\n\u001b[0m",
      "\u001b[1;31mValueError\u001b[0m: invalid literal for int() with base 10: '5654dfah'"
     ]
    }
   ],
   "source": [
    "int(\"5654dfah\")"
   ]
  },
  {
   "cell_type": "code",
   "execution_count": 72,
   "id": "fa958e26",
   "metadata": {},
   "outputs": [
    {
     "name": "stdout",
     "output_type": "stream",
     "text": [
      "sdf\n"
     ]
    }
   ],
   "source": [
    "a=input()"
   ]
  },
  {
   "cell_type": "code",
   "execution_count": 77,
   "id": "5ad36d65",
   "metadata": {},
   "outputs": [
    {
     "name": "stdout",
     "output_type": "stream",
     "text": [
      "enter ainterger 5646\n"
     ]
    }
   ],
   "source": [
    "a=input(\"enter ainterger \")"
   ]
  },
  {
   "cell_type": "code",
   "execution_count": 78,
   "id": "be629718",
   "metadata": {},
   "outputs": [
    {
     "data": {
      "text/plain": [
       "str"
      ]
     },
     "execution_count": 78,
     "metadata": {},
     "output_type": "execute_result"
    }
   ],
   "source": [
    "type(a)"
   ]
  },
  {
   "cell_type": "code",
   "execution_count": 80,
   "id": "b1de59d8",
   "metadata": {},
   "outputs": [
    {
     "name": "stdout",
     "output_type": "stream",
     "text": [
      "value 1  45\n",
      "value 2  56\n",
      "value 3  34\n"
     ]
    }
   ],
   "source": [
    "a=int(input(\"value 1  \"))\n",
    "b=int(input(\"value 2  \"))\n",
    "c=int(input(\"value 3  \"))\n"
   ]
  },
  {
   "cell_type": "code",
   "execution_count": 88,
   "id": "aa139101",
   "metadata": {},
   "outputs": [
    {
     "data": {
      "text/plain": [
       "(45, 56, 34)"
      ]
     },
     "execution_count": 88,
     "metadata": {},
     "output_type": "execute_result"
    }
   ],
   "source": [
    "a,b,c"
   ]
  },
  {
   "cell_type": "code",
   "execution_count": 97,
   "id": "b7405ca3",
   "metadata": {},
   "outputs": [],
   "source": [
    "o=a+b/c"
   ]
  },
  {
   "cell_type": "code",
   "execution_count": 99,
   "id": "004ad94f",
   "metadata": {},
   "outputs": [
    {
     "data": {
      "text/plain": [
       "46.64705882352941"
      ]
     },
     "execution_count": 99,
     "metadata": {},
     "output_type": "execute_result"
    }
   ],
   "source": [
    "o"
   ]
  },
  {
   "cell_type": "code",
   "execution_count": 103,
   "id": "054483e5",
   "metadata": {},
   "outputs": [],
   "source": [
    "o1=o+78+5j\n"
   ]
  },
  {
   "cell_type": "code",
   "execution_count": 106,
   "id": "6e9e9f10",
   "metadata": {},
   "outputs": [
    {
     "data": {
      "text/plain": [
       "(124.64705882352942+5j)"
      ]
     },
     "execution_count": 106,
     "metadata": {},
     "output_type": "execute_result"
    }
   ],
   "source": [
    "o1"
   ]
  },
  {
   "cell_type": "code",
   "execution_count": 109,
   "id": "18c49c94",
   "metadata": {},
   "outputs": [
    {
     "data": {
      "text/plain": [
       "complex"
      ]
     },
     "execution_count": 109,
     "metadata": {},
     "output_type": "execute_result"
    }
   ],
   "source": [
    "type(o1)"
   ]
  },
  {
   "cell_type": "code",
   "execution_count": 2,
   "id": "49895a76",
   "metadata": {},
   "outputs": [
    {
     "ename": "NameError",
     "evalue": "name 'o1' is not defined",
     "output_type": "error",
     "traceback": [
      "\u001b[1;31m---------------------------------------------------------------------------\u001b[0m",
      "\u001b[1;31mNameError\u001b[0m                                 Traceback (most recent call last)",
      "\u001b[1;32m~\\AppData\\Local\\Temp/ipykernel_7732/1815234881.py\u001b[0m in \u001b[0;36m<module>\u001b[1;34m\u001b[0m\n\u001b[1;32m----> 1\u001b[1;33m \u001b[0mstr\u001b[0m\u001b[1;33m(\u001b[0m\u001b[0mo1\u001b[0m\u001b[1;33m)\u001b[0m\u001b[1;33m+\u001b[0m\u001b[1;34m\"manoj\"\u001b[0m\u001b[1;33m\u001b[0m\u001b[1;33m\u001b[0m\u001b[0m\n\u001b[0m",
      "\u001b[1;31mNameError\u001b[0m: name 'o1' is not defined"
     ]
    }
   ],
   "source": [
    "str(o1)+\"manoj\""
   ]
  },
  {
   "cell_type": "code",
   "execution_count": 23,
   "id": "3dee6bb1",
   "metadata": {},
   "outputs": [
    {
     "name": "stdout",
     "output_type": "stream",
     "text": [
      "value:-30\n",
      "fail\n"
     ]
    }
   ],
   "source": [
    "a=int(input(\"value:-\"))\n",
    "if a>33:\n",
    "    print(\"pass\")  \n",
    "else:\n",
    "    print(\"fail\")"
   ]
  },
  {
   "cell_type": "code",
   "execution_count": 27,
   "id": "2bf6ebb9",
   "metadata": {},
   "outputs": [
    {
     "name": "stdout",
     "output_type": "stream",
     "text": [
      "enter salary:-99\n",
      "i will buy a car\n"
     ]
    }
   ],
   "source": [
    "salary=int(input(\"enter salary:-\"))\n",
    "if salary < 1000:\n",
    "    print(\"i will buy a car\")\n",
    "elif salary < 500:\n",
    "    print(\"i will go for bike\")\n",
    "elif salary < 100:\n",
    "    print(\"i will not buy anything\")\n",
    "else:\n",
    "    print(\"i will go for saving\")\n",
    "    "
   ]
  },
  {
   "cell_type": "code",
   "execution_count": 28,
   "id": "8bb7b345",
   "metadata": {},
   "outputs": [
    {
     "name": "stdout",
     "output_type": "stream",
     "text": [
      "enter salary:-99\n",
      "i will go for saving\n"
     ]
    }
   ],
   "source": [
    "salary=int(input(\"enter salary:-\"))\n",
    "if salary > 1000:\n",
    "    print(\"i will buy a car\")\n",
    "elif salary > 500:\n",
    "    print(\"i will go for bike\")\n",
    "elif salary > 100:\n",
    "    print(\"i will not buy anything\")\n",
    "else:\n",
    "    print(\"i will go for saving\")\n"
   ]
  },
  {
   "cell_type": "code",
   "execution_count": 31,
   "id": "b821905a",
   "metadata": {},
   "outputs": [
    {
     "name": "stdout",
     "output_type": "stream",
     "text": [
      "enter salary:-101\n",
      "i will not buy anything\n"
     ]
    }
   ],
   "source": [
    "salary=int(input(\"enter salary:-\"))\n",
    "if salary > 1000:\n",
    "    print(\"i will buy a car\")\n",
    "elif salary > 500:\n",
    "    print(\"i will go for bike\")\n",
    "elif salary > 100:\n",
    "    print(\"i will not buy anything\")\n",
    "else:\n",
    "    print(\"i will go for saving\")\n"
   ]
  },
  {
   "cell_type": "code",
   "execution_count": 32,
   "id": "93a70077",
   "metadata": {},
   "outputs": [
    {
     "name": "stdout",
     "output_type": "stream",
     "text": [
      "enter salary:-1001\n",
      "i will buy a car\n",
      "i am ok with it\n",
      "also try to save something\n"
     ]
    }
   ],
   "source": [
    "salary=int(input(\"enter salary:-\"))\n",
    "if salary > 1000:\n",
    "    print(\"i will buy a car\")\n",
    "    print(\"i am ok with it\")\n",
    "    print(\"also try to save something\")\n",
    "elif salary > 500:\n",
    "    print(\"i will go for bike\")\n",
    "elif salary > 100:\n",
    "    print(\"i will not buy anything\")\n",
    "else:\n",
    "    print(\"i will go for saving\")"
   ]
  },
  {
   "cell_type": "code",
   "execution_count": 6,
   "id": "32e59e7a",
   "metadata": {},
   "outputs": [
    {
     "name": "stdout",
     "output_type": "stream",
     "text": [
      "enter salary:1001\n",
      "your salary is good\n",
      "false code\n",
      "i am ok with it\n",
      "also try to save something\n"
     ]
    }
   ],
   "source": [
    "salary=int(input(\"enter salary:\"))\n",
    "if salary > 1000:\n",
    "    print(\"your salary is good\")\n",
    "    if salary > 5000:\n",
    "        print(\"i will go with a nano car\")\n",
    "    if True:\n",
    "        print(\"false code\")\n",
    "    print(\"i am ok with it\")\n",
    "    print(\"also try to save something\")\n",
    "elif salary > 500:\n",
    "    print(\"i will go for bike\")\n",
    "elif salary > 100:\n",
    "    print(\"i will not buy anything\")\n",
    "else:\n",
    "    print(\"i will go for saving\")"
   ]
  },
  {
   "cell_type": "code",
   "execution_count": null,
   "id": "d27e1d00",
   "metadata": {},
   "outputs": [],
   "source": []
  }
 ],
 "metadata": {
  "kernelspec": {
   "display_name": "Python 3 (ipykernel)",
   "language": "python",
   "name": "python3"
  },
  "language_info": {
   "codemirror_mode": {
    "name": "ipython",
    "version": 3
   },
   "file_extension": ".py",
   "mimetype": "text/x-python",
   "name": "python",
   "nbconvert_exporter": "python",
   "pygments_lexer": "ipython3",
   "version": "3.9.7"
  }
 },
 "nbformat": 4,
 "nbformat_minor": 5
}
