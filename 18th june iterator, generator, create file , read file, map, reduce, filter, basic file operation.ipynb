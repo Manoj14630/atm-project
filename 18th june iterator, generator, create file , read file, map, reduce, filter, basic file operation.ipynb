{
 "cells": [
  {
   "cell_type": "code",
   "execution_count": 4,
   "id": "59b4c38b",
   "metadata": {},
   "outputs": [],
   "source": [
    "#Q) how for loop works-->if objects are iterable then for loop try to convert to all those \n",
    "#object into iterator and then apply next function so it will start extract ot iterate the data from\n",
    "#iterable object and then get data.\n",
    "#Q) is it possible to converte all object into iterator ?\t\tno, only iterable object will convert into iterator\n"
   ]
  },
  {
   "cell_type": "code",
   "execution_count": 5,
   "id": "49bb4092",
   "metadata": {},
   "outputs": [],
   "source": [
    "l = [1,3,4,5,5]"
   ]
  },
  {
   "cell_type": "code",
   "execution_count": 6,
   "id": "7cbb1d2b",
   "metadata": {},
   "outputs": [
    {
     "name": "stdout",
     "output_type": "stream",
     "text": [
      "1\n",
      "3\n",
      "4\n",
      "5\n",
      "5\n"
     ]
    }
   ],
   "source": [
    "for i in l:\n",
    "    print(i)"
   ]
  },
  {
   "cell_type": "code",
   "execution_count": 7,
   "id": "b4a7e3b1",
   "metadata": {},
   "outputs": [
    {
     "ename": "TypeError",
     "evalue": "'list' object is not an iterator",
     "output_type": "error",
     "traceback": [
      "\u001b[1;31m---------------------------------------------------------------------------\u001b[0m",
      "\u001b[1;31mTypeError\u001b[0m                                 Traceback (most recent call last)",
      "\u001b[1;32m~\\AppData\\Local\\Temp/ipykernel_15852/2016234150.py\u001b[0m in \u001b[0;36m<module>\u001b[1;34m\u001b[0m\n\u001b[1;32m----> 1\u001b[1;33m \u001b[0mnext\u001b[0m\u001b[1;33m(\u001b[0m\u001b[0ml\u001b[0m\u001b[1;33m)\u001b[0m\u001b[1;33m\u001b[0m\u001b[1;33m\u001b[0m\u001b[0m\n\u001b[0m",
      "\u001b[1;31mTypeError\u001b[0m: 'list' object is not an iterator"
     ]
    }
   ],
   "source": [
    "next(l)    #next function is inbuld function in python but next function has not iterator quality \n",
    "           #so for that first need to use iter function then next function will be able to iterator to iterable value"
   ]
  },
  {
   "cell_type": "code",
   "execution_count": 8,
   "id": "6ab087a6",
   "metadata": {},
   "outputs": [],
   "source": [
    "#but using iter function will converte iterable to iterator object"
   ]
  },
  {
   "cell_type": "code",
   "execution_count": 9,
   "id": "7e820f8d",
   "metadata": {},
   "outputs": [],
   "source": [
    "b = iter(l)"
   ]
  },
  {
   "cell_type": "code",
   "execution_count": 10,
   "id": "ff1260ad",
   "metadata": {},
   "outputs": [
    {
     "data": {
      "text/plain": [
       "1"
      ]
     },
     "execution_count": 10,
     "metadata": {},
     "output_type": "execute_result"
    }
   ],
   "source": [
    "next(b)"
   ]
  },
  {
   "cell_type": "code",
   "execution_count": 11,
   "id": "a4b7e5aa",
   "metadata": {},
   "outputs": [
    {
     "data": {
      "text/plain": [
       "3"
      ]
     },
     "execution_count": 11,
     "metadata": {},
     "output_type": "execute_result"
    }
   ],
   "source": [
    "next(b)"
   ]
  },
  {
   "cell_type": "code",
   "execution_count": 12,
   "id": "0f454bb1",
   "metadata": {},
   "outputs": [
    {
     "data": {
      "text/plain": [
       "4"
      ]
     },
     "execution_count": 12,
     "metadata": {},
     "output_type": "execute_result"
    }
   ],
   "source": [
    "next(b)"
   ]
  },
  {
   "cell_type": "code",
   "execution_count": 13,
   "id": "9662fcdd",
   "metadata": {},
   "outputs": [
    {
     "data": {
      "text/plain": [
       "5"
      ]
     },
     "execution_count": 13,
     "metadata": {},
     "output_type": "execute_result"
    }
   ],
   "source": [
    "next(b)"
   ]
  },
  {
   "cell_type": "code",
   "execution_count": 14,
   "id": "cbac2e00",
   "metadata": {},
   "outputs": [
    {
     "data": {
      "text/plain": [
       "5"
      ]
     },
     "execution_count": 14,
     "metadata": {},
     "output_type": "execute_result"
    }
   ],
   "source": [
    "next(b)"
   ]
  },
  {
   "cell_type": "code",
   "execution_count": 15,
   "id": "b9de6507",
   "metadata": {},
   "outputs": [
    {
     "ename": "StopIteration",
     "evalue": "",
     "output_type": "error",
     "traceback": [
      "\u001b[1;31m---------------------------------------------------------------------------\u001b[0m",
      "\u001b[1;31mStopIteration\u001b[0m                             Traceback (most recent call last)",
      "\u001b[1;32m~\\AppData\\Local\\Temp/ipykernel_15852/973617480.py\u001b[0m in \u001b[0;36m<module>\u001b[1;34m\u001b[0m\n\u001b[1;32m----> 1\u001b[1;33m \u001b[0mnext\u001b[0m\u001b[1;33m(\u001b[0m\u001b[0mb\u001b[0m\u001b[1;33m)\u001b[0m\u001b[1;33m\u001b[0m\u001b[1;33m\u001b[0m\u001b[0m\n\u001b[0m",
      "\u001b[1;31mStopIteration\u001b[0m: "
     ]
    }
   ],
   "source": [
    "next(b)"
   ]
  },
  {
   "cell_type": "code",
   "execution_count": 16,
   "id": "43dff785",
   "metadata": {},
   "outputs": [
    {
     "ename": "TypeError",
     "evalue": "'int' object is not an iterator",
     "output_type": "error",
     "traceback": [
      "\u001b[1;31m---------------------------------------------------------------------------\u001b[0m",
      "\u001b[1;31mTypeError\u001b[0m                                 Traceback (most recent call last)",
      "\u001b[1;32m~\\AppData\\Local\\Temp/ipykernel_15852/2317411141.py\u001b[0m in \u001b[0;36m<module>\u001b[1;34m\u001b[0m\n\u001b[1;32m----> 1\u001b[1;33m \u001b[0mnext\u001b[0m\u001b[1;33m(\u001b[0m\u001b[1;36m45\u001b[0m\u001b[1;33m)\u001b[0m\u001b[1;33m\u001b[0m\u001b[1;33m\u001b[0m\u001b[0m\n\u001b[0m",
      "\u001b[1;31mTypeError\u001b[0m: 'int' object is not an iterator"
     ]
    }
   ],
   "source": [
    "next(45)     #next function only iterate or execute to iterator object"
   ]
  },
  {
   "cell_type": "code",
   "execution_count": 17,
   "id": "75c0d531",
   "metadata": {},
   "outputs": [
    {
     "ename": "TypeError",
     "evalue": "'int' object is not iterable",
     "output_type": "error",
     "traceback": [
      "\u001b[1;31m---------------------------------------------------------------------------\u001b[0m",
      "\u001b[1;31mTypeError\u001b[0m                                 Traceback (most recent call last)",
      "\u001b[1;32m~\\AppData\\Local\\Temp/ipykernel_15852/3186544426.py\u001b[0m in \u001b[0;36m<module>\u001b[1;34m\u001b[0m\n\u001b[1;32m----> 1\u001b[1;33m \u001b[0miter\u001b[0m\u001b[1;33m(\u001b[0m\u001b[1;36m45\u001b[0m\u001b[1;33m)\u001b[0m\u001b[1;33m\u001b[0m\u001b[1;33m\u001b[0m\u001b[0m\n\u001b[0m",
      "\u001b[1;31mTypeError\u001b[0m: 'int' object is not iterable"
     ]
    }
   ],
   "source": [
    "iter(45)       #int is not iterable"
   ]
  },
  {
   "cell_type": "code",
   "execution_count": 18,
   "id": "25d369cf",
   "metadata": {},
   "outputs": [
    {
     "ename": "TypeError",
     "evalue": "'int' object is not iterable",
     "output_type": "error",
     "traceback": [
      "\u001b[1;31m---------------------------------------------------------------------------\u001b[0m",
      "\u001b[1;31mTypeError\u001b[0m                                 Traceback (most recent call last)",
      "\u001b[1;32m~\\AppData\\Local\\Temp/ipykernel_15852/1941576958.py\u001b[0m in \u001b[0;36m<module>\u001b[1;34m\u001b[0m\n\u001b[0;32m      1\u001b[0m \u001b[0ma\u001b[0m \u001b[1;33m=\u001b[0m \u001b[1;36m4545\u001b[0m\u001b[1;33m\u001b[0m\u001b[1;33m\u001b[0m\u001b[0m\n\u001b[1;32m----> 2\u001b[1;33m \u001b[1;32mfor\u001b[0m \u001b[0mi\u001b[0m \u001b[1;32min\u001b[0m \u001b[0ma\u001b[0m\u001b[1;33m:\u001b[0m\u001b[1;33m\u001b[0m\u001b[1;33m\u001b[0m\u001b[0m\n\u001b[0m\u001b[0;32m      3\u001b[0m     \u001b[0mprint\u001b[0m\u001b[1;33m(\u001b[0m\u001b[0mi\u001b[0m\u001b[1;33m)\u001b[0m\u001b[1;33m\u001b[0m\u001b[1;33m\u001b[0m\u001b[0m\n",
      "\u001b[1;31mTypeError\u001b[0m: 'int' object is not iterable"
     ]
    }
   ],
   "source": [
    "a = 4545\n",
    "for i in a:\n",
    "    print(i)"
   ]
  },
  {
   "cell_type": "code",
   "execution_count": 19,
   "id": "0d79d254",
   "metadata": {},
   "outputs": [
    {
     "ename": "TypeError",
     "evalue": "'int' object is not iterable",
     "output_type": "error",
     "traceback": [
      "\u001b[1;31m---------------------------------------------------------------------------\u001b[0m",
      "\u001b[1;31mTypeError\u001b[0m                                 Traceback (most recent call last)",
      "\u001b[1;32m~\\AppData\\Local\\Temp/ipykernel_15852/1495707167.py\u001b[0m in \u001b[0;36m<module>\u001b[1;34m\u001b[0m\n\u001b[1;32m----> 1\u001b[1;33m \u001b[1;32mfor\u001b[0m \u001b[0mi\u001b[0m \u001b[1;32min\u001b[0m \u001b[1;36m4545\u001b[0m\u001b[1;33m:\u001b[0m\u001b[1;33m\u001b[0m\u001b[1;33m\u001b[0m\u001b[0m\n\u001b[0m\u001b[0;32m      2\u001b[0m     \u001b[0mprint\u001b[0m\u001b[1;33m(\u001b[0m\u001b[0mi\u001b[0m\u001b[1;33m)\u001b[0m\u001b[1;33m\u001b[0m\u001b[1;33m\u001b[0m\u001b[0m\n",
      "\u001b[1;31mTypeError\u001b[0m: 'int' object is not iterable"
     ]
    }
   ],
   "source": [
    "for i in 4545:\n",
    "    print(i)"
   ]
  },
  {
   "cell_type": "code",
   "execution_count": 13,
   "id": "00a92b33",
   "metadata": {},
   "outputs": [
    {
     "name": "stdout",
     "output_type": "stream",
     "text": [
      "4\n",
      "5\n",
      "4\n",
      "5\n"
     ]
    }
   ],
   "source": [
    "a= [4,5,4,5]\n",
    "for i in range(len(a)):                 # inside the list, tuple , set & dictionry object are iterable \n",
    "    print(a[i])"
   ]
  },
  {
   "cell_type": "code",
   "execution_count": 15,
   "id": "bf2ace5a",
   "metadata": {},
   "outputs": [
    {
     "name": "stdout",
     "output_type": "stream",
     "text": [
      "0 4\n",
      "1 5\n",
      "2 4\n",
      "3 5\n"
     ]
    }
   ],
   "source": [
    "a= [4,5,4,5]\n",
    "for i in range(len(a)):                 # inside the list, tuple , set & dictionry object are iterable \n",
    "    print(i,a[i])"
   ]
  },
  {
   "cell_type": "code",
   "execution_count": 20,
   "id": "a94b5e7e",
   "metadata": {},
   "outputs": [
    {
     "name": "stdout",
     "output_type": "stream",
     "text": [
      "4\n",
      "5\n",
      "4\n",
      "5\n"
     ]
    }
   ],
   "source": [
    "a= [4,5,4,5]\n",
    "for i in a:                 # inside the list, tuple , set & dictionry object are iterable \n",
    "    print(i)"
   ]
  },
  {
   "cell_type": "code",
   "execution_count": 23,
   "id": "7137687a",
   "metadata": {},
   "outputs": [
    {
     "name": "stdout",
     "output_type": "stream",
     "text": [
      "4\n",
      "5\n",
      "4\n",
      "5\n"
     ]
    }
   ],
   "source": [
    "for i in (4,5,4,5):                 \n",
    "    print(i)"
   ]
  },
  {
   "cell_type": "code",
   "execution_count": 25,
   "id": "7f2c5ff4",
   "metadata": {},
   "outputs": [
    {
     "name": "stdout",
     "output_type": "stream",
     "text": [
      "4\n",
      "5\n"
     ]
    }
   ],
   "source": [
    "for i in {4,5,4,5}:                 \n",
    "    print(i)"
   ]
  },
  {
   "cell_type": "code",
   "execution_count": 27,
   "id": "0984e9f3",
   "metadata": {},
   "outputs": [
    {
     "name": "stdout",
     "output_type": "stream",
     "text": [
      "a\n",
      "b\n"
     ]
    }
   ],
   "source": [
    "for i in {'a':121, 'b':125}:\n",
    "    print(i)"
   ]
  },
  {
   "cell_type": "code",
   "execution_count": 28,
   "id": "947bdda8",
   "metadata": {},
   "outputs": [],
   "source": [
    "s = \"sudh\"    #string is iterable object"
   ]
  },
  {
   "cell_type": "code",
   "execution_count": 30,
   "id": "93b21733",
   "metadata": {},
   "outputs": [
    {
     "ename": "TypeError",
     "evalue": "'str' object is not an iterator",
     "output_type": "error",
     "traceback": [
      "\u001b[1;31m---------------------------------------------------------------------------\u001b[0m",
      "\u001b[1;31mTypeError\u001b[0m                                 Traceback (most recent call last)",
      "\u001b[1;32m~\\AppData\\Local\\Temp/ipykernel_15852/1977886155.py\u001b[0m in \u001b[0;36m<module>\u001b[1;34m\u001b[0m\n\u001b[1;32m----> 1\u001b[1;33m \u001b[0mnext\u001b[0m\u001b[1;33m(\u001b[0m\u001b[0ms\u001b[0m\u001b[1;33m)\u001b[0m\u001b[1;33m\u001b[0m\u001b[1;33m\u001b[0m\u001b[0m\n\u001b[0m",
      "\u001b[1;31mTypeError\u001b[0m: 'str' object is not an iterator"
     ]
    }
   ],
   "source": [
    "next(s)    #next function only iterate or execute to iterator object not iterable object"
   ]
  },
  {
   "cell_type": "code",
   "execution_count": 31,
   "id": "401cb7aa",
   "metadata": {},
   "outputs": [],
   "source": [
    "c = iter(s)"
   ]
  },
  {
   "cell_type": "code",
   "execution_count": 32,
   "id": "293758df",
   "metadata": {},
   "outputs": [
    {
     "data": {
      "text/plain": [
       "'s'"
      ]
     },
     "execution_count": 32,
     "metadata": {},
     "output_type": "execute_result"
    }
   ],
   "source": [
    "next(c)"
   ]
  },
  {
   "cell_type": "code",
   "execution_count": 34,
   "id": "bb82ebb6",
   "metadata": {},
   "outputs": [
    {
     "data": {
      "text/plain": [
       "'u'"
      ]
     },
     "execution_count": 34,
     "metadata": {},
     "output_type": "execute_result"
    }
   ],
   "source": [
    "next(c)"
   ]
  },
  {
   "cell_type": "code",
   "execution_count": 35,
   "id": "298368bc",
   "metadata": {},
   "outputs": [
    {
     "data": {
      "text/plain": [
       "'d'"
      ]
     },
     "execution_count": 35,
     "metadata": {},
     "output_type": "execute_result"
    }
   ],
   "source": [
    "next(c)"
   ]
  },
  {
   "cell_type": "code",
   "execution_count": 36,
   "id": "9fc84f65",
   "metadata": {},
   "outputs": [
    {
     "data": {
      "text/plain": [
       "'h'"
      ]
     },
     "execution_count": 36,
     "metadata": {},
     "output_type": "execute_result"
    }
   ],
   "source": [
    "next(c)"
   ]
  },
  {
   "cell_type": "code",
   "execution_count": 37,
   "id": "6d0b406f",
   "metadata": {},
   "outputs": [
    {
     "ename": "StopIteration",
     "evalue": "",
     "output_type": "error",
     "traceback": [
      "\u001b[1;31m---------------------------------------------------------------------------\u001b[0m",
      "\u001b[1;31mStopIteration\u001b[0m                             Traceback (most recent call last)",
      "\u001b[1;32m~\\AppData\\Local\\Temp/ipykernel_15852/1173204873.py\u001b[0m in \u001b[0;36m<module>\u001b[1;34m\u001b[0m\n\u001b[1;32m----> 1\u001b[1;33m \u001b[0mnext\u001b[0m\u001b[1;33m(\u001b[0m\u001b[0mc\u001b[0m\u001b[1;33m)\u001b[0m\u001b[1;33m\u001b[0m\u001b[1;33m\u001b[0m\u001b[0m\n\u001b[0m",
      "\u001b[1;31mStopIteration\u001b[0m: "
     ]
    }
   ],
   "source": [
    "next(c)    #getting this error because next function do not know the length of object, so don't know where to stop and \n",
    "           #this error will not get while using for loop because for loop itself have next, iter and len function "
   ]
  },
  {
   "cell_type": "code",
   "execution_count": 38,
   "id": "80ad46b4",
   "metadata": {},
   "outputs": [
    {
     "name": "stdout",
     "output_type": "stream",
     "text": [
      "s\n",
      "u\n",
      "d\n",
      "h\n"
     ]
    }
   ],
   "source": [
    "for i in s:\n",
    "    print(i)"
   ]
  },
  {
   "cell_type": "code",
   "execution_count": 39,
   "id": "dd69ed59",
   "metadata": {},
   "outputs": [],
   "source": [
    "t = (5,6,7,8,8)"
   ]
  },
  {
   "cell_type": "code",
   "execution_count": 40,
   "id": "0db322aa",
   "metadata": {},
   "outputs": [
    {
     "ename": "TypeError",
     "evalue": "'tuple' object is not an iterator",
     "output_type": "error",
     "traceback": [
      "\u001b[1;31m---------------------------------------------------------------------------\u001b[0m",
      "\u001b[1;31mTypeError\u001b[0m                                 Traceback (most recent call last)",
      "\u001b[1;32m~\\AppData\\Local\\Temp/ipykernel_15852/2139502855.py\u001b[0m in \u001b[0;36m<module>\u001b[1;34m\u001b[0m\n\u001b[1;32m----> 1\u001b[1;33m \u001b[0mnext\u001b[0m\u001b[1;33m(\u001b[0m\u001b[0mt\u001b[0m\u001b[1;33m)\u001b[0m\u001b[1;33m\u001b[0m\u001b[1;33m\u001b[0m\u001b[0m\n\u001b[0m",
      "\u001b[1;31mTypeError\u001b[0m: 'tuple' object is not an iterator"
     ]
    }
   ],
   "source": [
    "next(t)"
   ]
  },
  {
   "cell_type": "code",
   "execution_count": 41,
   "id": "acdfafa9",
   "metadata": {},
   "outputs": [
    {
     "name": "stdout",
     "output_type": "stream",
     "text": [
      "5\n",
      "6\n",
      "7\n",
      "8\n",
      "8\n"
     ]
    }
   ],
   "source": [
    "for i in t:\n",
    "    print(i)"
   ]
  },
  {
   "cell_type": "code",
   "execution_count": 43,
   "id": "c20bbceb",
   "metadata": {},
   "outputs": [],
   "source": [
    "a=iter(t)"
   ]
  },
  {
   "cell_type": "code",
   "execution_count": 44,
   "id": "7cd40c81",
   "metadata": {},
   "outputs": [
    {
     "data": {
      "text/plain": [
       "5"
      ]
     },
     "execution_count": 44,
     "metadata": {},
     "output_type": "execute_result"
    }
   ],
   "source": [
    "next(a)"
   ]
  },
  {
   "cell_type": "code",
   "execution_count": 45,
   "id": "1bb81072",
   "metadata": {},
   "outputs": [
    {
     "data": {
      "text/plain": [
       "6"
      ]
     },
     "execution_count": 45,
     "metadata": {},
     "output_type": "execute_result"
    }
   ],
   "source": [
    "next(a)"
   ]
  },
  {
   "cell_type": "code",
   "execution_count": 46,
   "id": "95e8dcd3",
   "metadata": {},
   "outputs": [
    {
     "data": {
      "text/plain": [
       "7"
      ]
     },
     "execution_count": 46,
     "metadata": {},
     "output_type": "execute_result"
    }
   ],
   "source": [
    "next(a)"
   ]
  },
  {
   "cell_type": "code",
   "execution_count": 47,
   "id": "84d61e78",
   "metadata": {},
   "outputs": [
    {
     "data": {
      "text/plain": [
       "8"
      ]
     },
     "execution_count": 47,
     "metadata": {},
     "output_type": "execute_result"
    }
   ],
   "source": [
    "next(a)"
   ]
  },
  {
   "cell_type": "code",
   "execution_count": 48,
   "id": "aae84602",
   "metadata": {},
   "outputs": [
    {
     "data": {
      "text/plain": [
       "8"
      ]
     },
     "execution_count": 48,
     "metadata": {},
     "output_type": "execute_result"
    }
   ],
   "source": [
    "next(a)"
   ]
  },
  {
   "cell_type": "code",
   "execution_count": 49,
   "id": "6e65b016",
   "metadata": {},
   "outputs": [
    {
     "ename": "StopIteration",
     "evalue": "",
     "output_type": "error",
     "traceback": [
      "\u001b[1;31m---------------------------------------------------------------------------\u001b[0m",
      "\u001b[1;31mStopIteration\u001b[0m                             Traceback (most recent call last)",
      "\u001b[1;32m~\\AppData\\Local\\Temp/ipykernel_15852/1242322984.py\u001b[0m in \u001b[0;36m<module>\u001b[1;34m\u001b[0m\n\u001b[1;32m----> 1\u001b[1;33m \u001b[0mnext\u001b[0m\u001b[1;33m(\u001b[0m\u001b[0ma\u001b[0m\u001b[1;33m)\u001b[0m\u001b[1;33m\u001b[0m\u001b[1;33m\u001b[0m\u001b[0m\n\u001b[0m",
      "\u001b[1;31mStopIteration\u001b[0m: "
     ]
    }
   ],
   "source": [
    "next(a)"
   ]
  },
  {
   "cell_type": "code",
   "execution_count": null,
   "id": "fdc34eed",
   "metadata": {},
   "outputs": [],
   "source": []
  },
  {
   "cell_type": "code",
   "execution_count": 21,
   "id": "6f133841",
   "metadata": {},
   "outputs": [],
   "source": [
    "#GENERATOR     #those function which are not returning the data but after iterate it, \n",
    "               #returning the data called as generator function"
   ]
  },
  {
   "cell_type": "code",
   "execution_count": 50,
   "id": "3f79dade",
   "metadata": {},
   "outputs": [
    {
     "data": {
      "text/plain": [
       "range(1, 10)"
      ]
     },
     "execution_count": 50,
     "metadata": {},
     "output_type": "execute_result"
    }
   ],
   "source": [
    "range(1,10)     #only givining object, not returning the data so range is generator funcion "
   ]
  },
  {
   "cell_type": "code",
   "execution_count": 51,
   "id": "dafe26ec",
   "metadata": {},
   "outputs": [
    {
     "data": {
      "text/plain": [
       "[1, 2, 3, 4, 5, 6, 7, 8, 9]"
      ]
     },
     "execution_count": 51,
     "metadata": {},
     "output_type": "execute_result"
    }
   ],
   "source": [
    "list(range(1,10))   #when its call as list its return the data"
   ]
  },
  {
   "cell_type": "code",
   "execution_count": 31,
   "id": "218f3bc3",
   "metadata": {},
   "outputs": [],
   "source": [
    "def square_fun(n) :                     #using def generate and return the data\n",
    "    x = [i*i for i in range(n)]\n",
    "    return x "
   ]
  },
  {
   "cell_type": "code",
   "execution_count": 32,
   "id": "30071b14",
   "metadata": {},
   "outputs": [
    {
     "data": {
      "text/plain": [
       "[0, 1, 4, 9]"
      ]
     },
     "execution_count": 32,
     "metadata": {},
     "output_type": "execute_result"
    }
   ],
   "source": [
    "square_fun(4)"
   ]
  },
  {
   "cell_type": "code",
   "execution_count": 37,
   "id": "3ac1b5de",
   "metadata": {},
   "outputs": [
    {
     "name": "stdout",
     "output_type": "stream",
     "text": [
      "type n value :  7\n"
     ]
    },
    {
     "data": {
      "text/plain": [
       "[0, 1, 4, 9, 16, 25, 36]"
      ]
     },
     "execution_count": 37,
     "metadata": {},
     "output_type": "execute_result"
    }
   ],
   "source": [
    "def square_fun(n) :                     #using def generate and return the data\n",
    "    x = [i*i for i in range(n)]\n",
    "    return x\n",
    "square_fun(int(input('type n value :  ')))    "
   ]
  },
  {
   "cell_type": "code",
   "execution_count": 1,
   "id": "b9155641",
   "metadata": {},
   "outputs": [
    {
     "data": {
      "text/plain": [
       "[0, 1, 2, 3]"
      ]
     },
     "execution_count": 1,
     "metadata": {},
     "output_type": "execute_result"
    }
   ],
   "source": [
    "list(range(4))"
   ]
  },
  {
   "cell_type": "code",
   "execution_count": 6,
   "id": "0c420126",
   "metadata": {},
   "outputs": [
    {
     "data": {
      "text/plain": [
       "[0, 1, 4, 9, 16, 25, 36, 49, 64, 81]"
      ]
     },
     "execution_count": 6,
     "metadata": {},
     "output_type": "execute_result"
    }
   ],
   "source": [
    "list(i*i for i in range(10))"
   ]
  },
  {
   "cell_type": "code",
   "execution_count": 7,
   "id": "c9b26beb",
   "metadata": {},
   "outputs": [
    {
     "data": {
      "text/plain": [
       "[0, 2, 4, 6, 8, 10, 12, 14, 16, 18]"
      ]
     },
     "execution_count": 7,
     "metadata": {},
     "output_type": "execute_result"
    }
   ],
   "source": [
    "list(i*2 for i in range(10))"
   ]
  },
  {
   "cell_type": "code",
   "execution_count": 8,
   "id": "a0a76a2f",
   "metadata": {},
   "outputs": [
    {
     "data": {
      "text/plain": [
       "[0.0, 0.5, 1.0, 1.5, 2.0, 2.5, 3.0, 3.5, 4.0, 4.5]"
      ]
     },
     "execution_count": 8,
     "metadata": {},
     "output_type": "execute_result"
    }
   ],
   "source": [
    "list(i/2 for i in range(10))"
   ]
  },
  {
   "cell_type": "code",
   "execution_count": 10,
   "id": "97db5ec3",
   "metadata": {},
   "outputs": [
    {
     "data": {
      "text/plain": [
       "[0, 1, 8, 27, 64, 125, 216, 343, 512, 729]"
      ]
     },
     "execution_count": 10,
     "metadata": {},
     "output_type": "execute_result"
    }
   ],
   "source": [
    "list(i*i*i for i in range(10))"
   ]
  },
  {
   "cell_type": "code",
   "execution_count": 18,
   "id": "3de4fa4f",
   "metadata": {},
   "outputs": [
    {
     "data": {
      "text/plain": [
       "[True, False, True, False, True, False, True, False, True, False]"
      ]
     },
     "execution_count": 18,
     "metadata": {},
     "output_type": "execute_result"
    }
   ],
   "source": [
    "list(i%2==0 for i in range(10))"
   ]
  },
  {
   "cell_type": "code",
   "execution_count": 29,
   "id": "266f55e4",
   "metadata": {},
   "outputs": [
    {
     "data": {
      "text/plain": [
       "[True, True, True, True, True, True, True, True, True, True]"
      ]
     },
     "execution_count": 29,
     "metadata": {},
     "output_type": "execute_result"
    }
   ],
   "source": [
    "list(type(i)==int for i in range(10))"
   ]
  },
  {
   "cell_type": "code",
   "execution_count": 4,
   "id": "115cf68c",
   "metadata": {},
   "outputs": [],
   "source": [
    "def square_fun1(n) :\n",
    "    x = [i*i for i in range(n)]\n",
    "    yield x "
   ]
  },
  {
   "cell_type": "code",
   "execution_count": 56,
   "id": "4e0c98ab",
   "metadata": {},
   "outputs": [
    {
     "data": {
      "text/plain": [
       "<generator object square_fun1 at 0x0000028EDB512D60>"
      ]
     },
     "execution_count": 56,
     "metadata": {},
     "output_type": "execute_result"
    }
   ],
   "source": [
    "square_fun1(4)   #yild only givining object, not returning the data after retrate \n",
    "                 #returning the data so yiled is generator function"
   ]
  },
  {
   "cell_type": "code",
   "execution_count": null,
   "id": "493c7da9",
   "metadata": {},
   "outputs": [],
   "source": []
  },
  {
   "cell_type": "code",
   "execution_count": 58,
   "id": "069f57d9",
   "metadata": {},
   "outputs": [
    {
     "name": "stdout",
     "output_type": "stream",
     "text": [
      "[0, 1, 4, 9]\n"
     ]
    }
   ],
   "source": [
    "for i in square_fun1(4):\n",
    "    print(i)\n",
    "    "
   ]
  },
  {
   "cell_type": "code",
   "execution_count": 59,
   "id": "7738e621",
   "metadata": {},
   "outputs": [
    {
     "name": "stdout",
     "output_type": "stream",
     "text": [
      "0\n",
      "1\n",
      "2\n",
      "3\n"
     ]
    }
   ],
   "source": [
    "for i in range(4):\n",
    "    print(i)"
   ]
  },
  {
   "cell_type": "code",
   "execution_count": 60,
   "id": "723c011c",
   "metadata": {},
   "outputs": [
    {
     "data": {
      "text/plain": [
       "[0, 1, 4, 9]"
      ]
     },
     "execution_count": 60,
     "metadata": {},
     "output_type": "execute_result"
    }
   ],
   "source": [
    "next(square_fun1(4))"
   ]
  },
  {
   "cell_type": "code",
   "execution_count": 61,
   "id": "e6d772ea",
   "metadata": {},
   "outputs": [
    {
     "ename": "TypeError",
     "evalue": "'range' object is not an iterator",
     "output_type": "error",
     "traceback": [
      "\u001b[1;31m---------------------------------------------------------------------------\u001b[0m",
      "\u001b[1;31mTypeError\u001b[0m                                 Traceback (most recent call last)",
      "\u001b[1;32m~\\AppData\\Local\\Temp/ipykernel_15852/2900367581.py\u001b[0m in \u001b[0;36m<module>\u001b[1;34m\u001b[0m\n\u001b[1;32m----> 1\u001b[1;33m \u001b[0mnext\u001b[0m\u001b[1;33m(\u001b[0m\u001b[0mrange\u001b[0m\u001b[1;33m(\u001b[0m\u001b[1;36m4\u001b[0m\u001b[1;33m)\u001b[0m\u001b[1;33m)\u001b[0m\u001b[1;33m\u001b[0m\u001b[1;33m\u001b[0m\u001b[0m\n\u001b[0m",
      "\u001b[1;31mTypeError\u001b[0m: 'range' object is not an iterator"
     ]
    }
   ],
   "source": [
    "next(range(4))"
   ]
  },
  {
   "cell_type": "code",
   "execution_count": 62,
   "id": "d548f47f",
   "metadata": {},
   "outputs": [],
   "source": [
    "r = iter(range(4))"
   ]
  },
  {
   "cell_type": "code",
   "execution_count": 63,
   "id": "f9990ead",
   "metadata": {},
   "outputs": [
    {
     "data": {
      "text/plain": [
       "0"
      ]
     },
     "execution_count": 63,
     "metadata": {},
     "output_type": "execute_result"
    }
   ],
   "source": [
    "next(r)"
   ]
  },
  {
   "cell_type": "code",
   "execution_count": 64,
   "id": "872388cb",
   "metadata": {},
   "outputs": [
    {
     "data": {
      "text/plain": [
       "1"
      ]
     },
     "execution_count": 64,
     "metadata": {},
     "output_type": "execute_result"
    }
   ],
   "source": [
    "next(r)"
   ]
  },
  {
   "cell_type": "code",
   "execution_count": 65,
   "id": "1aca2bfc",
   "metadata": {},
   "outputs": [
    {
     "data": {
      "text/plain": [
       "2"
      ]
     },
     "execution_count": 65,
     "metadata": {},
     "output_type": "execute_result"
    }
   ],
   "source": [
    "next(r)"
   ]
  },
  {
   "cell_type": "code",
   "execution_count": 66,
   "id": "2a726cb6",
   "metadata": {},
   "outputs": [
    {
     "data": {
      "text/plain": [
       "3"
      ]
     },
     "execution_count": 66,
     "metadata": {},
     "output_type": "execute_result"
    }
   ],
   "source": [
    "next(r)"
   ]
  },
  {
   "cell_type": "code",
   "execution_count": 67,
   "id": "10fc0898",
   "metadata": {},
   "outputs": [
    {
     "ename": "StopIteration",
     "evalue": "",
     "output_type": "error",
     "traceback": [
      "\u001b[1;31m---------------------------------------------------------------------------\u001b[0m",
      "\u001b[1;31mStopIteration\u001b[0m                             Traceback (most recent call last)",
      "\u001b[1;32m~\\AppData\\Local\\Temp/ipykernel_15852/4134984757.py\u001b[0m in \u001b[0;36m<module>\u001b[1;34m\u001b[0m\n\u001b[1;32m----> 1\u001b[1;33m \u001b[0mnext\u001b[0m\u001b[1;33m(\u001b[0m\u001b[0mr\u001b[0m\u001b[1;33m)\u001b[0m\u001b[1;33m\u001b[0m\u001b[1;33m\u001b[0m\u001b[0m\n\u001b[0m",
      "\u001b[1;31mStopIteration\u001b[0m: "
     ]
    }
   ],
   "source": [
    "next(r)"
   ]
  },
  {
   "cell_type": "code",
   "execution_count": 68,
   "id": "e1e595c4",
   "metadata": {},
   "outputs": [],
   "source": [
    "def genfib(n) : \n",
    "    a = 1 \n",
    "    b = 1 \n",
    "    l = []\n",
    "    for i in range(n):\n",
    "        l.append(a)\n",
    "        a,b = b , a+b\n",
    "    return l "
   ]
  },
  {
   "cell_type": "code",
   "execution_count": 70,
   "id": "c3783f9e",
   "metadata": {},
   "outputs": [
    {
     "data": {
      "text/plain": [
       "[1, 1, 2, 3, 5, 8, 13, 21, 34, 55]"
      ]
     },
     "execution_count": 70,
     "metadata": {},
     "output_type": "execute_result"
    }
   ],
   "source": [
    "genfib(10)      #in this first its prepared the whole list then it will execute complete list which take time and memory \n",
    "                #consumption (10 is very small no. if take big no. like 10000000000 but dont try system will stuck)"
   ]
  },
  {
   "cell_type": "code",
   "execution_count": 41,
   "id": "1ba56b41",
   "metadata": {},
   "outputs": [],
   "source": [
    "def genfib1(n) : \n",
    "    a = 1 \n",
    "    b = 1 \n",
    "    for i in range(n):\n",
    "        yield a\n",
    "        a,b = b , a+b"
   ]
  },
  {
   "cell_type": "code",
   "execution_count": 39,
   "id": "1618288a",
   "metadata": {},
   "outputs": [
    {
     "data": {
      "text/plain": [
       "<generator object genfib1 at 0x000001CBB57C80B0>"
      ]
     },
     "execution_count": 39,
     "metadata": {},
     "output_type": "execute_result"
    }
   ],
   "source": [
    "genfib1(10)\n"
   ]
  },
  {
   "cell_type": "code",
   "execution_count": 83,
   "id": "ddc8f9ef",
   "metadata": {},
   "outputs": [
    {
     "name": "stdout",
     "output_type": "stream",
     "text": [
      "1\n",
      "1\n",
      "2\n",
      "3\n",
      "5\n",
      "8\n",
      "13\n",
      "21\n",
      "34\n",
      "55\n"
     ]
    }
   ],
   "source": [
    "for i in genfib1(10):   #and in generator function it will execute continuously not in one go, here can use big no.\n",
    "    print(i)"
   ]
  },
  {
   "cell_type": "code",
   "execution_count": 44,
   "id": "dab52ed8",
   "metadata": {},
   "outputs": [],
   "source": [
    "#file operation"
   ]
  },
  {
   "cell_type": "code",
   "execution_count": 45,
   "id": "15a3f655",
   "metadata": {},
   "outputs": [
    {
     "data": {
      "text/plain": [
       "'D:\\\\Jupyter notebook'"
      ]
     },
     "execution_count": 45,
     "metadata": {},
     "output_type": "execute_result"
    }
   ],
   "source": [
    "pwd()   #tell current pathway"
   ]
  },
  {
   "cell_type": "code",
   "execution_count": 46,
   "id": "9d265c7f",
   "metadata": {},
   "outputs": [
    {
     "data": {
      "text/plain": [
       "'D:\\\\Jupyter notebook'"
      ]
     },
     "execution_count": 46,
     "metadata": {},
     "output_type": "execute_result"
    }
   ],
   "source": [
    "import os       #tell pathway\n",
    "os.getcwd()"
   ]
  },
  {
   "cell_type": "code",
   "execution_count": 85,
   "id": "63d844f7",
   "metadata": {},
   "outputs": [
    {
     "ename": "FileNotFoundError",
     "evalue": "[Errno 2] No such file or directory: 'MANOJ#1.txt'",
     "output_type": "error",
     "traceback": [
      "\u001b[1;31m---------------------------------------------------------------------------\u001b[0m",
      "\u001b[1;31mFileNotFoundError\u001b[0m                         Traceback (most recent call last)",
      "\u001b[1;32m~\\AppData\\Local\\Temp/ipykernel_15852/3610330951.py\u001b[0m in \u001b[0;36m<module>\u001b[1;34m\u001b[0m\n\u001b[1;32m----> 1\u001b[1;33m \u001b[0mf\u001b[0m \u001b[1;33m=\u001b[0m \u001b[0mopen\u001b[0m\u001b[1;33m(\u001b[0m\u001b[1;34m'MANOJ#1.txt'\u001b[0m\u001b[1;33m)\u001b[0m\u001b[1;33m\u001b[0m\u001b[1;33m\u001b[0m\u001b[0m\n\u001b[0m",
      "\u001b[1;31mFileNotFoundError\u001b[0m: [Errno 2] No such file or directory: 'MANOJ#1.txt'"
     ]
    }
   ],
   "source": [
    "f = open('MANOJ#1.txt')  #becuse there is no such file so first will create file "
   ]
  },
  {
   "cell_type": "code",
   "execution_count": 98,
   "id": "a110d10a",
   "metadata": {},
   "outputs": [
    {
     "name": "stdout",
     "output_type": "stream",
     "text": [
      " Volume in drive D is New Volume\n",
      " Volume Serial Number is 76F6-54F7\n",
      "\n",
      " Directory of D:\\Jupyter notebook\n",
      "\n",
      "05-12-2022  13:32    <DIR>          .\n",
      "05-12-2022  13:32    <DIR>          ..\n",
      "05-12-2022  08:55    <DIR>          .ipynb_checkpoints\n",
      "13-10-2022  11:22            21,677 1.simple coding.ipynb\n",
      "05-12-2022  13:30            34,159 18th june iterator, generator, map, reduce, filter, basic file operation.ipynb\n",
      "29-11-2022  10:31            49,996 2.condintion,loop,input and pattern.ipynb\n",
      "22-10-2022  21:04            45,732 3. common function .ipynb\n",
      "22-11-2022  13:32            25,128 3.1 common function.ipynb\n",
      "26-10-2022  16:08             6,855 3.2 common function.ipynb\n",
      "23-10-2022  09:49             9,516 4. nested list and other .ipynb\n",
      "25-10-2022  12:38            10,802 5. conditional statement if, elif ,else.ipynb\n",
      "26-10-2022  12:53            42,491 6. LIst.ipynb\n",
      "13-07-2022  03:32             3,524 6.1 list tuple etc.ipynb\n",
      "24-11-2022  12:48            85,109 6.2 tuple set dictionary.ipynb\n",
      "30-11-2022  11:50            92,033 7. Functions, Generators File Handling.ipynb\n",
      "22-06-2022  01:37            29,585 7.1 working with function.ipynb\n",
      "26-10-2022  17:43           161,742 8. pandas.ipynb\n",
      "23-08-2022  14:29           551,392 8.1 pandas1.ipynb\n",
      "18-09-2022  17:43           198,770 8.2 pandas2.ipynb\n",
      "21-09-2022  15:19           507,382 8.3 numpy and basic of graph.ipynb\n",
      "21-11-2022  14:15         5,822,217 8.5 graph class.ipynb\n",
      "29-11-2022  13:20            72,973 Class Task.ipynb\n",
      "04-12-2022  17:03            38,866 Exceptional handling.ipynb\n",
      "29-11-2022  11:17             4,032 Hello.mp3\n",
      "30-06-2022  12:09    <DIR>          logging\n",
      "30-06-2022  13:29            10,940 logging and debuging.ipynb\n",
      "05-12-2022  13:32                 0 MANOJ#2.txt\n",
      "20-11-2022  15:07            61,349 Revision.ipynb\n",
      "24-06-2022  01:51               103 test.txt\n",
      "24-06-2022  01:54                33 test1.txt\n",
      "30-06-2022  13:26                 0 test11.log\n",
      "05-08-2022  15:19            94,421 test123.json\n",
      "24-06-2022  02:39               108 test2.txt\n",
      "24-06-2022  02:50                32 test3.txt\n",
      "24-06-2022  02:54                25 test4.txt\n",
      "22-09-2022  15:39             3,151 Untitled2.ipynb\n",
      "              32 File(s)      7,984,143 bytes\n",
      "               4 Dir(s)  72,289,034,240 bytes free\n"
     ]
    }
   ],
   "source": [
    "ls   #ls tell file in directory and  pathway"
   ]
  },
  {
   "cell_type": "code",
   "execution_count": 49,
   "id": "accb9cf8",
   "metadata": {},
   "outputs": [],
   "source": [
    "f = open('MANOJ#2.txt', 'w')  # use 'a' to write without removing previous , use 'r' can read , use 'w' can read and wright"
   ]
  },
  {
   "cell_type": "code",
   "execution_count": 50,
   "id": "081f43e5",
   "metadata": {},
   "outputs": [
    {
     "data": {
      "text/plain": [
       "16"
      ]
     },
     "execution_count": 50,
     "metadata": {},
     "output_type": "execute_result"
    }
   ],
   "source": [
    "f.write('my name is manoj')   #after file can write inside file using write funcion and after write must close it"
   ]
  },
  {
   "cell_type": "code",
   "execution_count": 102,
   "id": "652913ae",
   "metadata": {},
   "outputs": [],
   "source": [
    "f.close()"
   ]
  },
  {
   "cell_type": "code",
   "execution_count": 9,
   "id": "d102269f",
   "metadata": {},
   "outputs": [],
   "source": [
    "f1 = open('manoj#3.txt', 'w')"
   ]
  },
  {
   "cell_type": "code",
   "execution_count": 10,
   "id": "ede9de45",
   "metadata": {},
   "outputs": [
    {
     "data": {
      "text/plain": [
       "16"
      ]
     },
     "execution_count": 10,
     "metadata": {},
     "output_type": "execute_result"
    }
   ],
   "source": [
    "f1.write('this is the list')"
   ]
  },
  {
   "cell_type": "code",
   "execution_count": 11,
   "id": "23cb70dd",
   "metadata": {},
   "outputs": [],
   "source": [
    "f1.close()"
   ]
  },
  {
   "cell_type": "code",
   "execution_count": 12,
   "id": "50c5eaac",
   "metadata": {},
   "outputs": [],
   "source": [
    "#need to append list in file"
   ]
  },
  {
   "cell_type": "code",
   "execution_count": 16,
   "id": "4fd2e2c3",
   "metadata": {},
   "outputs": [],
   "source": [
    "l = [1,2,3,4,6,5,6,7,67,6]"
   ]
  },
  {
   "cell_type": "code",
   "execution_count": 17,
   "id": "7d26e7b5",
   "metadata": {},
   "outputs": [],
   "source": [
    "f2 = open('manoj#4.txt', 'w')"
   ]
  },
  {
   "cell_type": "code",
   "execution_count": 18,
   "id": "7ecafe21",
   "metadata": {},
   "outputs": [
    {
     "ename": "TypeError",
     "evalue": "write() argument must be str, not list",
     "output_type": "error",
     "traceback": [
      "\u001b[1;31m---------------------------------------------------------------------------\u001b[0m",
      "\u001b[1;31mTypeError\u001b[0m                                 Traceback (most recent call last)",
      "\u001b[1;32m~\\AppData\\Local\\Temp/ipykernel_15772/2511389660.py\u001b[0m in \u001b[0;36m<module>\u001b[1;34m\u001b[0m\n\u001b[1;32m----> 1\u001b[1;33m \u001b[0mf2\u001b[0m\u001b[1;33m.\u001b[0m\u001b[0mwrite\u001b[0m\u001b[1;33m(\u001b[0m\u001b[0ml\u001b[0m\u001b[1;33m)\u001b[0m    \u001b[1;31m#so list can not append so first convert into string\u001b[0m\u001b[1;33m\u001b[0m\u001b[1;33m\u001b[0m\u001b[0m\n\u001b[0m",
      "\u001b[1;31mTypeError\u001b[0m: write() argument must be str, not list"
     ]
    }
   ],
   "source": [
    "f2.write(l)    #so list can not append so first convert into string"
   ]
  },
  {
   "cell_type": "code",
   "execution_count": 19,
   "id": "02a1904e",
   "metadata": {},
   "outputs": [
    {
     "data": {
      "text/plain": [
       "31"
      ]
     },
     "execution_count": 19,
     "metadata": {},
     "output_type": "execute_result"
    }
   ],
   "source": [
    "f2.write(str(l))"
   ]
  },
  {
   "cell_type": "code",
   "execution_count": 30,
   "id": "65fcb446",
   "metadata": {},
   "outputs": [],
   "source": [
    "f2.close()"
   ]
  },
  {
   "cell_type": "code",
   "execution_count": 1,
   "id": "1574c6cb",
   "metadata": {},
   "outputs": [],
   "source": [
    "#how to create file and write"
   ]
  },
  {
   "cell_type": "code",
   "execution_count": 2,
   "id": "357cae2d",
   "metadata": {},
   "outputs": [],
   "source": [
    "f = open(\"test.txt\",\"w\")"
   ]
  },
  {
   "cell_type": "code",
   "execution_count": null,
   "id": "bbc6e423",
   "metadata": {},
   "outputs": [],
   "source": []
  },
  {
   "cell_type": "code",
   "execution_count": 44,
   "id": "4260775b",
   "metadata": {},
   "outputs": [],
   "source": [
    "f3 = open(\"test.sudh\" , 'w')     #it allow any file format \n",
    "f3.write(\"fsdfasf adsfas fdas afas fasd \")\n",
    "f3.close()"
   ]
  },
  {
   "cell_type": "code",
   "execution_count": null,
   "id": "71e0ea96",
   "metadata": {},
   "outputs": [],
   "source": []
  },
  {
   "cell_type": "code",
   "execution_count": 41,
   "id": "19aeead8",
   "metadata": {},
   "outputs": [],
   "source": [
    "#there is other way to create file and write on it"
   ]
  },
  {
   "cell_type": "code",
   "execution_count": 27,
   "id": "c5c748c8",
   "metadata": {},
   "outputs": [
    {
     "name": "stdout",
     "output_type": "stream",
     "text": [
      "Writing monu123.txt\n"
     ]
    }
   ],
   "source": [
    "%%writefile monu123.txt\n",
    "this is my python first file in different way"
   ]
  },
  {
   "cell_type": "code",
   "execution_count": 60,
   "id": "cb9236fc",
   "metadata": {},
   "outputs": [
    {
     "name": "stdout",
     "output_type": "stream",
     "text": [
      "Overwriting monu123.txt\n"
     ]
    }
   ],
   "source": [
    "%%writefile monu123.txt\n",
    "this is my python first file in different way\n",
    "this is good and easy way\n",
    "python is easy language to understand even\n",
    "non IT back ground pepole can learn this easy language "
   ]
  },
  {
   "cell_type": "code",
   "execution_count": 61,
   "id": "52bc0646",
   "metadata": {},
   "outputs": [],
   "source": [
    "f = open('monu123.txt')"
   ]
  },
  {
   "cell_type": "code",
   "execution_count": 62,
   "id": "7b3f4ba3",
   "metadata": {},
   "outputs": [
    {
     "data": {
      "text/plain": [
       "'this is my python first file in different way\\nthis is good and easy way\\npython is easy language to understand even\\nnon IT back ground pepole can learn this easy language \\n'"
      ]
     },
     "execution_count": 62,
     "metadata": {},
     "output_type": "execute_result"
    }
   ],
   "source": [
    "f.read()   #to read file here use read funtion"
   ]
  },
  {
   "cell_type": "code",
   "execution_count": 63,
   "id": "0194ad50",
   "metadata": {},
   "outputs": [
    {
     "data": {
      "text/plain": [
       "''"
      ]
     },
     "execution_count": 63,
     "metadata": {},
     "output_type": "execute_result"
    }
   ],
   "source": [
    "f.read()   #at second time, unable to read because cursor is at the end point"
   ]
  },
  {
   "cell_type": "code",
   "execution_count": 64,
   "id": "d1a04a09",
   "metadata": {},
   "outputs": [
    {
     "data": {
      "text/plain": [
       "0"
      ]
     },
     "execution_count": 64,
     "metadata": {},
     "output_type": "execute_result"
    }
   ],
   "source": [
    "f.seek(0)  #using seek function cursor can go where ever you want"
   ]
  },
  {
   "cell_type": "code",
   "execution_count": 65,
   "id": "a0caf41c",
   "metadata": {},
   "outputs": [
    {
     "data": {
      "text/plain": [
       "'this is my python first file in different way\\nthis is good and easy way\\npython is easy language to understand even\\nnon IT back ground pepole can learn this easy language \\n'"
      ]
     },
     "execution_count": 65,
     "metadata": {},
     "output_type": "execute_result"
    }
   ],
   "source": [
    "f.read()"
   ]
  },
  {
   "cell_type": "code",
   "execution_count": 66,
   "id": "965cbfbc",
   "metadata": {},
   "outputs": [
    {
     "data": {
      "text/plain": [
       "''"
      ]
     },
     "execution_count": 66,
     "metadata": {},
     "output_type": "execute_result"
    }
   ],
   "source": [
    "f.read()"
   ]
  },
  {
   "cell_type": "code",
   "execution_count": 67,
   "id": "43f0e2d1",
   "metadata": {},
   "outputs": [
    {
     "data": {
      "text/plain": [
       "5"
      ]
     },
     "execution_count": 67,
     "metadata": {},
     "output_type": "execute_result"
    }
   ],
   "source": [
    "f.seek(5)"
   ]
  },
  {
   "cell_type": "code",
   "execution_count": 68,
   "id": "65494eb9",
   "metadata": {},
   "outputs": [
    {
     "data": {
      "text/plain": [
       "'is my python first file in different way\\nthis is good and easy way\\npython is easy language to understand even\\nnon IT back ground pepole can learn this easy language \\n'"
      ]
     },
     "execution_count": 68,
     "metadata": {},
     "output_type": "execute_result"
    }
   ],
   "source": [
    "f.read()"
   ]
  },
  {
   "cell_type": "code",
   "execution_count": 69,
   "id": "5bf71b99",
   "metadata": {},
   "outputs": [
    {
     "data": {
      "text/plain": [
       "50"
      ]
     },
     "execution_count": 69,
     "metadata": {},
     "output_type": "execute_result"
    }
   ],
   "source": [
    "f.seek(50)"
   ]
  },
  {
   "cell_type": "code",
   "execution_count": 70,
   "id": "0815bb6a",
   "metadata": {},
   "outputs": [
    {
     "data": {
      "text/plain": [
       "'s is good and easy way\\npython is easy language to understand even\\nnon IT back ground pepole can learn this easy language \\n'"
      ]
     },
     "execution_count": 70,
     "metadata": {},
     "output_type": "execute_result"
    }
   ],
   "source": [
    "f.read()"
   ]
  },
  {
   "cell_type": "code",
   "execution_count": 71,
   "id": "604b912c",
   "metadata": {},
   "outputs": [
    {
     "data": {
      "text/plain": [
       "175"
      ]
     },
     "execution_count": 71,
     "metadata": {},
     "output_type": "execute_result"
    }
   ],
   "source": [
    "f.tell()   #tell function indicate where the cursor"
   ]
  },
  {
   "cell_type": "code",
   "execution_count": 72,
   "id": "dcc4af10",
   "metadata": {},
   "outputs": [
    {
     "data": {
      "text/plain": [
       "0"
      ]
     },
     "execution_count": 72,
     "metadata": {},
     "output_type": "execute_result"
    }
   ],
   "source": [
    "f.seek(0)"
   ]
  },
  {
   "cell_type": "code",
   "execution_count": 73,
   "id": "4ff95b24",
   "metadata": {},
   "outputs": [
    {
     "data": {
      "text/plain": [
       "0"
      ]
     },
     "execution_count": 73,
     "metadata": {},
     "output_type": "execute_result"
    }
   ],
   "source": [
    "f.tell()"
   ]
  },
  {
   "cell_type": "code",
   "execution_count": 74,
   "id": "a759aa0e",
   "metadata": {},
   "outputs": [
    {
     "data": {
      "text/plain": [
       "10"
      ]
     },
     "execution_count": 74,
     "metadata": {},
     "output_type": "execute_result"
    }
   ],
   "source": [
    "f.seek(10)"
   ]
  },
  {
   "cell_type": "code",
   "execution_count": 75,
   "id": "0d7d009d",
   "metadata": {},
   "outputs": [
    {
     "data": {
      "text/plain": [
       "10"
      ]
     },
     "execution_count": 75,
     "metadata": {},
     "output_type": "execute_result"
    }
   ],
   "source": [
    "f.tell()"
   ]
  },
  {
   "cell_type": "code",
   "execution_count": 76,
   "id": "a410e8da",
   "metadata": {},
   "outputs": [
    {
     "data": {
      "text/plain": [
       "' python first file i'"
      ]
     },
     "execution_count": 76,
     "metadata": {},
     "output_type": "execute_result"
    }
   ],
   "source": [
    "f.read(20)  #cursor is at 10th position and passing value in read give where it has to read"
   ]
  },
  {
   "cell_type": "code",
   "execution_count": 77,
   "id": "65b66bd3",
   "metadata": {},
   "outputs": [],
   "source": [
    "f1 = open('monu123.txt')"
   ]
  },
  {
   "cell_type": "code",
   "execution_count": 79,
   "id": "dbb4ba9f",
   "metadata": {},
   "outputs": [
    {
     "data": {
      "text/plain": [
       "'this is my python first file in different way\\nthis is good and easy way\\npython is easy language to understand even\\nnon IT back ground pepole can learn this easy language \\n'"
      ]
     },
     "execution_count": 79,
     "metadata": {},
     "output_type": "execute_result"
    }
   ],
   "source": [
    "f1.read()"
   ]
  },
  {
   "cell_type": "code",
   "execution_count": 80,
   "id": "fa34dbe3",
   "metadata": {},
   "outputs": [
    {
     "data": {
      "text/plain": [
       "0"
      ]
     },
     "execution_count": 80,
     "metadata": {},
     "output_type": "execute_result"
    }
   ],
   "source": [
    "f1.seek(0)"
   ]
  },
  {
   "cell_type": "code",
   "execution_count": 81,
   "id": "71b57f50",
   "metadata": {},
   "outputs": [
    {
     "data": {
      "text/plain": [
       "'this is my python first file in different way\\n'"
      ]
     },
     "execution_count": 81,
     "metadata": {},
     "output_type": "execute_result"
    }
   ],
   "source": [
    "f1.readline()   #read one line"
   ]
  },
  {
   "cell_type": "code",
   "execution_count": 82,
   "id": "c6cc48ba",
   "metadata": {},
   "outputs": [
    {
     "data": {
      "text/plain": [
       "['this is good and easy way\\n',\n",
       " 'python is easy language to understand even\\n',\n",
       " 'non IT back ground pepole can learn this easy language \\n']"
      ]
     },
     "execution_count": 82,
     "metadata": {},
     "output_type": "execute_result"
    }
   ],
   "source": [
    "f1.readlines()   #read all lines"
   ]
  },
  {
   "cell_type": "code",
   "execution_count": 84,
   "id": "20a525c6",
   "metadata": {},
   "outputs": [
    {
     "data": {
      "text/plain": [
       "0"
      ]
     },
     "execution_count": 84,
     "metadata": {},
     "output_type": "execute_result"
    }
   ],
   "source": [
    "f1.seek(0)"
   ]
  },
  {
   "cell_type": "code",
   "execution_count": 85,
   "id": "0b4fd2b0",
   "metadata": {},
   "outputs": [
    {
     "data": {
      "text/plain": [
       "'th'"
      ]
     },
     "execution_count": 85,
     "metadata": {},
     "output_type": "execute_result"
    }
   ],
   "source": [
    "f1.readline(2)"
   ]
  },
  {
   "cell_type": "code",
   "execution_count": 86,
   "id": "0b8a1bb8",
   "metadata": {},
   "outputs": [
    {
     "data": {
      "text/plain": [
       "5"
      ]
     },
     "execution_count": 86,
     "metadata": {},
     "output_type": "execute_result"
    }
   ],
   "source": [
    "f1.fileno()   #tell the file#"
   ]
  },
  {
   "cell_type": "code",
   "execution_count": 7,
   "id": "f5778f20",
   "metadata": {},
   "outputs": [],
   "source": [
    "f3= open(\"test109.txt\" , 'w')"
   ]
  },
  {
   "cell_type": "code",
   "execution_count": 8,
   "id": "f5dcf07e",
   "metadata": {},
   "outputs": [
    {
     "data": {
      "text/plain": [
       "67"
      ]
     },
     "execution_count": 8,
     "metadata": {},
     "output_type": "execute_result"
    }
   ],
   "source": [
    "f3.write(\"\"\"this is my python program to write into a file in different way \\n',\"\"\")"
   ]
  },
  {
   "cell_type": "code",
   "execution_count": 9,
   "id": "91b1aec7",
   "metadata": {},
   "outputs": [],
   "source": [
    "f3.close()"
   ]
  },
  {
   "cell_type": "code",
   "execution_count": 10,
   "id": "bc0bc325",
   "metadata": {},
   "outputs": [
    {
     "ename": "ValueError",
     "evalue": "I/O operation on closed file.",
     "output_type": "error",
     "traceback": [
      "\u001b[1;31m---------------------------------------------------------------------------\u001b[0m",
      "\u001b[1;31mValueError\u001b[0m                                Traceback (most recent call last)",
      "\u001b[1;32m~\\AppData\\Local\\Temp/ipykernel_10592/3045841574.py\u001b[0m in \u001b[0;36m<module>\u001b[1;34m\u001b[0m\n\u001b[1;32m----> 1\u001b[1;33m \u001b[0mf3\u001b[0m\u001b[1;33m.\u001b[0m\u001b[0mwrite\u001b[0m\u001b[1;33m(\u001b[0m\u001b[1;34m\"fdasfkasjkfl asklfkl kfa kkdfka fl af \"\u001b[0m\u001b[1;33m)\u001b[0m \u001b[1;31m#it will overide and remove previous one\u001b[0m\u001b[1;33m\u001b[0m\u001b[1;33m\u001b[0m\u001b[0m\n\u001b[0m",
      "\u001b[1;31mValueError\u001b[0m: I/O operation on closed file."
     ]
    }
   ],
   "source": [
    "f3.write(\"fdasfkasjkfl asklfkl kfa kkdfka fl af \") #it will overide and remove previous one"
   ]
  },
  {
   "cell_type": "code",
   "execution_count": 2,
   "id": "f5ec167d",
   "metadata": {},
   "outputs": [],
   "source": [
    "#to add or write again in existing file use 'a'"
   ]
  },
  {
   "cell_type": "code",
   "execution_count": 11,
   "id": "69e4417e",
   "metadata": {},
   "outputs": [],
   "source": [
    "f3= open(\"test109.txt\" , 'a')"
   ]
  },
  {
   "cell_type": "code",
   "execution_count": 12,
   "id": "6ba1f056",
   "metadata": {},
   "outputs": [
    {
     "data": {
      "text/plain": [
       "19"
      ]
     },
     "execution_count": 12,
     "metadata": {},
     "output_type": "execute_result"
    }
   ],
   "source": [
    "f3.write('this is my new data')"
   ]
  },
  {
   "cell_type": "code",
   "execution_count": 16,
   "id": "47229fec",
   "metadata": {},
   "outputs": [],
   "source": [
    "f3.close()"
   ]
  },
  {
   "cell_type": "code",
   "execution_count": 19,
   "id": "f0aa1e3c",
   "metadata": {},
   "outputs": [
    {
     "data": {
      "text/plain": [
       "'test109.txt'"
      ]
     },
     "execution_count": 19,
     "metadata": {},
     "output_type": "execute_result"
    }
   ],
   "source": [
    "f3.name   #tell the file name"
   ]
  },
  {
   "cell_type": "code",
   "execution_count": 20,
   "id": "422ef2fd",
   "metadata": {},
   "outputs": [
    {
     "data": {
      "text/plain": [
       "True"
      ]
     },
     "execution_count": 20,
     "metadata": {},
     "output_type": "execute_result"
    }
   ],
   "source": [
    "f3.closed   #tell file is close or open"
   ]
  },
  {
   "cell_type": "code",
   "execution_count": 22,
   "id": "191a31b1",
   "metadata": {},
   "outputs": [
    {
     "data": {
      "text/plain": [
       "'a'"
      ]
     },
     "execution_count": 22,
     "metadata": {},
     "output_type": "execute_result"
    }
   ],
   "source": [
    "f3.mode  #tell which mode file is"
   ]
  },
  {
   "cell_type": "code",
   "execution_count": 23,
   "id": "ffd13745",
   "metadata": {},
   "outputs": [],
   "source": [
    "#create file in any location"
   ]
  },
  {
   "cell_type": "code",
   "execution_count": 27,
   "id": "e5ce13ac",
   "metadata": {},
   "outputs": [],
   "source": [
    "f4 = open(r'C:\\Users\\Manoj\\OneDrive\\Desktop\\jayho.txt' , 'w')"
   ]
  },
  {
   "cell_type": "code",
   "execution_count": 28,
   "id": "d78ee61d",
   "metadata": {},
   "outputs": [],
   "source": [
    "f4.close()"
   ]
  },
  {
   "cell_type": "code",
   "execution_count": 47,
   "id": "95e496aa",
   "metadata": {},
   "outputs": [],
   "source": [
    "f5 = open(r'C:\\Users\\Manoj\\OneDrive\\Desktop\\jayho.xslx' , 'w')"
   ]
  },
  {
   "cell_type": "code",
   "execution_count": 48,
   "id": "cc9d9e2e",
   "metadata": {},
   "outputs": [],
   "source": [
    "f5.close()"
   ]
  },
  {
   "cell_type": "code",
   "execution_count": 52,
   "id": "d3b7d456",
   "metadata": {},
   "outputs": [],
   "source": [
    "f6 = open(r'E:\\movie\\n.xlsx','w')"
   ]
  },
  {
   "cell_type": "code",
   "execution_count": 53,
   "id": "8cdf806f",
   "metadata": {},
   "outputs": [
    {
     "data": {
      "text/plain": [
       "14"
      ]
     },
     "execution_count": 53,
     "metadata": {},
     "output_type": "execute_result"
    }
   ],
   "source": [
    "f6.write('hi who are you')"
   ]
  },
  {
   "cell_type": "code",
   "execution_count": 54,
   "id": "8f98f791",
   "metadata": {},
   "outputs": [],
   "source": [
    "f6.close()"
   ]
  },
  {
   "cell_type": "code",
   "execution_count": 31,
   "id": "ebd65897",
   "metadata": {},
   "outputs": [],
   "source": [
    "#map, reduce, filter"
   ]
  },
  {
   "cell_type": "code",
   "execution_count": 3,
   "id": "2762ab15",
   "metadata": {},
   "outputs": [],
   "source": [
    "l = [2,3,4,5,5,6]\n",
    "l1  = []\n",
    "for i in l :\n",
    "    l1.append(i**2)"
   ]
  },
  {
   "cell_type": "code",
   "execution_count": 4,
   "id": "89e28475",
   "metadata": {},
   "outputs": [
    {
     "data": {
      "text/plain": [
       "[4, 9, 16, 25, 25, 36]"
      ]
     },
     "execution_count": 4,
     "metadata": {},
     "output_type": "execute_result"
    }
   ],
   "source": [
    "l1"
   ]
  },
  {
   "cell_type": "code",
   "execution_count": 35,
   "id": "9301f3b3",
   "metadata": {},
   "outputs": [],
   "source": [
    "#how can get same result using map function"
   ]
  },
  {
   "cell_type": "code",
   "execution_count": 63,
   "id": "d93b2695",
   "metadata": {},
   "outputs": [],
   "source": [
    "def sq(n) : \n",
    "    return n**2"
   ]
  },
  {
   "cell_type": "code",
   "execution_count": 67,
   "id": "3e5a37cb",
   "metadata": {},
   "outputs": [
    {
     "data": {
      "text/plain": [
       "25"
      ]
     },
     "execution_count": 67,
     "metadata": {},
     "output_type": "execute_result"
    }
   ],
   "source": [
    "sq(5)     #will not give value in list"
   ]
  },
  {
   "cell_type": "code",
   "execution_count": 73,
   "id": "a2d4b88d",
   "metadata": {},
   "outputs": [],
   "source": [
    "l = [2,3,4,5,6]"
   ]
  },
  {
   "cell_type": "code",
   "execution_count": 74,
   "id": "2e157168",
   "metadata": {},
   "outputs": [
    {
     "data": {
      "text/plain": [
       "<map at 0x19348495160>"
      ]
     },
     "execution_count": 74,
     "metadata": {},
     "output_type": "execute_result"
    }
   ],
   "source": [
    "map(sq, l)  #give only obect "
   ]
  },
  {
   "cell_type": "code",
   "execution_count": 75,
   "id": "b3a40860",
   "metadata": {},
   "outputs": [
    {
     "data": {
      "text/plain": [
       "[4, 9, 16, 25, 36]"
      ]
     },
     "execution_count": 75,
     "metadata": {},
     "output_type": "execute_result"
    }
   ],
   "source": [
    "list(map(sq, l))"
   ]
  },
  {
   "cell_type": "code",
   "execution_count": 76,
   "id": "2f00996d",
   "metadata": {},
   "outputs": [
    {
     "data": {
      "text/plain": [
       "[4, 9, 16, 25, 36]"
      ]
     },
     "execution_count": 76,
     "metadata": {},
     "output_type": "execute_result"
    }
   ],
   "source": [
    "list(map(lambda x : x**2 ,l ))   #using lambda with map getting same result"
   ]
  },
  {
   "cell_type": "code",
   "execution_count": 77,
   "id": "02a121cc",
   "metadata": {},
   "outputs": [
    {
     "data": {
      "text/plain": [
       "[2, 3, 4, 5, 6]"
      ]
     },
     "execution_count": 77,
     "metadata": {},
     "output_type": "execute_result"
    }
   ],
   "source": [
    "l"
   ]
  },
  {
   "cell_type": "code",
   "execution_count": 78,
   "id": "88856c14",
   "metadata": {},
   "outputs": [
    {
     "data": {
      "text/plain": [
       "['2', '3', '4', '5', '6']"
      ]
     },
     "execution_count": 78,
     "metadata": {},
     "output_type": "execute_result"
    }
   ],
   "source": [
    "list(map(lambda x : str(x) , l))"
   ]
  },
  {
   "cell_type": "code",
   "execution_count": 7,
   "id": "0758cae5",
   "metadata": {},
   "outputs": [],
   "source": [
    "def str_c(n) :\n",
    "    return str(n)"
   ]
  },
  {
   "cell_type": "code",
   "execution_count": 8,
   "id": "cabf6e3f",
   "metadata": {},
   "outputs": [
    {
     "data": {
      "text/plain": [
       "['2', '3', '4', '5', '5', '6']"
      ]
     },
     "execution_count": 8,
     "metadata": {},
     "output_type": "execute_result"
    }
   ],
   "source": [
    "list(map(str_c , l))"
   ]
  },
  {
   "cell_type": "code",
   "execution_count": 9,
   "id": "526ca960",
   "metadata": {},
   "outputs": [
    {
     "data": {
      "text/plain": [
       "['2', '3', '4', '5', '5', '6']"
      ]
     },
     "execution_count": 9,
     "metadata": {},
     "output_type": "execute_result"
    }
   ],
   "source": [
    "list(map(str , l))"
   ]
  },
  {
   "cell_type": "code",
   "execution_count": 10,
   "id": "3d51b749",
   "metadata": {},
   "outputs": [],
   "source": [
    "#reduce function is not availble so import first"
   ]
  },
  {
   "cell_type": "code",
   "execution_count": 11,
   "id": "3740212a",
   "metadata": {},
   "outputs": [],
   "source": [
    "from functools import reduce    "
   ]
  },
  {
   "cell_type": "code",
   "execution_count": 12,
   "id": "b2cecd1e",
   "metadata": {},
   "outputs": [],
   "source": [
    "l = [3,4,5,6,7,8,9]"
   ]
  },
  {
   "cell_type": "code",
   "execution_count": 16,
   "id": "002bb976",
   "metadata": {},
   "outputs": [
    {
     "data": {
      "text/plain": [
       "42"
      ]
     },
     "execution_count": 16,
     "metadata": {},
     "output_type": "execute_result"
    }
   ],
   "source": [
    "sum(l)    #summesention all"
   ]
  },
  {
   "cell_type": "code",
   "execution_count": 18,
   "id": "3651efc8",
   "metadata": {},
   "outputs": [
    {
     "data": {
      "text/plain": [
       "42"
      ]
     },
     "execution_count": 18,
     "metadata": {},
     "output_type": "execute_result"
    }
   ],
   "source": [
    "reduce(lambda a , b   : a+b , l)  #by reduce function"
   ]
  },
  {
   "cell_type": "code",
   "execution_count": 20,
   "id": "ad41ae12",
   "metadata": {},
   "outputs": [
    {
     "data": {
      "text/plain": [
       "181440"
      ]
     },
     "execution_count": 20,
     "metadata": {},
     "output_type": "execute_result"
    }
   ],
   "source": [
    "reduce(lambda a , b   : a*b , l)"
   ]
  },
  {
   "cell_type": "code",
   "execution_count": 26,
   "id": "7d5c3165",
   "metadata": {},
   "outputs": [],
   "source": [
    "l = [3]"
   ]
  },
  {
   "cell_type": "code",
   "execution_count": 27,
   "id": "6c75f7c8",
   "metadata": {},
   "outputs": [
    {
     "data": {
      "text/plain": [
       "3"
      ]
     },
     "execution_count": 27,
     "metadata": {},
     "output_type": "execute_result"
    }
   ],
   "source": [
    "sum(l)"
   ]
  },
  {
   "cell_type": "code",
   "execution_count": 31,
   "id": "c9184a7f",
   "metadata": {},
   "outputs": [
    {
     "data": {
      "text/plain": [
       "3"
      ]
     },
     "execution_count": 31,
     "metadata": {},
     "output_type": "execute_result"
    }
   ],
   "source": [
    "reduce(lambda a , b   : a*b , l)"
   ]
  },
  {
   "cell_type": "code",
   "execution_count": 32,
   "id": "0a785561",
   "metadata": {},
   "outputs": [
    {
     "data": {
      "text/plain": [
       "3"
      ]
     },
     "execution_count": 32,
     "metadata": {},
     "output_type": "execute_result"
    }
   ],
   "source": [
    "reduce(lambda a , b   : a+b , l)"
   ]
  },
  {
   "cell_type": "code",
   "execution_count": 33,
   "id": "e77b2009",
   "metadata": {},
   "outputs": [],
   "source": [
    "#filter "
   ]
  },
  {
   "cell_type": "code",
   "execution_count": 34,
   "id": "68714a10",
   "metadata": {},
   "outputs": [],
   "source": [
    "l = [1,2,3,4,45,5]"
   ]
  },
  {
   "cell_type": "code",
   "execution_count": 35,
   "id": "ac2b5e48",
   "metadata": {},
   "outputs": [
    {
     "data": {
      "text/plain": [
       "[2, 4]"
      ]
     },
     "execution_count": 35,
     "metadata": {},
     "output_type": "execute_result"
    }
   ],
   "source": [
    "list(filter(lambda x : x%2==0 , l))    #extract even no. using filter function"
   ]
  },
  {
   "cell_type": "code",
   "execution_count": 36,
   "id": "61f4562f",
   "metadata": {},
   "outputs": [],
   "source": [
    "def check_even(n) :         #extract even no. using filter function\n",
    "    if n%2 == 0 :\n",
    "            return True "
   ]
  },
  {
   "cell_type": "code",
   "execution_count": 37,
   "id": "eacab956",
   "metadata": {},
   "outputs": [
    {
     "data": {
      "text/plain": [
       "[2, 4]"
      ]
     },
     "execution_count": 37,
     "metadata": {},
     "output_type": "execute_result"
    }
   ],
   "source": [
    "list(filter(check_even , l))"
   ]
  },
  {
   "cell_type": "code",
   "execution_count": null,
   "id": "9c112860",
   "metadata": {},
   "outputs": [],
   "source": []
  },
  {
   "cell_type": "code",
   "execution_count": null,
   "id": "b103d89f",
   "metadata": {},
   "outputs": [],
   "source": []
  }
 ],
 "metadata": {
  "kernelspec": {
   "display_name": "Python 3 (ipykernel)",
   "language": "python",
   "name": "python3"
  },
  "language_info": {
   "codemirror_mode": {
    "name": "ipython",
    "version": 3
   },
   "file_extension": ".py",
   "mimetype": "text/x-python",
   "name": "python",
   "nbconvert_exporter": "python",
   "pygments_lexer": "ipython3",
   "version": "3.9.7"
  }
 },
 "nbformat": 4,
 "nbformat_minor": 5
}
