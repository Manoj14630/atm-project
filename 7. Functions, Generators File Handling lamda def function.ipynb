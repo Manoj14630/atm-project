{
 "cells": [
  {
   "cell_type": "code",
   "execution_count": 2,
   "id": "c563e470",
   "metadata": {},
   "outputs": [],
   "source": [
    "a = 10\n",
    "b = 20\n",
    "def test1(x,y):\n",
    "    return x + y"
   ]
  },
  {
   "cell_type": "code",
   "execution_count": null,
   "id": "1681b3f3",
   "metadata": {},
   "outputs": [],
   "source": []
  },
  {
   "cell_type": "code",
   "execution_count": 3,
   "id": "c201c330",
   "metadata": {},
   "outputs": [
    {
     "data": {
      "text/plain": [
       "30"
      ]
     },
     "execution_count": 3,
     "metadata": {},
     "output_type": "execute_result"
    }
   ],
   "source": [
    "test1(a,b)"
   ]
  },
  {
   "cell_type": "code",
   "execution_count": null,
   "id": "ccfd7d9c",
   "metadata": {},
   "outputs": [],
   "source": []
  },
  {
   "cell_type": "code",
   "execution_count": 4,
   "id": "6ebefbf4",
   "metadata": {},
   "outputs": [],
   "source": [
    "def test1(x,y):\n",
    "    return x + y"
   ]
  },
  {
   "cell_type": "code",
   "execution_count": 5,
   "id": "6c8b4753",
   "metadata": {},
   "outputs": [
    {
     "data": {
      "text/plain": [
       "30"
      ]
     },
     "execution_count": 5,
     "metadata": {},
     "output_type": "execute_result"
    }
   ],
   "source": [
    "test1(10,20)"
   ]
  },
  {
   "cell_type": "code",
   "execution_count": 9,
   "id": "90142d3e",
   "metadata": {},
   "outputs": [],
   "source": [
    "def manoj():\n",
    "    return 1,2,3, [2,3,5,4,5,6,45,6,54]    #as muptiple values will give the as tuple  "
   ]
  },
  {
   "cell_type": "code",
   "execution_count": 21,
   "id": "0901bbd9",
   "metadata": {},
   "outputs": [
    {
     "data": {
      "text/plain": [
       "(1, 2, 3, [2, 3, 5, 4, 5, 6, 45, 6, 54])"
      ]
     },
     "execution_count": 21,
     "metadata": {},
     "output_type": "execute_result"
    }
   ],
   "source": [
    "manoj()"
   ]
  },
  {
   "cell_type": "code",
   "execution_count": 24,
   "id": "d3bc6199",
   "metadata": {},
   "outputs": [],
   "source": [
    "_ , _ , _ , g = manoj()    #if need perticular data use place holder"
   ]
  },
  {
   "cell_type": "code",
   "execution_count": 25,
   "id": "d5be553c",
   "metadata": {},
   "outputs": [
    {
     "data": {
      "text/plain": [
       "[2, 3, 5, 4, 5, 6, 45, 6, 54]"
      ]
     },
     "execution_count": 25,
     "metadata": {},
     "output_type": "execute_result"
    }
   ],
   "source": [
    "g"
   ]
  },
  {
   "cell_type": "code",
   "execution_count": 11,
   "id": "6e91e653",
   "metadata": {},
   "outputs": [],
   "source": [
    "def sharma():\n",
    "    a=4*5\n",
    "    b=10-5\n",
    "    return a,b"
   ]
  },
  {
   "cell_type": "code",
   "execution_count": 15,
   "id": "b6388a7a",
   "metadata": {},
   "outputs": [
    {
     "data": {
      "text/plain": [
       "(20, 5)"
      ]
     },
     "execution_count": 15,
     "metadata": {},
     "output_type": "execute_result"
    }
   ],
   "source": [
    "sharma()"
   ]
  },
  {
   "cell_type": "code",
   "execution_count": 16,
   "id": "9a783f81",
   "metadata": {},
   "outputs": [],
   "source": [
    "c  = sharma()      #for one data give only one variable"
   ]
  },
  {
   "cell_type": "code",
   "execution_count": 17,
   "id": "62b6098e",
   "metadata": {},
   "outputs": [
    {
     "data": {
      "text/plain": [
       "(20, 5)"
      ]
     },
     "execution_count": 17,
     "metadata": {},
     "output_type": "execute_result"
    }
   ],
   "source": [
    "c"
   ]
  },
  {
   "cell_type": "code",
   "execution_count": 18,
   "id": "f897b18c",
   "metadata": {},
   "outputs": [],
   "source": [
    "d,e = sharma()  #for multiples data give multiples variable"
   ]
  },
  {
   "cell_type": "code",
   "execution_count": 19,
   "id": "a816a8df",
   "metadata": {},
   "outputs": [
    {
     "data": {
      "text/plain": [
       "20"
      ]
     },
     "execution_count": 19,
     "metadata": {},
     "output_type": "execute_result"
    }
   ],
   "source": [
    "d"
   ]
  },
  {
   "cell_type": "code",
   "execution_count": 20,
   "id": "ec178ecb",
   "metadata": {},
   "outputs": [
    {
     "data": {
      "text/plain": [
       "5"
      ]
     },
     "execution_count": 20,
     "metadata": {},
     "output_type": "execute_result"
    }
   ],
   "source": [
    "e"
   ]
  },
  {
   "cell_type": "code",
   "execution_count": 47,
   "id": "ff5f9c0e",
   "metadata": {},
   "outputs": [],
   "source": [
    "#lambda or anonaous function which us used to execute value without name\n",
    "# its anonamous funciton because no need to give name and also its not the store data\n",
    "# do not use it for complexsty coding"
   ]
  },
  {
   "cell_type": "code",
   "execution_count": 48,
   "id": "db4fe067",
   "metadata": {},
   "outputs": [],
   "source": [
    "m = lambda x,y : x+y"
   ]
  },
  {
   "cell_type": "code",
   "execution_count": 49,
   "id": "6d9795e8",
   "metadata": {},
   "outputs": [
    {
     "data": {
      "text/plain": [
       "40"
      ]
     },
     "execution_count": 49,
     "metadata": {},
     "output_type": "execute_result"
    }
   ],
   "source": [
    "m(20,20)"
   ]
  },
  {
   "cell_type": "code",
   "execution_count": 50,
   "id": "73842102",
   "metadata": {},
   "outputs": [
    {
     "data": {
      "text/plain": [
       "'sudhdfjalf@gmai.com'"
      ]
     },
     "execution_count": 50,
     "metadata": {},
     "output_type": "execute_result"
    }
   ],
   "source": [
    "m(\"sudh\" , \"dfjalf@gmai.com\")"
   ]
  },
  {
   "cell_type": "code",
   "execution_count": 51,
   "id": "395abf97",
   "metadata": {},
   "outputs": [],
   "source": [
    "b = \"sudh\"\n",
    "c = \"test\"\n",
    "n = lambda arg1 , arg2 : print(arg1, arg2)"
   ]
  },
  {
   "cell_type": "code",
   "execution_count": 52,
   "id": "eca86da9",
   "metadata": {},
   "outputs": [
    {
     "name": "stdout",
     "output_type": "stream",
     "text": [
      "sudh test\n"
     ]
    }
   ],
   "source": [
    "n(b,c)"
   ]
  },
  {
   "cell_type": "code",
   "execution_count": 53,
   "id": "404757a7",
   "metadata": {},
   "outputs": [],
   "source": [
    "r = 10       #global value\n",
    "def test3(a , b ):\n",
    "    r = a/b   #local value\n",
    "    print(r)    #it will consider what will you put means local value"
   ]
  },
  {
   "cell_type": "code",
   "execution_count": 54,
   "id": "b0371911",
   "metadata": {},
   "outputs": [
    {
     "name": "stdout",
     "output_type": "stream",
     "text": [
      "10.0\n"
     ]
    }
   ],
   "source": [
    "test3(100,10)     #local value"
   ]
  },
  {
   "cell_type": "code",
   "execution_count": null,
   "id": "250c7fde",
   "metadata": {},
   "outputs": [],
   "source": []
  },
  {
   "cell_type": "code",
   "execution_count": 55,
   "id": "4ffd0c4e",
   "metadata": {},
   "outputs": [],
   "source": [
    "def test4():\n",
    "\n",
    "    print(\"my name is xyz\")"
   ]
  },
  {
   "cell_type": "code",
   "execution_count": 56,
   "id": "04dc1616",
   "metadata": {},
   "outputs": [
    {
     "name": "stdout",
     "output_type": "stream",
     "text": [
      "my name is xyz\n"
     ]
    }
   ],
   "source": [
    "test4()  # do shift plus tab and it will show there is <no docstring>"
   ]
  },
  {
   "cell_type": "code",
   "execution_count": 57,
   "id": "e788de26",
   "metadata": {},
   "outputs": [],
   "source": [
    "# creat own docstring"
   ]
  },
  {
   "cell_type": "code",
   "execution_count": 58,
   "id": "50d83dfb",
   "metadata": {},
   "outputs": [],
   "source": [
    "def test5():\n",
    "    \"\"\" this is my python classes\n",
    "    I am from non technical background and still \n",
    "    able to do this\n",
    "    \"\"\"\n",
    "    print(\"my name is manoj\")`"
   ]
  },
  {
   "cell_type": "code",
   "execution_count": 59,
   "id": "fa6d6c46",
   "metadata": {},
   "outputs": [
    {
     "name": "stdout",
     "output_type": "stream",
     "text": [
      "my name is manoj\n"
     ]
    }
   ],
   "source": [
    "test5()#   # do shift plus tab and it will show there is docstring available now"
   ]
  },
  {
   "cell_type": "code",
   "execution_count": 60,
   "id": "e9fb9be4",
   "metadata": {},
   "outputs": [
    {
     "name": "stdout",
     "output_type": "stream",
     "text": [
      "Help on built-in function print in module builtins:\n",
      "\n",
      "print(...)\n",
      "    print(value, ..., sep=' ', end='\\n', file=sys.stdout, flush=False)\n",
      "    \n",
      "    Prints the values to a stream, or to sys.stdout by default.\n",
      "    Optional keyword arguments:\n",
      "    file:  a file-like object (stream); defaults to the current sys.stdout.\n",
      "    sep:   string inserted between values, default a space.\n",
      "    end:   string appended after the last value, default a newline.\n",
      "    flush: whether to forcibly flush the stream.\n",
      "\n"
     ]
    }
   ],
   "source": [
    "help(print)"
   ]
  },
  {
   "cell_type": "code",
   "execution_count": 2,
   "id": "acb887c2",
   "metadata": {},
   "outputs": [],
   "source": [
    "a = 10"
   ]
  },
  {
   "cell_type": "code",
   "execution_count": 3,
   "id": "2e659172",
   "metadata": {
    "scrolled": true
   },
   "outputs": [
    {
     "ename": "TypeError",
     "evalue": "'int' object is not iterable",
     "output_type": "error",
     "traceback": [
      "\u001b[1;31m---------------------------------------------------------------------------\u001b[0m",
      "\u001b[1;31mTypeError\u001b[0m                                 Traceback (most recent call last)",
      "\u001b[1;32m~\\AppData\\Local\\Temp/ipykernel_8524/3017032494.py\u001b[0m in \u001b[0;36m<module>\u001b[1;34m\u001b[0m\n\u001b[1;32m----> 1\u001b[1;33m \u001b[1;32mfor\u001b[0m \u001b[0mi\u001b[0m \u001b[1;32min\u001b[0m \u001b[0ma\u001b[0m\u001b[1;33m:\u001b[0m    \u001b[1;31m#integer is not iterable\u001b[0m\u001b[1;33m\u001b[0m\u001b[1;33m\u001b[0m\u001b[0m\n\u001b[0m\u001b[0;32m      2\u001b[0m     \u001b[0mprint\u001b[0m\u001b[1;33m(\u001b[0m\u001b[0mi\u001b[0m\u001b[1;33m)\u001b[0m\u001b[1;33m\u001b[0m\u001b[1;33m\u001b[0m\u001b[0m\n",
      "\u001b[1;31mTypeError\u001b[0m: 'int' object is not iterable"
     ]
    }
   ],
   "source": [
    "for i in a:    #integer is not iterable\n",
    "    print(i)"
   ]
  },
  {
   "cell_type": "code",
   "execution_count": 6,
   "id": "5ac97f6b",
   "metadata": {},
   "outputs": [],
   "source": [
    "def bita(a,b,c,d,e):\n",
    "    return a, b, c, d, e"
   ]
  },
  {
   "cell_type": "code",
   "execution_count": 10,
   "id": "c755967a",
   "metadata": {},
   "outputs": [
    {
     "data": {
      "text/plain": [
       "(2, 3, 3, 3, 6)"
      ]
     },
     "execution_count": 10,
     "metadata": {},
     "output_type": "execute_result"
    }
   ],
   "source": [
    "bita(2,3,3,3,6)    "
   ]
  },
  {
   "cell_type": "code",
   "execution_count": 12,
   "id": "e269690c",
   "metadata": {},
   "outputs": [
    {
     "ename": "TypeError",
     "evalue": "bita() missing 1 required positional argument: 'e'",
     "output_type": "error",
     "traceback": [
      "\u001b[1;31m---------------------------------------------------------------------------\u001b[0m",
      "\u001b[1;31mTypeError\u001b[0m                                 Traceback (most recent call last)",
      "\u001b[1;32m~\\AppData\\Local\\Temp/ipykernel_8524/699798962.py\u001b[0m in \u001b[0;36m<module>\u001b[1;34m\u001b[0m\n\u001b[1;32m----> 1\u001b[1;33m \u001b[0mbita\u001b[0m\u001b[1;33m(\u001b[0m\u001b[1;36m2\u001b[0m\u001b[1;33m,\u001b[0m\u001b[1;36m3\u001b[0m\u001b[1;33m,\u001b[0m\u001b[1;36m2\u001b[0m\u001b[1;33m,\u001b[0m\u001b[1;36m3\u001b[0m\u001b[1;33m)\u001b[0m \u001b[1;31m#if anyone value missing or if give extra it will show error to resolbe this problem use steric\u001b[0m\u001b[1;33m\u001b[0m\u001b[1;33m\u001b[0m\u001b[0m\n\u001b[0m",
      "\u001b[1;31mTypeError\u001b[0m: bita() missing 1 required positional argument: 'e'"
     ]
    }
   ],
   "source": [
    "bita(2,3,2,3) #if anyone value missing or if give extra it will show error to resolbe this problem use steric "
   ]
  },
  {
   "cell_type": "code",
   "execution_count": 13,
   "id": "5c4961f8",
   "metadata": {},
   "outputs": [],
   "source": [
    "def bita1(*a) :   #steric\n",
    "    return a\n"
   ]
  },
  {
   "cell_type": "code",
   "execution_count": 15,
   "id": "2c909859",
   "metadata": {},
   "outputs": [
    {
     "data": {
      "text/plain": [
       "(2, 3, 3)"
      ]
     },
     "execution_count": 15,
     "metadata": {},
     "output_type": "execute_result"
    }
   ],
   "source": [
    "bita1(2,3,3)     #now can use multiple value "
   ]
  },
  {
   "cell_type": "code",
   "execution_count": 16,
   "id": "33dd54c3",
   "metadata": {},
   "outputs": [
    {
     "data": {
      "text/plain": [
       "(7,)"
      ]
     },
     "execution_count": 16,
     "metadata": {},
     "output_type": "execute_result"
    }
   ],
   "source": [
    "bita1(2+3+2)"
   ]
  },
  {
   "cell_type": "code",
   "execution_count": 20,
   "id": "9aa2f644",
   "metadata": {},
   "outputs": [
    {
     "data": {
      "text/plain": [
       "(2, 3, 5, (221, 2), [2, 3, 5])"
      ]
     },
     "execution_count": 20,
     "metadata": {},
     "output_type": "execute_result"
    }
   ],
   "source": [
    "bita1(2,3,5,(221,2),[2,3,5])"
   ]
  },
  {
   "cell_type": "code",
   "execution_count": null,
   "id": "2e6cd7ac",
   "metadata": {},
   "outputs": [],
   "source": []
  },
  {
   "cell_type": "code",
   "execution_count": 23,
   "id": "07cae848",
   "metadata": {},
   "outputs": [],
   "source": [
    "def test4(*args):\n",
    "    return args"
   ]
  },
  {
   "cell_type": "code",
   "execution_count": 24,
   "id": "04a1aa7f",
   "metadata": {},
   "outputs": [
    {
     "data": {
      "text/plain": [
       "(34, 56, 6, 76, 7)"
      ]
     },
     "execution_count": 24,
     "metadata": {},
     "output_type": "execute_result"
    }
   ],
   "source": [
    "test4(34,56,6,76,7)"
   ]
  },
  {
   "cell_type": "code",
   "execution_count": 2,
   "id": "3e851930",
   "metadata": {},
   "outputs": [],
   "source": [
    "def test5(*a) :            #use steric can append any value\n",
    "    l = []\n",
    "    for i in a :\n",
    "        l.append(i)\n",
    "    return l"
   ]
  },
  {
   "cell_type": "code",
   "execution_count": 3,
   "id": "9762746d",
   "metadata": {},
   "outputs": [
    {
     "data": {
      "text/plain": [
       "[2, 3, 4, 45, 5, [345, 56, 5, 6]]"
      ]
     },
     "execution_count": 3,
     "metadata": {},
     "output_type": "execute_result"
    }
   ],
   "source": [
    "test5(2,3,4,45,5,[345,56,5,6])"
   ]
  },
  {
   "cell_type": "code",
   "execution_count": 5,
   "id": "eab3739a",
   "metadata": {},
   "outputs": [],
   "source": [
    "def test6(a,b,c,d , *m):\n",
    "    return a , b, c,d, m"
   ]
  },
  {
   "cell_type": "code",
   "execution_count": 6,
   "id": "fe7bb863",
   "metadata": {},
   "outputs": [
    {
     "data": {
      "text/plain": [
       "(3, 4, 5, 5, (6, 6, 7, 7, 8, 8))"
      ]
     },
     "execution_count": 6,
     "metadata": {},
     "output_type": "execute_result"
    }
   ],
   "source": [
    "test6(3,4,5,5,6,6,7,7,8,8)"
   ]
  },
  {
   "cell_type": "code",
   "execution_count": 29,
   "id": "521e9b60",
   "metadata": {},
   "outputs": [],
   "source": [
    "def test7(*m,a,b,c,d,e):\n",
    "    return m , a,b,c,d,e"
   ]
  },
  {
   "cell_type": "code",
   "execution_count": 31,
   "id": "a1d2c942",
   "metadata": {},
   "outputs": [
    {
     "ename": "TypeError",
     "evalue": "test7() missing 5 required keyword-only arguments: 'a', 'b', 'c', 'd', and 'e'",
     "output_type": "error",
     "traceback": [
      "\u001b[1;31m---------------------------------------------------------------------------\u001b[0m",
      "\u001b[1;31mTypeError\u001b[0m                                 Traceback (most recent call last)",
      "\u001b[1;32m~\\AppData\\Local\\Temp/ipykernel_8524/1767058772.py\u001b[0m in \u001b[0;36m<module>\u001b[1;34m\u001b[0m\n\u001b[1;32m----> 1\u001b[1;33m \u001b[0mtest7\u001b[0m\u001b[1;33m(\u001b[0m\u001b[1;36m4\u001b[0m\u001b[1;33m,\u001b[0m\u001b[1;36m5\u001b[0m\u001b[1;33m,\u001b[0m\u001b[1;36m65\u001b[0m\u001b[1;33m,\u001b[0m\u001b[1;36m6\u001b[0m\u001b[1;33m,\u001b[0m\u001b[1;36m6\u001b[0m\u001b[1;33m,\u001b[0m\u001b[1;36m7\u001b[0m\u001b[1;33m,\u001b[0m\u001b[1;36m7\u001b[0m\u001b[1;33m,\u001b[0m\u001b[1;36m56\u001b[0m\u001b[1;33m,\u001b[0m\u001b[1;36m67\u001b[0m\u001b[1;33m,\u001b[0m \u001b[1;36m34\u001b[0m\u001b[1;33m,\u001b[0m \u001b[1;36m54\u001b[0m\u001b[1;33m,\u001b[0m \u001b[1;36m67\u001b[0m\u001b[1;33m,\u001b[0m \u001b[1;36m78\u001b[0m\u001b[1;33m)\u001b[0m\u001b[1;33m\u001b[0m\u001b[1;33m\u001b[0m\u001b[0m\n\u001b[0m",
      "\u001b[1;31mTypeError\u001b[0m: test7() missing 5 required keyword-only arguments: 'a', 'b', 'c', 'd', and 'e'"
     ]
    }
   ],
   "source": [
    "test7(4,5,65,6,6,7,7,56,67, 34, 54, 67, 78)   #steric used in starting give the problem because consider all value as steric to resolved this problem give the variable"
   ]
  },
  {
   "cell_type": "code",
   "execution_count": 30,
   "id": "834e21c0",
   "metadata": {},
   "outputs": [
    {
     "data": {
      "text/plain": [
       "((4, 5, 65, 6, 6, 7, 7, 56), 67, 34, 54, 67, 78)"
      ]
     },
     "execution_count": 30,
     "metadata": {},
     "output_type": "execute_result"
    }
   ],
   "source": [
    "test7(4,5,65,6,6,7,7,56,a = 67,b  = 34,c = 54,d= 67,e = 78)"
   ]
  },
  {
   "cell_type": "code",
   "execution_count": 33,
   "id": "cf1eaceb",
   "metadata": {},
   "outputs": [
    {
     "ename": "SyntaxError",
     "evalue": "invalid syntax (Temp/ipykernel_8524/35105205.py, line 1)",
     "output_type": "error",
     "traceback": [
      "\u001b[1;36m  File \u001b[1;32m\"C:\\Users\\Manoj\\AppData\\Local\\Temp/ipykernel_8524/35105205.py\"\u001b[1;36m, line \u001b[1;32m1\u001b[0m\n\u001b[1;33m    def test7(*m,a,b,c,d,*e):    #showing error because two steric will not take at a time because there is no use of it\u001b[0m\n\u001b[1;37m                         ^\u001b[0m\n\u001b[1;31mSyntaxError\u001b[0m\u001b[1;31m:\u001b[0m invalid syntax\n"
     ]
    }
   ],
   "source": [
    "def test7(*m,a,b,c,d,*e):    #showing error because two steric will not take at a time because there is no use of it\n",
    "    return m , a,b,c,d,e"
   ]
  },
  {
   "cell_type": "code",
   "execution_count": 37,
   "id": "eee7cb0a",
   "metadata": {},
   "outputs": [],
   "source": [
    "def test8(**b):    #giving error because two steric will give the dictionay format so need to key and value both \n",
    "    return b       # using two steric for dictionary"
   ]
  },
  {
   "cell_type": "code",
   "execution_count": 38,
   "id": "73b09a04",
   "metadata": {},
   "outputs": [
    {
     "ename": "TypeError",
     "evalue": "test8() takes 0 positional arguments but 5 were given",
     "output_type": "error",
     "traceback": [
      "\u001b[1;31m---------------------------------------------------------------------------\u001b[0m",
      "\u001b[1;31mTypeError\u001b[0m                                 Traceback (most recent call last)",
      "\u001b[1;32m~\\AppData\\Local\\Temp/ipykernel_8524/347501010.py\u001b[0m in \u001b[0;36m<module>\u001b[1;34m\u001b[0m\n\u001b[1;32m----> 1\u001b[1;33m \u001b[0mtest8\u001b[0m\u001b[1;33m(\u001b[0m\u001b[1;36m2\u001b[0m\u001b[1;33m,\u001b[0m\u001b[1;36m3\u001b[0m\u001b[1;33m,\u001b[0m\u001b[1;36m5\u001b[0m\u001b[1;33m,\u001b[0m\u001b[1;36m46\u001b[0m\u001b[1;33m,\u001b[0m\u001b[1;36m6\u001b[0m\u001b[1;33m)\u001b[0m\u001b[1;33m\u001b[0m\u001b[1;33m\u001b[0m\u001b[0m\n\u001b[0m",
      "\u001b[1;31mTypeError\u001b[0m: test8() takes 0 positional arguments but 5 were given"
     ]
    }
   ],
   "source": [
    "test8(2,3,5,46,6)"
   ]
  },
  {
   "cell_type": "code",
   "execution_count": 44,
   "id": "349c08a1",
   "metadata": {},
   "outputs": [
    {
     "data": {
      "text/plain": [
       "{'monu': 2, 'jay': 3, 'm': 5, 'd': 46, 'e': 6}"
      ]
     },
     "execution_count": 44,
     "metadata": {},
     "output_type": "execute_result"
    }
   ],
   "source": [
    "test8(monu=2,jay=3,m=5,d=46,e=6)"
   ]
  },
  {
   "cell_type": "code",
   "execution_count": 83,
   "id": "e94ad532",
   "metadata": {},
   "outputs": [],
   "source": []
  },
  {
   "cell_type": "code",
   "execution_count": 84,
   "id": "ac6a9754",
   "metadata": {},
   "outputs": [],
   "source": [
    "def bita3(**kawrgs):\n",
    "    return kawrgs"
   ]
  },
  {
   "cell_type": "code",
   "execution_count": 85,
   "id": "93e3f374",
   "metadata": {},
   "outputs": [
    {
     "data": {
      "text/plain": [
       "{'monu': 2, 'jay': 3, 'm': 5, 'd': 46, 'e': 6}"
      ]
     },
     "execution_count": 85,
     "metadata": {},
     "output_type": "execute_result"
    }
   ],
   "source": [
    "bita3(monu=2,jay=3,m=5,d=46,e=6)"
   ]
  },
  {
   "cell_type": "code",
   "execution_count": 50,
   "id": "5649a9b2",
   "metadata": {},
   "outputs": [],
   "source": [
    "def test9(*m , **s) :\n",
    "    return m , s"
   ]
  },
  {
   "cell_type": "code",
   "execution_count": 51,
   "id": "f9750764",
   "metadata": {},
   "outputs": [
    {
     "data": {
      "text/plain": [
       "((345, 45, 56, 5, 6, 56), {'b': 4, 'c': 6, 'd': 7, 'g': 9})"
      ]
     },
     "execution_count": 51,
     "metadata": {},
     "output_type": "execute_result"
    }
   ],
   "source": [
    "test9(345,45,56,5,6,56,b= 4,c= 6, d = 7 , g = 9)"
   ]
  },
  {
   "cell_type": "code",
   "execution_count": 52,
   "id": "17dc134c",
   "metadata": {},
   "outputs": [],
   "source": [
    "def test10(*m):        #for addition any value\n",
    "    n = 0\n",
    "    for i in m :\n",
    "        if type(i) == int :\n",
    "            n = n+i\n",
    "    return n\n",
    "            "
   ]
  },
  {
   "cell_type": "code",
   "execution_count": 53,
   "id": "618c9fc3",
   "metadata": {},
   "outputs": [
    {
     "data": {
      "text/plain": [
       "31"
      ]
     },
     "execution_count": 53,
     "metadata": {},
     "output_type": "execute_result"
    }
   ],
   "source": [
    "test10(2,3,4,5,5,6,6)"
   ]
  },
  {
   "cell_type": "code",
   "execution_count": 54,
   "id": "eaea27f7",
   "metadata": {},
   "outputs": [
    {
     "data": {
      "text/plain": [
       "9"
      ]
     },
     "execution_count": 54,
     "metadata": {},
     "output_type": "execute_result"
    }
   ],
   "source": [
    "test10(2,3,4)"
   ]
  },
  {
   "cell_type": "code",
   "execution_count": 1,
   "id": "c089110c",
   "metadata": {},
   "outputs": [],
   "source": [
    "def test1(*m):          #for multiplication any value\n",
    "    n = 1\n",
    "    for i in m :\n",
    "        if type(i) == int :\n",
    "            n = n*i\n",
    "    return n\n",
    "            "
   ]
  },
  {
   "cell_type": "code",
   "execution_count": 3,
   "id": "b33ac53b",
   "metadata": {},
   "outputs": [
    {
     "data": {
      "text/plain": [
       "120"
      ]
     },
     "execution_count": 3,
     "metadata": {},
     "output_type": "execute_result"
    }
   ],
   "source": [
    "test1(4,5,6)"
   ]
  },
  {
   "cell_type": "code",
   "execution_count": 57,
   "id": "d2af4fe5",
   "metadata": {},
   "outputs": [],
   "source": [
    "#lambda or anonaous function which us used to execute value without name\n",
    "# its anonamous funciton because no need to give name and also its not the store data\n",
    "# do not use it for complexsty coding"
   ]
  },
  {
   "cell_type": "code",
   "execution_count": 58,
   "id": "aabcb7a6",
   "metadata": {},
   "outputs": [],
   "source": [
    "m = lambda x,y : x+y"
   ]
  },
  {
   "cell_type": "code",
   "execution_count": 59,
   "id": "e12945c0",
   "metadata": {},
   "outputs": [
    {
     "data": {
      "text/plain": [
       "40"
      ]
     },
     "execution_count": 59,
     "metadata": {},
     "output_type": "execute_result"
    }
   ],
   "source": [
    "m(20,20)"
   ]
  },
  {
   "cell_type": "code",
   "execution_count": 60,
   "id": "75e35c72",
   "metadata": {},
   "outputs": [
    {
     "data": {
      "text/plain": [
       "'sudhdfjalf@gmai.com'"
      ]
     },
     "execution_count": 60,
     "metadata": {},
     "output_type": "execute_result"
    }
   ],
   "source": [
    "m(\"sudh\" , \"dfjalf@gmai.com\")"
   ]
  },
  {
   "cell_type": "code",
   "execution_count": 61,
   "id": "eedc2ef1",
   "metadata": {},
   "outputs": [],
   "source": [
    "b = \"sudh\"\n",
    "c = \"test\"\n",
    "n = lambda arg1 , arg2 : print(arg1, arg2)"
   ]
  },
  {
   "cell_type": "code",
   "execution_count": 62,
   "id": "70088abd",
   "metadata": {},
   "outputs": [
    {
     "name": "stdout",
     "output_type": "stream",
     "text": [
      "sudh test\n"
     ]
    }
   ],
   "source": [
    "n(b,c)"
   ]
  },
  {
   "cell_type": "code",
   "execution_count": 63,
   "id": "d73e6655",
   "metadata": {},
   "outputs": [],
   "source": [
    "n = lambda a , b : a + b "
   ]
  },
  {
   "cell_type": "code",
   "execution_count": 64,
   "id": "08a11a10",
   "metadata": {},
   "outputs": [
    {
     "data": {
      "text/plain": [
       "9"
      ]
     },
     "execution_count": 64,
     "metadata": {},
     "output_type": "execute_result"
    }
   ],
   "source": [
    "n(4,5)"
   ]
  },
  {
   "cell_type": "code",
   "execution_count": 65,
   "id": "24850255",
   "metadata": {},
   "outputs": [],
   "source": [
    "def test5(a,b):\n",
    "    return a + b "
   ]
  },
  {
   "cell_type": "code",
   "execution_count": 66,
   "id": "94efa00a",
   "metadata": {},
   "outputs": [
    {
     "data": {
      "text/plain": [
       "9"
      ]
     },
     "execution_count": 66,
     "metadata": {},
     "output_type": "execute_result"
    }
   ],
   "source": [
    "test5(4,5)"
   ]
  },
  {
   "cell_type": "code",
   "execution_count": 67,
   "id": "386bc402",
   "metadata": {},
   "outputs": [
    {
     "data": {
      "text/plain": [
       "11"
      ]
     },
     "execution_count": 67,
     "metadata": {},
     "output_type": "execute_result"
    }
   ],
   "source": [
    "n(5,6)"
   ]
  },
  {
   "cell_type": "code",
   "execution_count": 68,
   "id": "77f945f3",
   "metadata": {},
   "outputs": [],
   "source": [
    "b = lambda *sudh : sudh"
   ]
  },
  {
   "cell_type": "code",
   "execution_count": 69,
   "id": "9baba48c",
   "metadata": {},
   "outputs": [
    {
     "data": {
      "text/plain": [
       "(45, 5, 4, 5, 5, 6, 677)"
      ]
     },
     "execution_count": 69,
     "metadata": {},
     "output_type": "execute_result"
    }
   ],
   "source": [
    "b(45,5,4,5,5,6,677)"
   ]
  },
  {
   "cell_type": "code",
   "execution_count": 70,
   "id": "c69faaa8",
   "metadata": {},
   "outputs": [],
   "source": [
    "t = (3,4,4,5,5,6,67,7,7)\n",
    "l = []\n",
    "for i in t :\n",
    "    l.append(i)"
   ]
  },
  {
   "cell_type": "code",
   "execution_count": 73,
   "id": "db592799",
   "metadata": {},
   "outputs": [
    {
     "data": {
      "text/plain": [
       "[3, 4, 4, 5, 5, 6, 67, 7, 7]"
      ]
     },
     "execution_count": 73,
     "metadata": {},
     "output_type": "execute_result"
    }
   ],
   "source": [
    "l"
   ]
  },
  {
   "cell_type": "code",
   "execution_count": null,
   "id": "dbf391b7",
   "metadata": {},
   "outputs": [],
   "source": [
    " #or same result getting from commrehensive operation without append opration"
   ]
  },
  {
   "cell_type": "code",
   "execution_count": 72,
   "id": "62a51ab4",
   "metadata": {},
   "outputs": [
    {
     "data": {
      "text/plain": [
       "[3, 4, 4, 5, 5, 6, 67, 7, 7]"
      ]
     },
     "execution_count": 72,
     "metadata": {},
     "output_type": "execute_result"
    }
   ],
   "source": [
    "[i for i in t]"
   ]
  },
  {
   "cell_type": "code",
   "execution_count": 74,
   "id": "8ae3a65a",
   "metadata": {},
   "outputs": [],
   "source": [
    "s = \"sudh\""
   ]
  },
  {
   "cell_type": "code",
   "execution_count": 75,
   "id": "7a8cd02e",
   "metadata": {},
   "outputs": [
    {
     "data": {
      "text/plain": [
       "['s', 'u', 'd', 'h']"
      ]
     },
     "execution_count": 75,
     "metadata": {},
     "output_type": "execute_result"
    }
   ],
   "source": [
    "[i for i in s ]"
   ]
  },
  {
   "cell_type": "code",
   "execution_count": 76,
   "id": "8fb4b779",
   "metadata": {},
   "outputs": [
    {
     "data": {
      "text/plain": [
       "[0, 1, 4, 9, 16, 25, 36, 49, 64, 81]"
      ]
     },
     "execution_count": 76,
     "metadata": {},
     "output_type": "execute_result"
    }
   ],
   "source": [
    "[i*i for i in range(10)]"
   ]
  },
  {
   "cell_type": "code",
   "execution_count": 77,
   "id": "26766d87",
   "metadata": {},
   "outputs": [],
   "source": [
    "l = []\n",
    "for i in range(10):\n",
    "    l.append(i*i)"
   ]
  },
  {
   "cell_type": "code",
   "execution_count": 78,
   "id": "7d1ccb4d",
   "metadata": {},
   "outputs": [
    {
     "data": {
      "text/plain": [
       "[0, 1, 4, 9, 16, 25, 36, 49, 64, 81]"
      ]
     },
     "execution_count": 78,
     "metadata": {},
     "output_type": "execute_result"
    }
   ],
   "source": [
    "l"
   ]
  },
  {
   "cell_type": "code",
   "execution_count": 79,
   "id": "88767eda",
   "metadata": {},
   "outputs": [],
   "source": [
    "l = lambda *x : [i for i in x ]"
   ]
  },
  {
   "cell_type": "code",
   "execution_count": 80,
   "id": "20837c22",
   "metadata": {},
   "outputs": [
    {
     "data": {
      "text/plain": [
       "[4, 45, 5, 6, 6, 7, 8, 9]"
      ]
     },
     "execution_count": 80,
     "metadata": {},
     "output_type": "execute_result"
    }
   ],
   "source": [
    "l(4,45,5,6,6,7,8,9)"
   ]
  },
  {
   "cell_type": "code",
   "execution_count": 81,
   "id": "06f1dfa9",
   "metadata": {},
   "outputs": [],
   "source": [
    "l = lambda *x : [i**2 for i in x ]   #squre of the value"
   ]
  },
  {
   "cell_type": "code",
   "execution_count": 82,
   "id": "350f86ef",
   "metadata": {},
   "outputs": [
    {
     "data": {
      "text/plain": [
       "[16, 2025, 25, 36, 36, 49, 64, 81]"
      ]
     },
     "execution_count": 82,
     "metadata": {},
     "output_type": "execute_result"
    }
   ],
   "source": [
    "l(4,45,5,6,6,7,8,9)"
   ]
  },
  {
   "cell_type": "code",
   "execution_count": 87,
   "id": "8cea2897",
   "metadata": {},
   "outputs": [],
   "source": [
    "def test14(**kwargs):\n",
    "    count = 0\n",
    "    print(kwargs)\n",
    "    print(kwargs.values())\n",
    "    for v in kwargs.values():\n",
    "        if type(v) == str:\n",
    "            count += 1\n",
    "        if type(v) == list :\n",
    "            for i in v :\n",
    "                if type(i) == str :\n",
    "                    count+= 1\n",
    "    return count\n",
    "\n"
   ]
  },
  {
   "cell_type": "code",
   "execution_count": 88,
   "id": "83ac0a6d",
   "metadata": {},
   "outputs": [
    {
     "name": "stdout",
     "output_type": "stream",
     "text": [
      "{'a': 7, 'b': 'sudh', 'c': 345, 'd': 'sudh', 'l': [2, 3, 4, 45, 'sudh']}\n",
      "dict_values([7, 'sudh', 345, 'sudh', [2, 3, 4, 45, 'sudh']])\n"
     ]
    },
    {
     "data": {
      "text/plain": [
       "3"
      ]
     },
     "execution_count": 88,
     "metadata": {},
     "output_type": "execute_result"
    }
   ],
   "source": [
    "test14(a = 7 , b = \"sudh\" , c = 345 , d = \"sudh\" , l = [2,3,4,45 , \"sudh\"])"
   ]
  },
  {
   "cell_type": "code",
   "execution_count": 89,
   "id": "e59a6eeb",
   "metadata": {},
   "outputs": [],
   "source": [
    "def test15(**kwargs) :\n",
    "    return list(kwargs.values())"
   ]
  },
  {
   "cell_type": "code",
   "execution_count": 90,
   "id": "acec54fe",
   "metadata": {},
   "outputs": [
    {
     "data": {
      "text/plain": [
       "[7, 'sudh', 345, 'sudh', [2, 3, 4, 45, 'sudh']]"
      ]
     },
     "execution_count": 90,
     "metadata": {},
     "output_type": "execute_result"
    }
   ],
   "source": [
    "test15(a = 7 , b = \"sudh\" , c = 345 , d = \"sudh\" , l = [2,3,4,45 , \"sudh\"])"
   ]
  },
  {
   "cell_type": "code",
   "execution_count": null,
   "id": "eed72035",
   "metadata": {},
   "outputs": [],
   "source": [
    "Todays task :\n",
    "    q1 : Try to print a prime number in between 1 to 1000\n",
    "    q2 : Try to write a function which  is equivalent  to print function in python\n",
    "    q3 : Try to write a function which is a replica of list append , extend and pop function \n",
    "    q4 : Try to write a lambda function which can return a concatination of all the string that we will pass\n",
    "    q5 : Try to write a lambda function which can return list of square of all the data between 1-100 \n",
    "    q6 : Try to write a 10 Different different example of lambda function with a choice of your taks \n",
    "    q7 : Try to wwrite a funtion whihc can perform a read operation from .txt file \n",
    "        \n",
    "        shivan@ineuron.ai\n",
    "        sudhashu@ineuron.ai"
   ]
  },
  {
   "cell_type": "code",
   "execution_count": null,
   "id": "ad7ee918",
   "metadata": {},
   "outputs": [],
   "source": []
  },
  {
   "cell_type": "code",
   "execution_count": 63,
   "id": "ebc4e7d9",
   "metadata": {},
   "outputs": [
    {
     "name": "stdout",
     "output_type": "stream",
     "text": [
      "s\n",
      "u\n",
      "d\n",
      "h\n"
     ]
    }
   ],
   "source": [
    "for i in \"sudh\":   #string is iterable\n",
    "     print(i)\n",
    "  "
   ]
  },
  {
   "cell_type": "code",
   "execution_count": null,
   "id": "d4bb540d",
   "metadata": {},
   "outputs": [],
   "source": []
  },
  {
   "cell_type": "code",
   "execution_count": 64,
   "id": "0b997359",
   "metadata": {},
   "outputs": [
    {
     "ename": "TypeError",
     "evalue": "'str' object is not an iterator",
     "output_type": "error",
     "traceback": [
      "\u001b[1;31m---------------------------------------------------------------------------\u001b[0m",
      "\u001b[1;31mTypeError\u001b[0m                                 Traceback (most recent call last)",
      "\u001b[1;32m~\\AppData\\Local\\Temp/ipykernel_3772/1536051427.py\u001b[0m in \u001b[0;36m<module>\u001b[1;34m\u001b[0m\n\u001b[0;32m      1\u001b[0m \u001b[0ms\u001b[0m \u001b[1;33m=\u001b[0m \u001b[1;34m\"sudh\"\u001b[0m\u001b[1;33m\u001b[0m\u001b[1;33m\u001b[0m\u001b[0m\n\u001b[1;32m----> 2\u001b[1;33m \u001b[0mnext\u001b[0m\u001b[1;33m(\u001b[0m\u001b[0ms\u001b[0m\u001b[1;33m)\u001b[0m  \u001b[1;31m# if object is iterable only then it will iterate\u001b[0m\u001b[1;33m\u001b[0m\u001b[1;33m\u001b[0m\u001b[0m\n\u001b[0m\u001b[0;32m      3\u001b[0m          \u001b[1;31m#string itself iterable but next function is not have inbuild interator properties\u001b[0m\u001b[1;33m\u001b[0m\u001b[1;33m\u001b[0m\u001b[0m\n",
      "\u001b[1;31mTypeError\u001b[0m: 'str' object is not an iterator"
     ]
    }
   ],
   "source": [
    "s = \"sudh\"     \n",
    "next(s)  # if object is iterable only then it will iterate \n",
    "         #string itself iterable but next function is not have inbuild interator properties "
   ]
  },
  {
   "cell_type": "code",
   "execution_count": 65,
   "id": "1b10927d",
   "metadata": {},
   "outputs": [],
   "source": [
    "#extract or iterate the data without using any loop, index"
   ]
  },
  {
   "cell_type": "code",
   "execution_count": 66,
   "id": "a9fa4458",
   "metadata": {},
   "outputs": [],
   "source": [
    "s = \"sudh\" \n",
    "s= iter(s)"
   ]
  },
  {
   "cell_type": "code",
   "execution_count": 67,
   "id": "b133b0be",
   "metadata": {},
   "outputs": [
    {
     "data": {
      "text/plain": [
       "'s'"
      ]
     },
     "execution_count": 67,
     "metadata": {},
     "output_type": "execute_result"
    }
   ],
   "source": [
    "next(s)"
   ]
  },
  {
   "cell_type": "code",
   "execution_count": 68,
   "id": "d82af259",
   "metadata": {},
   "outputs": [
    {
     "data": {
      "text/plain": [
       "'u'"
      ]
     },
     "execution_count": 68,
     "metadata": {},
     "output_type": "execute_result"
    }
   ],
   "source": [
    "next(s)"
   ]
  },
  {
   "cell_type": "code",
   "execution_count": 69,
   "id": "4b9c276f",
   "metadata": {},
   "outputs": [
    {
     "data": {
      "text/plain": [
       "'d'"
      ]
     },
     "execution_count": 69,
     "metadata": {},
     "output_type": "execute_result"
    }
   ],
   "source": [
    "next(s)"
   ]
  },
  {
   "cell_type": "code",
   "execution_count": 70,
   "id": "49e3c84c",
   "metadata": {},
   "outputs": [
    {
     "data": {
      "text/plain": [
       "'h'"
      ]
     },
     "execution_count": 70,
     "metadata": {},
     "output_type": "execute_result"
    }
   ],
   "source": [
    "next(s)"
   ]
  },
  {
   "cell_type": "code",
   "execution_count": 17,
   "id": "bcb8e1ea",
   "metadata": {},
   "outputs": [
    {
     "ename": "TypeError",
     "evalue": "'int' object is not iterable",
     "output_type": "error",
     "traceback": [
      "\u001b[1;31m---------------------------------------------------------------------------\u001b[0m",
      "\u001b[1;31mTypeError\u001b[0m                                 Traceback (most recent call last)",
      "\u001b[1;32m~\\AppData\\Local\\Temp/ipykernel_5368/1506757267.py\u001b[0m in \u001b[0;36m<module>\u001b[1;34m\u001b[0m\n\u001b[0;32m      1\u001b[0m \u001b[0ma\u001b[0m \u001b[1;33m=\u001b[0m \u001b[1;36m10\u001b[0m   \u001b[1;31m#integer is not iterable\u001b[0m\u001b[1;33m\u001b[0m\u001b[1;33m\u001b[0m\u001b[0m\n\u001b[1;32m----> 2\u001b[1;33m \u001b[0mb\u001b[0m \u001b[1;33m=\u001b[0m \u001b[0miter\u001b[0m\u001b[1;33m(\u001b[0m\u001b[0ma\u001b[0m\u001b[1;33m)\u001b[0m\u001b[1;33m\u001b[0m\u001b[1;33m\u001b[0m\u001b[0m\n\u001b[0m\u001b[0;32m      3\u001b[0m \u001b[0mnext\u001b[0m\u001b[1;33m(\u001b[0m\u001b[0mb\u001b[0m\u001b[1;33m)\u001b[0m\u001b[1;33m\u001b[0m\u001b[1;33m\u001b[0m\u001b[0m\n",
      "\u001b[1;31mTypeError\u001b[0m: 'int' object is not iterable"
     ]
    }
   ],
   "source": [
    "a = 10   #integer is not iterable\n",
    "b = iter(a)\n",
    "next(b)"
   ]
  },
  {
   "cell_type": "code",
   "execution_count": 8,
   "id": "b4b8dd98",
   "metadata": {},
   "outputs": [
    {
     "name": "stdout",
     "output_type": "stream",
     "text": [
      "s\n",
      "u\n",
      "d\n",
      "h\n"
     ]
    }
   ],
   "source": [
    "for i in \"sudh\":\n",
    "    print(i)"
   ]
  },
  {
   "cell_type": "code",
   "execution_count": 73,
   "id": "f5dc4baf",
   "metadata": {},
   "outputs": [
    {
     "ename": "TypeError",
     "evalue": "'list' object is not an iterator",
     "output_type": "error",
     "traceback": [
      "\u001b[1;31m---------------------------------------------------------------------------\u001b[0m",
      "\u001b[1;31mTypeError\u001b[0m                                 Traceback (most recent call last)",
      "\u001b[1;32m~\\AppData\\Local\\Temp/ipykernel_3772/3995383354.py\u001b[0m in \u001b[0;36m<module>\u001b[1;34m\u001b[0m\n\u001b[0;32m      1\u001b[0m \u001b[0ml\u001b[0m \u001b[1;33m=\u001b[0m \u001b[1;33m[\u001b[0m\u001b[1;36m1\u001b[0m\u001b[1;33m,\u001b[0m\u001b[1;36m23\u001b[0m\u001b[1;33m,\u001b[0m\u001b[1;36m2\u001b[0m\u001b[1;33m,\u001b[0m\u001b[1;36m3\u001b[0m\u001b[1;33m,\u001b[0m\u001b[1;33m]\u001b[0m    \u001b[1;31m###string, list, tuple , dict, set and etc.\u001b[0m\u001b[1;33m\u001b[0m\u001b[1;33m\u001b[0m\u001b[0m\n\u001b[1;32m----> 2\u001b[1;33m \u001b[0mnext\u001b[0m\u001b[1;33m(\u001b[0m\u001b[0ml\u001b[0m\u001b[1;33m)\u001b[0m                   \u001b[1;31m#all are iterable but its not iterate in next fucntion because next\u001b[0m\u001b[1;33m\u001b[0m\u001b[1;33m\u001b[0m\u001b[0m\n\u001b[0m\u001b[0;32m      3\u001b[0m                     \u001b[1;31m#function has no inbulid feature to iterate to iterable entities\u001b[0m\u001b[1;33m\u001b[0m\u001b[1;33m\u001b[0m\u001b[0m\n\u001b[0;32m      4\u001b[0m                     \u001b[1;31m#and integer itself not iterable\u001b[0m\u001b[1;33m\u001b[0m\u001b[1;33m\u001b[0m\u001b[0m\n\u001b[0;32m      5\u001b[0m \u001b[1;33m\u001b[0m\u001b[0m\n",
      "\u001b[1;31mTypeError\u001b[0m: 'list' object is not an iterator"
     ]
    }
   ],
   "source": [
    "l = [1,23,2,3,]    ###string, list, tuple , dict, set and etc. \n",
    "next(l)                   #all are iterable but its not iterate in next fucntion because next\n",
    "                    #function has no inbulid feature to iterate to iterable entities\n",
    "                    #and integer itself not iterable\n",
    "                    \n"
   ]
  },
  {
   "cell_type": "code",
   "execution_count": 74,
   "id": "9aa62b69",
   "metadata": {},
   "outputs": [],
   "source": [
    "l = iter(l)"
   ]
  },
  {
   "cell_type": "code",
   "execution_count": 75,
   "id": "e2ab114e",
   "metadata": {},
   "outputs": [
    {
     "data": {
      "text/plain": [
       "1"
      ]
     },
     "execution_count": 75,
     "metadata": {},
     "output_type": "execute_result"
    }
   ],
   "source": [
    "next(l)"
   ]
  },
  {
   "cell_type": "code",
   "execution_count": 76,
   "id": "e5d3a94c",
   "metadata": {},
   "outputs": [
    {
     "data": {
      "text/plain": [
       "23"
      ]
     },
     "execution_count": 76,
     "metadata": {},
     "output_type": "execute_result"
    }
   ],
   "source": [
    "next(l)"
   ]
  },
  {
   "cell_type": "code",
   "execution_count": 77,
   "id": "a03dcd9a",
   "metadata": {},
   "outputs": [
    {
     "data": {
      "text/plain": [
       "2"
      ]
     },
     "execution_count": 77,
     "metadata": {},
     "output_type": "execute_result"
    }
   ],
   "source": [
    "next(l)"
   ]
  },
  {
   "cell_type": "code",
   "execution_count": 78,
   "id": "8d6ad1c7",
   "metadata": {},
   "outputs": [
    {
     "data": {
      "text/plain": [
       "3"
      ]
     },
     "execution_count": 78,
     "metadata": {},
     "output_type": "execute_result"
    }
   ],
   "source": [
    "next(l)"
   ]
  },
  {
   "cell_type": "code",
   "execution_count": 3,
   "id": "b7b13f27",
   "metadata": {},
   "outputs": [
    {
     "ename": "TypeError",
     "evalue": "'int' object is not iterable",
     "output_type": "error",
     "traceback": [
      "\u001b[1;31m---------------------------------------------------------------------------\u001b[0m",
      "\u001b[1;31mTypeError\u001b[0m                                 Traceback (most recent call last)",
      "\u001b[1;32m~\\AppData\\Local\\Temp/ipykernel_4628/1805748935.py\u001b[0m in \u001b[0;36m<module>\u001b[1;34m\u001b[0m\n\u001b[0;32m      1\u001b[0m \u001b[0ma\u001b[0m \u001b[1;33m=\u001b[0m \u001b[1;36m10\u001b[0m\u001b[1;33m\u001b[0m\u001b[1;33m\u001b[0m\u001b[0m\n\u001b[1;32m----> 2\u001b[1;33m \u001b[1;32mfor\u001b[0m \u001b[0mi\u001b[0m \u001b[1;32min\u001b[0m \u001b[0ma\u001b[0m\u001b[1;33m:\u001b[0m\u001b[1;33m\u001b[0m\u001b[1;33m\u001b[0m\u001b[0m\n\u001b[0m\u001b[0;32m      3\u001b[0m     \u001b[0mprint\u001b[0m\u001b[1;33m(\u001b[0m\u001b[0mi\u001b[0m\u001b[1;33m)\u001b[0m\u001b[1;33m\u001b[0m\u001b[1;33m\u001b[0m\u001b[0m\n",
      "\u001b[1;31mTypeError\u001b[0m: 'int' object is not iterable"
     ]
    }
   ],
   "source": [
    "a = 10\n",
    "for i in a:\n",
    "    print(i)"
   ]
  },
  {
   "cell_type": "code",
   "execution_count": 80,
   "id": "c45aa036",
   "metadata": {},
   "outputs": [],
   "source": [
    "a = (2,3,5)\n",
    "a = iter(a)"
   ]
  },
  {
   "cell_type": "code",
   "execution_count": 81,
   "id": "b0f3744b",
   "metadata": {},
   "outputs": [
    {
     "data": {
      "text/plain": [
       "2"
      ]
     },
     "execution_count": 81,
     "metadata": {},
     "output_type": "execute_result"
    }
   ],
   "source": [
    "next(a)"
   ]
  },
  {
   "cell_type": "code",
   "execution_count": 82,
   "id": "4a7bfbf5",
   "metadata": {},
   "outputs": [
    {
     "data": {
      "text/plain": [
       "3"
      ]
     },
     "execution_count": 82,
     "metadata": {},
     "output_type": "execute_result"
    }
   ],
   "source": [
    "next(a)"
   ]
  },
  {
   "cell_type": "code",
   "execution_count": 83,
   "id": "7d645c20",
   "metadata": {},
   "outputs": [
    {
     "data": {
      "text/plain": [
       "5"
      ]
     },
     "execution_count": 83,
     "metadata": {},
     "output_type": "execute_result"
    }
   ],
   "source": [
    "next(a)"
   ]
  },
  {
   "cell_type": "code",
   "execution_count": 84,
   "id": "a15b7392",
   "metadata": {},
   "outputs": [],
   "source": [
    "def test7(n):\n",
    "    l = []\n",
    "    for i in range(n):        \n",
    "        l.append(i)\n",
    "    return l    "
   ]
  },
  {
   "cell_type": "code",
   "execution_count": 85,
   "id": "36b473d8",
   "metadata": {},
   "outputs": [
    {
     "data": {
      "text/plain": [
       "[0, 1, 2, 3, 4, 5]"
      ]
     },
     "execution_count": 85,
     "metadata": {},
     "output_type": "execute_result"
    }
   ],
   "source": [
    "test7(6)"
   ]
  },
  {
   "cell_type": "code",
   "execution_count": 86,
   "id": "fb929bba",
   "metadata": {},
   "outputs": [],
   "source": [
    "def test7(n):\n",
    "    l = []\n",
    "    for i in range(n):        \n",
    "        l.append(i**2)\n",
    "    return l    "
   ]
  },
  {
   "cell_type": "code",
   "execution_count": 87,
   "id": "eaa19c6c",
   "metadata": {},
   "outputs": [
    {
     "data": {
      "text/plain": [
       "[0, 1, 4, 9, 16, 25]"
      ]
     },
     "execution_count": 87,
     "metadata": {},
     "output_type": "execute_result"
    }
   ],
   "source": [
    "test7(6)"
   ]
  },
  {
   "cell_type": "code",
   "execution_count": null,
   "id": "951498d7",
   "metadata": {},
   "outputs": [],
   "source": []
  },
  {
   "cell_type": "code",
   "execution_count": 88,
   "id": "0a168220",
   "metadata": {},
   "outputs": [],
   "source": [
    "#generator data is the data what we have done in previously so it store the data and work according so that \n",
    "#it will be executive in less time and memory when tring to execute healvy or ha lex coding and rembered the data what\n",
    "#wha have done previously with help of yield function"
   ]
  },
  {
   "cell_type": "code",
   "execution_count": 19,
   "id": "2cb3a795",
   "metadata": {},
   "outputs": [],
   "source": [
    "def test8(n):\n",
    "    for i in range(n):\n",
    "        yield i**3"
   ]
  },
  {
   "cell_type": "code",
   "execution_count": 20,
   "id": "44492115",
   "metadata": {},
   "outputs": [
    {
     "data": {
      "text/plain": [
       "<generator object test8 at 0x000002D4247F22E0>"
      ]
     },
     "execution_count": 20,
     "metadata": {},
     "output_type": "execute_result"
    }
   ],
   "source": [
    "test8(6)"
   ]
  },
  {
   "cell_type": "code",
   "execution_count": 23,
   "id": "0d435baf",
   "metadata": {},
   "outputs": [
    {
     "name": "stdout",
     "output_type": "stream",
     "text": [
      "0\n",
      "1\n",
      "8\n",
      "27\n",
      "64\n",
      "125\n"
     ]
    }
   ],
   "source": [
    "for i in test8(6):\n",
    "    print(i)\n"
   ]
  },
  {
   "cell_type": "code",
   "execution_count": 24,
   "id": "626b8a8e",
   "metadata": {},
   "outputs": [
    {
     "data": {
      "text/plain": [
       "range(10, 20, 2)"
      ]
     },
     "execution_count": 24,
     "metadata": {},
     "output_type": "execute_result"
    }
   ],
   "source": [
    "range(10,20,2)"
   ]
  },
  {
   "cell_type": "code",
   "execution_count": 25,
   "id": "8554c0df",
   "metadata": {},
   "outputs": [
    {
     "data": {
      "text/plain": [
       "[10, 12, 14, 16, 18]"
      ]
     },
     "execution_count": 25,
     "metadata": {},
     "output_type": "execute_result"
    }
   ],
   "source": [
    "list(range(10,20,2))"
   ]
  },
  {
   "cell_type": "code",
   "execution_count": null,
   "id": "d0d480b6",
   "metadata": {},
   "outputs": [],
   "source": []
  },
  {
   "cell_type": "code",
   "execution_count": 29,
   "id": "71a98daa",
   "metadata": {},
   "outputs": [
    {
     "data": {
      "text/plain": [
       "[10, 12, 14, 16, 18]"
      ]
     },
     "execution_count": 29,
     "metadata": {},
     "output_type": "execute_result"
    }
   ],
   "source": [
    "a = range(10,20,2)\n",
    "b = []                  \n",
    "for i in a:\n",
    "    b.append(i)\n",
    "b  "
   ]
  },
  {
   "cell_type": "code",
   "execution_count": 30,
   "id": "7a8b1d7d",
   "metadata": {},
   "outputs": [
    {
     "ename": "AttributeError",
     "evalue": "'tuple' object has no attribute 'append'",
     "output_type": "error",
     "traceback": [
      "\u001b[1;31m---------------------------------------------------------------------------\u001b[0m",
      "\u001b[1;31mAttributeError\u001b[0m                            Traceback (most recent call last)",
      "\u001b[1;32m~\\AppData\\Local\\Temp/ipykernel_5368/4272041613.py\u001b[0m in \u001b[0;36m<module>\u001b[1;34m\u001b[0m\n\u001b[0;32m      2\u001b[0m \u001b[0mb\u001b[0m \u001b[1;33m=\u001b[0m \u001b[1;33m(\u001b[0m\u001b[1;33m)\u001b[0m                  \u001b[1;31m#tuple dict set has not attribute of append\u001b[0m\u001b[1;33m\u001b[0m\u001b[1;33m\u001b[0m\u001b[0m\n\u001b[0;32m      3\u001b[0m \u001b[1;32mfor\u001b[0m \u001b[0mi\u001b[0m \u001b[1;32min\u001b[0m \u001b[0ma\u001b[0m\u001b[1;33m:\u001b[0m\u001b[1;33m\u001b[0m\u001b[1;33m\u001b[0m\u001b[0m\n\u001b[1;32m----> 4\u001b[1;33m     \u001b[0mb\u001b[0m\u001b[1;33m.\u001b[0m\u001b[0mappend\u001b[0m\u001b[1;33m(\u001b[0m\u001b[0mi\u001b[0m\u001b[1;33m)\u001b[0m\u001b[1;33m\u001b[0m\u001b[1;33m\u001b[0m\u001b[0m\n\u001b[0m\u001b[0;32m      5\u001b[0m \u001b[0mb\u001b[0m\u001b[1;33m\u001b[0m\u001b[1;33m\u001b[0m\u001b[0m\n",
      "\u001b[1;31mAttributeError\u001b[0m: 'tuple' object has no attribute 'append'"
     ]
    }
   ],
   "source": [
    "a = range(10,20,2)\n",
    "b = ()                  #tuple dict set has not attribute of append \n",
    "for i in a:\n",
    "    b.append(i)\n",
    "b  "
   ]
  },
  {
   "cell_type": "code",
   "execution_count": 26,
   "id": "56eb2b85",
   "metadata": {},
   "outputs": [
    {
     "data": {
      "text/plain": [
       "(10, 12, 14, 16, 18)"
      ]
     },
     "execution_count": 26,
     "metadata": {},
     "output_type": "execute_result"
    }
   ],
   "source": [
    "tuple(range(10,20,2))"
   ]
  },
  {
   "cell_type": "code",
   "execution_count": 27,
   "id": "8244e24b",
   "metadata": {},
   "outputs": [
    {
     "data": {
      "text/plain": [
       "{10, 12, 14, 16, 18}"
      ]
     },
     "execution_count": 27,
     "metadata": {},
     "output_type": "execute_result"
    }
   ],
   "source": [
    "set(range(10,20,2))"
   ]
  },
  {
   "cell_type": "code",
   "execution_count": 28,
   "id": "dfb16775",
   "metadata": {},
   "outputs": [
    {
     "ename": "TypeError",
     "evalue": "cannot convert dictionary update sequence element #0 to a sequence",
     "output_type": "error",
     "traceback": [
      "\u001b[1;31m---------------------------------------------------------------------------\u001b[0m",
      "\u001b[1;31mTypeError\u001b[0m                                 Traceback (most recent call last)",
      "\u001b[1;32m~\\AppData\\Local\\Temp/ipykernel_5368/3783770372.py\u001b[0m in \u001b[0;36m<module>\u001b[1;34m\u001b[0m\n\u001b[1;32m----> 1\u001b[1;33m \u001b[0mdict\u001b[0m\u001b[1;33m(\u001b[0m\u001b[0mrange\u001b[0m\u001b[1;33m(\u001b[0m\u001b[1;36m10\u001b[0m\u001b[1;33m,\u001b[0m\u001b[1;36m20\u001b[0m\u001b[1;33m,\u001b[0m\u001b[1;36m2\u001b[0m\u001b[1;33m)\u001b[0m\u001b[1;33m)\u001b[0m\u001b[1;33m\u001b[0m\u001b[1;33m\u001b[0m\u001b[0m\n\u001b[0m",
      "\u001b[1;31mTypeError\u001b[0m: cannot convert dictionary update sequence element #0 to a sequence"
     ]
    }
   ],
   "source": [
    "dict(range(10,20,2))"
   ]
  },
  {
   "cell_type": "code",
   "execution_count": null,
   "id": "d7a68912",
   "metadata": {},
   "outputs": [],
   "source": []
  },
  {
   "cell_type": "code",
   "execution_count": 35,
   "id": "640757d2",
   "metadata": {},
   "outputs": [
    {
     "data": {
      "text/plain": [
       "(0, 1, 2, 3, 4, 5, 6, 7, 8, 9)"
      ]
     },
     "execution_count": 35,
     "metadata": {},
     "output_type": "execute_result"
    }
   ],
   "source": [
    "tuple(range(10))"
   ]
  },
  {
   "cell_type": "code",
   "execution_count": 36,
   "id": "6658990b",
   "metadata": {},
   "outputs": [
    {
     "data": {
      "text/plain": [
       "{0, 1, 2, 3, 4, 5, 6, 7, 8, 9}"
      ]
     },
     "execution_count": 36,
     "metadata": {},
     "output_type": "execute_result"
    }
   ],
   "source": [
    "set(range(10))"
   ]
  },
  {
   "cell_type": "code",
   "execution_count": 26,
   "id": "49c00129",
   "metadata": {},
   "outputs": [
    {
     "data": {
      "text/plain": [
       "range(0, 5)"
      ]
     },
     "execution_count": 26,
     "metadata": {},
     "output_type": "execute_result"
    }
   ],
   "source": [
    "range(5)"
   ]
  },
  {
   "cell_type": "code",
   "execution_count": 27,
   "id": "5c0d6354",
   "metadata": {},
   "outputs": [
    {
     "data": {
      "text/plain": [
       "[0, 1, 2, 3, 4]"
      ]
     },
     "execution_count": 27,
     "metadata": {},
     "output_type": "execute_result"
    }
   ],
   "source": [
    "list(range(5))"
   ]
  },
  {
   "cell_type": "code",
   "execution_count": 94,
   "id": "a8b652bd",
   "metadata": {},
   "outputs": [
    {
     "data": {
      "text/plain": [
       "(0, 1, 2, 3, 4)"
      ]
     },
     "execution_count": 94,
     "metadata": {},
     "output_type": "execute_result"
    }
   ],
   "source": [
    "tuple(range(5))"
   ]
  },
  {
   "cell_type": "code",
   "execution_count": 95,
   "id": "e83a1494",
   "metadata": {},
   "outputs": [
    {
     "name": "stdout",
     "output_type": "stream",
     "text": [
      "0\n",
      "1\n",
      "2\n",
      "3\n",
      "4\n"
     ]
    }
   ],
   "source": [
    "for i in range(5):\n",
    "    print(i)    "
   ]
  },
  {
   "cell_type": "code",
   "execution_count": 52,
   "id": "3f10c38f",
   "metadata": {},
   "outputs": [
    {
     "name": "stdout",
     "output_type": "stream",
     "text": [
      "1\n",
      "3\n",
      "5\n",
      "7\n",
      "9\n",
      "this is else block\n"
     ]
    }
   ],
   "source": [
    "a = 1\n",
    "b = 10\n",
    "while a<=b:\n",
    "    print(a)\n",
    "    a = a + 2\n",
    "else:\n",
    "    print('this is else block')"
   ]
  },
  {
   "cell_type": "code",
   "execution_count": 54,
   "id": "ea5cd8b7",
   "metadata": {},
   "outputs": [
    {
     "name": "stdout",
     "output_type": "stream",
     "text": [
      "10\n",
      "10\n",
      "10\n",
      "10\n",
      "10\n",
      "this is else block\n"
     ]
    }
   ],
   "source": [
    "a = 1\n",
    "b = 10\n",
    "while a<=b:\n",
    "    print(b)\n",
    "    a = a + 2\n",
    "else:\n",
    "    print('this is else block')"
   ]
  },
  {
   "cell_type": "code",
   "execution_count": 64,
   "id": "03b05520",
   "metadata": {},
   "outputs": [
    {
     "data": {
      "text/plain": [
       "[1, 3, 5, 7, 9]"
      ]
     },
     "execution_count": 64,
     "metadata": {},
     "output_type": "execute_result"
    }
   ],
   "source": [
    "a = 1\n",
    "b = 10\n",
    "c = []\n",
    "while a<=b:\n",
    "    c.append(a)\n",
    "    a = a + 2\n",
    "c    "
   ]
  },
  {
   "cell_type": "code",
   "execution_count": 48,
   "id": "5b9e9ab0",
   "metadata": {},
   "outputs": [],
   "source": [
    "def monu():\n",
    "    a = 1\n",
    "    b = 10\n",
    "    while a<=b:\n",
    "        print(a)\n",
    "        a = a + 2\n",
    "    else:\n",
    "        print('this is else block')"
   ]
  },
  {
   "cell_type": "code",
   "execution_count": 49,
   "id": "4d61c4bd",
   "metadata": {},
   "outputs": [
    {
     "name": "stdout",
     "output_type": "stream",
     "text": [
      "1\n",
      "3\n",
      "5\n",
      "7\n",
      "9\n",
      "this is else block\n"
     ]
    }
   ],
   "source": [
    "monu()"
   ]
  },
  {
   "cell_type": "code",
   "execution_count": 20,
   "id": "44324fc0",
   "metadata": {},
   "outputs": [
    {
     "name": "stdout",
     "output_type": "stream",
     "text": [
      "1\n",
      "3\n",
      "5\n",
      "7\n",
      "9\n",
      "this is else block\n"
     ]
    },
    {
     "data": {
      "text/plain": [
       "NoneType"
      ]
     },
     "execution_count": 20,
     "metadata": {},
     "output_type": "execute_result"
    }
   ],
   "source": [
    "type(monu())    #print is non type"
   ]
  },
  {
   "cell_type": "code",
   "execution_count": 23,
   "id": "a2a0ce86",
   "metadata": {},
   "outputs": [],
   "source": [
    "def monu():\n",
    "    a = 1\n",
    "    b = 10\n",
    "    while a<=10:\n",
    "        return a\n",
    "        a = a + 2\n",
    "    else:\n",
    "        return 'this is else block'"
   ]
  },
  {
   "cell_type": "code",
   "execution_count": 24,
   "id": "a71e0c7c",
   "metadata": {},
   "outputs": [
    {
     "data": {
      "text/plain": [
       "int"
      ]
     },
     "execution_count": 24,
     "metadata": {},
     "output_type": "execute_result"
    }
   ],
   "source": [
    "type(monu()) "
   ]
  },
  {
   "cell_type": "code",
   "execution_count": 71,
   "id": "d4258a3d",
   "metadata": {},
   "outputs": [],
   "source": [
    "def monu(a):\n",
    "    while a<=10:\n",
    "        print(a)\n",
    "        a = a + 2\n",
    "    else:\n",
    "        print('this is else block')"
   ]
  },
  {
   "cell_type": "code",
   "execution_count": 73,
   "id": "f510e9f9",
   "metadata": {},
   "outputs": [
    {
     "name": "stdout",
     "output_type": "stream",
     "text": [
      "1\n",
      "3\n",
      "5\n",
      "7\n",
      "9\n",
      "this is else block\n"
     ]
    }
   ],
   "source": [
    "monu(1)"
   ]
  },
  {
   "cell_type": "code",
   "execution_count": 76,
   "id": "e1a771a1",
   "metadata": {},
   "outputs": [],
   "source": [
    "def monu(a,b):\n",
    "    while a<=b:\n",
    "        print(a)\n",
    "        a = a + 2\n",
    "    else:\n",
    "        print('this is else block')"
   ]
  },
  {
   "cell_type": "code",
   "execution_count": 77,
   "id": "7e38b865",
   "metadata": {},
   "outputs": [
    {
     "name": "stdout",
     "output_type": "stream",
     "text": [
      "1\n",
      "3\n",
      "5\n",
      "7\n",
      "9\n",
      "this is else block\n"
     ]
    }
   ],
   "source": [
    "monu(1,10)"
   ]
  },
  {
   "cell_type": "code",
   "execution_count": 78,
   "id": "a537bfa1",
   "metadata": {},
   "outputs": [
    {
     "name": "stdout",
     "output_type": "stream",
     "text": [
      "3\n",
      "5\n",
      "7\n",
      "9\n",
      "this is else block\n"
     ]
    }
   ],
   "source": [
    "monu(3,9)"
   ]
  },
  {
   "cell_type": "code",
   "execution_count": 15,
   "id": "6bf3c9a7",
   "metadata": {},
   "outputs": [
    {
     "name": "stdout",
     "output_type": "stream",
     "text": [
      "this is else block\n"
     ]
    }
   ],
   "source": [
    "monu(30,2)"
   ]
  },
  {
   "cell_type": "code",
   "execution_count": 1,
   "id": "5a1276e3",
   "metadata": {},
   "outputs": [],
   "source": [
    "def genfib(n):\n",
    "    a = 1\n",
    "    b = 1\n",
    "    output = []\n",
    "    for i in range(n):\n",
    "        output.append(a)\n",
    "        a , b = b, a+b\n",
    "    return output"
   ]
  },
  {
   "cell_type": "code",
   "execution_count": 97,
   "id": "64107203",
   "metadata": {},
   "outputs": [
    {
     "data": {
      "text/plain": [
       "[1, 1, 2, 3, 5, 8, 13, 21, 34, 55]"
      ]
     },
     "execution_count": 97,
     "metadata": {},
     "output_type": "execute_result"
    }
   ],
   "source": [
    "genfib(10)"
   ]
  },
  {
   "cell_type": "code",
   "execution_count": 98,
   "id": "f46020e6",
   "metadata": {},
   "outputs": [],
   "source": [
    "def genfib(n):\n",
    "    a = 1\n",
    "    b = 1\n",
    "    for i in range(n):\n",
    "        yield a\n",
    "        a , b = b, a+b\n",
    "    "
   ]
  },
  {
   "cell_type": "code",
   "execution_count": 99,
   "id": "355ca859",
   "metadata": {},
   "outputs": [
    {
     "data": {
      "text/plain": [
       "<generator object genfib at 0x000001D6FD1AACF0>"
      ]
     },
     "execution_count": 99,
     "metadata": {},
     "output_type": "execute_result"
    }
   ],
   "source": [
    "genfib(6)"
   ]
  },
  {
   "cell_type": "code",
   "execution_count": 100,
   "id": "570ea3ce",
   "metadata": {},
   "outputs": [
    {
     "name": "stdout",
     "output_type": "stream",
     "text": [
      "1\n",
      "1\n",
      "2\n",
      "3\n",
      "5\n",
      "8\n"
     ]
    }
   ],
   "source": [
    "for i in genfib(6):\n",
    "    print(i)\n"
   ]
  },
  {
   "cell_type": "code",
   "execution_count": 82,
   "id": "c355a2b9",
   "metadata": {},
   "outputs": [],
   "source": [
    "l = [1,2,3,158,2,[586,4,6,455],(5,46,478,16),True,'manoj']"
   ]
  },
  {
   "cell_type": "code",
   "execution_count": 12,
   "id": "1c3c9925",
   "metadata": {},
   "outputs": [],
   "source": [
    "l1 = []\n",
    "for i in l:\n",
    "    if type(i)== int or type(i)==list:\n",
    "        l1.append(i)"
   ]
  },
  {
   "cell_type": "code",
   "execution_count": 13,
   "id": "fdd62cf8",
   "metadata": {},
   "outputs": [
    {
     "data": {
      "text/plain": [
       "[1, 2, 3, 158, 2, [586, 4, 6, 455]]"
      ]
     },
     "execution_count": 13,
     "metadata": {},
     "output_type": "execute_result"
    }
   ],
   "source": [
    "l1"
   ]
  },
  {
   "cell_type": "code",
   "execution_count": 14,
   "id": "f2c9831d",
   "metadata": {},
   "outputs": [],
   "source": [
    "l1 = []\n",
    "for i in l:\n",
    "    if type(i)== int:\n",
    "        l1.append(i)"
   ]
  },
  {
   "cell_type": "code",
   "execution_count": 15,
   "id": "fe426fe9",
   "metadata": {},
   "outputs": [
    {
     "data": {
      "text/plain": [
       "[1, 2, 3, 158, 2]"
      ]
     },
     "execution_count": 15,
     "metadata": {},
     "output_type": "execute_result"
    }
   ],
   "source": [
    "l1"
   ]
  },
  {
   "cell_type": "code",
   "execution_count": 16,
   "id": "48a9841a",
   "metadata": {},
   "outputs": [],
   "source": [
    "def sonu():\n",
    "    l1 = []\n",
    "    for i in l:\n",
    "        if type(i)== int:\n",
    "            l1.append(i)\n",
    "    return l1"
   ]
  },
  {
   "cell_type": "code",
   "execution_count": 17,
   "id": "3ad185ec",
   "metadata": {},
   "outputs": [
    {
     "data": {
      "text/plain": [
       "[1, 2, 3, 158, 2]"
      ]
     },
     "execution_count": 17,
     "metadata": {},
     "output_type": "execute_result"
    }
   ],
   "source": [
    "sonu()"
   ]
  },
  {
   "cell_type": "code",
   "execution_count": 83,
   "id": "f64ffe5f",
   "metadata": {},
   "outputs": [],
   "source": [
    "l1 = []\n",
    "for i in l:\n",
    "    if i== 'manoj':\n",
    "        l1.append(i)"
   ]
  },
  {
   "cell_type": "code",
   "execution_count": 84,
   "id": "9a45d898",
   "metadata": {},
   "outputs": [
    {
     "data": {
      "text/plain": [
       "['manoj']"
      ]
     },
     "execution_count": 84,
     "metadata": {},
     "output_type": "execute_result"
    }
   ],
   "source": [
    "l1"
   ]
  },
  {
   "cell_type": "code",
   "execution_count": 85,
   "id": "eb27a863",
   "metadata": {},
   "outputs": [],
   "source": [
    "t = (3,1,4,5,1,3,6,5,7)"
   ]
  },
  {
   "cell_type": "code",
   "execution_count": 92,
   "id": "51fd1878",
   "metadata": {},
   "outputs": [],
   "source": [
    "def m(t):\n",
    "    a =-1\n",
    "    while a>= -len(t):\n",
    "        if t[a]==6 or t[a]==7:\n",
    "            print('index of', t[a],'is',a)\n",
    "        a = a - 1    \n"
   ]
  },
  {
   "cell_type": "code",
   "execution_count": 93,
   "id": "39f14b48",
   "metadata": {},
   "outputs": [
    {
     "name": "stdout",
     "output_type": "stream",
     "text": [
      "index of 7 is -1\n",
      "index of 6 is -3\n"
     ]
    }
   ],
   "source": [
    "m(t)"
   ]
  },
  {
   "cell_type": "code",
   "execution_count": 94,
   "id": "5d1c6427",
   "metadata": {},
   "outputs": [],
   "source": [
    "#file operation"
   ]
  },
  {
   "cell_type": "code",
   "execution_count": 95,
   "id": "109e288a",
   "metadata": {},
   "outputs": [
    {
     "data": {
      "text/plain": [
       "'D:\\\\Jupyter notebook'"
      ]
     },
     "execution_count": 95,
     "metadata": {},
     "output_type": "execute_result"
    }
   ],
   "source": [
    "pwd()   #tell current pathway"
   ]
  },
  {
   "cell_type": "code",
   "execution_count": 96,
   "id": "7757a78d",
   "metadata": {},
   "outputs": [
    {
     "data": {
      "text/plain": [
       "'D:\\\\Jupyter notebook'"
      ]
     },
     "execution_count": 96,
     "metadata": {},
     "output_type": "execute_result"
    }
   ],
   "source": [
    "import os       #tell pathway\n",
    "os.getcwd()"
   ]
  },
  {
   "cell_type": "code",
   "execution_count": 97,
   "id": "e71aed78",
   "metadata": {},
   "outputs": [
    {
     "ename": "FileNotFoundError",
     "evalue": "[Errno 2] No such file or directory: 'MANOJ#1.txt'",
     "output_type": "error",
     "traceback": [
      "\u001b[1;31m---------------------------------------------------------------------------\u001b[0m",
      "\u001b[1;31mFileNotFoundError\u001b[0m                         Traceback (most recent call last)",
      "\u001b[1;32m~\\AppData\\Local\\Temp/ipykernel_5368/1438509952.py\u001b[0m in \u001b[0;36m<module>\u001b[1;34m\u001b[0m\n\u001b[1;32m----> 1\u001b[1;33m \u001b[0mf\u001b[0m \u001b[1;33m=\u001b[0m \u001b[0mopen\u001b[0m\u001b[1;33m(\u001b[0m\u001b[1;34m'MANOJ#1.txt'\u001b[0m\u001b[1;33m)\u001b[0m  \u001b[1;31m#becuse there is no such file so first will create file\u001b[0m\u001b[1;33m\u001b[0m\u001b[1;33m\u001b[0m\u001b[0m\n\u001b[0m",
      "\u001b[1;31mFileNotFoundError\u001b[0m: [Errno 2] No such file or directory: 'MANOJ#1.txt'"
     ]
    }
   ],
   "source": [
    "f = open('MANOJ#1.txt')  #becuse there is no such file so first will create file "
   ]
  },
  {
   "cell_type": "code",
   "execution_count": 98,
   "id": "d5c29a97",
   "metadata": {},
   "outputs": [
    {
     "name": "stdout",
     "output_type": "stream",
     "text": [
      " Volume in drive D is New Volume\n",
      " Volume Serial Number is 76F6-54F7\n",
      "\n",
      " Directory of D:\\Jupyter notebook\n",
      "\n",
      "\n",
      " Directory of D:\\Jupyter notebook\n",
      "\n",
      "\n",
      " Directory of D:\\Jupyter notebook\n",
      "\n",
      "\n",
      " Directory of D:\\Jupyter notebook\n",
      "\n",
      "\n",
      " Directory of D:\\Jupyter notebook\n",
      "\n",
      "\n",
      " Directory of D:\\Jupyter notebook\n",
      "\n",
      "\n",
      " Directory of D:\\Jupyter notebook\n",
      "\n"
     ]
    },
    {
     "name": "stderr",
     "output_type": "stream",
     "text": [
      "File Not Found\n"
     ]
    }
   ],
   "source": [
    "ls   #ls tell file in directory and  pathway"
   ]
  },
  {
   "cell_type": "code",
   "execution_count": 99,
   "id": "ddeae719",
   "metadata": {},
   "outputs": [],
   "source": [
    "f = open('MANOJ#2.txt', 'w')  #use 'a' to write without removing previous , use 'r' can read , use 'w' can read and wright"
   ]
  },
  {
   "cell_type": "code",
   "execution_count": 100,
   "id": "0494e5f6",
   "metadata": {},
   "outputs": [
    {
     "data": {
      "text/plain": [
       "16"
      ]
     },
     "execution_count": 100,
     "metadata": {},
     "output_type": "execute_result"
    }
   ],
   "source": [
    "f.write('my name is manoj')   #after file can write inside file using write funcion and after write must close it"
   ]
  },
  {
   "cell_type": "code",
   "execution_count": 101,
   "id": "55aadcd8",
   "metadata": {},
   "outputs": [],
   "source": [
    "f.close()"
   ]
  },
  {
   "cell_type": "code",
   "execution_count": 102,
   "id": "97868b96",
   "metadata": {},
   "outputs": [],
   "source": [
    "f1 = open('manoj#3.txt', 'w')"
   ]
  },
  {
   "cell_type": "code",
   "execution_count": 103,
   "id": "e12d670b",
   "metadata": {},
   "outputs": [
    {
     "data": {
      "text/plain": [
       "16"
      ]
     },
     "execution_count": 103,
     "metadata": {},
     "output_type": "execute_result"
    }
   ],
   "source": [
    "f1.write('this is the list')"
   ]
  },
  {
   "cell_type": "code",
   "execution_count": 104,
   "id": "597e0a06",
   "metadata": {},
   "outputs": [],
   "source": [
    "f1.close()"
   ]
  },
  {
   "cell_type": "code",
   "execution_count": 105,
   "id": "0921bb4a",
   "metadata": {},
   "outputs": [],
   "source": [
    "#need to append list in file"
   ]
  },
  {
   "cell_type": "code",
   "execution_count": 106,
   "id": "19b1167b",
   "metadata": {},
   "outputs": [],
   "source": [
    "l = [1,2,3,4,6,5,6,7,67,6]"
   ]
  },
  {
   "cell_type": "code",
   "execution_count": 107,
   "id": "66c2ec0f",
   "metadata": {},
   "outputs": [],
   "source": [
    "f2 = open('manoj#4.txt', 'w')"
   ]
  },
  {
   "cell_type": "code",
   "execution_count": 108,
   "id": "015ad07c",
   "metadata": {},
   "outputs": [
    {
     "ename": "TypeError",
     "evalue": "write() argument must be str, not list",
     "output_type": "error",
     "traceback": [
      "\u001b[1;31m---------------------------------------------------------------------------\u001b[0m",
      "\u001b[1;31mTypeError\u001b[0m                                 Traceback (most recent call last)",
      "\u001b[1;32m~\\AppData\\Local\\Temp/ipykernel_5368/2511389660.py\u001b[0m in \u001b[0;36m<module>\u001b[1;34m\u001b[0m\n\u001b[1;32m----> 1\u001b[1;33m \u001b[0mf2\u001b[0m\u001b[1;33m.\u001b[0m\u001b[0mwrite\u001b[0m\u001b[1;33m(\u001b[0m\u001b[0ml\u001b[0m\u001b[1;33m)\u001b[0m    \u001b[1;31m#so list can not append so first convert into string\u001b[0m\u001b[1;33m\u001b[0m\u001b[1;33m\u001b[0m\u001b[0m\n\u001b[0m",
      "\u001b[1;31mTypeError\u001b[0m: write() argument must be str, not list"
     ]
    }
   ],
   "source": [
    "f2.write(l)    #so list can not append so first convert into string"
   ]
  },
  {
   "cell_type": "code",
   "execution_count": 109,
   "id": "09b05a25",
   "metadata": {},
   "outputs": [
    {
     "data": {
      "text/plain": [
       "31"
      ]
     },
     "execution_count": 109,
     "metadata": {},
     "output_type": "execute_result"
    }
   ],
   "source": [
    "f2.write(str(l))"
   ]
  },
  {
   "cell_type": "code",
   "execution_count": 110,
   "id": "39f64e7b",
   "metadata": {},
   "outputs": [],
   "source": [
    "f2.close()"
   ]
  },
  {
   "cell_type": "code",
   "execution_count": null,
   "id": "684b9001",
   "metadata": {},
   "outputs": [],
   "source": [
    "#how to create file and write"
   ]
  },
  {
   "cell_type": "code",
   "execution_count": 111,
   "id": "1bc6809b",
   "metadata": {},
   "outputs": [],
   "source": [
    "f = open(\"test.txt\",\"w\")"
   ]
  },
  {
   "cell_type": "code",
   "execution_count": 112,
   "id": "38c5bb43",
   "metadata": {},
   "outputs": [],
   "source": [
    "f3 = open(\"test.sudh\" , 'w')     #it allow any file format \n",
    "f3.write(\"fsdfasf adsfas fdas afas fasd \")\n",
    "f3.close()"
   ]
  },
  {
   "cell_type": "code",
   "execution_count": 113,
   "id": "fa8baa2b",
   "metadata": {},
   "outputs": [],
   "source": [
    "#there is other way to create file and write on it"
   ]
  },
  {
   "cell_type": "code",
   "execution_count": 114,
   "id": "fa24940e",
   "metadata": {},
   "outputs": [
    {
     "name": "stdout",
     "output_type": "stream",
     "text": [
      "Overwriting monu123.txt\n"
     ]
    }
   ],
   "source": [
    "%%writefile monu123.txt\n",
    "this is my python first file in different way"
   ]
  },
  {
   "cell_type": "code",
   "execution_count": 115,
   "id": "273e2dbf",
   "metadata": {},
   "outputs": [
    {
     "name": "stdout",
     "output_type": "stream",
     "text": [
      "Overwriting monu123.txt\n"
     ]
    }
   ],
   "source": [
    "%%writefile monu123.txt\n",
    "this is my python first file in different way\n",
    "this is good and easy way\n",
    "python is easy language to understand even\n",
    "non IT back ground pepole can learn this easy language "
   ]
  },
  {
   "cell_type": "code",
   "execution_count": 116,
   "id": "c177ac80",
   "metadata": {},
   "outputs": [],
   "source": [
    "f = open('monu123.txt')"
   ]
  },
  {
   "cell_type": "code",
   "execution_count": 117,
   "id": "c0af02e2",
   "metadata": {},
   "outputs": [
    {
     "data": {
      "text/plain": [
       "'this is my python first file in different way\\nthis is good and easy way\\npython is easy language to understand even\\nnon IT back ground pepole can learn this easy language \\n'"
      ]
     },
     "execution_count": 117,
     "metadata": {},
     "output_type": "execute_result"
    }
   ],
   "source": [
    "f.read()   #to read file here use read funtion"
   ]
  },
  {
   "cell_type": "code",
   "execution_count": 118,
   "id": "dda04914",
   "metadata": {},
   "outputs": [
    {
     "data": {
      "text/plain": [
       "''"
      ]
     },
     "execution_count": 118,
     "metadata": {},
     "output_type": "execute_result"
    }
   ],
   "source": [
    "f.read()   #at second time, unable to read because cursor is at the end point"
   ]
  },
  {
   "cell_type": "code",
   "execution_count": 119,
   "id": "563887b3",
   "metadata": {},
   "outputs": [
    {
     "data": {
      "text/plain": [
       "0"
      ]
     },
     "execution_count": 119,
     "metadata": {},
     "output_type": "execute_result"
    }
   ],
   "source": [
    "f.seek(0)  #using seek function cursor can go where ever you want"
   ]
  },
  {
   "cell_type": "code",
   "execution_count": 120,
   "id": "4111c06c",
   "metadata": {},
   "outputs": [
    {
     "data": {
      "text/plain": [
       "'this is my python first file in different way\\nthis is good and easy way\\npython is easy language to understand even\\nnon IT back ground pepole can learn this easy language \\n'"
      ]
     },
     "execution_count": 120,
     "metadata": {},
     "output_type": "execute_result"
    }
   ],
   "source": [
    "f.read()"
   ]
  },
  {
   "cell_type": "code",
   "execution_count": 121,
   "id": "e3518820",
   "metadata": {},
   "outputs": [
    {
     "data": {
      "text/plain": [
       "''"
      ]
     },
     "execution_count": 121,
     "metadata": {},
     "output_type": "execute_result"
    }
   ],
   "source": [
    "f.read()"
   ]
  },
  {
   "cell_type": "code",
   "execution_count": 122,
   "id": "34986b3d",
   "metadata": {},
   "outputs": [
    {
     "data": {
      "text/plain": [
       "5"
      ]
     },
     "execution_count": 122,
     "metadata": {},
     "output_type": "execute_result"
    }
   ],
   "source": [
    "f.seek(5)"
   ]
  },
  {
   "cell_type": "code",
   "execution_count": 123,
   "id": "c92c93e8",
   "metadata": {},
   "outputs": [
    {
     "data": {
      "text/plain": [
       "'is my python first file in different way\\nthis is good and easy way\\npython is easy language to understand even\\nnon IT back ground pepole can learn this easy language \\n'"
      ]
     },
     "execution_count": 123,
     "metadata": {},
     "output_type": "execute_result"
    }
   ],
   "source": [
    "f.read()"
   ]
  },
  {
   "cell_type": "code",
   "execution_count": 124,
   "id": "06eb43bc",
   "metadata": {},
   "outputs": [
    {
     "data": {
      "text/plain": [
       "50"
      ]
     },
     "execution_count": 124,
     "metadata": {},
     "output_type": "execute_result"
    }
   ],
   "source": [
    "f.seek(50)"
   ]
  },
  {
   "cell_type": "code",
   "execution_count": 125,
   "id": "8cfef2b1",
   "metadata": {},
   "outputs": [
    {
     "data": {
      "text/plain": [
       "'s is good and easy way\\npython is easy language to understand even\\nnon IT back ground pepole can learn this easy language \\n'"
      ]
     },
     "execution_count": 125,
     "metadata": {},
     "output_type": "execute_result"
    }
   ],
   "source": [
    "f.read()"
   ]
  },
  {
   "cell_type": "code",
   "execution_count": 126,
   "id": "5604b305",
   "metadata": {},
   "outputs": [
    {
     "data": {
      "text/plain": [
       "175"
      ]
     },
     "execution_count": 126,
     "metadata": {},
     "output_type": "execute_result"
    }
   ],
   "source": [
    "f.tell()   #tell function indicate where the cursor"
   ]
  },
  {
   "cell_type": "code",
   "execution_count": 127,
   "id": "dda70933",
   "metadata": {},
   "outputs": [
    {
     "data": {
      "text/plain": [
       "0"
      ]
     },
     "execution_count": 127,
     "metadata": {},
     "output_type": "execute_result"
    }
   ],
   "source": [
    "f.seek(0)"
   ]
  },
  {
   "cell_type": "code",
   "execution_count": 128,
   "id": "5e616b4a",
   "metadata": {},
   "outputs": [
    {
     "data": {
      "text/plain": [
       "0"
      ]
     },
     "execution_count": 128,
     "metadata": {},
     "output_type": "execute_result"
    }
   ],
   "source": [
    "f.tell()"
   ]
  },
  {
   "cell_type": "code",
   "execution_count": 129,
   "id": "92cf9989",
   "metadata": {},
   "outputs": [
    {
     "data": {
      "text/plain": [
       "10"
      ]
     },
     "execution_count": 129,
     "metadata": {},
     "output_type": "execute_result"
    }
   ],
   "source": [
    "f.seek(10)"
   ]
  },
  {
   "cell_type": "code",
   "execution_count": 130,
   "id": "c1b65e5a",
   "metadata": {},
   "outputs": [
    {
     "data": {
      "text/plain": [
       "10"
      ]
     },
     "execution_count": 130,
     "metadata": {},
     "output_type": "execute_result"
    }
   ],
   "source": [
    "f.tell()"
   ]
  },
  {
   "cell_type": "code",
   "execution_count": 131,
   "id": "cdd7789c",
   "metadata": {},
   "outputs": [
    {
     "data": {
      "text/plain": [
       "' python first file i'"
      ]
     },
     "execution_count": 131,
     "metadata": {},
     "output_type": "execute_result"
    }
   ],
   "source": [
    "f.read(20)  #cursor is at 10th position and passing value in read give where it has to read"
   ]
  },
  {
   "cell_type": "code",
   "execution_count": 132,
   "id": "69dac448",
   "metadata": {},
   "outputs": [],
   "source": [
    "f1 = open('monu123.txt')"
   ]
  },
  {
   "cell_type": "code",
   "execution_count": 133,
   "id": "3d9f318c",
   "metadata": {},
   "outputs": [
    {
     "data": {
      "text/plain": [
       "'this is my python first file in different way\\nthis is good and easy way\\npython is easy language to understand even\\nnon IT back ground pepole can learn this easy language \\n'"
      ]
     },
     "execution_count": 133,
     "metadata": {},
     "output_type": "execute_result"
    }
   ],
   "source": [
    "f1.read()"
   ]
  },
  {
   "cell_type": "code",
   "execution_count": 134,
   "id": "779db783",
   "metadata": {},
   "outputs": [
    {
     "data": {
      "text/plain": [
       "0"
      ]
     },
     "execution_count": 134,
     "metadata": {},
     "output_type": "execute_result"
    }
   ],
   "source": [
    "f1.seek(0)"
   ]
  },
  {
   "cell_type": "code",
   "execution_count": 135,
   "id": "029f0749",
   "metadata": {},
   "outputs": [
    {
     "data": {
      "text/plain": [
       "'this is my python first file in different way\\n'"
      ]
     },
     "execution_count": 135,
     "metadata": {},
     "output_type": "execute_result"
    }
   ],
   "source": [
    "f1.readline()   #read one line"
   ]
  },
  {
   "cell_type": "code",
   "execution_count": 136,
   "id": "9c29d8a8",
   "metadata": {},
   "outputs": [
    {
     "data": {
      "text/plain": [
       "['this is good and easy way\\n',\n",
       " 'python is easy language to understand even\\n',\n",
       " 'non IT back ground pepole can learn this easy language \\n']"
      ]
     },
     "execution_count": 136,
     "metadata": {},
     "output_type": "execute_result"
    }
   ],
   "source": [
    "f1.readlines()   #read all lines"
   ]
  },
  {
   "cell_type": "code",
   "execution_count": 137,
   "id": "9bb8383a",
   "metadata": {},
   "outputs": [
    {
     "data": {
      "text/plain": [
       "0"
      ]
     },
     "execution_count": 137,
     "metadata": {},
     "output_type": "execute_result"
    }
   ],
   "source": [
    "f1.seek(0)"
   ]
  },
  {
   "cell_type": "code",
   "execution_count": 138,
   "id": "f7621f80",
   "metadata": {},
   "outputs": [
    {
     "data": {
      "text/plain": [
       "'th'"
      ]
     },
     "execution_count": 138,
     "metadata": {},
     "output_type": "execute_result"
    }
   ],
   "source": [
    "f1.readline(2)"
   ]
  },
  {
   "cell_type": "code",
   "execution_count": 139,
   "id": "4c79982b",
   "metadata": {},
   "outputs": [
    {
     "data": {
      "text/plain": [
       "5"
      ]
     },
     "execution_count": 139,
     "metadata": {},
     "output_type": "execute_result"
    }
   ],
   "source": [
    "f1.fileno()   #tell the file#"
   ]
  },
  {
   "cell_type": "code",
   "execution_count": 140,
   "id": "80ba2036",
   "metadata": {},
   "outputs": [],
   "source": [
    "f3= open(\"test109.txt\" , 'w')"
   ]
  },
  {
   "cell_type": "code",
   "execution_count": 141,
   "id": "4dfcebca",
   "metadata": {},
   "outputs": [
    {
     "data": {
      "text/plain": [
       "67"
      ]
     },
     "execution_count": 141,
     "metadata": {},
     "output_type": "execute_result"
    }
   ],
   "source": [
    "f3.write(\"\"\"this is my python program to write into a file in different way \\n',\"\"\")"
   ]
  },
  {
   "cell_type": "code",
   "execution_count": 142,
   "id": "022239d1",
   "metadata": {},
   "outputs": [],
   "source": [
    "f3.close()"
   ]
  },
  {
   "cell_type": "code",
   "execution_count": 143,
   "id": "a4a07cdf",
   "metadata": {},
   "outputs": [
    {
     "ename": "ValueError",
     "evalue": "I/O operation on closed file.",
     "output_type": "error",
     "traceback": [
      "\u001b[1;31m---------------------------------------------------------------------------\u001b[0m",
      "\u001b[1;31mValueError\u001b[0m                                Traceback (most recent call last)",
      "\u001b[1;32m~\\AppData\\Local\\Temp/ipykernel_5368/3045841574.py\u001b[0m in \u001b[0;36m<module>\u001b[1;34m\u001b[0m\n\u001b[1;32m----> 1\u001b[1;33m \u001b[0mf3\u001b[0m\u001b[1;33m.\u001b[0m\u001b[0mwrite\u001b[0m\u001b[1;33m(\u001b[0m\u001b[1;34m\"fdasfkasjkfl asklfkl kfa kkdfka fl af \"\u001b[0m\u001b[1;33m)\u001b[0m \u001b[1;31m#it will overide and remove previous one\u001b[0m\u001b[1;33m\u001b[0m\u001b[1;33m\u001b[0m\u001b[0m\n\u001b[0m",
      "\u001b[1;31mValueError\u001b[0m: I/O operation on closed file."
     ]
    }
   ],
   "source": [
    "f3.write(\"fdasfkasjkfl asklfkl kfa kkdfka fl af \") #it will overide and remove previous one"
   ]
  },
  {
   "cell_type": "code",
   "execution_count": 144,
   "id": "bc17667b",
   "metadata": {},
   "outputs": [],
   "source": [
    "#to add or write again in existing file use 'a'"
   ]
  },
  {
   "cell_type": "code",
   "execution_count": 145,
   "id": "42bfbf53",
   "metadata": {},
   "outputs": [],
   "source": [
    "f3= open(\"test109.txt\" , 'a')"
   ]
  },
  {
   "cell_type": "code",
   "execution_count": 146,
   "id": "fc4b5279",
   "metadata": {},
   "outputs": [
    {
     "data": {
      "text/plain": [
       "19"
      ]
     },
     "execution_count": 146,
     "metadata": {},
     "output_type": "execute_result"
    }
   ],
   "source": [
    "f3.write('this is my new data')"
   ]
  },
  {
   "cell_type": "code",
   "execution_count": 147,
   "id": "1ed4d81e",
   "metadata": {},
   "outputs": [],
   "source": [
    "f3.close()"
   ]
  },
  {
   "cell_type": "code",
   "execution_count": 148,
   "id": "ae4d31f9",
   "metadata": {},
   "outputs": [
    {
     "data": {
      "text/plain": [
       "'test109.txt'"
      ]
     },
     "execution_count": 148,
     "metadata": {},
     "output_type": "execute_result"
    }
   ],
   "source": [
    "f3.name   #tell the file name"
   ]
  },
  {
   "cell_type": "code",
   "execution_count": 149,
   "id": "aa011b25",
   "metadata": {},
   "outputs": [
    {
     "data": {
      "text/plain": [
       "True"
      ]
     },
     "execution_count": 149,
     "metadata": {},
     "output_type": "execute_result"
    }
   ],
   "source": [
    "f3.closed   #tell file is close or open"
   ]
  },
  {
   "cell_type": "code",
   "execution_count": 150,
   "id": "08ab2130",
   "metadata": {},
   "outputs": [
    {
     "data": {
      "text/plain": [
       "'a'"
      ]
     },
     "execution_count": 150,
     "metadata": {},
     "output_type": "execute_result"
    }
   ],
   "source": [
    "f3.mode  #tell which mode file is"
   ]
  },
  {
   "cell_type": "code",
   "execution_count": 151,
   "id": "1c72c151",
   "metadata": {},
   "outputs": [],
   "source": [
    "#create file in any location"
   ]
  },
  {
   "cell_type": "code",
   "execution_count": 152,
   "id": "48c60930",
   "metadata": {},
   "outputs": [],
   "source": [
    "f4 = open(r'C:\\Users\\Manoj\\OneDrive\\Desktop\\jayho.txt' , 'w')"
   ]
  },
  {
   "cell_type": "code",
   "execution_count": 153,
   "id": "936690d9",
   "metadata": {},
   "outputs": [],
   "source": [
    "f4.close()"
   ]
  },
  {
   "cell_type": "code",
   "execution_count": 154,
   "id": "52494449",
   "metadata": {},
   "outputs": [],
   "source": [
    "f5 = open(r'C:\\Users\\Manoj\\OneDrive\\Desktop\\jayho.xslx' , 'w')"
   ]
  },
  {
   "cell_type": "code",
   "execution_count": 155,
   "id": "d51262d6",
   "metadata": {},
   "outputs": [],
   "source": [
    "f5.close()"
   ]
  },
  {
   "cell_type": "code",
   "execution_count": 156,
   "id": "c25b62cf",
   "metadata": {},
   "outputs": [],
   "source": [
    "f6 = open(r'E:\\movie\\n.xlsx','w')"
   ]
  },
  {
   "cell_type": "code",
   "execution_count": 157,
   "id": "42cae723",
   "metadata": {},
   "outputs": [
    {
     "data": {
      "text/plain": [
       "14"
      ]
     },
     "execution_count": 157,
     "metadata": {},
     "output_type": "execute_result"
    }
   ],
   "source": [
    "f6.write('hi who are you')"
   ]
  },
  {
   "cell_type": "code",
   "execution_count": 158,
   "id": "1b11b742",
   "metadata": {},
   "outputs": [],
   "source": [
    "f6.close()"
   ]
  },
  {
   "cell_type": "code",
   "execution_count": null,
   "id": "7ca4e626",
   "metadata": {},
   "outputs": [],
   "source": []
  },
  {
   "cell_type": "code",
   "execution_count": 102,
   "id": "c04840c6",
   "metadata": {},
   "outputs": [],
   "source": [
    "f = open(\"test.txt\",\"w\")"
   ]
  },
  {
   "cell_type": "code",
   "execution_count": 103,
   "id": "0a4839d5",
   "metadata": {},
   "outputs": [
    {
     "data": {
      "text/plain": [
       "29"
      ]
     },
     "execution_count": 103,
     "metadata": {},
     "output_type": "execute_result"
    }
   ],
   "source": [
    "f.write(r\"salkfdj alkdfj aljfld fdlskjf\")"
   ]
  },
  {
   "cell_type": "code",
   "execution_count": 104,
   "id": "1b87a7d8",
   "metadata": {},
   "outputs": [],
   "source": [
    "f.close()"
   ]
  },
  {
   "cell_type": "code",
   "execution_count": 105,
   "id": "c46c85a4",
   "metadata": {},
   "outputs": [],
   "source": [
    "f = open(\"test.txt\")"
   ]
  },
  {
   "cell_type": "code",
   "execution_count": 106,
   "id": "17bc4e28",
   "metadata": {},
   "outputs": [
    {
     "data": {
      "text/plain": [
       "'salkfdj alkdfj aljfld fdlskjf'"
      ]
     },
     "execution_count": 106,
     "metadata": {},
     "output_type": "execute_result"
    }
   ],
   "source": [
    "f.read()"
   ]
  },
  {
   "cell_type": "code",
   "execution_count": 107,
   "id": "d6dbc9ac",
   "metadata": {},
   "outputs": [
    {
     "data": {
      "text/plain": [
       "2"
      ]
     },
     "execution_count": 107,
     "metadata": {},
     "output_type": "execute_result"
    }
   ],
   "source": [
    "f.seek(2)"
   ]
  },
  {
   "cell_type": "code",
   "execution_count": 108,
   "id": "b2e538dd",
   "metadata": {},
   "outputs": [
    {
     "data": {
      "text/plain": [
       "'lkfdj alkdfj aljfld fdlskjf'"
      ]
     },
     "execution_count": 108,
     "metadata": {},
     "output_type": "execute_result"
    }
   ],
   "source": [
    "f.read()"
   ]
  },
  {
   "cell_type": "code",
   "execution_count": 109,
   "id": "90cae45b",
   "metadata": {},
   "outputs": [
    {
     "data": {
      "text/plain": [
       "''"
      ]
     },
     "execution_count": 109,
     "metadata": {},
     "output_type": "execute_result"
    }
   ],
   "source": [
    "f.read()"
   ]
  },
  {
   "cell_type": "code",
   "execution_count": 110,
   "id": "8754bfa1",
   "metadata": {},
   "outputs": [
    {
     "data": {
      "text/plain": [
       "4"
      ]
     },
     "execution_count": 110,
     "metadata": {},
     "output_type": "execute_result"
    }
   ],
   "source": [
    "f.seek(4)"
   ]
  },
  {
   "cell_type": "code",
   "execution_count": 111,
   "id": "e4dd82f5",
   "metadata": {},
   "outputs": [
    {
     "data": {
      "text/plain": [
       "'fdj alkdfj aljfld fdlskjf'"
      ]
     },
     "execution_count": 111,
     "metadata": {},
     "output_type": "execute_result"
    }
   ],
   "source": [
    "f.read()"
   ]
  },
  {
   "cell_type": "code",
   "execution_count": 112,
   "id": "9d47a389",
   "metadata": {},
   "outputs": [
    {
     "data": {
      "text/plain": [
       "2"
      ]
     },
     "execution_count": 112,
     "metadata": {},
     "output_type": "execute_result"
    }
   ],
   "source": [
    "f.seek(2)"
   ]
  },
  {
   "cell_type": "code",
   "execution_count": 113,
   "id": "45c74a68",
   "metadata": {},
   "outputs": [
    {
     "data": {
      "text/plain": [
       "'lkfdj'"
      ]
     },
     "execution_count": 113,
     "metadata": {},
     "output_type": "execute_result"
    }
   ],
   "source": [
    "f.read(5)   # its mean read to start from letter 3 to the 5 letters ahead"
   ]
  },
  {
   "cell_type": "code",
   "execution_count": null,
   "id": "f0440580",
   "metadata": {},
   "outputs": [],
   "source": []
  },
  {
   "cell_type": "raw",
   "id": "564402f0",
   "metadata": {},
   "source": []
  },
  {
   "cell_type": "code",
   "execution_count": 114,
   "id": "6adedf35",
   "metadata": {},
   "outputs": [],
   "source": [
    "f = open(\"test.txt\",\"r\")  #its read mode"
   ]
  },
  {
   "cell_type": "code",
   "execution_count": 115,
   "id": "4c497e19",
   "metadata": {},
   "outputs": [
    {
     "ename": "UnsupportedOperation",
     "evalue": "not writable",
     "output_type": "error",
     "traceback": [
      "\u001b[1;31m---------------------------------------------------------------------------\u001b[0m",
      "\u001b[1;31mUnsupportedOperation\u001b[0m                      Traceback (most recent call last)",
      "\u001b[1;32m~\\AppData\\Local\\Temp/ipykernel_3772/889675112.py\u001b[0m in \u001b[0;36m<module>\u001b[1;34m\u001b[0m\n\u001b[1;32m----> 1\u001b[1;33m \u001b[0mf\u001b[0m\u001b[1;33m.\u001b[0m\u001b[0mwrite\u001b[0m\u001b[1;33m(\u001b[0m\u001b[1;34m\"kaldflkaj\"\u001b[0m\u001b[1;33m)\u001b[0m \u001b[1;31m# can not write in read mode\u001b[0m\u001b[1;33m\u001b[0m\u001b[1;33m\u001b[0m\u001b[0m\n\u001b[0m",
      "\u001b[1;31mUnsupportedOperation\u001b[0m: not writable"
     ]
    }
   ],
   "source": [
    "f.write(\"kaldflkaj\") # can not write in read mode"
   ]
  },
  {
   "cell_type": "code",
   "execution_count": 116,
   "id": "e3f08d35",
   "metadata": {},
   "outputs": [
    {
     "data": {
      "text/plain": [
       "'salkfdj alkdfj aljfld fdlskjf'"
      ]
     },
     "execution_count": 116,
     "metadata": {},
     "output_type": "execute_result"
    }
   ],
   "source": [
    "f.read()    "
   ]
  },
  {
   "cell_type": "code",
   "execution_count": 117,
   "id": "9bf5716b",
   "metadata": {},
   "outputs": [],
   "source": [
    "f.close()"
   ]
  },
  {
   "cell_type": "code",
   "execution_count": 118,
   "id": "86442a6f",
   "metadata": {},
   "outputs": [
    {
     "ename": "ValueError",
     "evalue": "I/O operation on closed file.",
     "output_type": "error",
     "traceback": [
      "\u001b[1;31m---------------------------------------------------------------------------\u001b[0m",
      "\u001b[1;31mValueError\u001b[0m                                Traceback (most recent call last)",
      "\u001b[1;32m~\\AppData\\Local\\Temp/ipykernel_3772/3059900045.py\u001b[0m in \u001b[0;36m<module>\u001b[1;34m\u001b[0m\n\u001b[1;32m----> 1\u001b[1;33m \u001b[0mf\u001b[0m\u001b[1;33m.\u001b[0m\u001b[0mread\u001b[0m\u001b[1;33m(\u001b[0m\u001b[1;33m)\u001b[0m\u001b[1;33m\u001b[0m\u001b[1;33m\u001b[0m\u001b[0m\n\u001b[0m",
      "\u001b[1;31mValueError\u001b[0m: I/O operation on closed file."
     ]
    }
   ],
   "source": [
    "f.read()  #because previously you have closed "
   ]
  },
  {
   "cell_type": "code",
   "execution_count": 127,
   "id": "14704b5b",
   "metadata": {},
   "outputs": [],
   "source": [
    "#open the file in append mode otherwise previous data you will lose and \n",
    "#also can write and it will be addup in same file"
   ]
  },
  {
   "cell_type": "code",
   "execution_count": null,
   "id": "193e7391",
   "metadata": {},
   "outputs": [],
   "source": []
  },
  {
   "cell_type": "code",
   "execution_count": 128,
   "id": "262816a2",
   "metadata": {},
   "outputs": [],
   "source": [
    "f = open(\"test.txt\",\"a\")"
   ]
  },
  {
   "cell_type": "code",
   "execution_count": 129,
   "id": "d53b1cf3",
   "metadata": {},
   "outputs": [
    {
     "data": {
      "text/plain": [
       "37"
      ]
     },
     "execution_count": 129,
     "metadata": {},
     "output_type": "execute_result"
    }
   ],
   "source": [
    "f.write(\"akjfdf adskfj kjadfkadf akdlfjadf d f\")"
   ]
  },
  {
   "cell_type": "code",
   "execution_count": 130,
   "id": "9b6b6ece",
   "metadata": {},
   "outputs": [],
   "source": [
    "f.close()"
   ]
  },
  {
   "cell_type": "code",
   "execution_count": null,
   "id": "74c911de",
   "metadata": {},
   "outputs": [],
   "source": []
  },
  {
   "cell_type": "code",
   "execution_count": 131,
   "id": "2b7421af",
   "metadata": {},
   "outputs": [],
   "source": [
    "#open the file in binary form"
   ]
  },
  {
   "cell_type": "code",
   "execution_count": 132,
   "id": "499abee9",
   "metadata": {},
   "outputs": [],
   "source": [
    "f = open(\"test1.txt\",\"wb\")"
   ]
  },
  {
   "cell_type": "code",
   "execution_count": 136,
   "id": "86af060c",
   "metadata": {},
   "outputs": [
    {
     "data": {
      "text/plain": [
       "33"
      ]
     },
     "execution_count": 136,
     "metadata": {},
     "output_type": "execute_result"
    }
   ],
   "source": [
    "f.write(b\"sdkfjal sdfjakd ladsfjlak fjsadjf\")"
   ]
  },
  {
   "cell_type": "code",
   "execution_count": 137,
   "id": "27122a07",
   "metadata": {},
   "outputs": [],
   "source": [
    "f.close()"
   ]
  },
  {
   "cell_type": "code",
   "execution_count": 140,
   "id": "7346d4fb",
   "metadata": {},
   "outputs": [],
   "source": [
    "f = open(\"test1.txt\",\"r\")"
   ]
  },
  {
   "cell_type": "code",
   "execution_count": 141,
   "id": "3db7bd6d",
   "metadata": {},
   "outputs": [
    {
     "data": {
      "text/plain": [
       "'sdkfjal sdfjakd ladsfjlak fjsadjf'"
      ]
     },
     "execution_count": 141,
     "metadata": {},
     "output_type": "execute_result"
    }
   ],
   "source": [
    "f.read()"
   ]
  },
  {
   "cell_type": "code",
   "execution_count": 142,
   "id": "d26ab7c5",
   "metadata": {},
   "outputs": [
    {
     "data": {
      "text/plain": [
       "2"
      ]
     },
     "execution_count": 142,
     "metadata": {},
     "output_type": "execute_result"
    }
   ],
   "source": [
    "f.seek(2)"
   ]
  },
  {
   "cell_type": "code",
   "execution_count": 143,
   "id": "7e32ab40",
   "metadata": {},
   "outputs": [
    {
     "data": {
      "text/plain": [
       "'k'"
      ]
     },
     "execution_count": 143,
     "metadata": {},
     "output_type": "execute_result"
    }
   ],
   "source": [
    "f.read(1)"
   ]
  },
  {
   "cell_type": "code",
   "execution_count": null,
   "id": "d1cac874",
   "metadata": {},
   "outputs": [],
   "source": []
  },
  {
   "cell_type": "code",
   "execution_count": 188,
   "id": "26b54fd9",
   "metadata": {},
   "outputs": [],
   "source": [
    "f = open(\"test2.txt\",\"w\")"
   ]
  },
  {
   "cell_type": "code",
   "execution_count": 189,
   "id": "f625150f",
   "metadata": {},
   "outputs": [
    {
     "data": {
      "text/plain": [
       "43"
      ]
     },
     "execution_count": 189,
     "metadata": {},
     "output_type": "execute_result"
    }
   ],
   "source": [
    "f.write(\"akfdjaas skdfj dkfj  dksfa df df keia fkdaj\")"
   ]
  },
  {
   "cell_type": "code",
   "execution_count": 190,
   "id": "3dfc4089",
   "metadata": {},
   "outputs": [],
   "source": [
    "f.close()"
   ]
  },
  {
   "cell_type": "code",
   "execution_count": 191,
   "id": "8c063a9d",
   "metadata": {},
   "outputs": [],
   "source": [
    "f = open(\"test2.txt\",\"r\")"
   ]
  },
  {
   "cell_type": "code",
   "execution_count": 192,
   "id": "dcc3fcdd",
   "metadata": {},
   "outputs": [
    {
     "data": {
      "text/plain": [
       "2"
      ]
     },
     "execution_count": 192,
     "metadata": {},
     "output_type": "execute_result"
    }
   ],
   "source": [
    "f.seek(2)"
   ]
  },
  {
   "cell_type": "code",
   "execution_count": 193,
   "id": "6982e150",
   "metadata": {},
   "outputs": [
    {
     "data": {
      "text/plain": [
       "'fdjaas skdfj dkfj  dksfa df df keia fkdaj'"
      ]
     },
     "execution_count": 193,
     "metadata": {},
     "output_type": "execute_result"
    }
   ],
   "source": [
    "f.read()"
   ]
  },
  {
   "cell_type": "code",
   "execution_count": 194,
   "id": "9295b232",
   "metadata": {},
   "outputs": [
    {
     "data": {
      "text/plain": [
       "0"
      ]
     },
     "execution_count": 194,
     "metadata": {},
     "output_type": "execute_result"
    }
   ],
   "source": [
    "f.seek(0)"
   ]
  },
  {
   "cell_type": "code",
   "execution_count": 195,
   "id": "3cf7d01c",
   "metadata": {},
   "outputs": [
    {
     "data": {
      "text/plain": [
       "'akfdjaas skdfj dkfj  dksfa df df keia fkdaj'"
      ]
     },
     "execution_count": 195,
     "metadata": {},
     "output_type": "execute_result"
    }
   ],
   "source": [
    "f.readline()# doubt here not executive excltaly in readline\n",
    "            #timing 2.50 around"
   ]
  },
  {
   "cell_type": "code",
   "execution_count": 201,
   "id": "313b85b3",
   "metadata": {},
   "outputs": [],
   "source": [
    "f  = open(\"test.txt\",\"r\")"
   ]
  },
  {
   "cell_type": "code",
   "execution_count": 202,
   "id": "c3e78a56",
   "metadata": {},
   "outputs": [
    {
     "data": {
      "text/plain": [
       "'salkfdj alkdfj aljfld fdlskjfakjfdf adskfj kjadfkadf akdlfjadf d fakjfdf adskfj kjadfkadf akdlfjadf d f'"
      ]
     },
     "execution_count": 202,
     "metadata": {},
     "output_type": "execute_result"
    }
   ],
   "source": [
    "f.read()"
   ]
  },
  {
   "cell_type": "code",
   "execution_count": 204,
   "id": "c3a40150",
   "metadata": {},
   "outputs": [],
   "source": [
    "f.close()"
   ]
  },
  {
   "cell_type": "code",
   "execution_count": 213,
   "id": "37055263",
   "metadata": {},
   "outputs": [],
   "source": [
    "f = open(\"test2.txt\",\"r\")"
   ]
  },
  {
   "cell_type": "code",
   "execution_count": 214,
   "id": "5371a4b4",
   "metadata": {},
   "outputs": [
    {
     "name": "stdout",
     "output_type": "stream",
     "text": [
      "akfdjaas skdfj dkfj  dksfa df df keia fkdaj\n",
      "\n",
      "dfj\n",
      "\n",
      "dfj\n",
      "\n",
      "f\n",
      "\n",
      "f\n",
      "\n",
      "f\n",
      "\n",
      "fca\n",
      "\n",
      "e\n",
      "\n",
      "ec\n",
      "\n",
      "djfka\n",
      "\n"
     ]
    }
   ],
   "source": [
    "for i in f:\n",
    "    print(i)"
   ]
  },
  {
   "cell_type": "code",
   "execution_count": 236,
   "id": "4afa85b0",
   "metadata": {},
   "outputs": [],
   "source": [
    "f.close()"
   ]
  },
  {
   "cell_type": "code",
   "execution_count": 237,
   "id": "67a610db",
   "metadata": {},
   "outputs": [],
   "source": [
    "f = open(\"test2.txt\",\"r\")"
   ]
  },
  {
   "cell_type": "code",
   "execution_count": 238,
   "id": "fb68e416",
   "metadata": {},
   "outputs": [
    {
     "name": "stdout",
     "output_type": "stream",
     "text": [
      "akfdjaas skdfj dkfj  dksfa df df keia fkdaj\n",
      " dfj\n",
      " dfj\n",
      " f\n",
      " f\n",
      " f\n",
      " fca\n",
      " e\n",
      " ec\n",
      " djfka\n",
      " "
     ]
    }
   ],
   "source": [
    "for i in f:\n",
    "    print(i,end = \" \")"
   ]
  },
  {
   "cell_type": "code",
   "execution_count": 239,
   "id": "b43c7385",
   "metadata": {},
   "outputs": [],
   "source": [
    "f.close()"
   ]
  },
  {
   "cell_type": "code",
   "execution_count": 240,
   "id": "aad87767",
   "metadata": {},
   "outputs": [],
   "source": [
    "f = open(\"test2.txt\",\"r\")"
   ]
  },
  {
   "cell_type": "code",
   "execution_count": 241,
   "id": "e5e4ab71",
   "metadata": {},
   "outputs": [
    {
     "data": {
      "text/plain": [
       "['akfdjaas skdfj dkfj  dksfa df df keia fkdaj\\n',\n",
       " 'dfj\\n',\n",
       " 'dfj\\n',\n",
       " 'f\\n',\n",
       " 'f\\n',\n",
       " 'f\\n',\n",
       " 'fca\\n',\n",
       " 'e\\n',\n",
       " 'ec\\n',\n",
       " 'djfka\\n']"
      ]
     },
     "execution_count": 241,
     "metadata": {},
     "output_type": "execute_result"
    }
   ],
   "source": [
    "list(f)"
   ]
  },
  {
   "cell_type": "code",
   "execution_count": 243,
   "id": "7871f3a5",
   "metadata": {},
   "outputs": [],
   "source": [
    "#to open in read and write mode use r+"
   ]
  },
  {
   "cell_type": "code",
   "execution_count": 244,
   "id": "a926a60e",
   "metadata": {},
   "outputs": [],
   "source": [
    "f = open(\"test2.txt\",\"r+\")"
   ]
  },
  {
   "cell_type": "code",
   "execution_count": 245,
   "id": "687d07f3",
   "metadata": {},
   "outputs": [
    {
     "data": {
      "text/plain": [
       "'akfdjaas skdfj dkfj  dksfa df df keia fkdaj\\ndfj\\ndfj\\nf\\nf\\nf\\nfca\\ne\\nec\\ndjfka\\n'"
      ]
     },
     "execution_count": 245,
     "metadata": {},
     "output_type": "execute_result"
    }
   ],
   "source": [
    "f.read()"
   ]
  },
  {
   "cell_type": "code",
   "execution_count": 246,
   "id": "7846f2c3",
   "metadata": {},
   "outputs": [
    {
     "data": {
      "text/plain": [
       "35"
      ]
     },
     "execution_count": 246,
     "metadata": {},
     "output_type": "execute_result"
    }
   ],
   "source": [
    "f.write(\"alkjfdaklfjakl adsfkjafkjaklfafkdja\")"
   ]
  },
  {
   "cell_type": "code",
   "execution_count": 248,
   "id": "734ef249",
   "metadata": {},
   "outputs": [],
   "source": [
    "f.close()"
   ]
  },
  {
   "cell_type": "code",
   "execution_count": 275,
   "id": "975918d3",
   "metadata": {},
   "outputs": [],
   "source": [
    "f = open(\"test3.txt\",\"w\")"
   ]
  },
  {
   "cell_type": "code",
   "execution_count": 276,
   "id": "a067d23f",
   "metadata": {},
   "outputs": [
    {
     "data": {
      "text/plain": [
       "17"
      ]
     },
     "execution_count": 276,
     "metadata": {},
     "output_type": "execute_result"
    }
   ],
   "source": [
    "f.write(\"what is your name\")"
   ]
  },
  {
   "cell_type": "code",
   "execution_count": 277,
   "id": "8fbf34da",
   "metadata": {},
   "outputs": [],
   "source": [
    "f.close()"
   ]
  },
  {
   "cell_type": "code",
   "execution_count": 290,
   "id": "df7c1591",
   "metadata": {},
   "outputs": [],
   "source": [
    "f = open(\"test3.txt\",\"r+\")"
   ]
  },
  {
   "cell_type": "code",
   "execution_count": 291,
   "id": "b33361f2",
   "metadata": {},
   "outputs": [],
   "source": [
    "f.writelines(\"manoj sharma\")   #it give the red dots"
   ]
  },
  {
   "cell_type": "code",
   "execution_count": 294,
   "id": "991ef20f",
   "metadata": {},
   "outputs": [],
   "source": [
    "f.close()"
   ]
  },
  {
   "cell_type": "code",
   "execution_count": 295,
   "id": "ab8a04de",
   "metadata": {},
   "outputs": [],
   "source": [
    "f = open(\"test3.txt\",\"r+\")"
   ]
  },
  {
   "cell_type": "code",
   "execution_count": 297,
   "id": "0265aaf9",
   "metadata": {},
   "outputs": [
    {
     "data": {
      "text/plain": [
       "4"
      ]
     },
     "execution_count": 297,
     "metadata": {},
     "output_type": "execute_result"
    }
   ],
   "source": [
    "f.fileno()  #prvide the intger discripter of file"
   ]
  },
  {
   "cell_type": "code",
   "execution_count": 298,
   "id": "1113b979",
   "metadata": {},
   "outputs": [],
   "source": [
    "#another way to creat file"
   ]
  },
  {
   "cell_type": "code",
   "execution_count": 299,
   "id": "09c2be7c",
   "metadata": {},
   "outputs": [
    {
     "name": "stdout",
     "output_type": "stream",
     "text": [
      "Writing test4.txt\n"
     ]
    }
   ],
   "source": [
    "%%writefile test4.txt\n",
    "my name is manoj sharma"
   ]
  },
  {
   "cell_type": "code",
   "execution_count": null,
   "id": "d9e93191",
   "metadata": {},
   "outputs": [],
   "source": []
  },
  {
   "cell_type": "code",
   "execution_count": 302,
   "id": "271f9994",
   "metadata": {},
   "outputs": [],
   "source": [
    "import os   #this use for multiple action"
   ]
  },
  {
   "cell_type": "code",
   "execution_count": 303,
   "id": "e8f662a3",
   "metadata": {},
   "outputs": [
    {
     "data": {
      "text/plain": [
       "'D:\\\\Jupyter notebook'"
      ]
     },
     "execution_count": 303,
     "metadata": {},
     "output_type": "execute_result"
    }
   ],
   "source": [
    "pwd()     #present working directory"
   ]
  },
  {
   "cell_type": "code",
   "execution_count": 305,
   "id": "2e3771fa",
   "metadata": {},
   "outputs": [
    {
     "data": {
      "text/plain": [
       "'D:\\\\Jupyter notebook'"
      ]
     },
     "execution_count": 305,
     "metadata": {},
     "output_type": "execute_result"
    }
   ],
   "source": [
    "os.getcwd()   #present working directory"
   ]
  },
  {
   "cell_type": "code",
   "execution_count": 307,
   "id": "3d826b7f",
   "metadata": {},
   "outputs": [
    {
     "data": {
      "text/plain": [
       "['.ipynb_checkpoints',\n",
       " 'day1.ipynb',\n",
       " 'day2.ipynb',\n",
       " 'day3.ipynb',\n",
       " 'day4.list manipulation.ipynb',\n",
       " 'Functions, Generators File Handling.ipynb',\n",
       " 'list manipulationday5.ipynb',\n",
       " 'test.txt',\n",
       " 'test1.txt',\n",
       " 'test2.txt',\n",
       " 'test3.txt',\n",
       " 'test4.txt',\n",
       " 'tuple set dictionary.ipynb',\n",
       " 'Untitled.ipynb',\n",
       " 'working with function.ipynb']"
      ]
     },
     "execution_count": 307,
     "metadata": {},
     "output_type": "execute_result"
    }
   ],
   "source": [
    "os.listdir()     #list of all file in this directory"
   ]
  },
  {
   "cell_type": "code",
   "execution_count": 315,
   "id": "bf3ca17e",
   "metadata": {},
   "outputs": [
    {
     "data": {
      "text/plain": [
       "['DCIM', 'file', 'Pictures']"
      ]
     },
     "execution_count": 315,
     "metadata": {},
     "output_type": "execute_result"
    }
   ],
   "source": [
    "os.listdir('D:\\\\mobile')   #list of all file in D directory"
   ]
  },
  {
   "cell_type": "code",
   "execution_count": 316,
   "id": "12fdae0c",
   "metadata": {},
   "outputs": [
    {
     "data": {
      "text/plain": [
       "['Avatar (2009) BRRip 1080p[Dual audio][Eng Hindi]Current_HD .mkv',\n",
       " 'Avengers Endgame Dual 2019.mkv',\n",
       " 'Dream Girl.2019.Hindi.1080p.WEB-DL.x264.AAC -DDR[EtHD].mkv',\n",
       " 'Home Alone 3 (1997) 1080p WEBRip x264 Dual Audio Hindi English AC3 - MeGUiL.mkv',\n",
       " 'Jurassic World 2015 1080p BluRay Dual Audio [Hindi -  English 5.1] ESub.mkv',\n",
       " 'Resident.Evil.Welcome.To.Raccoon.City.1080p.ENGLISH-HINDI.10bit.DDP.5.1.x265.[HashMiner].mkv',\n",
       " 'RRR.Rise.Roar.Revolt.2022.1080p.CAMRip.HINDI.DUB.1XBET.mp4',\n",
       " 'Spider-Man.No.Way.Home.2021.NEW.HC-HDTS.XviD.B4ND1T69.avi',\n",
       " 'The Croods A New Age 2020.mp4',\n",
       " 'The Croods Dual 2013.mkv',\n",
       " 'The Kashmir Files 2022.mp4',\n",
       " 'The Shawshank Redemption 1994 BluRay Dual Audio [Hindi 2.0 + English 5.1] 720p x264 AAC ESub .mkv']"
      ]
     },
     "execution_count": 316,
     "metadata": {},
     "output_type": "execute_result"
    }
   ],
   "source": [
    "os.listdir('E:\\\\movie')      #list of all file in E directory"
   ]
  },
  {
   "cell_type": "code",
   "execution_count": 317,
   "id": "02129092",
   "metadata": {},
   "outputs": [],
   "source": [
    "os.chdir('E:\\\\movie')   #to change present directory"
   ]
  },
  {
   "cell_type": "code",
   "execution_count": 318,
   "id": "b7f30974",
   "metadata": {},
   "outputs": [
    {
     "data": {
      "text/plain": [
       "'E:\\\\movie'"
      ]
     },
     "execution_count": 318,
     "metadata": {},
     "output_type": "execute_result"
    }
   ],
   "source": [
    "pwd()"
   ]
  },
  {
   "cell_type": "code",
   "execution_count": 319,
   "id": "109e2a3d",
   "metadata": {},
   "outputs": [],
   "source": [
    "os.chdir('D:\\\\Jupyter notebook')"
   ]
  },
  {
   "cell_type": "code",
   "execution_count": 320,
   "id": "6f904930",
   "metadata": {},
   "outputs": [
    {
     "data": {
      "text/plain": [
       "'D:\\\\Jupyter notebook'"
      ]
     },
     "execution_count": 320,
     "metadata": {},
     "output_type": "execute_result"
    }
   ],
   "source": [
    "pwd()"
   ]
  },
  {
   "cell_type": "code",
   "execution_count": null,
   "id": "82458be3",
   "metadata": {},
   "outputs": [],
   "source": [
    "os.mkdir(\"manoj\")  #to creat new folder"
   ]
  },
  {
   "cell_type": "code",
   "execution_count": 325,
   "id": "e824bc27",
   "metadata": {},
   "outputs": [
    {
     "name": "stdout",
     "output_type": "stream",
     "text": [
      "my file is available\n"
     ]
    }
   ],
   "source": [
    "if \"test.txt\" in os.listdir():    #find any file\n",
    "    print(\"my file is available\")\n",
    "else:\n",
    "    print(not avaliable)"
   ]
  },
  {
   "cell_type": "code",
   "execution_count": 330,
   "id": "8e7b8626",
   "metadata": {},
   "outputs": [
    {
     "name": "stdout",
     "output_type": "stream",
     "text": [
      "not available\n"
     ]
    }
   ],
   "source": [
    "if \"test10.txt\" in os.listdir():\n",
    "    print(\"my file is available\")\n",
    "else:\n",
    "    print(\"not available\")"
   ]
  },
  {
   "cell_type": "code",
   "execution_count": 338,
   "id": "1eeb2b69",
   "metadata": {},
   "outputs": [
    {
     "name": "stdout",
     "output_type": "stream",
     "text": [
      "my file is available\n",
      "sdkfjal sdfjakd ladsfjlak fjsadjf\n"
     ]
    }
   ],
   "source": [
    "if \"test1.txt\" in os.listdir():    #find and read\n",
    "    print(\"my file is available\")\n",
    "    f = open(\"test1.txt\",\"r+\")\n",
    "    for i in f:\n",
    "        print(i)\n",
    "else:\n",
    "    print(not avaliable)"
   ]
  },
  {
   "cell_type": "code",
   "execution_count": null,
   "id": "0374b2d6",
   "metadata": {},
   "outputs": [],
   "source": [
    "    "
   ]
  },
  {
   "cell_type": "code",
   "execution_count": 342,
   "id": "ad54b922",
   "metadata": {},
   "outputs": [
    {
     "ename": "FileExistsError",
     "evalue": "[WinError 183] Cannot create a file when that file already exists: 'manoj'",
     "output_type": "error",
     "traceback": [
      "\u001b[1;31m---------------------------------------------------------------------------\u001b[0m",
      "\u001b[1;31mFileExistsError\u001b[0m                           Traceback (most recent call last)",
      "\u001b[1;32m~\\AppData\\Local\\Temp/ipykernel_3772/2469208208.py\u001b[0m in \u001b[0;36m<module>\u001b[1;34m\u001b[0m\n\u001b[1;32m----> 1\u001b[1;33m \u001b[0mos\u001b[0m\u001b[1;33m.\u001b[0m\u001b[0mmkdir\u001b[0m\u001b[1;33m(\u001b[0m\u001b[1;34m\"manoj\"\u001b[0m\u001b[1;33m)\u001b[0m\u001b[1;33m\u001b[0m\u001b[1;33m\u001b[0m\u001b[0m\n\u001b[0m",
      "\u001b[1;31mFileExistsError\u001b[0m: [WinError 183] Cannot create a file when that file already exists: 'manoj'"
     ]
    }
   ],
   "source": [
    "os.mkdir(\"manoj\")"
   ]
  },
  {
   "cell_type": "code",
   "execution_count": 2,
   "id": "951a9afa",
   "metadata": {},
   "outputs": [
    {
     "ename": "NameError",
     "evalue": "name 'os' is not defined",
     "output_type": "error",
     "traceback": [
      "\u001b[1;31m---------------------------------------------------------------------------\u001b[0m",
      "\u001b[1;31mNameError\u001b[0m                                 Traceback (most recent call last)",
      "\u001b[1;32m~\\AppData\\Local\\Temp/ipykernel_13204/1734332450.py\u001b[0m in \u001b[0;36m<module>\u001b[1;34m\u001b[0m\n\u001b[1;32m----> 1\u001b[1;33m \u001b[1;32mif\u001b[0m \u001b[1;32mnot\u001b[0m \u001b[0mos\u001b[0m\u001b[1;33m.\u001b[0m\u001b[0mpath\u001b[0m\u001b[1;33m.\u001b[0m\u001b[0misdir\u001b[0m\u001b[1;33m(\u001b[0m\u001b[1;34m\"manoj\"\u001b[0m\u001b[1;33m)\u001b[0m\u001b[1;33m:\u001b[0m \u001b[1;31m#can not create again so can use this if not avaliable\u001b[0m\u001b[1;33m\u001b[0m\u001b[1;33m\u001b[0m\u001b[0m\n\u001b[0m\u001b[0;32m      2\u001b[0m     \u001b[0mos\u001b[0m\u001b[1;33m.\u001b[0m\u001b[0mmkdir\u001b[0m\u001b[1;33m(\u001b[0m\u001b[1;34m\"manoj\"\u001b[0m\u001b[1;33m)\u001b[0m          \u001b[1;31m#so creat it\u001b[0m\u001b[1;33m\u001b[0m\u001b[1;33m\u001b[0m\u001b[0m\n\u001b[0;32m      3\u001b[0m \u001b[1;33m\u001b[0m\u001b[0m\n",
      "\u001b[1;31mNameError\u001b[0m: name 'os' is not defined"
     ]
    }
   ],
   "source": [
    "if not os.path.isdir(\"manoj\"): #can not create again so can use this if not avaliable\n",
    "    os.mkdir(\"manoj\")          #so creat it \n",
    "    "
   ]
  },
  {
   "cell_type": "code",
   "execution_count": 3,
   "id": "27a109f5",
   "metadata": {},
   "outputs": [
    {
     "ename": "NameError",
     "evalue": "name 'os' is not defined",
     "output_type": "error",
     "traceback": [
      "\u001b[1;31m---------------------------------------------------------------------------\u001b[0m",
      "\u001b[1;31mNameError\u001b[0m                                 Traceback (most recent call last)",
      "\u001b[1;32m~\\AppData\\Local\\Temp/ipykernel_13204/1700171317.py\u001b[0m in \u001b[0;36m<module>\u001b[1;34m\u001b[0m\n\u001b[1;32m----> 1\u001b[1;33m \u001b[0mos\u001b[0m\u001b[1;33m.\u001b[0m\u001b[0mrename\u001b[0m\u001b[1;33m(\u001b[0m\u001b[1;34m\"test1.txt\"\u001b[0m\u001b[1;33m,\u001b[0m\u001b[1;34m\"abc.txt\"\u001b[0m\u001b[1;33m)\u001b[0m\u001b[1;33m\u001b[0m\u001b[1;33m\u001b[0m\u001b[0m\n\u001b[0m",
      "\u001b[1;31mNameError\u001b[0m: name 'os' is not defined"
     ]
    }
   ],
   "source": [
    "os.rename(\"test1.txt\",\"abc,txt\")"
   ]
  },
  {
   "cell_type": "code",
   "execution_count": null,
   "id": "55f3674e",
   "metadata": {},
   "outputs": [],
   "source": [
    "os.rmdir(\"manoj\")"
   ]
  },
  {
   "cell_type": "code",
   "execution_count": null,
   "id": "6cbb8f9c",
   "metadata": {},
   "outputs": [],
   "source": []
  },
  {
   "cell_type": "code",
   "execution_count": null,
   "id": "5f82f5a5",
   "metadata": {},
   "outputs": [],
   "source": [
    "#@)1.  creat new directory\n",
    "#@)2.  create 10 text file and write some data into file at same time\n",
    "#@)3.  Read all the data from this directory and print in console\n",
    "#@)4.  Hold all the data in list\n",
    "#@)5.  write all the data in new file from list.\n",
    "#@)6.  keeping only new file in present directory and move rest in new directory."
   ]
  },
  {
   "cell_type": "code",
   "execution_count": 1,
   "id": "4717524f",
   "metadata": {},
   "outputs": [
    {
     "ename": "NameError",
     "evalue": "name 'os' is not defined",
     "output_type": "error",
     "traceback": [
      "\u001b[1;31m---------------------------------------------------------------------------\u001b[0m",
      "\u001b[1;31mNameError\u001b[0m                                 Traceback (most recent call last)",
      "\u001b[1;32m~\\AppData\\Local\\Temp/ipykernel_14872/1111854161.py\u001b[0m in \u001b[0;36m<module>\u001b[1;34m\u001b[0m\n\u001b[1;32m----> 1\u001b[1;33m \u001b[0mos\u001b[0m\u001b[1;33m.\u001b[0m\u001b[0mmkdir\u001b[0m\u001b[1;33m(\u001b[0m\u001b[1;34m\"manoj bhardwaj\"\u001b[0m\u001b[1;33m)\u001b[0m\u001b[1;33m\u001b[0m\u001b[1;33m\u001b[0m\u001b[0m\n\u001b[0m\u001b[0;32m      2\u001b[0m \u001b[0mos\u001b[0m\u001b[1;33m.\u001b[0m\u001b[0mchdir\u001b[0m\u001b[1;33m(\u001b[0m\u001b[0mos\u001b[0m\u001b[1;33m.\u001b[0m\u001b[0mgetcwd\u001b[0m\u001b[1;33m(\u001b[0m\u001b[1;33m)\u001b[0m\u001b[1;33m+\u001b[0m\u001b[1;34m\"\\manoj bhardwaj\"\u001b[0m\u001b[1;33m)\u001b[0m\u001b[1;33m\u001b[0m\u001b[1;33m\u001b[0m\u001b[0m\n\u001b[0;32m      3\u001b[0m \u001b[1;32mfor\u001b[0m \u001b[0mi\u001b[0m \u001b[1;32min\u001b[0m \u001b[0mrange\u001b[0m\u001b[1;33m(\u001b[0m\u001b[1;36m10\u001b[0m\u001b[1;33m)\u001b[0m\u001b[1;33m:\u001b[0m\u001b[1;33m\u001b[0m\u001b[1;33m\u001b[0m\u001b[0m\n\u001b[0;32m      4\u001b[0m     \u001b[0mfile\u001b[0m \u001b[1;33m=\u001b[0m \u001b[1;34m\"test\"\u001b[0m\u001b[1;33m+\u001b[0m\u001b[0mstr\u001b[0m\u001b[1;33m(\u001b[0m\u001b[0mi\u001b[0m\u001b[1;33m)\u001b[0m\u001b[1;33m+\u001b[0m\u001b[1;34m\".txt\"\u001b[0m\u001b[1;33m\u001b[0m\u001b[1;33m\u001b[0m\u001b[0m\n\u001b[0;32m      5\u001b[0m     \u001b[0mf\u001b[0m \u001b[1;33m=\u001b[0m \u001b[0mopen\u001b[0m\u001b[1;33m(\u001b[0m\u001b[0mfile\u001b[0m\u001b[1;33m,\u001b[0m\u001b[1;34m\"w\"\u001b[0m\u001b[1;33m)\u001b[0m\u001b[1;33m\u001b[0m\u001b[1;33m\u001b[0m\u001b[0m\n",
      "\u001b[1;31mNameError\u001b[0m: name 'os' is not defined"
     ]
    }
   ],
   "source": [
    "os.mkdir(\"manoj bhardwaj\")\n",
    "os.chdir(os.getcwd()+\"\\manoj bhardwaj\")\n",
    "for i in range(10):\n",
    "    file = \"test\"+str(i)+\".txt\"\n",
    "    f = open(file,\"w\")\n",
    "    f.write(\"my name is manoj bhardwaj\")\n",
    "    f.close()\n",
    "    \n",
    "for i in range(10):\n",
    "    file = \"test\"+str(i)+\".txt\"\n",
    "    f = open(file,\"r\")\n",
    "    data = f.read()\n",
    "    f.close()\n",
    "    print(data)\n",
    "    \n",
    "l = []\n",
    "for i in range(10):\n",
    "    file = \"test\"+str(i)+\".txt\"\n",
    "    f = open(file,\"r\")\n",
    "    l.append(f.read())\n",
    "    f.close()\n",
    "    \n",
    "print(l)\n",
    "\n",
    "f = open(\"new_file.txt\",\"w\")\n",
    "for i in l:\n",
    "    f.write(i)\n",
    "f.close()    "
   ]
  },
  {
   "cell_type": "code",
   "execution_count": null,
   "id": "cd18e535",
   "metadata": {},
   "outputs": [],
   "source": []
  }
 ],
 "metadata": {
  "kernelspec": {
   "display_name": "Python 3 (ipykernel)",
   "language": "python",
   "name": "python3"
  },
  "language_info": {
   "codemirror_mode": {
    "name": "ipython",
    "version": 3
   },
   "file_extension": ".py",
   "mimetype": "text/x-python",
   "name": "python",
   "nbconvert_exporter": "python",
   "pygments_lexer": "ipython3",
   "version": "3.9.7"
  }
 },
 "nbformat": 4,
 "nbformat_minor": 5
}
