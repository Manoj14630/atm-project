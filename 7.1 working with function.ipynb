{
 "cells": [
  {
   "cell_type": "code",
   "execution_count": 13,
   "id": "ee5acbae",
   "metadata": {},
   "outputs": [],
   "source": [
    "def test(x,y):\n",
    "    print(x+y)"
   ]
  },
  {
   "cell_type": "code",
   "execution_count": 14,
   "id": "c4bebafb",
   "metadata": {},
   "outputs": [
    {
     "name": "stdout",
     "output_type": "stream",
     "text": [
      "68\n"
     ]
    }
   ],
   "source": [
    "test(23,45)"
   ]
  },
  {
   "cell_type": "code",
   "execution_count": 15,
   "id": "81889922",
   "metadata": {},
   "outputs": [
    {
     "name": "stdout",
     "output_type": "stream",
     "text": [
      "5\n"
     ]
    }
   ],
   "source": [
    "test(2,3)"
   ]
  },
  {
   "cell_type": "code",
   "execution_count": 16,
   "id": "077b204a",
   "metadata": {},
   "outputs": [
    {
     "name": "stdout",
     "output_type": "stream",
     "text": [
      "30\n"
     ]
    }
   ],
   "source": [
    "test(10,20)"
   ]
  },
  {
   "cell_type": "code",
   "execution_count": 17,
   "id": "e002c04c",
   "metadata": {},
   "outputs": [
    {
     "name": "stdout",
     "output_type": "stream",
     "text": [
      "30\n"
     ]
    },
    {
     "data": {
      "text/plain": [
       "NoneType"
      ]
     },
     "execution_count": 17,
     "metadata": {},
     "output_type": "execute_result"
    }
   ],
   "source": [
    "type(test(10,20))"
   ]
  },
  {
   "cell_type": "code",
   "execution_count": 18,
   "id": "6434fec2",
   "metadata": {},
   "outputs": [
    {
     "name": "stdout",
     "output_type": "stream",
     "text": [
      "30\n"
     ]
    },
    {
     "ename": "TypeError",
     "evalue": "unsupported operand type(s) for +: 'NoneType' and 'int'",
     "output_type": "error",
     "traceback": [
      "\u001b[1;31m---------------------------------------------------------------------------\u001b[0m",
      "\u001b[1;31mTypeError\u001b[0m                                 Traceback (most recent call last)",
      "\u001b[1;32m~\\AppData\\Local\\Temp/ipykernel_8232/2383182756.py\u001b[0m in \u001b[0;36m<module>\u001b[1;34m\u001b[0m\n\u001b[1;32m----> 1\u001b[1;33m \u001b[0mtest\u001b[0m\u001b[1;33m(\u001b[0m\u001b[1;36m10\u001b[0m\u001b[1;33m,\u001b[0m\u001b[1;36m20\u001b[0m\u001b[1;33m)\u001b[0m \u001b[1;33m+\u001b[0m\u001b[1;36m10\u001b[0m\u001b[1;33m\u001b[0m\u001b[1;33m\u001b[0m\u001b[0m\n\u001b[0m",
      "\u001b[1;31mTypeError\u001b[0m: unsupported operand type(s) for +: 'NoneType' and 'int'"
     ]
    }
   ],
   "source": [
    "test(10,20) +10"
   ]
  },
  {
   "cell_type": "code",
   "execution_count": 19,
   "id": "bc2e6129",
   "metadata": {},
   "outputs": [],
   "source": [
    "def test1(b,m):\n",
    "    return b * m"
   ]
  },
  {
   "cell_type": "code",
   "execution_count": 20,
   "id": "81221703",
   "metadata": {},
   "outputs": [
    {
     "data": {
      "text/plain": [
       "125"
      ]
     },
     "execution_count": 20,
     "metadata": {},
     "output_type": "execute_result"
    }
   ],
   "source": [
    "test1(5,25)"
   ]
  },
  {
   "cell_type": "code",
   "execution_count": 21,
   "id": "1cc3a7a1",
   "metadata": {},
   "outputs": [
    {
     "data": {
      "text/plain": [
       "int"
      ]
     },
     "execution_count": 21,
     "metadata": {},
     "output_type": "execute_result"
    }
   ],
   "source": [
    "type(test1(5,25))"
   ]
  },
  {
   "cell_type": "code",
   "execution_count": 22,
   "id": "612ddfdd",
   "metadata": {},
   "outputs": [
    {
     "data": {
      "text/plain": [
       "130"
      ]
     },
     "execution_count": 22,
     "metadata": {},
     "output_type": "execute_result"
    }
   ],
   "source": [
    "test1(5,25) + 5"
   ]
  },
  {
   "cell_type": "code",
   "execution_count": 23,
   "id": "126813f5",
   "metadata": {},
   "outputs": [],
   "source": [
    "def test2(m,n,p):\n",
    "    return m+n-p"
   ]
  },
  {
   "cell_type": "code",
   "execution_count": 24,
   "id": "59d4e2a9",
   "metadata": {},
   "outputs": [
    {
     "data": {
      "text/plain": [
       "3"
      ]
     },
     "execution_count": 24,
     "metadata": {},
     "output_type": "execute_result"
    }
   ],
   "source": [
    "test2(2,2,1)"
   ]
  },
  {
   "cell_type": "code",
   "execution_count": 25,
   "id": "63c67cfb",
   "metadata": {},
   "outputs": [],
   "source": [
    "def test3(n,m):\n",
    "    return n*10,m*4,m+n"
   ]
  },
  {
   "cell_type": "code",
   "execution_count": 26,
   "id": "b3d547b0",
   "metadata": {},
   "outputs": [
    {
     "data": {
      "text/plain": [
       "(20, 28, 9)"
      ]
     },
     "execution_count": 26,
     "metadata": {},
     "output_type": "execute_result"
    }
   ],
   "source": [
    "test3(2,7)"
   ]
  },
  {
   "cell_type": "code",
   "execution_count": 27,
   "id": "68008428",
   "metadata": {},
   "outputs": [],
   "source": [
    "c,x,v = test3(2,7)"
   ]
  },
  {
   "cell_type": "code",
   "execution_count": 28,
   "id": "3a604a48",
   "metadata": {},
   "outputs": [
    {
     "data": {
      "text/plain": [
       "20"
      ]
     },
     "execution_count": 28,
     "metadata": {},
     "output_type": "execute_result"
    }
   ],
   "source": [
    "c"
   ]
  },
  {
   "cell_type": "code",
   "execution_count": 29,
   "id": "c1bf0e5e",
   "metadata": {},
   "outputs": [
    {
     "data": {
      "text/plain": [
       "28"
      ]
     },
     "execution_count": 29,
     "metadata": {},
     "output_type": "execute_result"
    }
   ],
   "source": [
    "x"
   ]
  },
  {
   "cell_type": "code",
   "execution_count": 30,
   "id": "416ffdf1",
   "metadata": {},
   "outputs": [
    {
     "data": {
      "text/plain": [
       "9"
      ]
     },
     "execution_count": 30,
     "metadata": {},
     "output_type": "execute_result"
    }
   ],
   "source": [
    "v"
   ]
  },
  {
   "cell_type": "code",
   "execution_count": 31,
   "id": "b03c173c",
   "metadata": {},
   "outputs": [],
   "source": [
    "c, x, _ = test3(2,7)     #_ is acting as varable and its place holder"
   ]
  },
  {
   "cell_type": "code",
   "execution_count": 32,
   "id": "7e46bd41",
   "metadata": {},
   "outputs": [
    {
     "data": {
      "text/plain": [
       "20"
      ]
     },
     "execution_count": 32,
     "metadata": {},
     "output_type": "execute_result"
    }
   ],
   "source": [
    "c"
   ]
  },
  {
   "cell_type": "code",
   "execution_count": 33,
   "id": "9ffa82e6",
   "metadata": {},
   "outputs": [
    {
     "data": {
      "text/plain": [
       "28"
      ]
     },
     "execution_count": 33,
     "metadata": {},
     "output_type": "execute_result"
    }
   ],
   "source": [
    "x"
   ]
  },
  {
   "cell_type": "code",
   "execution_count": 34,
   "id": "818c3f29",
   "metadata": {},
   "outputs": [
    {
     "data": {
      "text/plain": [
       "28"
      ]
     },
     "execution_count": 34,
     "metadata": {},
     "output_type": "execute_result"
    }
   ],
   "source": [
    "_"
   ]
  },
  {
   "cell_type": "code",
   "execution_count": 35,
   "id": "f72f7f0b",
   "metadata": {},
   "outputs": [],
   "source": [
    "_ , _ , n = test3(2,7)"
   ]
  },
  {
   "cell_type": "code",
   "execution_count": 36,
   "id": "23902019",
   "metadata": {},
   "outputs": [
    {
     "data": {
      "text/plain": [
       "28"
      ]
     },
     "execution_count": 36,
     "metadata": {},
     "output_type": "execute_result"
    }
   ],
   "source": [
    "_"
   ]
  },
  {
   "cell_type": "code",
   "execution_count": 37,
   "id": "a05c5e70",
   "metadata": {},
   "outputs": [
    {
     "data": {
      "text/plain": [
       "28"
      ]
     },
     "execution_count": 37,
     "metadata": {},
     "output_type": "execute_result"
    }
   ],
   "source": [
    "_"
   ]
  },
  {
   "cell_type": "code",
   "execution_count": 38,
   "id": "b556ce8c",
   "metadata": {},
   "outputs": [
    {
     "data": {
      "text/plain": [
       "9"
      ]
     },
     "execution_count": 38,
     "metadata": {},
     "output_type": "execute_result"
    }
   ],
   "source": [
    "n"
   ]
  },
  {
   "cell_type": "code",
   "execution_count": null,
   "id": "7a2e23c9",
   "metadata": {},
   "outputs": [],
   "source": []
  },
  {
   "cell_type": "code",
   "execution_count": 39,
   "id": "24d03c50",
   "metadata": {},
   "outputs": [],
   "source": [
    "def test4():\n",
    "    print(\"this is my first function\")"
   ]
  },
  {
   "cell_type": "code",
   "execution_count": 40,
   "id": "ec4c4e3c",
   "metadata": {},
   "outputs": [
    {
     "name": "stdout",
     "output_type": "stream",
     "text": [
      "this is my first function\n"
     ]
    }
   ],
   "source": [
    "m = test4()"
   ]
  },
  {
   "cell_type": "code",
   "execution_count": 41,
   "id": "c0a2b827",
   "metadata": {},
   "outputs": [
    {
     "ename": "TypeError",
     "evalue": "unsupported operand type(s) for +: 'NoneType' and 'str'",
     "output_type": "error",
     "traceback": [
      "\u001b[1;31m---------------------------------------------------------------------------\u001b[0m",
      "\u001b[1;31mTypeError\u001b[0m                                 Traceback (most recent call last)",
      "\u001b[1;32m~\\AppData\\Local\\Temp/ipykernel_8232/1528942509.py\u001b[0m in \u001b[0;36m<module>\u001b[1;34m\u001b[0m\n\u001b[1;32m----> 1\u001b[1;33m \u001b[0mm\u001b[0m \u001b[1;33m+\u001b[0m \u001b[1;34m\"klajfla\"\u001b[0m     \u001b[1;31m#will not execute\u001b[0m\u001b[1;33m\u001b[0m\u001b[1;33m\u001b[0m\u001b[0m\n\u001b[0m",
      "\u001b[1;31mTypeError\u001b[0m: unsupported operand type(s) for +: 'NoneType' and 'str'"
     ]
    }
   ],
   "source": [
    "m + \"klajfla\"     #will not execute"
   ]
  },
  {
   "cell_type": "code",
   "execution_count": 42,
   "id": "0f90fe77",
   "metadata": {},
   "outputs": [],
   "source": [
    "def test5():\n",
    "    return \"this is my first clss\""
   ]
  },
  {
   "cell_type": "code",
   "execution_count": 43,
   "id": "7ede9903",
   "metadata": {},
   "outputs": [],
   "source": [
    "n  = test5()"
   ]
  },
  {
   "cell_type": "code",
   "execution_count": 44,
   "id": "9ac1b594",
   "metadata": {},
   "outputs": [
    {
     "data": {
      "text/plain": [
       "'this is my first clss'"
      ]
     },
     "execution_count": 44,
     "metadata": {},
     "output_type": "execute_result"
    }
   ],
   "source": [
    "n"
   ]
  },
  {
   "cell_type": "code",
   "execution_count": 45,
   "id": "cb140133",
   "metadata": {},
   "outputs": [
    {
     "data": {
      "text/plain": [
       "'this is my first clsskdjfj'"
      ]
     },
     "execution_count": 45,
     "metadata": {},
     "output_type": "execute_result"
    }
   ],
   "source": [
    "n + \"kdjfj\""
   ]
  },
  {
   "cell_type": "code",
   "execution_count": 46,
   "id": "33ee1b80",
   "metadata": {},
   "outputs": [],
   "source": [
    "def test6(n):\n",
    "    return n * 2"
   ]
  },
  {
   "cell_type": "code",
   "execution_count": 47,
   "id": "f7f7cca5",
   "metadata": {},
   "outputs": [
    {
     "data": {
      "text/plain": [
       "[5, 5]"
      ]
     },
     "execution_count": 47,
     "metadata": {},
     "output_type": "execute_result"
    }
   ],
   "source": [
    "test6([5])"
   ]
  },
  {
   "cell_type": "code",
   "execution_count": 48,
   "id": "c5bcc5af",
   "metadata": {},
   "outputs": [
    {
     "data": {
      "text/plain": [
       "[3, 4, 5, 6, 3, 4, 5, 6]"
      ]
     },
     "execution_count": 48,
     "metadata": {},
     "output_type": "execute_result"
    }
   ],
   "source": [
    "test6([3,4,5,6])"
   ]
  },
  {
   "cell_type": "code",
   "execution_count": null,
   "id": "26c5b0cb",
   "metadata": {},
   "outputs": [],
   "source": []
  },
  {
   "cell_type": "code",
   "execution_count": 49,
   "id": "d6d55353",
   "metadata": {},
   "outputs": [],
   "source": [
    "def test7(n):\n",
    "    return n,n*7"
   ]
  },
  {
   "cell_type": "code",
   "execution_count": 50,
   "id": "362b8659",
   "metadata": {},
   "outputs": [
    {
     "data": {
      "text/plain": [
       "([2, 5], [2, 5, 2, 5, 2, 5, 2, 5, 2, 5, 2, 5, 2, 5])"
      ]
     },
     "execution_count": 50,
     "metadata": {},
     "output_type": "execute_result"
    }
   ],
   "source": [
    "test7([2,5])"
   ]
  },
  {
   "cell_type": "code",
   "execution_count": 51,
   "id": "bc549ece",
   "metadata": {},
   "outputs": [],
   "source": [
    "b = test7([2,5])"
   ]
  },
  {
   "cell_type": "code",
   "execution_count": 52,
   "id": "e2b9161e",
   "metadata": {},
   "outputs": [
    {
     "data": {
      "text/plain": [
       "([2, 5], [2, 5, 2, 5, 2, 5, 2, 5, 2, 5, 2, 5, 2, 5])"
      ]
     },
     "execution_count": 52,
     "metadata": {},
     "output_type": "execute_result"
    }
   ],
   "source": [
    "b"
   ]
  },
  {
   "cell_type": "code",
   "execution_count": 53,
   "id": "b36f0c82",
   "metadata": {},
   "outputs": [
    {
     "data": {
      "text/plain": [
       "[2, 5]"
      ]
     },
     "execution_count": 53,
     "metadata": {},
     "output_type": "execute_result"
    }
   ],
   "source": [
    "b[0]"
   ]
  },
  {
   "cell_type": "code",
   "execution_count": 54,
   "id": "6cd9e08b",
   "metadata": {},
   "outputs": [
    {
     "data": {
      "text/plain": [
       "[2, 5, 2, 5, 2, 5, 2, 5, 2, 5, 2, 5, 2, 5]"
      ]
     },
     "execution_count": 54,
     "metadata": {},
     "output_type": "execute_result"
    }
   ],
   "source": [
    "b[1]"
   ]
  },
  {
   "cell_type": "code",
   "execution_count": 55,
   "id": "3945115e",
   "metadata": {},
   "outputs": [],
   "source": [
    "def test8(n , m = 90):\n",
    "    return n + m"
   ]
  },
  {
   "cell_type": "code",
   "execution_count": 56,
   "id": "522cffcd",
   "metadata": {},
   "outputs": [
    {
     "data": {
      "text/plain": [
       "150"
      ]
     },
     "execution_count": 56,
     "metadata": {},
     "output_type": "execute_result"
    }
   ],
   "source": [
    "test8(60)"
   ]
  },
  {
   "cell_type": "code",
   "execution_count": 57,
   "id": "4abd4e67",
   "metadata": {},
   "outputs": [],
   "source": [
    "def test9(x = True, y = False):\n",
    "    return x + y"
   ]
  },
  {
   "cell_type": "code",
   "execution_count": 58,
   "id": "26821fb2",
   "metadata": {},
   "outputs": [
    {
     "data": {
      "text/plain": [
       "1"
      ]
     },
     "execution_count": 58,
     "metadata": {},
     "output_type": "execute_result"
    }
   ],
   "source": [
    "test9()"
   ]
  },
  {
   "cell_type": "code",
   "execution_count": 59,
   "id": "15e71beb",
   "metadata": {},
   "outputs": [
    {
     "data": {
      "text/plain": [
       "0"
      ]
     },
     "execution_count": 59,
     "metadata": {},
     "output_type": "execute_result"
    }
   ],
   "source": [
    "test9(False)"
   ]
  },
  {
   "cell_type": "code",
   "execution_count": 60,
   "id": "63ff92e5",
   "metadata": {},
   "outputs": [
    {
     "data": {
      "text/plain": [
       "8"
      ]
     },
     "execution_count": 60,
     "metadata": {},
     "output_type": "execute_result"
    }
   ],
   "source": [
    "test9(False,8)"
   ]
  },
  {
   "cell_type": "code",
   "execution_count": 61,
   "id": "62e58924",
   "metadata": {},
   "outputs": [],
   "source": [
    "def travel(bike = True, car = False):\n",
    "    plan_travel = bike or car\n",
    "    return bike , car , plan_travel\n",
    "    "
   ]
  },
  {
   "cell_type": "code",
   "execution_count": 62,
   "id": "6f5e6130",
   "metadata": {},
   "outputs": [
    {
     "data": {
      "text/plain": [
       "(True, False, True)"
      ]
     },
     "execution_count": 62,
     "metadata": {},
     "output_type": "execute_result"
    }
   ],
   "source": [
    "travel()"
   ]
  },
  {
   "cell_type": "code",
   "execution_count": 63,
   "id": "4b3fb0ba",
   "metadata": {},
   "outputs": [
    {
     "data": {
      "text/plain": [
       "(True, True, True)"
      ]
     },
     "execution_count": 63,
     "metadata": {},
     "output_type": "execute_result"
    }
   ],
   "source": [
    "travel(car  = True)"
   ]
  },
  {
   "cell_type": "code",
   "execution_count": 64,
   "id": "13d205b4",
   "metadata": {},
   "outputs": [],
   "source": [
    "def test10(*args):  # args creat multiple argument without multiple variable or \n",
    "    return args     # concordination multiple list, tuple etc in one function"
   ]
  },
  {
   "cell_type": "code",
   "execution_count": 65,
   "id": "5666fda6",
   "metadata": {},
   "outputs": [
    {
     "data": {
      "text/plain": [
       "('sudhanshu', 'kumar', 34, [34, 4, 54, 25], 35, 'manoojsharma', 27, 3.0)"
      ]
     },
     "execution_count": 65,
     "metadata": {},
     "output_type": "execute_result"
    }
   ],
   "source": [
    "test10(\"sudhanshu\", \"kumar\",34,[34,4,54,25] , 30+5 , \"manooj\"+\"sharma\" , 3*9 , 9/3,)"
   ]
  },
  {
   "cell_type": "code",
   "execution_count": null,
   "id": "64fc8e15",
   "metadata": {},
   "outputs": [],
   "source": []
  },
  {
   "cell_type": "code",
   "execution_count": 66,
   "id": "477a0e77",
   "metadata": {},
   "outputs": [],
   "source": [
    "def test11(a ,b ,c):\n",
    "    return a+b+c\n"
   ]
  },
  {
   "cell_type": "code",
   "execution_count": 67,
   "id": "6cc59bc0",
   "metadata": {},
   "outputs": [
    {
     "data": {
      "text/plain": [
       "[1, 2, 3, 3, 2, 2, 5, 6, 9]"
      ]
     },
     "execution_count": 67,
     "metadata": {},
     "output_type": "execute_result"
    }
   ],
   "source": [
    "test11([1,2,3],[3,2,2],[5,6,9])"
   ]
  },
  {
   "cell_type": "code",
   "execution_count": 68,
   "id": "6a8bf786",
   "metadata": {},
   "outputs": [],
   "source": [
    "def test12(*args):\n",
    "    l = []\n",
    "    for i in args:\n",
    "        l = l + i\n",
    "    return l"
   ]
  },
  {
   "cell_type": "code",
   "execution_count": 69,
   "id": "81fc9741",
   "metadata": {},
   "outputs": [
    {
     "data": {
      "text/plain": [
       "[1, 2, 3, 3, 2, 2, 5, 6, 9]"
      ]
     },
     "execution_count": 69,
     "metadata": {},
     "output_type": "execute_result"
    }
   ],
   "source": [
    "test12([1,2,3],[3,2,2],[5,6,9])"
   ]
  },
  {
   "cell_type": "code",
   "execution_count": 70,
   "id": "7b61bdf1",
   "metadata": {},
   "outputs": [
    {
     "ename": "TypeError",
     "evalue": "can only concatenate list (not \"str\") to list",
     "output_type": "error",
     "traceback": [
      "\u001b[1;31m---------------------------------------------------------------------------\u001b[0m",
      "\u001b[1;31mTypeError\u001b[0m                                 Traceback (most recent call last)",
      "\u001b[1;32m~\\AppData\\Local\\Temp/ipykernel_8232/3325333611.py\u001b[0m in \u001b[0;36m<module>\u001b[1;34m\u001b[0m\n\u001b[1;32m----> 1\u001b[1;33m \u001b[0mtest12\u001b[0m\u001b[1;33m(\u001b[0m\u001b[1;34m\"kjaldf\"\u001b[0m \u001b[1;33m,\u001b[0m \u001b[1;36m123\u001b[0m\u001b[1;33m,\u001b[0m \u001b[1;33m[\u001b[0m\u001b[1;36m3\u001b[0m\u001b[1;33m,\u001b[0m\u001b[1;36m2\u001b[0m\u001b[1;33m,\u001b[0m\u001b[1;36m2\u001b[0m\u001b[1;33m]\u001b[0m\u001b[1;33m,\u001b[0m\u001b[1;33m[\u001b[0m\u001b[1;36m5\u001b[0m\u001b[1;33m,\u001b[0m\u001b[1;36m6\u001b[0m\u001b[1;33m,\u001b[0m\u001b[1;36m9\u001b[0m\u001b[1;33m]\u001b[0m\u001b[1;33m)\u001b[0m   \u001b[1;31m#not passing because of string\u001b[0m\u001b[1;33m\u001b[0m\u001b[1;33m\u001b[0m\u001b[0m\n\u001b[0m",
      "\u001b[1;32m~\\AppData\\Local\\Temp/ipykernel_8232/1198746758.py\u001b[0m in \u001b[0;36mtest12\u001b[1;34m(*args)\u001b[0m\n\u001b[0;32m      2\u001b[0m     \u001b[0ml\u001b[0m \u001b[1;33m=\u001b[0m \u001b[1;33m[\u001b[0m\u001b[1;33m]\u001b[0m\u001b[1;33m\u001b[0m\u001b[1;33m\u001b[0m\u001b[0m\n\u001b[0;32m      3\u001b[0m     \u001b[1;32mfor\u001b[0m \u001b[0mi\u001b[0m \u001b[1;32min\u001b[0m \u001b[0margs\u001b[0m\u001b[1;33m:\u001b[0m\u001b[1;33m\u001b[0m\u001b[1;33m\u001b[0m\u001b[0m\n\u001b[1;32m----> 4\u001b[1;33m         \u001b[0ml\u001b[0m \u001b[1;33m=\u001b[0m \u001b[0ml\u001b[0m \u001b[1;33m+\u001b[0m \u001b[0mi\u001b[0m\u001b[1;33m\u001b[0m\u001b[1;33m\u001b[0m\u001b[0m\n\u001b[0m\u001b[0;32m      5\u001b[0m     \u001b[1;32mreturn\u001b[0m \u001b[0ml\u001b[0m\u001b[1;33m\u001b[0m\u001b[1;33m\u001b[0m\u001b[0m\n",
      "\u001b[1;31mTypeError\u001b[0m: can only concatenate list (not \"str\") to list"
     ]
    }
   ],
   "source": [
    "  test12(\"kjaldf\" , 123, [3,2,2],[5,6,9])   #not passing because of string"
   ]
  },
  {
   "cell_type": "code",
   "execution_count": 71,
   "id": "4d0ea607",
   "metadata": {},
   "outputs": [],
   "source": [
    "def test13(*args):\n",
    "    return[i for i in args]"
   ]
  },
  {
   "cell_type": "code",
   "execution_count": 72,
   "id": "d2611718",
   "metadata": {},
   "outputs": [
    {
     "data": {
      "text/plain": [
       "[[1, 2, 3], [3, 2, 2], [5, 6, 9]]"
      ]
     },
     "execution_count": 72,
     "metadata": {},
     "output_type": "execute_result"
    }
   ],
   "source": [
    "test13([1,2,3],[3,2,2],[5,6,9])"
   ]
  },
  {
   "cell_type": "code",
   "execution_count": null,
   "id": "d58af3fb",
   "metadata": {},
   "outputs": [],
   "source": []
  },
  {
   "cell_type": "code",
   "execution_count": 73,
   "id": "1152a8f1",
   "metadata": {},
   "outputs": [],
   "source": [
    "def test14(*args):\n",
    "    l = []\n",
    "    for i in args:\n",
    "        if type(i) == list:\n",
    "            l = l + i\n",
    "    return l"
   ]
  },
  {
   "cell_type": "code",
   "execution_count": 74,
   "id": "3252fc97",
   "metadata": {},
   "outputs": [
    {
     "data": {
      "text/plain": [
       "[3, 2, 2, 5, 6, 9]"
      ]
     },
     "execution_count": 74,
     "metadata": {},
     "output_type": "execute_result"
    }
   ],
   "source": [
    "test14(\"kjaldf\" , 123, [3,2,2],[5,6,9])"
   ]
  },
  {
   "cell_type": "code",
   "execution_count": null,
   "id": "1233277f",
   "metadata": {},
   "outputs": [],
   "source": []
  },
  {
   "cell_type": "code",
   "execution_count": 75,
   "id": "d32cb110",
   "metadata": {},
   "outputs": [],
   "source": [
    "def test15(**kwargs):        #any no. variable can pass\n",
    "    return kwargs        #only pass key value format"
   ]
  },
  {
   "cell_type": "code",
   "execution_count": 76,
   "id": "a3f831b5",
   "metadata": {},
   "outputs": [
    {
     "ename": "TypeError",
     "evalue": "test15() takes 0 positional arguments but 3 were given",
     "output_type": "error",
     "traceback": [
      "\u001b[1;31m---------------------------------------------------------------------------\u001b[0m",
      "\u001b[1;31mTypeError\u001b[0m                                 Traceback (most recent call last)",
      "\u001b[1;32m~\\AppData\\Local\\Temp/ipykernel_8232/1568678329.py\u001b[0m in \u001b[0;36m<module>\u001b[1;34m\u001b[0m\n\u001b[1;32m----> 1\u001b[1;33m \u001b[0mtest15\u001b[0m\u001b[1;33m(\u001b[0m\u001b[1;36m4\u001b[0m\u001b[1;33m,\u001b[0m\u001b[1;36m65\u001b[0m\u001b[1;33m,\u001b[0m\u001b[1;36m3\u001b[0m\u001b[1;33m)\u001b[0m     \u001b[1;31m#because it use as key and value\u001b[0m\u001b[1;33m\u001b[0m\u001b[1;33m\u001b[0m\u001b[0m\n\u001b[0m",
      "\u001b[1;31mTypeError\u001b[0m: test15() takes 0 positional arguments but 3 were given"
     ]
    }
   ],
   "source": [
    "test15(4,65,3)     #because it use as key and value"
   ]
  },
  {
   "cell_type": "code",
   "execution_count": 77,
   "id": "e663a750",
   "metadata": {},
   "outputs": [
    {
     "data": {
      "text/plain": [
       "{'a': 8, 'b': 6, 'c': 5, 'd': 70}"
      ]
     },
     "execution_count": 77,
     "metadata": {},
     "output_type": "execute_result"
    }
   ],
   "source": [
    "test15(a = 8 , b = 6 , c = 5 , d = 70 )   #only pass in key and value format"
   ]
  },
  {
   "cell_type": "code",
   "execution_count": 78,
   "id": "c4d71c47",
   "metadata": {},
   "outputs": [
    {
     "data": {
      "text/plain": [
       "{'a': 8, 'b': True, 'c': [4, 5, 6, 'manoj'], 'd': 'jdfjs'}"
      ]
     },
     "execution_count": 78,
     "metadata": {},
     "output_type": "execute_result"
    }
   ],
   "source": [
    "test15(a = 8 , b = True , c = [4,5,6,\"manoj\"] , d = \"jdfjs\" )  #convert into dict"
   ]
  },
  {
   "cell_type": "code",
   "execution_count": 79,
   "id": "5c0546dd",
   "metadata": {},
   "outputs": [
    {
     "data": {
      "text/plain": [
       "dict"
      ]
     },
     "execution_count": 79,
     "metadata": {},
     "output_type": "execute_result"
    }
   ],
   "source": [
    "type(test15())"
   ]
  },
  {
   "cell_type": "code",
   "execution_count": 80,
   "id": "45aa7cc5",
   "metadata": {},
   "outputs": [],
   "source": [
    "def test16(*args):\n",
    "    return args"
   ]
  },
  {
   "cell_type": "code",
   "execution_count": 81,
   "id": "02055f94",
   "metadata": {},
   "outputs": [
    {
     "data": {
      "text/plain": [
       "(5, 3, 6, 'manoj', [2, 3, 5])"
      ]
     },
     "execution_count": 81,
     "metadata": {},
     "output_type": "execute_result"
    }
   ],
   "source": [
    "test16(5,3,6,\"manoj\",[2,3,5])    #convert into tuple"
   ]
  },
  {
   "cell_type": "code",
   "execution_count": 82,
   "id": "9b6bff4d",
   "metadata": {},
   "outputs": [
    {
     "data": {
      "text/plain": [
       "tuple"
      ]
     },
     "execution_count": 82,
     "metadata": {},
     "output_type": "execute_result"
    }
   ],
   "source": [
    "type(test16())"
   ]
  },
  {
   "cell_type": "code",
   "execution_count": null,
   "id": "0985d6ba",
   "metadata": {},
   "outputs": [],
   "source": [
    " "
   ]
  },
  {
   "cell_type": "code",
   "execution_count": 71,
   "id": "a1494cba",
   "metadata": {},
   "outputs": [],
   "source": [
    "def test17(**kwargs):\n",
    "    for i in kwargs.items():    #items convert each value in tuple\n",
    "        if type(i[1])==list:\n",
    "            if \"sudh\" in i[1]:\n",
    "                print(\"i am able to find your name in data\")\n",
    "                print(i[1])\n",
    "    return kwargs            "
   ]
  },
  {
   "cell_type": "code",
   "execution_count": 72,
   "id": "f1e879a7",
   "metadata": {},
   "outputs": [
    {
     "name": "stdout",
     "output_type": "stream",
     "text": [
      "i am able to find your name in data\n",
      "['sudh', 'kumar', 5.67]\n"
     ]
    },
    {
     "data": {
      "text/plain": [
       "{'b': 6, 'c': [5, 6, 1, 3], 'd': ['sudh', 'kumar', 5.67], 'n': (6+7j)}"
      ]
     },
     "execution_count": 72,
     "metadata": {},
     "output_type": "execute_result"
    }
   ],
   "source": [
    "test17(b = 6 , c = [5,6,1,3] , d = [\"sudh\" , \"kumar\" , 5.67] , n = 6+7j)"
   ]
  },
  {
   "cell_type": "code",
   "execution_count": null,
   "id": "7ed81291",
   "metadata": {},
   "outputs": [],
   "source": []
  },
  {
   "cell_type": "code",
   "execution_count": 77,
   "id": "90a41146",
   "metadata": {},
   "outputs": [],
   "source": [
    "d = {'b': 6, 'c': [5, 6, 1, 3], 'd': ['sudh', 'kumar', 5.67], 'n': (6+7j)}"
   ]
  },
  {
   "cell_type": "code",
   "execution_count": 78,
   "id": "2481ae53",
   "metadata": {},
   "outputs": [
    {
     "data": {
      "text/plain": [
       "dict_items([('b', 6), ('c', [5, 6, 1, 3]), ('d', ['sudh', 'kumar', 5.67]), ('n', (6+7j))])"
      ]
     },
     "execution_count": 78,
     "metadata": {},
     "output_type": "execute_result"
    }
   ],
   "source": [
    "d.items()"
   ]
  },
  {
   "cell_type": "code",
   "execution_count": null,
   "id": "d471361f",
   "metadata": {},
   "outputs": [],
   "source": []
  },
  {
   "cell_type": "code",
   "execution_count": 90,
   "id": "7eb4dba3",
   "metadata": {},
   "outputs": [],
   "source": [
    "def test18(*args):\n",
    "    a = {}\n",
    "    for i in args:\n",
    "        if type(i) in a:\n",
    "            a[type(i)].append(i)\n",
    "        else:\n",
    "            a[type(i)] = [i]\n",
    "    return a"
   ]
  },
  {
   "cell_type": "code",
   "execution_count": 91,
   "id": "f1b5f24e",
   "metadata": {},
   "outputs": [
    {
     "data": {
      "text/plain": [
       "{int: [12, 3],\n",
       " list: [[5, 3, 5, 3]],\n",
       " str: ['hi', 'io'],\n",
       " complex: [(2+4j)],\n",
       " bool: [True, False],\n",
       " float: [3.5]}"
      ]
     },
     "execution_count": 91,
     "metadata": {},
     "output_type": "execute_result"
    }
   ],
   "source": [
    "test18(12,3,[5,3,5,3],'hi','io',2+4j,True,False,3.5)"
   ]
  },
  {
   "cell_type": "code",
   "execution_count": null,
   "id": "b0b0eb42",
   "metadata": {},
   "outputs": [],
   "source": []
  },
  {
   "cell_type": "code",
   "execution_count": null,
   "id": "a2dee48d",
   "metadata": {},
   "outputs": [],
   "source": []
  },
  {
   "cell_type": "code",
   "execution_count": null,
   "id": "40237e0e",
   "metadata": {},
   "outputs": [],
   "source": []
  },
  {
   "cell_type": "code",
   "execution_count": null,
   "id": "f24ca62b",
   "metadata": {},
   "outputs": [],
   "source": []
  }
 ],
 "metadata": {
  "kernelspec": {
   "display_name": "Python 3 (ipykernel)",
   "language": "python",
   "name": "python3"
  },
  "language_info": {
   "codemirror_mode": {
    "name": "ipython",
    "version": 3
   },
   "file_extension": ".py",
   "mimetype": "text/x-python",
   "name": "python",
   "nbconvert_exporter": "python",
   "pygments_lexer": "ipython3",
   "version": "3.9.7"
  }
 },
 "nbformat": 4,
 "nbformat_minor": 5
}
