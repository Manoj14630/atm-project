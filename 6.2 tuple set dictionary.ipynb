{
 "cells": [
  {
   "cell_type": "code",
   "execution_count": 1,
   "id": "4a6c218e",
   "metadata": {},
   "outputs": [],
   "source": [
    "#set use to remove duplicate value\n",
    "#set dont work on index so first convert into list and tuple then can work\n",
    "#set is immutable\n"
   ]
  },
  {
   "cell_type": "code",
   "execution_count": 1,
   "id": "fc4109d8",
   "metadata": {},
   "outputs": [],
   "source": [
    "t = ()"
   ]
  },
  {
   "cell_type": "code",
   "execution_count": 2,
   "id": "b68194a0",
   "metadata": {},
   "outputs": [
    {
     "data": {
      "text/plain": [
       "tuple"
      ]
     },
     "execution_count": 2,
     "metadata": {},
     "output_type": "execute_result"
    }
   ],
   "source": [
    "type(t)   #immutable"
   ]
  },
  {
   "cell_type": "code",
   "execution_count": 3,
   "id": "23bb8691",
   "metadata": {},
   "outputs": [],
   "source": [
    "l = []"
   ]
  },
  {
   "cell_type": "code",
   "execution_count": 4,
   "id": "f1a2356c",
   "metadata": {},
   "outputs": [
    {
     "data": {
      "text/plain": [
       "list"
      ]
     },
     "execution_count": 4,
     "metadata": {},
     "output_type": "execute_result"
    }
   ],
   "source": [
    "type(l)     #mutable"
   ]
  },
  {
   "cell_type": "code",
   "execution_count": 5,
   "id": "2e2d1e2b",
   "metadata": {},
   "outputs": [],
   "source": [
    "a = {}"
   ]
  },
  {
   "cell_type": "code",
   "execution_count": 6,
   "id": "fd651227",
   "metadata": {},
   "outputs": [
    {
     "data": {
      "text/plain": [
       "dict"
      ]
     },
     "execution_count": 6,
     "metadata": {},
     "output_type": "execute_result"
    }
   ],
   "source": [
    "type(a)"
   ]
  },
  {
   "cell_type": "code",
   "execution_count": 9,
   "id": "96d4b4be",
   "metadata": {},
   "outputs": [],
   "source": [
    "a = (\"manoj\",234,24,True)"
   ]
  },
  {
   "cell_type": "code",
   "execution_count": 10,
   "id": "448038e3",
   "metadata": {},
   "outputs": [
    {
     "data": {
      "text/plain": [
       "tuple"
      ]
     },
     "execution_count": 10,
     "metadata": {},
     "output_type": "execute_result"
    }
   ],
   "source": [
    "type(a)"
   ]
  },
  {
   "cell_type": "code",
   "execution_count": 11,
   "id": "c638ecff",
   "metadata": {},
   "outputs": [
    {
     "ename": "TypeError",
     "evalue": "'tuple' object does not support item assignment",
     "output_type": "error",
     "traceback": [
      "\u001b[1;31m---------------------------------------------------------------------------\u001b[0m",
      "\u001b[1;31mTypeError\u001b[0m                                 Traceback (most recent call last)",
      "\u001b[1;32m~\\AppData\\Local\\Temp/ipykernel_900/3133321420.py\u001b[0m in \u001b[0;36m<module>\u001b[1;34m\u001b[0m\n\u001b[1;32m----> 1\u001b[1;33m \u001b[0ma\u001b[0m\u001b[1;33m[\u001b[0m\u001b[1;36m0\u001b[0m\u001b[1;33m]\u001b[0m\u001b[1;33m=\u001b[0m\u001b[1;34m\"sharma\"\u001b[0m  \u001b[1;31m#immutable\u001b[0m\u001b[1;33m\u001b[0m\u001b[1;33m\u001b[0m\u001b[0m\n\u001b[0m",
      "\u001b[1;31mTypeError\u001b[0m: 'tuple' object does not support item assignment"
     ]
    }
   ],
   "source": [
    "a[0]=\"sharma\"  #immutable"
   ]
  },
  {
   "cell_type": "code",
   "execution_count": 12,
   "id": "6c0bebc2",
   "metadata": {},
   "outputs": [
    {
     "data": {
      "text/plain": [
       "('manoj', 234, 24, True)"
      ]
     },
     "execution_count": 12,
     "metadata": {},
     "output_type": "execute_result"
    }
   ],
   "source": [
    "a"
   ]
  },
  {
   "cell_type": "code",
   "execution_count": 13,
   "id": "79da9bd0",
   "metadata": {},
   "outputs": [
    {
     "ename": "AttributeError",
     "evalue": "'tuple' object has no attribute 'append'",
     "output_type": "error",
     "traceback": [
      "\u001b[1;31m---------------------------------------------------------------------------\u001b[0m",
      "\u001b[1;31mAttributeError\u001b[0m                            Traceback (most recent call last)",
      "\u001b[1;32m~\\AppData\\Local\\Temp/ipykernel_900/1397108627.py\u001b[0m in \u001b[0;36m<module>\u001b[1;34m\u001b[0m\n\u001b[1;32m----> 1\u001b[1;33m \u001b[0ma\u001b[0m\u001b[1;33m.\u001b[0m\u001b[0mappend\u001b[0m\u001b[1;33m(\u001b[0m\u001b[1;34m\"sharma\"\u001b[0m\u001b[1;33m)\u001b[0m\u001b[1;33m\u001b[0m\u001b[1;33m\u001b[0m\u001b[0m\n\u001b[0m",
      "\u001b[1;31mAttributeError\u001b[0m: 'tuple' object has no attribute 'append'"
     ]
    }
   ],
   "source": [
    "a.append(\"sharma\")"
   ]
  },
  {
   "cell_type": "code",
   "execution_count": 8,
   "id": "f231ecac",
   "metadata": {},
   "outputs": [
    {
     "data": {
      "text/plain": [
       "('manoj', 234, 24, True)"
      ]
     },
     "execution_count": 8,
     "metadata": {},
     "output_type": "execute_result"
    }
   ],
   "source": [
    "a"
   ]
  },
  {
   "cell_type": "code",
   "execution_count": null,
   "id": "84e671b7",
   "metadata": {},
   "outputs": [],
   "source": []
  },
  {
   "cell_type": "code",
   "execution_count": 10,
   "id": "86766363",
   "metadata": {},
   "outputs": [],
   "source": [
    "a1= (23,\"sharma\",514)"
   ]
  },
  {
   "cell_type": "code",
   "execution_count": 11,
   "id": "e0bb7e37",
   "metadata": {},
   "outputs": [
    {
     "data": {
      "text/plain": [
       "('manoj', 234, 24, True, 23, 'sharma', 514)"
      ]
     },
     "execution_count": 11,
     "metadata": {},
     "output_type": "execute_result"
    }
   ],
   "source": [
    "a+a1"
   ]
  },
  {
   "cell_type": "code",
   "execution_count": 10,
   "id": "22c4e9a5",
   "metadata": {},
   "outputs": [],
   "source": [
    "t1 =(234,34,'sudh',3.45,True)"
   ]
  },
  {
   "cell_type": "code",
   "execution_count": 13,
   "id": "ec329784",
   "metadata": {},
   "outputs": [
    {
     "data": {
      "text/plain": [
       "True"
      ]
     },
     "execution_count": 13,
     "metadata": {},
     "output_type": "execute_result"
    }
   ],
   "source": [
    "34 in t1"
   ]
  },
  {
   "cell_type": "code",
   "execution_count": 14,
   "id": "885719c2",
   "metadata": {},
   "outputs": [
    {
     "data": {
      "text/plain": [
       "False"
      ]
     },
     "execution_count": 14,
     "metadata": {},
     "output_type": "execute_result"
    }
   ],
   "source": [
    "\"manoj\" in t1"
   ]
  },
  {
   "cell_type": "code",
   "execution_count": 15,
   "id": "12951808",
   "metadata": {},
   "outputs": [
    {
     "ename": "TypeError",
     "evalue": "'>' not supported between instances of 'str' and 'int'",
     "output_type": "error",
     "traceback": [
      "\u001b[1;31m---------------------------------------------------------------------------\u001b[0m",
      "\u001b[1;31mTypeError\u001b[0m                                 Traceback (most recent call last)",
      "\u001b[1;32m~\\AppData\\Local\\Temp/ipykernel_11936/3099455752.py\u001b[0m in \u001b[0;36m<module>\u001b[1;34m\u001b[0m\n\u001b[1;32m----> 1\u001b[1;33m \u001b[0mmax\u001b[0m\u001b[1;33m(\u001b[0m\u001b[0mt1\u001b[0m\u001b[1;33m)\u001b[0m\u001b[1;33m\u001b[0m\u001b[1;33m\u001b[0m\u001b[0m\n\u001b[0m",
      "\u001b[1;31mTypeError\u001b[0m: '>' not supported between instances of 'str' and 'int'"
     ]
    }
   ],
   "source": [
    "max(t1)"
   ]
  },
  {
   "cell_type": "code",
   "execution_count": 16,
   "id": "63e26489",
   "metadata": {},
   "outputs": [],
   "source": [
    "t3=(23,234,45,454,54)"
   ]
  },
  {
   "cell_type": "code",
   "execution_count": 17,
   "id": "cf39ae61",
   "metadata": {},
   "outputs": [
    {
     "data": {
      "text/plain": [
       "454"
      ]
     },
     "execution_count": 17,
     "metadata": {},
     "output_type": "execute_result"
    }
   ],
   "source": [
    "max(t3)"
   ]
  },
  {
   "cell_type": "code",
   "execution_count": 18,
   "id": "a4b12622",
   "metadata": {},
   "outputs": [],
   "source": [
    "t4 = (\"lajf\",\"Fld\",\"slf\")"
   ]
  },
  {
   "cell_type": "code",
   "execution_count": 19,
   "id": "56f69cfa",
   "metadata": {},
   "outputs": [
    {
     "data": {
      "text/plain": [
       "'slf'"
      ]
     },
     "execution_count": 19,
     "metadata": {},
     "output_type": "execute_result"
    }
   ],
   "source": [
    "max(t4)"
   ]
  },
  {
   "cell_type": "code",
   "execution_count": 20,
   "id": "c3213460",
   "metadata": {},
   "outputs": [
    {
     "data": {
      "text/plain": [
       "(234, 34, 'sudh', 3.45, True)"
      ]
     },
     "execution_count": 20,
     "metadata": {},
     "output_type": "execute_result"
    }
   ],
   "source": [
    "t1"
   ]
  },
  {
   "cell_type": "code",
   "execution_count": 21,
   "id": "d17e3c0c",
   "metadata": {},
   "outputs": [
    {
     "data": {
      "text/plain": [
       "1"
      ]
     },
     "execution_count": 21,
     "metadata": {},
     "output_type": "execute_result"
    }
   ],
   "source": [
    "t1.index(34)"
   ]
  },
  {
   "cell_type": "code",
   "execution_count": 22,
   "id": "25da2fc8",
   "metadata": {},
   "outputs": [
    {
     "data": {
      "text/plain": [
       "(23, 234, 45, 454, 54)"
      ]
     },
     "execution_count": 22,
     "metadata": {},
     "output_type": "execute_result"
    }
   ],
   "source": [
    "t3"
   ]
  },
  {
   "cell_type": "code",
   "execution_count": 23,
   "id": "3aa5ada2",
   "metadata": {},
   "outputs": [
    {
     "data": {
      "text/plain": [
       "23"
      ]
     },
     "execution_count": 23,
     "metadata": {},
     "output_type": "execute_result"
    }
   ],
   "source": [
    "min(t3)"
   ]
  },
  {
   "cell_type": "code",
   "execution_count": 24,
   "id": "4fab1e26",
   "metadata": {},
   "outputs": [
    {
     "data": {
      "text/plain": [
       "'Fld'"
      ]
     },
     "execution_count": 24,
     "metadata": {},
     "output_type": "execute_result"
    }
   ],
   "source": [
    "min(t4)"
   ]
  },
  {
   "cell_type": "code",
   "execution_count": 14,
   "id": "20053328",
   "metadata": {},
   "outputs": [],
   "source": [
    "t1 = (234,34,'sudh',3.45,34,34,34,True)"
   ]
  },
  {
   "cell_type": "code",
   "execution_count": 15,
   "id": "5640fd3b",
   "metadata": {},
   "outputs": [],
   "source": [
    "t5=(90,45)"
   ]
  },
  {
   "cell_type": "code",
   "execution_count": 16,
   "id": "f3dbaadc",
   "metadata": {},
   "outputs": [
    {
     "data": {
      "text/plain": [
       "(234, 34, 'sudh', 3.45, 34, 34, 34, True, 90, 45)"
      ]
     },
     "execution_count": 16,
     "metadata": {},
     "output_type": "execute_result"
    }
   ],
   "source": [
    "t1+t5"
   ]
  },
  {
   "cell_type": "code",
   "execution_count": 17,
   "id": "73d3a43a",
   "metadata": {},
   "outputs": [
    {
     "data": {
      "text/plain": [
       "(234, 34, 'sudh', 3.45, 34, 34, 34, True)"
      ]
     },
     "execution_count": 17,
     "metadata": {},
     "output_type": "execute_result"
    }
   ],
   "source": [
    "t1"
   ]
  },
  {
   "cell_type": "raw",
   "id": "1054b379",
   "metadata": {},
   "source": [
    "t1.insert(2,212121)"
   ]
  },
  {
   "cell_type": "code",
   "execution_count": 18,
   "id": "c1d4ee6a",
   "metadata": {},
   "outputs": [
    {
     "data": {
      "text/plain": [
       "(234, 34, 'sudh', 3.45, 34, 34, 34, True)"
      ]
     },
     "execution_count": 18,
     "metadata": {},
     "output_type": "execute_result"
    }
   ],
   "source": [
    "t1"
   ]
  },
  {
   "cell_type": "code",
   "execution_count": 30,
   "id": "d8c04226",
   "metadata": {},
   "outputs": [],
   "source": [
    "tt=list(t1)"
   ]
  },
  {
   "cell_type": "code",
   "execution_count": 31,
   "id": "5653461f",
   "metadata": {},
   "outputs": [
    {
     "data": {
      "text/plain": [
       "(234, 34, 'sudh', 3.45, 34, 34, 34, True)"
      ]
     },
     "execution_count": 31,
     "metadata": {},
     "output_type": "execute_result"
    }
   ],
   "source": [
    "t1"
   ]
  },
  {
   "cell_type": "code",
   "execution_count": 32,
   "id": "cd3e9ed1",
   "metadata": {},
   "outputs": [],
   "source": [
    "t6=56"
   ]
  },
  {
   "cell_type": "raw",
   "id": "3e9637b8",
   "metadata": {},
   "source": [
    "l5=list(t1)"
   ]
  },
  {
   "cell_type": "code",
   "execution_count": 33,
   "id": "21a466ee",
   "metadata": {},
   "outputs": [
    {
     "ename": "NameError",
     "evalue": "name 'l5' is not defined",
     "output_type": "error",
     "traceback": [
      "\u001b[1;31m---------------------------------------------------------------------------\u001b[0m",
      "\u001b[1;31mNameError\u001b[0m                                 Traceback (most recent call last)",
      "\u001b[1;32m~\\AppData\\Local\\Temp/ipykernel_11936/1189056189.py\u001b[0m in \u001b[0;36m<module>\u001b[1;34m\u001b[0m\n\u001b[1;32m----> 1\u001b[1;33m \u001b[0ml5\u001b[0m\u001b[1;33m\u001b[0m\u001b[1;33m\u001b[0m\u001b[0m\n\u001b[0m",
      "\u001b[1;31mNameError\u001b[0m: name 'l5' is not defined"
     ]
    }
   ],
   "source": [
    "l5"
   ]
  },
  {
   "cell_type": "code",
   "execution_count": 34,
   "id": "efe361b1",
   "metadata": {},
   "outputs": [
    {
     "ename": "NameError",
     "evalue": "name 'l5' is not defined",
     "output_type": "error",
     "traceback": [
      "\u001b[1;31m---------------------------------------------------------------------------\u001b[0m",
      "\u001b[1;31mNameError\u001b[0m                                 Traceback (most recent call last)",
      "\u001b[1;32m~\\AppData\\Local\\Temp/ipykernel_11936/1193398658.py\u001b[0m in \u001b[0;36m<module>\u001b[1;34m\u001b[0m\n\u001b[1;32m----> 1\u001b[1;33m \u001b[0ml5\u001b[0m\u001b[1;33m.\u001b[0m\u001b[0minsert\u001b[0m\u001b[1;33m(\u001b[0m\u001b[1;36m3\u001b[0m\u001b[1;33m,\u001b[0m\u001b[0mt6\u001b[0m\u001b[1;33m)\u001b[0m\u001b[1;33m\u001b[0m\u001b[1;33m\u001b[0m\u001b[0m\n\u001b[0m",
      "\u001b[1;31mNameError\u001b[0m: name 'l5' is not defined"
     ]
    }
   ],
   "source": [
    "l5.insert(3,t6)"
   ]
  },
  {
   "cell_type": "code",
   "execution_count": 3,
   "id": "df57ba0a",
   "metadata": {},
   "outputs": [],
   "source": [
    "t = ((3,4,5,6,7),(\"sdfsd\",45,45),(\"454\",54),45,454,67,[4,5,67,7])"
   ]
  },
  {
   "cell_type": "code",
   "execution_count": 36,
   "id": "9a8d50da",
   "metadata": {},
   "outputs": [
    {
     "data": {
      "text/plain": [
       "tuple"
      ]
     },
     "execution_count": 36,
     "metadata": {},
     "output_type": "execute_result"
    }
   ],
   "source": [
    "type(t)"
   ]
  },
  {
   "cell_type": "code",
   "execution_count": 37,
   "id": "aed316ff",
   "metadata": {},
   "outputs": [
    {
     "data": {
      "text/plain": [
       "[5, 67, 7]"
      ]
     },
     "execution_count": 37,
     "metadata": {},
     "output_type": "execute_result"
    }
   ],
   "source": [
    "t[6][1:4]"
   ]
  },
  {
   "cell_type": "code",
   "execution_count": 38,
   "id": "a3c85279",
   "metadata": {},
   "outputs": [
    {
     "data": {
      "text/plain": [
       "('sdfsd', 45, 45)"
      ]
     },
     "execution_count": 38,
     "metadata": {},
     "output_type": "execute_result"
    }
   ],
   "source": [
    "t[1]"
   ]
  },
  {
   "cell_type": "code",
   "execution_count": 39,
   "id": "eb84fe43",
   "metadata": {},
   "outputs": [
    {
     "data": {
      "text/plain": [
       "'sdfsd'"
      ]
     },
     "execution_count": 39,
     "metadata": {},
     "output_type": "execute_result"
    }
   ],
   "source": [
    "t[1][0]"
   ]
  },
  {
   "cell_type": "code",
   "execution_count": 40,
   "id": "2779a21b",
   "metadata": {},
   "outputs": [
    {
     "name": "stdout",
     "output_type": "stream",
     "text": [
      "(3, 4, 5, 6, 7)\n",
      "('sdfsd', 45, 45)\n",
      "('454', 54)\n",
      "45\n",
      "454\n",
      "67\n",
      "[4, 5, 67, 7]\n"
     ]
    }
   ],
   "source": [
    "for i in t:\n",
    "    print(i)"
   ]
  },
  {
   "cell_type": "code",
   "execution_count": 4,
   "id": "da03d59b",
   "metadata": {},
   "outputs": [
    {
     "data": {
      "text/plain": [
       "((3, 4, 5, 6, 7), ('sdfsd', 45, 45), ('454', 54), 45, 454, 67, [4, 5, 67, 7])"
      ]
     },
     "execution_count": 4,
     "metadata": {},
     "output_type": "execute_result"
    }
   ],
   "source": [
    "t"
   ]
  },
  {
   "cell_type": "code",
   "execution_count": 5,
   "id": "6c737086",
   "metadata": {},
   "outputs": [
    {
     "name": "stdout",
     "output_type": "stream",
     "text": [
      "3\n",
      "sdfsd\n",
      "454\n"
     ]
    }
   ],
   "source": [
    "for i in t:\n",
    "    if type(i)==tuple:\n",
    "        print(i[0])\n",
    "        "
   ]
  },
  {
   "cell_type": "code",
   "execution_count": 13,
   "id": "0aa18f37",
   "metadata": {},
   "outputs": [
    {
     "name": "stdout",
     "output_type": "stream",
     "text": [
      "0 10\n",
      "1 5\n",
      "2 2\n",
      "3 3\n",
      "4 4\n",
      "5 8\n"
     ]
    }
   ],
   "source": [
    "a = (10,5,2,3,4,8)\n",
    "for i in range(len(a)):     #retriete the tuple value with index\n",
    "    print(i,a[i])"
   ]
  },
  {
   "cell_type": "code",
   "execution_count": 14,
   "id": "bffb8f1d",
   "metadata": {},
   "outputs": [
    {
     "name": "stdout",
     "output_type": "stream",
     "text": [
      "0 m\n",
      "1 a\n",
      "2 n\n",
      "3 o\n",
      "4 j\n"
     ]
    }
   ],
   "source": [
    "a = \"manoj\"\n",
    "for i in range(len(a)):    \n",
    "    print(i,a[i])"
   ]
  },
  {
   "cell_type": "code",
   "execution_count": 17,
   "id": "c0ec5c4a",
   "metadata": {},
   "outputs": [
    {
     "name": "stdout",
     "output_type": "stream",
     "text": [
      "4 j\n",
      "3 o\n",
      "2 n\n",
      "1 a\n",
      "0 m\n"
     ]
    }
   ],
   "source": [
    "a = \"manoj\"\n",
    "for i in range(len(a)-1`,-1,-1):        #in reverse direction\n",
    "    print(i,a[i])  "
   ]
  },
  {
   "cell_type": "code",
   "execution_count": 43,
   "id": "30a876d9",
   "metadata": {},
   "outputs": [
    {
     "data": {
      "text/plain": [
       "(234, 34, 'sudh', 3.45, 34, 34, 34, True)"
      ]
     },
     "execution_count": 43,
     "metadata": {},
     "output_type": "execute_result"
    }
   ],
   "source": [
    "t1"
   ]
  },
  {
   "cell_type": "code",
   "execution_count": 44,
   "id": "e3cf7545",
   "metadata": {},
   "outputs": [],
   "source": [
    "t2=(234,54,565)"
   ]
  },
  {
   "cell_type": "code",
   "execution_count": 45,
   "id": "69d85495",
   "metadata": {},
   "outputs": [
    {
     "name": "stdout",
     "output_type": "stream",
     "text": [
      "not same\n"
     ]
    }
   ],
   "source": [
    "if len(t1)==len(t2):\n",
    "    print(\"its same\")\n",
    "else:\n",
    "    print(\"not same\")"
   ]
  },
  {
   "cell_type": "code",
   "execution_count": 7,
   "id": "e1a9e265",
   "metadata": {},
   "outputs": [],
   "source": [
    "t = (234,34,'sudh',3.45,34,34,34,True,\"kumar\")"
   ]
  },
  {
   "cell_type": "code",
   "execution_count": 8,
   "id": "0c277ee6",
   "metadata": {},
   "outputs": [
    {
     "name": "stdout",
     "output_type": "stream",
     "text": [
      "take a user input:-34\n",
      "this is your value\n"
     ]
    }
   ],
   "source": [
    "i = eval(input(\"take a user input:-\"))\n",
    "   \n",
    "if i in t:\n",
    "    print(\"this is your value\")\n",
    "else:\n",
    "    print(\"this is not your value\")       "
   ]
  },
  {
   "cell_type": "code",
   "execution_count": 14,
   "id": "f52cd7d1",
   "metadata": {},
   "outputs": [
    {
     "data": {
      "text/plain": [
       "(234, 34, 'sudh', 3.45, True)"
      ]
     },
     "execution_count": 14,
     "metadata": {},
     "output_type": "execute_result"
    }
   ],
   "source": [
    "t1"
   ]
  },
  {
   "cell_type": "code",
   "execution_count": 13,
   "id": "70009237",
   "metadata": {},
   "outputs": [],
   "source": []
  },
  {
   "cell_type": "code",
   "execution_count": 156,
   "id": "ac44194e",
   "metadata": {},
   "outputs": [
    {
     "data": {
      "text/plain": [
       "(234, 34, 'sudh', 3.45, 34, 34, 34, True)"
      ]
     },
     "execution_count": 156,
     "metadata": {},
     "output_type": "execute_result"
    }
   ],
   "source": [
    "t1"
   ]
  },
  {
   "cell_type": "code",
   "execution_count": 157,
   "id": "1cc2a00c",
   "metadata": {},
   "outputs": [],
   "source": [
    "t2=(234,54,565)"
   ]
  },
  {
   "cell_type": "code",
   "execution_count": 158,
   "id": "a912d041",
   "metadata": {},
   "outputs": [
    {
     "data": {
      "text/plain": [
       "(234, 54, 565)"
      ]
     },
     "execution_count": 158,
     "metadata": {},
     "output_type": "execute_result"
    }
   ],
   "source": [
    "t2"
   ]
  },
  {
   "cell_type": "code",
   "execution_count": 159,
   "id": "b95b0691",
   "metadata": {},
   "outputs": [],
   "source": [
    "x= set()"
   ]
  },
  {
   "cell_type": "code",
   "execution_count": 160,
   "id": "a4f678af",
   "metadata": {},
   "outputs": [
    {
     "data": {
      "text/plain": [
       "set"
      ]
     },
     "execution_count": 160,
     "metadata": {},
     "output_type": "execute_result"
    }
   ],
   "source": [
    "type(x)"
   ]
  },
  {
   "cell_type": "code",
   "execution_count": 6,
   "id": "eb7b0917",
   "metadata": {},
   "outputs": [],
   "source": [
    "l = [34,45,45,45,45,67,34,56,78,\"sudh\",\"sudh\",\"kumar\"]"
   ]
  },
  {
   "cell_type": "code",
   "execution_count": 7,
   "id": "31ceb8f5",
   "metadata": {},
   "outputs": [
    {
     "data": {
      "text/plain": [
       "{34, 45, 56, 67, 78, 'kumar', 'sudh'}"
      ]
     },
     "execution_count": 7,
     "metadata": {},
     "output_type": "execute_result"
    }
   ],
   "source": [
    "set(l)     #set give only distinct value or remove the duplicate"
   ]
  },
  {
   "cell_type": "code",
   "execution_count": 14,
   "id": "af964b8c",
   "metadata": {},
   "outputs": [],
   "source": [
    "m = [34,45,45,45,45,67,34,56,78,\"sudh\",\"Sudh\",\"kumar\",\"KUMAR\"]"
   ]
  },
  {
   "cell_type": "code",
   "execution_count": 15,
   "id": "a04657e5",
   "metadata": {},
   "outputs": [],
   "source": [
    "s=set(m)   #set is case cencitive"
   ]
  },
  {
   "cell_type": "code",
   "execution_count": 16,
   "id": "bded42cd",
   "metadata": {},
   "outputs": [
    {
     "data": {
      "text/plain": [
       "{34, 45, 56, 67, 78, 'KUMAR', 'Sudh', 'kumar', 'sudh'}"
      ]
     },
     "execution_count": 16,
     "metadata": {},
     "output_type": "execute_result"
    }
   ],
   "source": [
    "s"
   ]
  },
  {
   "cell_type": "code",
   "execution_count": 166,
   "id": "a66fda83",
   "metadata": {},
   "outputs": [
    {
     "data": {
      "text/plain": [
       "list"
      ]
     },
     "execution_count": 166,
     "metadata": {},
     "output_type": "execute_result"
    }
   ],
   "source": [
    "type(s)"
   ]
  },
  {
   "cell_type": "code",
   "execution_count": 17,
   "id": "0a56ce30",
   "metadata": {},
   "outputs": [
    {
     "name": "stdout",
     "output_type": "stream",
     "text": [
      "34\n",
      "67\n",
      "KUMAR\n",
      "45\n",
      "78\n",
      "sudh\n",
      "Sudh\n",
      "kumar\n",
      "56\n"
     ]
    }
   ],
   "source": [
    "for i in s:\n",
    "    print(i)"
   ]
  },
  {
   "cell_type": "code",
   "execution_count": 169,
   "id": "ccf922ec",
   "metadata": {},
   "outputs": [
    {
     "data": {
      "text/plain": [
       "False"
      ]
     },
     "execution_count": 169,
     "metadata": {},
     "output_type": "execute_result"
    }
   ],
   "source": [
    "34 in s  "
   ]
  },
  {
   "cell_type": "code",
   "execution_count": 18,
   "id": "a590b81e",
   "metadata": {},
   "outputs": [
    {
     "data": {
      "text/plain": [
       "{34, 45, 56, 67, 78, 'KUMAR', 'Sudh', 'kumar', 'sudh'}"
      ]
     },
     "execution_count": 18,
     "metadata": {},
     "output_type": "execute_result"
    }
   ],
   "source": [
    "s"
   ]
  },
  {
   "cell_type": "code",
   "execution_count": 171,
   "id": "6b288a76",
   "metadata": {},
   "outputs": [],
   "source": [
    "s = {34, 45, 56, 67, 78,454545,352545, 'KUMAR', 'Sudhsudh', 'kumar', 'sudh'}"
   ]
  },
  {
   "cell_type": "code",
   "execution_count": 21,
   "id": "512f9260",
   "metadata": {},
   "outputs": [],
   "source": [
    "l = set(s)     #set dont give value in order"
   ]
  },
  {
   "cell_type": "code",
   "execution_count": 22,
   "id": "adadc6d5",
   "metadata": {},
   "outputs": [
    {
     "data": {
      "text/plain": [
       "{34, 45, 56, 67, 78, 'KUMAR', 'Sudh', 'kumar', 'sudh'}"
      ]
     },
     "execution_count": 22,
     "metadata": {},
     "output_type": "execute_result"
    }
   ],
   "source": [
    "l"
   ]
  },
  {
   "cell_type": "code",
   "execution_count": 23,
   "id": "eac566c8",
   "metadata": {},
   "outputs": [
    {
     "ename": "TypeError",
     "evalue": "'set' object is not subscriptable",
     "output_type": "error",
     "traceback": [
      "\u001b[1;31m---------------------------------------------------------------------------\u001b[0m",
      "\u001b[1;31mTypeError\u001b[0m                                 Traceback (most recent call last)",
      "\u001b[1;32m~\\AppData\\Local\\Temp/ipykernel_19352/3849991813.py\u001b[0m in \u001b[0;36m<module>\u001b[1;34m\u001b[0m\n\u001b[1;32m----> 1\u001b[1;33m \u001b[0ml\u001b[0m\u001b[1;33m[\u001b[0m\u001b[1;36m0\u001b[0m\u001b[1;33m]\u001b[0m\u001b[1;33m\u001b[0m\u001b[1;33m\u001b[0m\u001b[0m\n\u001b[0m",
      "\u001b[1;31mTypeError\u001b[0m: 'set' object is not subscriptable"
     ]
    }
   ],
   "source": [
    "l[0]"
   ]
  },
  {
   "cell_type": "code",
   "execution_count": 175,
   "id": "1eac9ef6",
   "metadata": {},
   "outputs": [
    {
     "data": {
      "text/plain": [
       "{34, 352545, 45, 454545, 56, 67, 78, 'KUMAR', 'Sudhsudh', 'kumar', 'sudh'}"
      ]
     },
     "execution_count": 175,
     "metadata": {},
     "output_type": "execute_result"
    }
   ],
   "source": [
    "s"
   ]
  },
  {
   "cell_type": "code",
   "execution_count": 176,
   "id": "c5474252",
   "metadata": {},
   "outputs": [],
   "source": [
    "l = (23,21,32,21,\"manoj\",\"sharma\",\"manoj\",\"sharma\",21,23)"
   ]
  },
  {
   "cell_type": "code",
   "execution_count": 177,
   "id": "ebbff396",
   "metadata": {},
   "outputs": [
    {
     "data": {
      "text/plain": [
       "tuple"
      ]
     },
     "execution_count": 177,
     "metadata": {},
     "output_type": "execute_result"
    }
   ],
   "source": [
    "type(l)"
   ]
  },
  {
   "cell_type": "code",
   "execution_count": 181,
   "id": "09841a6c",
   "metadata": {},
   "outputs": [],
   "source": [
    "s = set(l)"
   ]
  },
  {
   "cell_type": "code",
   "execution_count": 182,
   "id": "9dd6e64e",
   "metadata": {},
   "outputs": [
    {
     "data": {
      "text/plain": [
       "{21, 23, 32, 'manoj', 'sharma'}"
      ]
     },
     "execution_count": 182,
     "metadata": {},
     "output_type": "execute_result"
    }
   ],
   "source": [
    "s"
   ]
  },
  {
   "cell_type": "code",
   "execution_count": 183,
   "id": "f816a0a0",
   "metadata": {},
   "outputs": [
    {
     "data": {
      "text/plain": [
       "set"
      ]
     },
     "execution_count": 183,
     "metadata": {},
     "output_type": "execute_result"
    }
   ],
   "source": [
    "type(s)"
   ]
  },
  {
   "cell_type": "code",
   "execution_count": 184,
   "id": "666291c0",
   "metadata": {},
   "outputs": [
    {
     "data": {
      "text/plain": [
       "{21, 23, 32, 'manoj', 'sharma'}"
      ]
     },
     "execution_count": 184,
     "metadata": {},
     "output_type": "execute_result"
    }
   ],
   "source": [
    "s"
   ]
  },
  {
   "cell_type": "code",
   "execution_count": 185,
   "id": "8a3e17b2",
   "metadata": {},
   "outputs": [],
   "source": [
    "s.add(\"monu\")"
   ]
  },
  {
   "cell_type": "code",
   "execution_count": 186,
   "id": "be473f76",
   "metadata": {},
   "outputs": [
    {
     "data": {
      "text/plain": [
       "{21, 23, 32, 'manoj', 'monu', 'sharma'}"
      ]
     },
     "execution_count": 186,
     "metadata": {},
     "output_type": "execute_result"
    }
   ],
   "source": [
    "s"
   ]
  },
  {
   "cell_type": "code",
   "execution_count": 187,
   "id": "57a1e63b",
   "metadata": {},
   "outputs": [],
   "source": [
    "s.add(100)"
   ]
  },
  {
   "cell_type": "code",
   "execution_count": 188,
   "id": "0f6e5338",
   "metadata": {},
   "outputs": [
    {
     "data": {
      "text/plain": [
       "{100, 21, 23, 32, 'manoj', 'monu', 'sharma'}"
      ]
     },
     "execution_count": 188,
     "metadata": {},
     "output_type": "execute_result"
    }
   ],
   "source": [
    "s"
   ]
  },
  {
   "cell_type": "code",
   "execution_count": 189,
   "id": "abfe757a",
   "metadata": {},
   "outputs": [
    {
     "ename": "TypeError",
     "evalue": "unhashable type: 'list'",
     "output_type": "error",
     "traceback": [
      "\u001b[1;31m---------------------------------------------------------------------------\u001b[0m",
      "\u001b[1;31mTypeError\u001b[0m                                 Traceback (most recent call last)",
      "\u001b[1;32m~\\AppData\\Local\\Temp/ipykernel_11936/122583527.py\u001b[0m in \u001b[0;36m<module>\u001b[1;34m\u001b[0m\n\u001b[1;32m----> 1\u001b[1;33m \u001b[0ms\u001b[0m\u001b[1;33m.\u001b[0m\u001b[0madd\u001b[0m\u001b[1;33m(\u001b[0m\u001b[1;33m[\u001b[0m\u001b[1;36m21\u001b[0m\u001b[1;33m,\u001b[0m\u001b[1;36m32\u001b[0m\u001b[1;33m]\u001b[0m\u001b[1;33m)\u001b[0m  \u001b[1;31m# in set can not add list\u001b[0m\u001b[1;33m\u001b[0m\u001b[1;33m\u001b[0m\u001b[0m\n\u001b[0m",
      "\u001b[1;31mTypeError\u001b[0m: unhashable type: 'list'"
     ]
    }
   ],
   "source": [
    "s.add([21,32])  # in set can not add list"
   ]
  },
  {
   "cell_type": "code",
   "execution_count": 24,
   "id": "93979d7f",
   "metadata": {},
   "outputs": [
    {
     "data": {
      "text/plain": [
       "{34, 45, 56, 67, 78, 'KUMAR', 'Sudh', 'kumar', 'sudh'}"
      ]
     },
     "execution_count": 24,
     "metadata": {},
     "output_type": "execute_result"
    }
   ],
   "source": [
    "s"
   ]
  },
  {
   "cell_type": "code",
   "execution_count": 25,
   "id": "a8b7fd99",
   "metadata": {},
   "outputs": [
    {
     "ename": "KeyError",
     "evalue": "'manoj'",
     "output_type": "error",
     "traceback": [
      "\u001b[1;31m---------------------------------------------------------------------------\u001b[0m",
      "\u001b[1;31mKeyError\u001b[0m                                  Traceback (most recent call last)",
      "\u001b[1;32m~\\AppData\\Local\\Temp/ipykernel_19352/1165883055.py\u001b[0m in \u001b[0;36m<module>\u001b[1;34m\u001b[0m\n\u001b[1;32m----> 1\u001b[1;33m \u001b[0ms\u001b[0m\u001b[1;33m.\u001b[0m\u001b[0mremove\u001b[0m\u001b[1;33m(\u001b[0m\u001b[1;34m\"manoj\"\u001b[0m\u001b[1;33m)\u001b[0m\u001b[1;33m\u001b[0m\u001b[1;33m\u001b[0m\u001b[0m\n\u001b[0m",
      "\u001b[1;31mKeyError\u001b[0m: 'manoj'"
     ]
    }
   ],
   "source": [
    "s.remove(\"manoj\")"
   ]
  },
  {
   "cell_type": "code",
   "execution_count": 26,
   "id": "cb1547ad",
   "metadata": {},
   "outputs": [
    {
     "data": {
      "text/plain": [
       "{34, 45, 56, 67, 78, 'KUMAR', 'Sudh', 'kumar', 'sudh'}"
      ]
     },
     "execution_count": 26,
     "metadata": {},
     "output_type": "execute_result"
    }
   ],
   "source": [
    "s"
   ]
  },
  {
   "cell_type": "code",
   "execution_count": 195,
   "id": "df66db30",
   "metadata": {},
   "outputs": [
    {
     "data": {
      "text/plain": [
       "True"
      ]
     },
     "execution_count": 195,
     "metadata": {},
     "output_type": "execute_result"
    }
   ],
   "source": [
    "100 in s"
   ]
  },
  {
   "cell_type": "code",
   "execution_count": 196,
   "id": "c00b7a69",
   "metadata": {},
   "outputs": [],
   "source": [
    "s.clear()"
   ]
  },
  {
   "cell_type": "code",
   "execution_count": 197,
   "id": "e2637fd4",
   "metadata": {},
   "outputs": [
    {
     "data": {
      "text/plain": [
       "set()"
      ]
     },
     "execution_count": 197,
     "metadata": {},
     "output_type": "execute_result"
    }
   ],
   "source": [
    "s"
   ]
  },
  {
   "cell_type": "code",
   "execution_count": 31,
   "id": "f1f96793",
   "metadata": {},
   "outputs": [],
   "source": [
    "s.add(\"manoj\")"
   ]
  },
  {
   "cell_type": "code",
   "execution_count": 32,
   "id": "8d4b7376",
   "metadata": {},
   "outputs": [],
   "source": [
    "s.add(234)"
   ]
  },
  {
   "cell_type": "code",
   "execution_count": 33,
   "id": "9c2743a1",
   "metadata": {},
   "outputs": [],
   "source": [
    "s.add(345)"
   ]
  },
  {
   "cell_type": "code",
   "execution_count": 37,
   "id": "f7f775d1",
   "metadata": {},
   "outputs": [],
   "source": [
    "s.add(\"wer\")"
   ]
  },
  {
   "cell_type": "code",
   "execution_count": 39,
   "id": "5101f919",
   "metadata": {},
   "outputs": [
    {
     "ename": "AttributeError",
     "evalue": "'set' object has no attribute 'append'",
     "output_type": "error",
     "traceback": [
      "\u001b[1;31m---------------------------------------------------------------------------\u001b[0m",
      "\u001b[1;31mAttributeError\u001b[0m                            Traceback (most recent call last)",
      "\u001b[1;32m~\\AppData\\Local\\Temp/ipykernel_19352/1388296778.py\u001b[0m in \u001b[0;36m<module>\u001b[1;34m\u001b[0m\n\u001b[1;32m----> 1\u001b[1;33m \u001b[0ms\u001b[0m\u001b[1;33m.\u001b[0m\u001b[0mappend\u001b[0m\u001b[1;33m(\u001b[0m\u001b[1;34m'man'\u001b[0m\u001b[1;33m)\u001b[0m\u001b[1;33m\u001b[0m\u001b[1;33m\u001b[0m\u001b[0m\n\u001b[0m",
      "\u001b[1;31mAttributeError\u001b[0m: 'set' object has no attribute 'append'"
     ]
    }
   ],
   "source": [
    "s.append('man')"
   ]
  },
  {
   "cell_type": "code",
   "execution_count": 41,
   "id": "7d2b946c",
   "metadata": {},
   "outputs": [
    {
     "ename": "AttributeError",
     "evalue": "'set' object has no attribute 'insert'",
     "output_type": "error",
     "traceback": [
      "\u001b[1;31m---------------------------------------------------------------------------\u001b[0m",
      "\u001b[1;31mAttributeError\u001b[0m                            Traceback (most recent call last)",
      "\u001b[1;32m~\\AppData\\Local\\Temp/ipykernel_19352/2710416715.py\u001b[0m in \u001b[0;36m<module>\u001b[1;34m\u001b[0m\n\u001b[1;32m----> 1\u001b[1;33m \u001b[0ms\u001b[0m\u001b[1;33m.\u001b[0m\u001b[0minsert\u001b[0m\u001b[1;33m(\u001b[0m\u001b[1;36m1\u001b[0m\u001b[1;33m,\u001b[0m\u001b[1;36m100\u001b[0m\u001b[1;33m)\u001b[0m\u001b[1;33m\u001b[0m\u001b[1;33m\u001b[0m\u001b[0m\n\u001b[0m",
      "\u001b[1;31mAttributeError\u001b[0m: 'set' object has no attribute 'insert'"
     ]
    }
   ],
   "source": [
    "s.insert(1,100)"
   ]
  },
  {
   "cell_type": "code",
   "execution_count": 42,
   "id": "b75587b3",
   "metadata": {},
   "outputs": [
    {
     "ename": "AttributeError",
     "evalue": "'set' object has no attribute 'extend'",
     "output_type": "error",
     "traceback": [
      "\u001b[1;31m---------------------------------------------------------------------------\u001b[0m",
      "\u001b[1;31mAttributeError\u001b[0m                            Traceback (most recent call last)",
      "\u001b[1;32m~\\AppData\\Local\\Temp/ipykernel_19352/2338569228.py\u001b[0m in \u001b[0;36m<module>\u001b[1;34m\u001b[0m\n\u001b[1;32m----> 1\u001b[1;33m \u001b[0ms\u001b[0m\u001b[1;33m.\u001b[0m\u001b[0mextend\u001b[0m\u001b[1;33m(\u001b[0m\u001b[1;34m'df'\u001b[0m\u001b[1;33m)\u001b[0m\u001b[1;33m\u001b[0m\u001b[1;33m\u001b[0m\u001b[0m\n\u001b[0m",
      "\u001b[1;31mAttributeError\u001b[0m: 'set' object has no attribute 'extend'"
     ]
    }
   ],
   "source": [
    "s.extend('df')"
   ]
  },
  {
   "cell_type": "code",
   "execution_count": 43,
   "id": "7e651445",
   "metadata": {},
   "outputs": [
    {
     "data": {
      "text/plain": [
       "{234,\n",
       " 34,\n",
       " 345,\n",
       " 45,\n",
       " 56,\n",
       " 67,\n",
       " 78,\n",
       " 'KUMAR',\n",
       " 'Sudh',\n",
       " 'kumar',\n",
       " 'manoj',\n",
       " 'sudh',\n",
       " 'wer'}"
      ]
     },
     "execution_count": 43,
     "metadata": {},
     "output_type": "execute_result"
    }
   ],
   "source": [
    "s"
   ]
  },
  {
   "cell_type": "code",
   "execution_count": 36,
   "id": "4fa12b3f",
   "metadata": {},
   "outputs": [],
   "source": [
    "s1 = set(l)"
   ]
  },
  {
   "cell_type": "code",
   "execution_count": 208,
   "id": "45bd5aca",
   "metadata": {},
   "outputs": [],
   "source": [
    "l = [323,654,65,125,466]"
   ]
  },
  {
   "cell_type": "code",
   "execution_count": 209,
   "id": "fef420c9",
   "metadata": {},
   "outputs": [
    {
     "data": {
      "text/plain": [
       "list"
      ]
     },
     "execution_count": 209,
     "metadata": {},
     "output_type": "execute_result"
    }
   ],
   "source": [
    "type(l)"
   ]
  },
  {
   "cell_type": "code",
   "execution_count": 210,
   "id": "6d9019f9",
   "metadata": {},
   "outputs": [
    {
     "data": {
      "text/plain": [
       "{21, 23, 32, 'manoj', 'sharma'}"
      ]
     },
     "execution_count": 210,
     "metadata": {},
     "output_type": "execute_result"
    }
   ],
   "source": [
    "s1"
   ]
  },
  {
   "cell_type": "code",
   "execution_count": 211,
   "id": "a771e140",
   "metadata": {},
   "outputs": [
    {
     "data": {
      "text/plain": [
       "set"
      ]
     },
     "execution_count": 211,
     "metadata": {},
     "output_type": "execute_result"
    }
   ],
   "source": [
    "type(s1)"
   ]
  },
  {
   "cell_type": "code",
   "execution_count": 212,
   "id": "573b4a7d",
   "metadata": {},
   "outputs": [
    {
     "ename": "TypeError",
     "evalue": "unsupported operand type(s) for +: 'set' and 'set'",
     "output_type": "error",
     "traceback": [
      "\u001b[1;31m---------------------------------------------------------------------------\u001b[0m",
      "\u001b[1;31mTypeError\u001b[0m                                 Traceback (most recent call last)",
      "\u001b[1;32m~\\AppData\\Local\\Temp/ipykernel_11936/1201468510.py\u001b[0m in \u001b[0;36m<module>\u001b[1;34m\u001b[0m\n\u001b[1;32m----> 1\u001b[1;33m \u001b[0ms\u001b[0m \u001b[1;33m+\u001b[0m \u001b[0ms1\u001b[0m   \u001b[1;31m#set not allow to add sets\u001b[0m\u001b[1;33m\u001b[0m\u001b[1;33m\u001b[0m\u001b[0m\n\u001b[0m",
      "\u001b[1;31mTypeError\u001b[0m: unsupported operand type(s) for +: 'set' and 'set'"
     ]
    }
   ],
   "source": [
    "s + s1   #set not allow to add sets "
   ]
  },
  {
   "cell_type": "code",
   "execution_count": 213,
   "id": "c661b7da",
   "metadata": {},
   "outputs": [
    {
     "data": {
      "text/plain": [
       "{234, 345, 'manoj', 'wer'}"
      ]
     },
     "execution_count": 213,
     "metadata": {},
     "output_type": "execute_result"
    }
   ],
   "source": [
    "s"
   ]
  },
  {
   "cell_type": "code",
   "execution_count": 214,
   "id": "c6b3d298",
   "metadata": {},
   "outputs": [
    {
     "ename": "TypeError",
     "evalue": "unsupported operand type(s) for *: 'set' and 'int'",
     "output_type": "error",
     "traceback": [
      "\u001b[1;31m---------------------------------------------------------------------------\u001b[0m",
      "\u001b[1;31mTypeError\u001b[0m                                 Traceback (most recent call last)",
      "\u001b[1;32m~\\AppData\\Local\\Temp/ipykernel_11936/1151844240.py\u001b[0m in \u001b[0;36m<module>\u001b[1;34m\u001b[0m\n\u001b[1;32m----> 1\u001b[1;33m \u001b[0ms\u001b[0m\u001b[1;33m*\u001b[0m\u001b[1;36m4\u001b[0m     \u001b[1;31m#set not allow to multiplies\u001b[0m\u001b[1;33m\u001b[0m\u001b[1;33m\u001b[0m\u001b[0m\n\u001b[0m",
      "\u001b[1;31mTypeError\u001b[0m: unsupported operand type(s) for *: 'set' and 'int'"
     ]
    }
   ],
   "source": [
    "s*4     #set not allow to multiplies"
   ]
  },
  {
   "cell_type": "code",
   "execution_count": 215,
   "id": "2268e438",
   "metadata": {},
   "outputs": [
    {
     "data": {
      "text/plain": [
       "{234, 345, 'manoj', 'wer'}"
      ]
     },
     "execution_count": 215,
     "metadata": {},
     "output_type": "execute_result"
    }
   ],
   "source": [
    "s"
   ]
  },
  {
   "cell_type": "code",
   "execution_count": 216,
   "id": "b0bd967b",
   "metadata": {},
   "outputs": [],
   "source": [
    "l = list(s)"
   ]
  },
  {
   "cell_type": "code",
   "execution_count": 217,
   "id": "1b812a1d",
   "metadata": {},
   "outputs": [
    {
     "data": {
      "text/plain": [
       "[345,\n",
       " 234,\n",
       " 'manoj',\n",
       " 'wer',\n",
       " 345,\n",
       " 234,\n",
       " 'manoj',\n",
       " 'wer',\n",
       " 345,\n",
       " 234,\n",
       " 'manoj',\n",
       " 'wer',\n",
       " 345,\n",
       " 234,\n",
       " 'manoj',\n",
       " 'wer']"
      ]
     },
     "execution_count": 217,
     "metadata": {},
     "output_type": "execute_result"
    }
   ],
   "source": [
    "l*4"
   ]
  },
  {
   "cell_type": "code",
   "execution_count": 218,
   "id": "ccfc704a",
   "metadata": {},
   "outputs": [],
   "source": [
    "l.append(5)"
   ]
  },
  {
   "cell_type": "code",
   "execution_count": 219,
   "id": "e33fa32d",
   "metadata": {},
   "outputs": [
    {
     "data": {
      "text/plain": [
       "[345, 234, 'manoj', 'wer', 5]"
      ]
     },
     "execution_count": 219,
     "metadata": {},
     "output_type": "execute_result"
    }
   ],
   "source": [
    "l"
   ]
  },
  {
   "cell_type": "code",
   "execution_count": 220,
   "id": "c395eb57",
   "metadata": {},
   "outputs": [
    {
     "data": {
      "text/plain": [
       "{234, 345, 'manoj', 'wer'}"
      ]
     },
     "execution_count": 220,
     "metadata": {},
     "output_type": "execute_result"
    }
   ],
   "source": [
    "s"
   ]
  },
  {
   "cell_type": "code",
   "execution_count": 221,
   "id": "5d9c8458",
   "metadata": {},
   "outputs": [],
   "source": [
    "m = tuple(s)"
   ]
  },
  {
   "cell_type": "code",
   "execution_count": 46,
   "id": "68ec5870",
   "metadata": {},
   "outputs": [
    {
     "data": {
      "text/plain": [
       "[34,\n",
       " 45,\n",
       " 45,\n",
       " 45,\n",
       " 45,\n",
       " 67,\n",
       " 34,\n",
       " 56,\n",
       " 78,\n",
       " 'sudh',\n",
       " 'Sudh',\n",
       " 'kumar',\n",
       " 'KUMAR',\n",
       " 34,\n",
       " 45,\n",
       " 45,\n",
       " 45,\n",
       " 45,\n",
       " 67,\n",
       " 34,\n",
       " 56,\n",
       " 78,\n",
       " 'sudh',\n",
       " 'Sudh',\n",
       " 'kumar',\n",
       " 'KUMAR']"
      ]
     },
     "execution_count": 46,
     "metadata": {},
     "output_type": "execute_result"
    }
   ],
   "source": [
    "m*2"
   ]
  },
  {
   "cell_type": "code",
   "execution_count": 223,
   "id": "0fd6c308",
   "metadata": {},
   "outputs": [
    {
     "data": {
      "text/plain": [
       "{234, 345, 'manoj', 'wer'}"
      ]
     },
     "execution_count": 223,
     "metadata": {},
     "output_type": "execute_result"
    }
   ],
   "source": [
    "s"
   ]
  },
  {
   "cell_type": "code",
   "execution_count": 224,
   "id": "343935c5",
   "metadata": {},
   "outputs": [
    {
     "ename": "TypeError",
     "evalue": "'set' object is not subscriptable",
     "output_type": "error",
     "traceback": [
      "\u001b[1;31m---------------------------------------------------------------------------\u001b[0m",
      "\u001b[1;31mTypeError\u001b[0m                                 Traceback (most recent call last)",
      "\u001b[1;32m~\\AppData\\Local\\Temp/ipykernel_11936/1847970599.py\u001b[0m in \u001b[0;36m<module>\u001b[1;34m\u001b[0m\n\u001b[1;32m----> 1\u001b[1;33m \u001b[0ms\u001b[0m\u001b[1;33m[\u001b[0m\u001b[1;36m0\u001b[0m\u001b[1;33m]\u001b[0m  \u001b[1;31m#set dont work on index\u001b[0m\u001b[1;33m\u001b[0m\u001b[1;33m\u001b[0m\u001b[0m\n\u001b[0m",
      "\u001b[1;31mTypeError\u001b[0m: 'set' object is not subscriptable"
     ]
    }
   ],
   "source": [
    "s[0]  #set dont work on index "
   ]
  },
  {
   "cell_type": "code",
   "execution_count": 225,
   "id": "fd760572",
   "metadata": {},
   "outputs": [],
   "source": [
    "# dictionary"
   ]
  },
  {
   "cell_type": "code",
   "execution_count": 226,
   "id": "5818ef7e",
   "metadata": {},
   "outputs": [],
   "source": [
    "x = {}"
   ]
  },
  {
   "cell_type": "code",
   "execution_count": 227,
   "id": "5b2e3938",
   "metadata": {},
   "outputs": [
    {
     "data": {
      "text/plain": [
       "dict"
      ]
     },
     "execution_count": 227,
     "metadata": {},
     "output_type": "execute_result"
    }
   ],
   "source": [
    "type(x)"
   ]
  },
  {
   "cell_type": "code",
   "execution_count": 228,
   "id": "e2cd2104",
   "metadata": {},
   "outputs": [],
   "source": [
    "x1 = {34,56}"
   ]
  },
  {
   "cell_type": "code",
   "execution_count": 229,
   "id": "ec93bcd4",
   "metadata": {},
   "outputs": [
    {
     "data": {
      "text/plain": [
       "set"
      ]
     },
     "execution_count": 229,
     "metadata": {},
     "output_type": "execute_result"
    }
   ],
   "source": [
    "type(x1)"
   ]
  },
  {
   "cell_type": "code",
   "execution_count": 230,
   "id": "85efbe74",
   "metadata": {},
   "outputs": [],
   "source": [
    "x1 = {34:56}"
   ]
  },
  {
   "cell_type": "code",
   "execution_count": 231,
   "id": "80d9de5a",
   "metadata": {},
   "outputs": [
    {
     "data": {
      "text/plain": [
       "dict"
      ]
     },
     "execution_count": 231,
     "metadata": {},
     "output_type": "execute_result"
    }
   ],
   "source": [
    "type(x1)"
   ]
  },
  {
   "cell_type": "code",
   "execution_count": 1,
   "id": "ee536d7f",
   "metadata": {},
   "outputs": [],
   "source": [
    "x = {\"name\":\"manoj\",\"age\":33}  #work as key:value"
   ]
  },
  {
   "cell_type": "code",
   "execution_count": 2,
   "id": "68f8cdb1",
   "metadata": {},
   "outputs": [
    {
     "data": {
      "text/plain": [
       "dict"
      ]
     },
     "execution_count": 2,
     "metadata": {},
     "output_type": "execute_result"
    }
   ],
   "source": [
    "type(x)"
   ]
  },
  {
   "cell_type": "code",
   "execution_count": 3,
   "id": "599eb154",
   "metadata": {},
   "outputs": [],
   "source": [
    "x1 = {\"name\":\"manoj\",\"age\":33,\"name\":\"monu\",\"age\":35,\"name\":\"sharma\"}"
   ]
  },
  {
   "cell_type": "code",
   "execution_count": 4,
   "id": "c781f57a",
   "metadata": {},
   "outputs": [
    {
     "data": {
      "text/plain": [
       "{'name': 'sharma', 'age': 35}"
      ]
     },
     "execution_count": 4,
     "metadata": {},
     "output_type": "execute_result"
    }
   ],
   "source": [
    "x1   #execute key only and give last one if multiples same keys are there"
   ]
  },
  {
   "cell_type": "code",
   "execution_count": 6,
   "id": "ec206f4e",
   "metadata": {},
   "outputs": [
    {
     "data": {
      "text/plain": [
       "dict_keys(['name', 'age'])"
      ]
     },
     "execution_count": 6,
     "metadata": {},
     "output_type": "execute_result"
    }
   ],
   "source": [
    "x1.keys()"
   ]
  },
  {
   "cell_type": "code",
   "execution_count": 7,
   "id": "6b405c53",
   "metadata": {},
   "outputs": [
    {
     "data": {
      "text/plain": [
       "dict_values(['sharma', 35])"
      ]
     },
     "execution_count": 7,
     "metadata": {},
     "output_type": "execute_result"
    }
   ],
   "source": [
    "x1.values()"
   ]
  },
  {
   "cell_type": "code",
   "execution_count": 236,
   "id": "50f75fc5",
   "metadata": {},
   "outputs": [],
   "source": [
    "#variable not allow as key use alway str\n",
    "#variable wise not allowed duplicate\n",
    "#value can be duplicateara\n",
    "#can add list, tuple\n",
    "#special character not allow\n",
    "#can not add,multiple of dictionary\n",
    "#muttable"
   ]
  },
  {
   "cell_type": "code",
   "execution_count": 47,
   "id": "05df39e5",
   "metadata": {},
   "outputs": [],
   "source": [
    "x2 = {\"name\":\"manoj\",\"age\":33,\"name\":[2,21],\"age\":(32,223,\"manjoi\"),\"name\":\"sharma\"}"
   ]
  },
  {
   "cell_type": "code",
   "execution_count": 48,
   "id": "9399f828",
   "metadata": {},
   "outputs": [
    {
     "data": {
      "text/plain": [
       "'manjoi'"
      ]
     },
     "execution_count": 48,
     "metadata": {},
     "output_type": "execute_result"
    }
   ],
   "source": [
    "x2[\"age\"][2]"
   ]
  },
  {
   "cell_type": "code",
   "execution_count": null,
   "id": "a7984a4a",
   "metadata": {},
   "outputs": [],
   "source": []
  },
  {
   "cell_type": "code",
   "execution_count": 4,
   "id": "204d4291",
   "metadata": {},
   "outputs": [],
   "source": [
    "x2 = {\"name\":\"manoj\",\"hello\":{\"k4\":[23,45,98]},\"age\":33,\"name\":[2,21],\"age\":(32,223,\"manjoi\"),\"name\":\"sharma\"}"
   ]
  },
  {
   "cell_type": "code",
   "execution_count": 5,
   "id": "65c70673",
   "metadata": {},
   "outputs": [
    {
     "data": {
      "text/plain": [
       "{'name': 'sharma', 'hello': {'k4': [23, 45, 98]}, 'age': (32, 223, 'manjoi')}"
      ]
     },
     "execution_count": 5,
     "metadata": {},
     "output_type": "execute_result"
    }
   ],
   "source": [
    "x2"
   ]
  },
  {
   "cell_type": "code",
   "execution_count": 6,
   "id": "a1e44c88",
   "metadata": {},
   "outputs": [
    {
     "data": {
      "text/plain": [
       "98"
      ]
     },
     "execution_count": 6,
     "metadata": {},
     "output_type": "execute_result"
    }
   ],
   "source": [
    "x2[\"hello\"][\"k4\"][2]"
   ]
  },
  {
   "cell_type": "code",
   "execution_count": 7,
   "id": "2e21e3af",
   "metadata": {},
   "outputs": [
    {
     "data": {
      "text/plain": [
       "{'k4': [23, 45, 98]}"
      ]
     },
     "execution_count": 7,
     "metadata": {},
     "output_type": "execute_result"
    }
   ],
   "source": [
    "x2[\"hello\"]"
   ]
  },
  {
   "cell_type": "code",
   "execution_count": 8,
   "id": "31465196",
   "metadata": {},
   "outputs": [
    {
     "data": {
      "text/plain": [
       "[23, 45, 98]"
      ]
     },
     "execution_count": 8,
     "metadata": {},
     "output_type": "execute_result"
    }
   ],
   "source": [
    "x2[\"hello\"][\"k4\"]"
   ]
  },
  {
   "cell_type": "code",
   "execution_count": 9,
   "id": "3ebdb9e0",
   "metadata": {},
   "outputs": [
    {
     "data": {
      "text/plain": [
       "23"
      ]
     },
     "execution_count": 9,
     "metadata": {},
     "output_type": "execute_result"
    }
   ],
   "source": [
    "x2[\"hello\"][\"k4\"][0]"
   ]
  },
  {
   "cell_type": "code",
   "execution_count": 51,
   "id": "b0e85bc2",
   "metadata": {},
   "outputs": [
    {
     "data": {
      "text/plain": [
       "{'name': 'sharma', 'age': (32, 223, 'manjoi')}"
      ]
     },
     "execution_count": 51,
     "metadata": {},
     "output_type": "execute_result"
    }
   ],
   "source": [
    "x2"
   ]
  },
  {
   "cell_type": "code",
   "execution_count": 52,
   "id": "fd549188",
   "metadata": {},
   "outputs": [],
   "source": [
    "x3 ={656:\"jal\",32:\"muno\"}"
   ]
  },
  {
   "cell_type": "code",
   "execution_count": 53,
   "id": "831f20b4",
   "metadata": {},
   "outputs": [
    {
     "ename": "TypeError",
     "evalue": "unsupported operand type(s) for +: 'dict' and 'dict'",
     "output_type": "error",
     "traceback": [
      "\u001b[1;31m---------------------------------------------------------------------------\u001b[0m",
      "\u001b[1;31mTypeError\u001b[0m                                 Traceback (most recent call last)",
      "\u001b[1;32m~\\AppData\\Local\\Temp/ipykernel_19352/4219116927.py\u001b[0m in \u001b[0;36m<module>\u001b[1;34m\u001b[0m\n\u001b[1;32m----> 1\u001b[1;33m \u001b[0mx2\u001b[0m\u001b[1;33m+\u001b[0m\u001b[0mx3\u001b[0m\u001b[1;33m\u001b[0m\u001b[1;33m\u001b[0m\u001b[0m\n\u001b[0m",
      "\u001b[1;31mTypeError\u001b[0m: unsupported operand type(s) for +: 'dict' and 'dict'"
     ]
    }
   ],
   "source": [
    "x2+x3"
   ]
  },
  {
   "cell_type": "code",
   "execution_count": 35,
   "id": "261c6971",
   "metadata": {},
   "outputs": [
    {
     "ename": "TypeError",
     "evalue": "unsupported operand type(s) for *: 'dict' and 'int'",
     "output_type": "error",
     "traceback": [
      "\u001b[1;31m---------------------------------------------------------------------------\u001b[0m",
      "\u001b[1;31mTypeError\u001b[0m                                 Traceback (most recent call last)",
      "\u001b[1;32m~\\AppData\\Local\\Temp/ipykernel_20100/2809310925.py\u001b[0m in \u001b[0;36m<module>\u001b[1;34m\u001b[0m\n\u001b[1;32m----> 1\u001b[1;33m \u001b[0mx2\u001b[0m\u001b[1;33m*\u001b[0m\u001b[1;36m2\u001b[0m\u001b[1;33m\u001b[0m\u001b[1;33m\u001b[0m\u001b[0m\n\u001b[0m",
      "\u001b[1;31mTypeError\u001b[0m: unsupported operand type(s) for *: 'dict' and 'int'"
     ]
    }
   ],
   "source": [
    "x2*2"
   ]
  },
  {
   "cell_type": "code",
   "execution_count": 36,
   "id": "2661bff3",
   "metadata": {},
   "outputs": [
    {
     "data": {
      "text/plain": [
       "{656: 'jal', 32: 'muno'}"
      ]
     },
     "execution_count": 36,
     "metadata": {},
     "output_type": "execute_result"
    }
   ],
   "source": [
    "x3"
   ]
  },
  {
   "cell_type": "code",
   "execution_count": 37,
   "id": "77e7efee",
   "metadata": {},
   "outputs": [
    {
     "data": {
      "text/plain": [
       "dict"
      ]
     },
     "execution_count": 37,
     "metadata": {},
     "output_type": "execute_result"
    }
   ],
   "source": [
    "type(x3)"
   ]
  },
  {
   "cell_type": "code",
   "execution_count": 38,
   "id": "0fadb294",
   "metadata": {},
   "outputs": [],
   "source": [
    "x3[32]=\"kanta\"\n",
    "x3[\"jal\"]=200"
   ]
  },
  {
   "cell_type": "code",
   "execution_count": 39,
   "id": "f49a09fc",
   "metadata": {},
   "outputs": [
    {
     "data": {
      "text/plain": [
       "{656: 'jal', 32: 'kanta', 'jal': 200}"
      ]
     },
     "execution_count": 39,
     "metadata": {},
     "output_type": "execute_result"
    }
   ],
   "source": [
    "x3"
   ]
  },
  {
   "cell_type": "code",
   "execution_count": 40,
   "id": "dd6c4f80",
   "metadata": {},
   "outputs": [
    {
     "data": {
      "text/plain": [
       "{656: 'jal', 32: 'kanta', 'jal': 200}"
      ]
     },
     "execution_count": 40,
     "metadata": {},
     "output_type": "execute_result"
    }
   ],
   "source": [
    "x3"
   ]
  },
  {
   "cell_type": "code",
   "execution_count": 41,
   "id": "4d448923",
   "metadata": {},
   "outputs": [],
   "source": [
    "x3[\"jal\"]-=150"
   ]
  },
  {
   "cell_type": "code",
   "execution_count": 42,
   "id": "8a1bfb7f",
   "metadata": {},
   "outputs": [
    {
     "data": {
      "text/plain": [
       "{656: 'jal', 32: 'kanta', 'jal': 50}"
      ]
     },
     "execution_count": 42,
     "metadata": {},
     "output_type": "execute_result"
    }
   ],
   "source": [
    "x3"
   ]
  },
  {
   "cell_type": "code",
   "execution_count": 43,
   "id": "dcdd7664",
   "metadata": {},
   "outputs": [
    {
     "data": {
      "text/plain": [
       "dict_keys([656, 32, 'jal'])"
      ]
     },
     "execution_count": 43,
     "metadata": {},
     "output_type": "execute_result"
    }
   ],
   "source": [
    "x3.keys()"
   ]
  },
  {
   "cell_type": "code",
   "execution_count": 44,
   "id": "b62ea407",
   "metadata": {},
   "outputs": [
    {
     "data": {
      "text/plain": [
       "dict_values(['jal', 'kanta', 50])"
      ]
     },
     "execution_count": 44,
     "metadata": {},
     "output_type": "execute_result"
    }
   ],
   "source": [
    "x3.values()"
   ]
  },
  {
   "cell_type": "code",
   "execution_count": 45,
   "id": "1563e092",
   "metadata": {},
   "outputs": [
    {
     "data": {
      "text/plain": [
       "{656: 'jal', 32: 'kanta', 'jal': 50}"
      ]
     },
     "execution_count": 45,
     "metadata": {},
     "output_type": "execute_result"
    }
   ],
   "source": [
    "x3"
   ]
  },
  {
   "cell_type": "code",
   "execution_count": 50,
   "id": "10c9d7f1",
   "metadata": {},
   "outputs": [
    {
     "data": {
      "text/plain": [
       "True"
      ]
     },
     "execution_count": 50,
     "metadata": {},
     "output_type": "execute_result"
    }
   ],
   "source": [
    "656 in x3.keys()"
   ]
  },
  {
   "cell_type": "code",
   "execution_count": 52,
   "id": "6760a159",
   "metadata": {},
   "outputs": [
    {
     "data": {
      "text/plain": [
       "True"
      ]
     },
     "execution_count": 52,
     "metadata": {},
     "output_type": "execute_result"
    }
   ],
   "source": [
    "'jal' in x3"
   ]
  },
  {
   "cell_type": "code",
   "execution_count": 54,
   "id": "72d0792d",
   "metadata": {},
   "outputs": [
    {
     "data": {
      "text/plain": [
       "False"
      ]
     },
     "execution_count": 54,
     "metadata": {},
     "output_type": "execute_result"
    }
   ],
   "source": [
    "'kanta' in x3"
   ]
  },
  {
   "cell_type": "code",
   "execution_count": 55,
   "id": "2c0b2461",
   "metadata": {},
   "outputs": [
    {
     "data": {
      "text/plain": [
       "True"
      ]
     },
     "execution_count": 55,
     "metadata": {},
     "output_type": "execute_result"
    }
   ],
   "source": [
    "'kanta' in x3.values()"
   ]
  },
  {
   "cell_type": "code",
   "execution_count": 49,
   "id": "fc74d1fd",
   "metadata": {},
   "outputs": [
    {
     "data": {
      "text/plain": [
       "True"
      ]
     },
     "execution_count": 49,
     "metadata": {},
     "output_type": "execute_result"
    }
   ],
   "source": [
    "'jal' in x3.keys()"
   ]
  },
  {
   "cell_type": "code",
   "execution_count": 48,
   "id": "96b6ac9d",
   "metadata": {},
   "outputs": [
    {
     "data": {
      "text/plain": [
       "True"
      ]
     },
     "execution_count": 48,
     "metadata": {},
     "output_type": "execute_result"
    }
   ],
   "source": [
    "32 in x3"
   ]
  },
  {
   "cell_type": "code",
   "execution_count": 32,
   "id": "9274b3f3",
   "metadata": {},
   "outputs": [
    {
     "data": {
      "text/plain": [
       "True"
      ]
     },
     "execution_count": 32,
     "metadata": {},
     "output_type": "execute_result"
    }
   ],
   "source": [
    "'jal' in x3.values()"
   ]
  },
  {
   "cell_type": "code",
   "execution_count": 256,
   "id": "44ca6194",
   "metadata": {},
   "outputs": [
    {
     "data": {
      "text/plain": [
       "False"
      ]
     },
     "execution_count": 256,
     "metadata": {},
     "output_type": "execute_result"
    }
   ],
   "source": [
    "'muno' in x3.values()"
   ]
  },
  {
   "cell_type": "code",
   "execution_count": 98,
   "id": "bf8a8d4d",
   "metadata": {},
   "outputs": [
    {
     "data": {
      "text/plain": [
       "{656: 'jal', 32: 'kanta', 'jal': 50}"
      ]
     },
     "execution_count": 98,
     "metadata": {},
     "output_type": "execute_result"
    }
   ],
   "source": [
    "x3"
   ]
  },
  {
   "cell_type": "code",
   "execution_count": 99,
   "id": "b342f59a",
   "metadata": {},
   "outputs": [
    {
     "name": "stdout",
     "output_type": "stream",
     "text": [
      "656\n",
      "32\n",
      "jal\n"
     ]
    }
   ],
   "source": [
    "for i in x3 :\n",
    "    print(i)"
   ]
  },
  {
   "cell_type": "code",
   "execution_count": 100,
   "id": "b85ca3b5",
   "metadata": {},
   "outputs": [
    {
     "name": "stdout",
     "output_type": "stream",
     "text": [
      "jal\n",
      "kanta\n",
      "50\n"
     ]
    }
   ],
   "source": [
    "for i in x3.values():\n",
    "    print(i)"
   ]
  },
  {
   "cell_type": "code",
   "execution_count": 101,
   "id": "b07738a7",
   "metadata": {},
   "outputs": [
    {
     "data": {
      "text/plain": [
       "{'name': 'sharma', 'hello': {'k4': [23, 45, 98]}, 'age': (32, 223, 'manjoi')}"
      ]
     },
     "execution_count": 101,
     "metadata": {},
     "output_type": "execute_result"
    }
   ],
   "source": [
    "x2"
   ]
  },
  {
   "cell_type": "code",
   "execution_count": 102,
   "id": "30055fef",
   "metadata": {},
   "outputs": [
    {
     "data": {
      "text/plain": [
       "dict_keys(['name', 'hello', 'age'])"
      ]
     },
     "execution_count": 102,
     "metadata": {},
     "output_type": "execute_result"
    }
   ],
   "source": [
    "x2.keys()"
   ]
  },
  {
   "cell_type": "code",
   "execution_count": 56,
   "id": "fa4ee84c",
   "metadata": {},
   "outputs": [
    {
     "name": "stdout",
     "output_type": "stream",
     "text": [
      "name\n",
      "hello\n",
      "age\n"
     ]
    }
   ],
   "source": [
    "for i in x2.keys():\n",
    "    print(i)\n"
   ]
  },
  {
   "cell_type": "code",
   "execution_count": 59,
   "id": "6bdbab35",
   "metadata": {},
   "outputs": [
    {
     "data": {
      "text/plain": [
       "{'name': 'sharma', 'hello': {'k4': [23, 45, 98]}, 'age': (32, 223, 'manjoi')}"
      ]
     },
     "execution_count": 59,
     "metadata": {},
     "output_type": "execute_result"
    }
   ],
   "source": [
    "x2"
   ]
  },
  {
   "cell_type": "code",
   "execution_count": 63,
   "id": "f135c0c1",
   "metadata": {},
   "outputs": [
    {
     "data": {
      "text/plain": [
       "'sharma'"
      ]
     },
     "execution_count": 63,
     "metadata": {},
     "output_type": "execute_result"
    }
   ],
   "source": [
    "x2['name']"
   ]
  },
  {
   "cell_type": "code",
   "execution_count": 65,
   "id": "87eebe35",
   "metadata": {},
   "outputs": [
    {
     "data": {
      "text/plain": [
       "{'k4': [23, 45, 98]}"
      ]
     },
     "execution_count": 65,
     "metadata": {},
     "output_type": "execute_result"
    }
   ],
   "source": [
    "x2['hello']"
   ]
  },
  {
   "cell_type": "code",
   "execution_count": 67,
   "id": "545a4b1b",
   "metadata": {},
   "outputs": [
    {
     "data": {
      "text/plain": [
       "(32, 223, 'manjoi')"
      ]
     },
     "execution_count": 67,
     "metadata": {},
     "output_type": "execute_result"
    }
   ],
   "source": [
    "x2['age']"
   ]
  },
  {
   "cell_type": "code",
   "execution_count": 68,
   "id": "4dbb8fad",
   "metadata": {},
   "outputs": [
    {
     "data": {
      "text/plain": [
       "{'name': 'sharma', 'hello': {'k4': [23, 45, 98]}, 'age': (32, 223, 'manjoi')}"
      ]
     },
     "execution_count": 68,
     "metadata": {},
     "output_type": "execute_result"
    }
   ],
   "source": [
    "x2"
   ]
  },
  {
   "cell_type": "code",
   "execution_count": 69,
   "id": "8c077fcf",
   "metadata": {},
   "outputs": [
    {
     "name": "stdout",
     "output_type": "stream",
     "text": [
      "sharma\n",
      "{'k4': [23, 45, 98]}\n",
      "(32, 223, 'manjoi')\n"
     ]
    }
   ],
   "source": [
    "for i in x2.keys():\n",
    "        print(x2[i])\n"
   ]
  },
  {
   "cell_type": "code",
   "execution_count": 71,
   "id": "18853924",
   "metadata": {},
   "outputs": [
    {
     "name": "stdout",
     "output_type": "stream",
     "text": [
      "sharma\n",
      "{'k4': [23, 45, 98]}\n",
      "(32, 223, 'manjoi')\n"
     ]
    }
   ],
   "source": [
    "for i in x2.values():\n",
    "    print(i)"
   ]
  },
  {
   "cell_type": "code",
   "execution_count": 105,
   "id": "81dde806",
   "metadata": {},
   "outputs": [
    {
     "data": {
      "text/plain": [
       "{'name': 'sharma', 'hello': {'k4': [23, 45, 98]}, 'age': (32, 223, 'manjoi')}"
      ]
     },
     "execution_count": 105,
     "metadata": {},
     "output_type": "execute_result"
    }
   ],
   "source": [
    "x2"
   ]
  },
  {
   "cell_type": "code",
   "execution_count": 76,
   "id": "d5cf4d90",
   "metadata": {},
   "outputs": [
    {
     "name": "stdout",
     "output_type": "stream",
     "text": [
      "<class 'str'>\n",
      "<class 'dict'>\n",
      "<class 'tuple'>\n"
     ]
    }
   ],
   "source": [
    "for i in x2.keys():\n",
    "        print(type(x2[i]))     \n"
   ]
  },
  {
   "cell_type": "code",
   "execution_count": 77,
   "id": "b69549b2",
   "metadata": {},
   "outputs": [
    {
     "name": "stdout",
     "output_type": "stream",
     "text": [
      "<class 'str'>\n",
      "<class 'dict'>\n",
      "<class 'tuple'>\n"
     ]
    }
   ],
   "source": [
    "for i in x2.values():\n",
    "    print(type(i))"
   ]
  },
  {
   "cell_type": "code",
   "execution_count": 74,
   "id": "64986654",
   "metadata": {},
   "outputs": [
    {
     "name": "stdout",
     "output_type": "stream",
     "text": [
      "<class 'str'>\n",
      "<class 'str'>\n",
      "<class 'str'>\n"
     ]
    }
   ],
   "source": [
    "for i in x2:\n",
    "    print(type(i))"
   ]
  },
  {
   "cell_type": "code",
   "execution_count": 78,
   "id": "292d5ac2",
   "metadata": {},
   "outputs": [
    {
     "name": "stdout",
     "output_type": "stream",
     "text": [
      "<class 'str'>\n",
      "<class 'str'>\n",
      "<class 'str'>\n"
     ]
    }
   ],
   "source": [
    "for i in x2.keys():\n",
    "    print(type(i))"
   ]
  },
  {
   "cell_type": "code",
   "execution_count": 8,
   "id": "f74742ed",
   "metadata": {},
   "outputs": [
    {
     "ename": "NameError",
     "evalue": "name 'x2' is not defined",
     "output_type": "error",
     "traceback": [
      "\u001b[1;31m---------------------------------------------------------------------------\u001b[0m",
      "\u001b[1;31mNameError\u001b[0m                                 Traceback (most recent call last)",
      "\u001b[1;32m~\\AppData\\Local\\Temp/ipykernel_3396/1436027796.py\u001b[0m in \u001b[0;36m<module>\u001b[1;34m\u001b[0m\n\u001b[1;32m----> 1\u001b[1;33m \u001b[0mx2\u001b[0m\u001b[1;33m\u001b[0m\u001b[1;33m\u001b[0m\u001b[0m\n\u001b[0m",
      "\u001b[1;31mNameError\u001b[0m: name 'x2' is not defined"
     ]
    }
   ],
   "source": [
    "x2"
   ]
  },
  {
   "cell_type": "code",
   "execution_count": 9,
   "id": "4d147939",
   "metadata": {},
   "outputs": [
    {
     "data": {
      "text/plain": [
       "{'man': 'manoj', 'ran': 'manoj', 'sam': 'manoj'}"
      ]
     },
     "execution_count": 9,
     "metadata": {},
     "output_type": "execute_result"
    }
   ],
   "source": [
    "x3 = {'man', 'sam', 'ran'}\n",
    "dict.fromkeys(x3,'manoj')"
   ]
  },
  {
   "cell_type": "code",
   "execution_count": 10,
   "id": "4985346a",
   "metadata": {},
   "outputs": [
    {
     "data": {
      "text/plain": [
       "{'man': 'jai', 'dan': 'jai', 'mam': 'jai'}"
      ]
     },
     "execution_count": 10,
     "metadata": {},
     "output_type": "execute_result"
    }
   ],
   "source": [
    "x4 = ('man','dan','mam')\n",
    "dict.fromkeys(x4,'jai')"
   ]
  },
  {
   "cell_type": "code",
   "execution_count": 11,
   "id": "efd1cd1d",
   "metadata": {},
   "outputs": [
    {
     "data": {
      "text/plain": [
       "{'a': 'manoj', 'b': 'manoj', 'c': 'manoj'}"
      ]
     },
     "execution_count": 11,
     "metadata": {},
     "output_type": "execute_result"
    }
   ],
   "source": [
    "x5 = {'a':2,'b':'ja','c':'ya'}\n",
    "x5.fromkeys(x5,'manoj')"
   ]
  },
  {
   "cell_type": "code",
   "execution_count": null,
   "id": "6c3d8979",
   "metadata": {},
   "outputs": [],
   "source": []
  },
  {
   "cell_type": "code",
   "execution_count": 108,
   "id": "b8231c11",
   "metadata": {},
   "outputs": [
    {
     "data": {
      "text/plain": [
       "dict_items([('name', 'sharma'), ('hello', {'k4': [23, 45, 98]}), ('age', (32, 223, 'manjoi'))])"
      ]
     },
     "execution_count": 108,
     "metadata": {},
     "output_type": "execute_result"
    }
   ],
   "source": [
    "x2.items()     #items funciton used to convert the keys and values in tuple"
   ]
  },
  {
   "cell_type": "code",
   "execution_count": 109,
   "id": "29ba4398",
   "metadata": {},
   "outputs": [
    {
     "name": "stdout",
     "output_type": "stream",
     "text": [
      "('name', 'sharma')\n",
      "('hello', {'k4': [23, 45, 98]})\n",
      "('age', (32, 223, 'manjoi'))\n"
     ]
    }
   ],
   "source": [
    "for i in x2.items():\n",
    "    print(i)"
   ]
  },
  {
   "cell_type": "code",
   "execution_count": 85,
   "id": "d49e303a",
   "metadata": {},
   "outputs": [
    {
     "name": "stdout",
     "output_type": "stream",
     "text": [
      "name\n",
      "hello\n",
      "age\n"
     ]
    }
   ],
   "source": [
    "for i in x2.items():\n",
    "    print(i[0])"
   ]
  },
  {
   "cell_type": "code",
   "execution_count": 87,
   "id": "21eadc9b",
   "metadata": {},
   "outputs": [
    {
     "name": "stdout",
     "output_type": "stream",
     "text": [
      "sharma\n",
      "{'k4': [23, 45, 98]}\n",
      "(32, 223, 'manjoi')\n"
     ]
    }
   ],
   "source": [
    "for i in x2.items():\n",
    "    print(i[1])"
   ]
  },
  {
   "cell_type": "code",
   "execution_count": 91,
   "id": "4ef04184",
   "metadata": {},
   "outputs": [
    {
     "data": {
      "text/plain": [
       "{'name': 'sharma', 'hello': {'k4': [23, 45, 98]}, 'age': (32, 223, 'manjoi')}"
      ]
     },
     "execution_count": 91,
     "metadata": {},
     "output_type": "execute_result"
    }
   ],
   "source": [
    "x2"
   ]
  },
  {
   "cell_type": "code",
   "execution_count": null,
   "id": "d2fdb2bb",
   "metadata": {},
   "outputs": [],
   "source": []
  },
  {
   "cell_type": "code",
   "execution_count": 97,
   "id": "fc62fddd",
   "metadata": {},
   "outputs": [
    {
     "data": {
      "text/plain": [
       "{'name': 'sharma', 'hello': {'k4': [23, 45, 98]}, 'age': (32, 223, 'manjoi')}"
      ]
     },
     "execution_count": 97,
     "metadata": {},
     "output_type": "execute_result"
    }
   ],
   "source": [
    "x2"
   ]
  },
  {
   "cell_type": "code",
   "execution_count": 98,
   "id": "9948f83c",
   "metadata": {},
   "outputs": [
    {
     "data": {
      "text/plain": [
       "3"
      ]
     },
     "execution_count": 98,
     "metadata": {},
     "output_type": "execute_result"
    }
   ],
   "source": [
    "len(x2)      # no. of key value"
   ]
  },
  {
   "cell_type": "code",
   "execution_count": 103,
   "id": "fee7f939",
   "metadata": {},
   "outputs": [
    {
     "data": {
      "text/plain": [
       "3"
      ]
     },
     "execution_count": 103,
     "metadata": {},
     "output_type": "execute_result"
    }
   ],
   "source": [
    "len(x2.keys())"
   ]
  },
  {
   "cell_type": "code",
   "execution_count": 105,
   "id": "55e1e1bd",
   "metadata": {},
   "outputs": [
    {
     "data": {
      "text/plain": [
       "3"
      ]
     },
     "execution_count": 105,
     "metadata": {},
     "output_type": "execute_result"
    }
   ],
   "source": [
    "len(x2.values())"
   ]
  },
  {
   "cell_type": "code",
   "execution_count": 57,
   "id": "10c586b9",
   "metadata": {},
   "outputs": [
    {
     "name": "stdout",
     "output_type": "stream",
     "text": [
      "enter the para:-kob, sob, job, kob, job, sob, job\n"
     ]
    }
   ],
   "source": [
    "p = input(\"enter the para:-\")     ### Q). take paragraph by using input then convert each word as sting into list then remove duplicate \n",
    "s = p.split()                     ###     then each distinct use as a key and give your name as value then try to print all key \n",
    "s1 =set(s)                        ###     and then value\n",
    "d = dict.fromkeys(s1,'manoj')\n",
    "t = tuple(d.keys())\n",
    "l = list(d.values())"
   ]
  },
  {
   "cell_type": "code",
   "execution_count": 58,
   "id": "445d2c6c",
   "metadata": {},
   "outputs": [
    {
     "data": {
      "text/plain": [
       "['kob,', 'sob,', 'job,', 'kob,', 'job,', 'sob,', 'job']"
      ]
     },
     "execution_count": 58,
     "metadata": {},
     "output_type": "execute_result"
    }
   ],
   "source": [
    "s"
   ]
  },
  {
   "cell_type": "code",
   "execution_count": 59,
   "id": "82636bdb",
   "metadata": {},
   "outputs": [
    {
     "data": {
      "text/plain": [
       "{'job', 'job,', 'kob,', 'sob,'}"
      ]
     },
     "execution_count": 59,
     "metadata": {},
     "output_type": "execute_result"
    }
   ],
   "source": [
    "s1"
   ]
  },
  {
   "cell_type": "code",
   "execution_count": 60,
   "id": "9e0558de",
   "metadata": {},
   "outputs": [
    {
     "data": {
      "text/plain": [
       "{'sob,': 'manoj', 'job,': 'manoj', 'job': 'manoj', 'kob,': 'manoj'}"
      ]
     },
     "execution_count": 60,
     "metadata": {},
     "output_type": "execute_result"
    }
   ],
   "source": [
    "d"
   ]
  },
  {
   "cell_type": "code",
   "execution_count": 276,
   "id": "3a29d860",
   "metadata": {},
   "outputs": [
    {
     "data": {
      "text/plain": [
       "('kob', 'job', 'sob')"
      ]
     },
     "execution_count": 276,
     "metadata": {},
     "output_type": "execute_result"
    }
   ],
   "source": [
    "t"
   ]
  },
  {
   "cell_type": "code",
   "execution_count": 277,
   "id": "e8bdb026",
   "metadata": {},
   "outputs": [
    {
     "data": {
      "text/plain": [
       "['manoj', 'manoj', 'manoj']"
      ]
     },
     "execution_count": 277,
     "metadata": {},
     "output_type": "execute_result"
    }
   ],
   "source": [
    "l"
   ]
  },
  {
   "cell_type": "code",
   "execution_count": null,
   "id": "5820384a",
   "metadata": {},
   "outputs": [],
   "source": []
  },
  {
   "cell_type": "code",
   "execution_count": 271,
   "id": "2cefee2f",
   "metadata": {},
   "outputs": [],
   "source": [
    "a = \"manoj k2 sharma monu\""
   ]
  },
  {
   "cell_type": "code",
   "execution_count": 264,
   "id": "3d5fc54a",
   "metadata": {},
   "outputs": [],
   "source": [
    "b = list(a)  #convert into list per letter"
   ]
  },
  {
   "cell_type": "code",
   "execution_count": 121,
   "id": "15724482",
   "metadata": {},
   "outputs": [
    {
     "data": {
      "text/plain": [
       "['m',\n",
       " 'a',\n",
       " 'n',\n",
       " 'o',\n",
       " 'j',\n",
       " ' ',\n",
       " 'k',\n",
       " '2',\n",
       " ' ',\n",
       " 's',\n",
       " 'h',\n",
       " 'a',\n",
       " 'r',\n",
       " 'm',\n",
       " 'a',\n",
       " ' ',\n",
       " 'm',\n",
       " 'o',\n",
       " 'n',\n",
       " 'u']"
      ]
     },
     "execution_count": 121,
     "metadata": {},
     "output_type": "execute_result"
    }
   ],
   "source": [
    "b"
   ]
  },
  {
   "cell_type": "code",
   "execution_count": 122,
   "id": "38c5fc84",
   "metadata": {},
   "outputs": [
    {
     "data": {
      "text/plain": [
       "'manoj k2 sharma monu'"
      ]
     },
     "execution_count": 122,
     "metadata": {},
     "output_type": "execute_result"
    }
   ],
   "source": [
    "a"
   ]
  },
  {
   "cell_type": "code",
   "execution_count": 123,
   "id": "78545ad6",
   "metadata": {},
   "outputs": [],
   "source": [
    "b = a.split()    #convert into list per word"
   ]
  },
  {
   "cell_type": "code",
   "execution_count": 124,
   "id": "56095aa7",
   "metadata": {},
   "outputs": [
    {
     "data": {
      "text/plain": [
       "['manoj', 'k2', 'sharma', 'monu']"
      ]
     },
     "execution_count": 124,
     "metadata": {},
     "output_type": "execute_result"
    }
   ],
   "source": [
    "b"
   ]
  },
  {
   "cell_type": "code",
   "execution_count": 125,
   "id": "5274a654",
   "metadata": {},
   "outputs": [],
   "source": [
    "d = dict.fromkeys(b,'ms')"
   ]
  },
  {
   "cell_type": "code",
   "execution_count": 126,
   "id": "bffc2f11",
   "metadata": {},
   "outputs": [
    {
     "data": {
      "text/plain": [
       "{'manoj': 'ms', 'k2': 'ms', 'sharma': 'ms', 'monu': 'ms'}"
      ]
     },
     "execution_count": 126,
     "metadata": {},
     "output_type": "execute_result"
    }
   ],
   "source": [
    "d"
   ]
  },
  {
   "cell_type": "code",
   "execution_count": 127,
   "id": "1acfe4ba",
   "metadata": {},
   "outputs": [
    {
     "data": {
      "text/plain": [
       "['manoj', 'k2', 'sharma', 'monu']"
      ]
     },
     "execution_count": 127,
     "metadata": {},
     "output_type": "execute_result"
    }
   ],
   "source": [
    "b"
   ]
  },
  {
   "cell_type": "code",
   "execution_count": 128,
   "id": "27712ee9",
   "metadata": {},
   "outputs": [],
   "source": [
    "d = dict.fromkeys(b,'ms')"
   ]
  },
  {
   "cell_type": "code",
   "execution_count": 129,
   "id": "75829b04",
   "metadata": {},
   "outputs": [
    {
     "data": {
      "text/plain": [
       "{'manoj': 'ms', 'k2': 'ms', 'sharma': 'ms', 'monu': 'ms'}"
      ]
     },
     "execution_count": 129,
     "metadata": {},
     "output_type": "execute_result"
    }
   ],
   "source": [
    "d"
   ]
  },
  {
   "cell_type": "code",
   "execution_count": 130,
   "id": "96523fec",
   "metadata": {},
   "outputs": [],
   "source": [
    "e = d.keys()"
   ]
  },
  {
   "cell_type": "code",
   "execution_count": 131,
   "id": "8e589afe",
   "metadata": {},
   "outputs": [
    {
     "data": {
      "text/plain": [
       "dict_keys(['manoj', 'k2', 'sharma', 'monu'])"
      ]
     },
     "execution_count": 131,
     "metadata": {},
     "output_type": "execute_result"
    }
   ],
   "source": [
    "e"
   ]
  },
  {
   "cell_type": "code",
   "execution_count": 132,
   "id": "08835acd",
   "metadata": {},
   "outputs": [],
   "source": [
    "e = tuple(d.keys())"
   ]
  },
  {
   "cell_type": "code",
   "execution_count": 133,
   "id": "8239fbf5",
   "metadata": {},
   "outputs": [
    {
     "data": {
      "text/plain": [
       "('manoj', 'k2', 'sharma', 'monu')"
      ]
     },
     "execution_count": 133,
     "metadata": {},
     "output_type": "execute_result"
    }
   ],
   "source": [
    "e"
   ]
  },
  {
   "cell_type": "code",
   "execution_count": 134,
   "id": "dcd06fef",
   "metadata": {},
   "outputs": [],
   "source": [
    "e = list(d.keys())"
   ]
  },
  {
   "cell_type": "code",
   "execution_count": 135,
   "id": "3c9bffee",
   "metadata": {},
   "outputs": [
    {
     "data": {
      "text/plain": [
       "['manoj', 'k2', 'sharma', 'monu']"
      ]
     },
     "execution_count": 135,
     "metadata": {},
     "output_type": "execute_result"
    }
   ],
   "source": [
    "e"
   ]
  },
  {
   "cell_type": "code",
   "execution_count": 136,
   "id": "fc2e0d4c",
   "metadata": {},
   "outputs": [
    {
     "data": {
      "text/plain": [
       "{'manoj': 'ms', 'k2': 'ms', 'sharma': 'ms', 'monu': 'ms'}"
      ]
     },
     "execution_count": 136,
     "metadata": {},
     "output_type": "execute_result"
    }
   ],
   "source": [
    "d"
   ]
  },
  {
   "cell_type": "code",
   "execution_count": 137,
   "id": "de215979",
   "metadata": {},
   "outputs": [],
   "source": [
    "f = d.values()"
   ]
  },
  {
   "cell_type": "code",
   "execution_count": 138,
   "id": "126ac09c",
   "metadata": {},
   "outputs": [
    {
     "data": {
      "text/plain": [
       "dict_values(['ms', 'ms', 'ms', 'ms'])"
      ]
     },
     "execution_count": 138,
     "metadata": {},
     "output_type": "execute_result"
    }
   ],
   "source": [
    "f"
   ]
  },
  {
   "cell_type": "code",
   "execution_count": 139,
   "id": "0668c8b3",
   "metadata": {},
   "outputs": [],
   "source": [
    "f = tuple(d.values())"
   ]
  },
  {
   "cell_type": "code",
   "execution_count": 140,
   "id": "e51c9a56",
   "metadata": {},
   "outputs": [
    {
     "data": {
      "text/plain": [
       "('ms', 'ms', 'ms', 'ms')"
      ]
     },
     "execution_count": 140,
     "metadata": {},
     "output_type": "execute_result"
    }
   ],
   "source": [
    "f"
   ]
  },
  {
   "cell_type": "code",
   "execution_count": 141,
   "id": "1eac2f3a",
   "metadata": {},
   "outputs": [],
   "source": [
    "f = list(d.values())"
   ]
  },
  {
   "cell_type": "code",
   "execution_count": 142,
   "id": "484c2d5a",
   "metadata": {},
   "outputs": [
    {
     "data": {
      "text/plain": [
       "['ms', 'ms', 'ms', 'ms']"
      ]
     },
     "execution_count": 142,
     "metadata": {},
     "output_type": "execute_result"
    }
   ],
   "source": [
    "f"
   ]
  },
  {
   "cell_type": "code",
   "execution_count": 13,
   "id": "18dfe97e",
   "metadata": {},
   "outputs": [],
   "source": [
    "c = [\"a\", 1, \"b\", 2, \"c\", 3, \"d\", 4]\n",
    "l=[]\n",
    "for i in c:\n",
    "    if type(i)==int:\n",
    "        l.append(i)\n",
    "        \n",
    "    "
   ]
  },
  {
   "cell_type": "code",
   "execution_count": 14,
   "id": "5067b656",
   "metadata": {},
   "outputs": [
    {
     "data": {
      "text/plain": [
       "[1, 2, 3, 4]"
      ]
     },
     "execution_count": 14,
     "metadata": {},
     "output_type": "execute_result"
    }
   ],
   "source": [
    "l"
   ]
  },
  {
   "cell_type": "code",
   "execution_count": null,
   "id": "bdef2cb3",
   "metadata": {},
   "outputs": [],
   "source": []
  },
  {
   "cell_type": "code",
   "execution_count": 14,
   "id": "1e9a695c",
   "metadata": {},
   "outputs": [
    {
     "name": "stdout",
     "output_type": "stream",
     "text": [
      "40 : 1\n",
      "100 : 3\n"
     ]
    }
   ],
   "source": [
    "c = {40:1, \"b\":2, 100:3, \"d\":4}\n",
    "for i in c:\n",
    "    if type(i)==int:\n",
    "        print(i,\":\",c[i])       \n",
    "    "
   ]
  },
  {
   "cell_type": "code",
   "execution_count": 115,
   "id": "8cb2e442",
   "metadata": {},
   "outputs": [
    {
     "name": "stdout",
     "output_type": "stream",
     "text": [
      "1 dict_keys(['ab', 'ma', 25, 23])\n",
      "2 ('ab', 'ma', 25, 23)\n",
      "3 dict_values(['bc', 100, 'cd', 23])\n",
      "4 ('bc', 100, 'cd', 23)\n",
      "5 dict_items([('ab', 'bc'), ('ma', 100), (25, 'cd'), (23, 23)])\n",
      "6 dict_keys(['ab', 'ma', 25, 23]) : dict_values(['bc', 100, 'cd', 23])\n",
      "7 {'ab': 'sonu', 'ma': 'sonu', 25: 'sonu', 23: 'sonu'}\n"
     ]
    }
   ],
   "source": [
    "l = {'ab': 'bc', 'ma':100, 25:'cd',23:23}\n",
    "print(1,l.keys())\n",
    "print(2,tuple(l.keys()))\n",
    "print(3,l.values())\n",
    "print(4,tuple(l.values()))\n",
    "print(5,l.items())\n",
    "print(6,l.keys() ,':',l.values())\n",
    "print(7,l.fromkeys(l,'sonu'))\n"
   ]
  },
  {
   "cell_type": "code",
   "execution_count": 132,
   "id": "8e061738",
   "metadata": {},
   "outputs": [
    {
     "data": {
      "text/plain": [
       "{'ab': 'bc', 'ma': 100, 25: 'cd', 23: 23}"
      ]
     },
     "execution_count": 132,
     "metadata": {},
     "output_type": "execute_result"
    }
   ],
   "source": [
    "l"
   ]
  },
  {
   "cell_type": "code",
   "execution_count": 149,
   "id": "98feefc1",
   "metadata": {},
   "outputs": [
    {
     "name": "stdout",
     "output_type": "stream",
     "text": [
      "ab\n",
      "ma\n",
      "25\n",
      "23\n"
     ]
    }
   ],
   "source": [
    "for i in l.keys():\n",
    "    if type(i)==str or int:\n",
    "        print(i)"
   ]
  },
  {
   "cell_type": "code",
   "execution_count": 150,
   "id": "0479aae8",
   "metadata": {},
   "outputs": [
    {
     "name": "stdout",
     "output_type": "stream",
     "text": [
      "bc\n",
      "100\n",
      "cd\n",
      "23\n"
     ]
    }
   ],
   "source": [
    "for i in l:\n",
    "    if type(i)==str or int:\n",
    "        print(l[i])        "
   ]
  },
  {
   "cell_type": "code",
   "execution_count": 155,
   "id": "3423d812",
   "metadata": {},
   "outputs": [
    {
     "name": "stdout",
     "output_type": "stream",
     "text": [
      "a\n",
      "m\n"
     ]
    },
    {
     "ename": "TypeError",
     "evalue": "'int' object is not subscriptable",
     "output_type": "error",
     "traceback": [
      "\u001b[1;31m---------------------------------------------------------------------------\u001b[0m",
      "\u001b[1;31mTypeError\u001b[0m                                 Traceback (most recent call last)",
      "\u001b[1;32m~\\AppData\\Local\\Temp/ipykernel_19352/3085122821.py\u001b[0m in \u001b[0;36m<module>\u001b[1;34m\u001b[0m\n\u001b[0;32m      1\u001b[0m \u001b[1;32mfor\u001b[0m \u001b[0mi\u001b[0m \u001b[1;32min\u001b[0m \u001b[0ml\u001b[0m\u001b[1;33m.\u001b[0m\u001b[0mkeys\u001b[0m\u001b[1;33m(\u001b[0m\u001b[1;33m)\u001b[0m\u001b[1;33m:\u001b[0m\u001b[1;33m\u001b[0m\u001b[1;33m\u001b[0m\u001b[0m\n\u001b[0;32m      2\u001b[0m     \u001b[1;32mif\u001b[0m \u001b[0mtype\u001b[0m\u001b[1;33m(\u001b[0m\u001b[0mi\u001b[0m\u001b[1;33m)\u001b[0m\u001b[1;33m==\u001b[0m\u001b[0mstr\u001b[0m \u001b[1;32mor\u001b[0m \u001b[0mint\u001b[0m\u001b[1;33m:\u001b[0m\u001b[1;33m\u001b[0m\u001b[1;33m\u001b[0m\u001b[0m\n\u001b[1;32m----> 3\u001b[1;33m         \u001b[0mprint\u001b[0m\u001b[1;33m(\u001b[0m\u001b[0mi\u001b[0m\u001b[1;33m[\u001b[0m\u001b[1;36m0\u001b[0m\u001b[1;33m]\u001b[0m\u001b[1;33m)\u001b[0m\u001b[1;33m\u001b[0m\u001b[1;33m\u001b[0m\u001b[0m\n\u001b[0m",
      "\u001b[1;31mTypeError\u001b[0m: 'int' object is not subscriptable"
     ]
    }
   ],
   "source": [
    "for i in l.keys():\n",
    "    if type(i)==str or int:\n",
    "        print(i[0])"
   ]
  },
  {
   "cell_type": "code",
   "execution_count": 156,
   "id": "ab9e77e1",
   "metadata": {},
   "outputs": [
    {
     "data": {
      "text/plain": [
       "{'ab': 'bc', 'ma': 100, 25: 'cd', 23: 23}"
      ]
     },
     "execution_count": 156,
     "metadata": {},
     "output_type": "execute_result"
    }
   ],
   "source": [
    "l"
   ]
  },
  {
   "cell_type": "code",
   "execution_count": 162,
   "id": "7886385a",
   "metadata": {},
   "outputs": [
    {
     "name": "stdout",
     "output_type": "stream",
     "text": [
      "25 : cd\n",
      "23 : 23\n"
     ]
    }
   ],
   "source": [
    "for i in l:\n",
    "    if type(i)== int:\n",
    "        print(i, ':', l[i])"
   ]
  },
  {
   "cell_type": "code",
   "execution_count": 163,
   "id": "48dab80c",
   "metadata": {},
   "outputs": [
    {
     "name": "stdout",
     "output_type": "stream",
     "text": [
      "ab : bc\n",
      "ma : 100\n"
     ]
    }
   ],
   "source": [
    "for i in l:\n",
    "    if type(i)== str:\n",
    "        print(i, ':', l[i])"
   ]
  },
  {
   "cell_type": "code",
   "execution_count": null,
   "id": "8ea83e5e",
   "metadata": {},
   "outputs": [],
   "source": []
  },
  {
   "cell_type": "code",
   "execution_count": 118,
   "id": "822f8c75",
   "metadata": {},
   "outputs": [
    {
     "data": {
      "text/plain": [
       "{'n': 'sonu', 'i': 'sonu'}"
      ]
     },
     "execution_count": 118,
     "metadata": {},
     "output_type": "execute_result"
    }
   ],
   "source": [
    "dict.fromkeys('ninini','sonu')"
   ]
  },
  {
   "cell_type": "code",
   "execution_count": 119,
   "id": "273c50d3",
   "metadata": {},
   "outputs": [
    {
     "data": {
      "text/plain": [
       "{'ninini': 'sonu'}"
      ]
     },
     "execution_count": 119,
     "metadata": {},
     "output_type": "execute_result"
    }
   ],
   "source": [
    "dict.fromkeys(['ninini'],'sonu')"
   ]
  },
  {
   "cell_type": "code",
   "execution_count": 120,
   "id": "d5c2b9dd",
   "metadata": {},
   "outputs": [
    {
     "data": {
      "text/plain": [
       "{'n': 'sonu', 'i': 'sonu', 'm': 'sonu', 'a': 'sonu'}"
      ]
     },
     "execution_count": 120,
     "metadata": {},
     "output_type": "execute_result"
    }
   ],
   "source": [
    "dict.fromkeys('nima','sonu')"
   ]
  },
  {
   "cell_type": "code",
   "execution_count": null,
   "id": "7d0b9566",
   "metadata": {},
   "outputs": [],
   "source": []
  },
  {
   "cell_type": "code",
   "execution_count": 107,
   "id": "c7d8f58e",
   "metadata": {},
   "outputs": [],
   "source": [
    "a = {\"company\":\"ineuron\",\"course\":\"full stack data science\",\"year\":2021}"
   ]
  },
  {
   "cell_type": "code",
   "execution_count": 108,
   "id": "beef4411",
   "metadata": {},
   "outputs": [
    {
     "name": "stdout",
     "output_type": "stream",
     "text": [
      "key : company ; value : ineuron\n",
      "key : course ; value : full stack data science\n",
      "key : year ; value : 2021\n"
     ]
    }
   ],
   "source": [
    "for i in a:\n",
    "    print(\"key :\",i,\";\",\"value :\",a[i])"
   ]
  },
  {
   "cell_type": "code",
   "execution_count": 109,
   "id": "fcdf75a6",
   "metadata": {},
   "outputs": [
    {
     "name": "stdout",
     "output_type": "stream",
     "text": [
      "ineuron\n",
      "full stack data science\n",
      "2021\n"
     ]
    }
   ],
   "source": [
    "for i in a :\n",
    "    print(a[i])"
   ]
  },
  {
   "cell_type": "code",
   "execution_count": 110,
   "id": "1f6bfbdd",
   "metadata": {},
   "outputs": [
    {
     "data": {
      "text/plain": [
       "{'company': 'ineuron', 'course': 'full stack data science', 'year': 2021}"
      ]
     },
     "execution_count": 110,
     "metadata": {},
     "output_type": "execute_result"
    }
   ],
   "source": [
    "a"
   ]
  },
  {
   "cell_type": "code",
   "execution_count": 111,
   "id": "930e091c",
   "metadata": {},
   "outputs": [
    {
     "data": {
      "text/plain": [
       "True"
      ]
     },
     "execution_count": 111,
     "metadata": {},
     "output_type": "execute_result"
    }
   ],
   "source": [
    "\"course\" in a"
   ]
  },
  {
   "cell_type": "code",
   "execution_count": 112,
   "id": "cf895517",
   "metadata": {},
   "outputs": [
    {
     "data": {
      "text/plain": [
       "False"
      ]
     },
     "execution_count": 112,
     "metadata": {},
     "output_type": "execute_result"
    }
   ],
   "source": [
    "'ineuron' in a     "
   ]
  },
  {
   "cell_type": "code",
   "execution_count": 148,
   "id": "3484ee53",
   "metadata": {},
   "outputs": [],
   "source": [
    "for i in a :\n",
    "    if i == 'year':\n",
    "        if a[i]>2022:\n",
    "            print(\"year is fine\")\n",
    "        else:\n",
    "            a[i]=2023"
   ]
  },
  {
   "cell_type": "code",
   "execution_count": 149,
   "id": "aadd6c69",
   "metadata": {},
   "outputs": [
    {
     "data": {
      "text/plain": [
       "{'company': 'ineuron', 'course': 'full stack data science', 'year': 2023}"
      ]
     },
     "execution_count": 149,
     "metadata": {},
     "output_type": "execute_result"
    }
   ],
   "source": [
    "a"
   ]
  },
  {
   "cell_type": "code",
   "execution_count": 114,
   "id": "4d99027c",
   "metadata": {},
   "outputs": [],
   "source": [
    "my_dict = {}\n",
    "for i in range(6):\n",
    "    my_dict[i] = i*i"
   ]
  },
  {
   "cell_type": "code",
   "execution_count": 116,
   "id": "fd355688",
   "metadata": {},
   "outputs": [
    {
     "data": {
      "text/plain": [
       "{0: 0, 1: 1, 2: 4, 3: 9, 4: 16, 5: 25}"
      ]
     },
     "execution_count": 116,
     "metadata": {},
     "output_type": "execute_result"
    }
   ],
   "source": [
    "my_dict"
   ]
  },
  {
   "cell_type": "code",
   "execution_count": 152,
   "id": "615e1e3c",
   "metadata": {},
   "outputs": [],
   "source": [
    "a = {}                # iteration\n",
    "for i in range(6):    \n",
    "    a[i] = i*i*i"
   ]
  },
  {
   "cell_type": "code",
   "execution_count": 153,
   "id": "a01fceb3",
   "metadata": {},
   "outputs": [
    {
     "data": {
      "text/plain": [
       "{0: 0, 1: 1, 2: 8, 3: 27, 4: 64, 5: 125}"
      ]
     },
     "execution_count": 153,
     "metadata": {},
     "output_type": "execute_result"
    }
   ],
   "source": [
    "a"
   ]
  },
  {
   "cell_type": "code",
   "execution_count": 154,
   "id": "7dd6be60",
   "metadata": {},
   "outputs": [
    {
     "data": {
      "text/plain": [
       "{0: 0, 1: 1, 2: 8, 3: 27, 4: 64, 5: 125}"
      ]
     },
     "execution_count": 154,
     "metadata": {},
     "output_type": "execute_result"
    }
   ],
   "source": [
    "{i:i*i*i for i in range(6)}       #comprehensive"
   ]
  },
  {
   "cell_type": "code",
   "execution_count": null,
   "id": "d18425ed",
   "metadata": {},
   "outputs": [],
   "source": []
  },
  {
   "cell_type": "code",
   "execution_count": 127,
   "id": "880994c1",
   "metadata": {},
   "outputs": [
    {
     "name": "stdout",
     "output_type": "stream",
     "text": [
      "a : 1\n",
      "a : 1\n",
      "a : 1\n",
      "a : 1\n",
      "b : 1\n",
      "b : 1\n",
      "c : 1\n",
      "c : 1\n",
      "c : 1\n",
      "d : 1\n"
     ]
    }
   ],
   "source": [
    "s = 'aaaabbcccd'\n",
    "for i in s:\n",
    "    print(i ,':', i.count(i))"
   ]
  },
  {
   "cell_type": "code",
   "execution_count": 128,
   "id": "9a7b7745",
   "metadata": {},
   "outputs": [
    {
     "name": "stdout",
     "output_type": "stream",
     "text": [
      "b : 1\n",
      "a : 1\n",
      "d : 1\n",
      "c : 1\n"
     ]
    }
   ],
   "source": [
    "s = 'aaaabbcccd'\n",
    "for i in set(s):\n",
    "    print(i ,':', i.count(i))"
   ]
  },
  {
   "cell_type": "code",
   "execution_count": null,
   "id": "413c404d",
   "metadata": {},
   "outputs": [],
   "source": []
  },
  {
   "cell_type": "code",
   "execution_count": 171,
   "id": "42cfd530",
   "metadata": {},
   "outputs": [],
   "source": [
    "t = (\"manoj\", (2,5,6,7),[2,5,8,4], \"sharma\", {\"do\":125, 458:12, \"man\":\"brave\"})"
   ]
  },
  {
   "cell_type": "code",
   "execution_count": 172,
   "id": "a39e1194",
   "metadata": {},
   "outputs": [
    {
     "name": "stdout",
     "output_type": "stream",
     "text": [
      "2\n",
      "2\n"
     ]
    }
   ],
   "source": [
    "for i in t:\n",
    "    if type(i)==tuple or list:\n",
    "        for j in i:\n",
    "            if j==2:\n",
    "                print(j)\n",
    "            \n",
    "           "
   ]
  },
  {
   "cell_type": "code",
   "execution_count": 139,
   "id": "68bb3d61",
   "metadata": {},
   "outputs": [],
   "source": [
    "d = {'k1': 'sudh', 'k2': [2,4,5,6], 'k3': (2,3,5,6)} "
   ]
  },
  {
   "cell_type": "code",
   "execution_count": 141,
   "id": "2f95de2f",
   "metadata": {},
   "outputs": [
    {
     "name": "stdout",
     "output_type": "stream",
     "text": [
      "sudh\n",
      "[2, 4, 5, 6]\n",
      "(2, 3, 5, 6)\n"
     ]
    }
   ],
   "source": [
    "a = 0\n",
    "b = list(d.keys())\n",
    "while a < len(d):\n",
    "    print(d[b[a]])\n",
    "    a = a + 1"
   ]
  },
  {
   "cell_type": "code",
   "execution_count": 142,
   "id": "610f5bcf",
   "metadata": {},
   "outputs": [
    {
     "data": {
      "text/plain": [
       "['k1', 'k2', 'k3']"
      ]
     },
     "execution_count": 142,
     "metadata": {},
     "output_type": "execute_result"
    }
   ],
   "source": [
    "b"
   ]
  },
  {
   "cell_type": "code",
   "execution_count": 143,
   "id": "4cddf2e6",
   "metadata": {},
   "outputs": [
    {
     "data": {
      "text/plain": [
       "3"
      ]
     },
     "execution_count": 143,
     "metadata": {},
     "output_type": "execute_result"
    }
   ],
   "source": [
    "a"
   ]
  },
  {
   "cell_type": "code",
   "execution_count": null,
   "id": "b36d8d0c",
   "metadata": {},
   "outputs": [],
   "source": []
  },
  {
   "cell_type": "code",
   "execution_count": null,
   "id": "09e9598e",
   "metadata": {},
   "outputs": [],
   "source": []
  }
 ],
 "metadata": {
  "kernelspec": {
   "display_name": "Python 3 (ipykernel)",
   "language": "python",
   "name": "python3"
  },
  "language_info": {
   "codemirror_mode": {
    "name": "ipython",
    "version": 3
   },
   "file_extension": ".py",
   "mimetype": "text/x-python",
   "name": "python",
   "nbconvert_exporter": "python",
   "pygments_lexer": "ipython3",
   "version": "3.9.7"
  }
 },
 "nbformat": 4,
 "nbformat_minor": 5
}
