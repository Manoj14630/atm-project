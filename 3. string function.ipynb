{
 "cells": [
  {
   "cell_type": "code",
   "execution_count": 1,
   "id": "06788d80",
   "metadata": {},
   "outputs": [],
   "source": [
    "a=\"How are you manoj sharma\""
   ]
  },
  {
   "cell_type": "code",
   "execution_count": 3,
   "id": "1ef912e3",
   "metadata": {
    "scrolled": true
   },
   "outputs": [
    {
     "ename": "SyntaxError",
     "evalue": "invalid syntax (Temp/ipykernel_8848/2681916598.py, line 1)",
     "output_type": "error",
     "traceback": [
      "\u001b[1;36m  File \u001b[1;32m\"C:\\Users\\Manoj\\AppData\\Local\\Temp/ipykernel_8848/2681916598.py\"\u001b[1;36m, line \u001b[1;32m1\u001b[0m\n\u001b[1;33m    a=\"How are you\" manoj sharma\"\u001b[0m\n\u001b[1;37m                    ^\u001b[0m\n\u001b[1;31mSyntaxError\u001b[0m\u001b[1;31m:\u001b[0m invalid syntax\n"
     ]
    }
   ],
   "source": [
    "a=\"How are you\" manoj sharma\""
   ]
  },
  {
   "cell_type": "code",
   "execution_count": 4,
   "id": "2fe28de0",
   "metadata": {},
   "outputs": [],
   "source": [
    "a=\"How are you' manoj sharma\""
   ]
  },
  {
   "cell_type": "code",
   "execution_count": 5,
   "id": "8b6de949",
   "metadata": {},
   "outputs": [
    {
     "data": {
      "text/plain": [
       "\"How are you' manoj sharma\""
      ]
     },
     "execution_count": 5,
     "metadata": {},
     "output_type": "execute_result"
    }
   ],
   "source": [
    "a"
   ]
  },
  {
   "cell_type": "code",
   "execution_count": 7,
   "id": "b756419b",
   "metadata": {},
   "outputs": [],
   "source": [
    "a='How are you\" manoj sharma'"
   ]
  },
  {
   "cell_type": "code",
   "execution_count": 8,
   "id": "73f908de",
   "metadata": {},
   "outputs": [
    {
     "data": {
      "text/plain": [
       "'How are you\" manoj sharma'"
      ]
     },
     "execution_count": 8,
     "metadata": {},
     "output_type": "execute_result"
    }
   ],
   "source": [
    "a"
   ]
  },
  {
   "cell_type": "markdown",
   "id": "ff1f9090",
   "metadata": {},
   "source": []
  },
  {
   "cell_type": "code",
   "execution_count": 10,
   "id": "1c4cdbd7",
   "metadata": {},
   "outputs": [],
   "source": [
    "s=\"my name is manoj\""
   ]
  },
  {
   "cell_type": "code",
   "execution_count": 11,
   "id": "c76a6562",
   "metadata": {},
   "outputs": [
    {
     "data": {
      "text/plain": [
       "'my name is manoj'"
      ]
     },
     "execution_count": 11,
     "metadata": {},
     "output_type": "execute_result"
    }
   ],
   "source": [
    "s"
   ]
  },
  {
   "cell_type": "code",
   "execution_count": 13,
   "id": "9bcaf761",
   "metadata": {},
   "outputs": [
    {
     "data": {
      "text/plain": [
       "0"
      ]
     },
     "execution_count": 13,
     "metadata": {},
     "output_type": "execute_result"
    }
   ],
   "source": [
    "s.find(\"m\")"
   ]
  },
  {
   "cell_type": "code",
   "execution_count": 16,
   "id": "6911ef44",
   "metadata": {},
   "outputs": [
    {
     "data": {
      "text/plain": [
       "-1"
      ]
     },
     "execution_count": 16,
     "metadata": {},
     "output_type": "execute_result"
    }
   ],
   "source": [
    "s.find(\"mb\")   #show -1 if not avaible"
   ]
  },
  {
   "cell_type": "code",
   "execution_count": 47,
   "id": "dc76c37b",
   "metadata": {},
   "outputs": [
    {
     "data": {
      "text/plain": [
       "-1"
      ]
     },
     "execution_count": 47,
     "metadata": {},
     "output_type": "execute_result"
    }
   ],
   "source": [
    "s.find(\"is\")"
   ]
  },
  {
   "cell_type": "code",
   "execution_count": 2,
   "id": "e70aa5e1",
   "metadata": {},
   "outputs": [],
   "source": [
    "abc = 'moj monu ha'"
   ]
  },
  {
   "cell_type": "code",
   "execution_count": 3,
   "id": "c862dcea",
   "metadata": {},
   "outputs": [
    {
     "name": "stdout",
     "output_type": "stream",
     "text": [
      "m\n",
      "o\n",
      "j\n",
      " \n",
      "m\n",
      "o\n",
      "n\n",
      "u\n",
      " \n",
      "h\n",
      "a\n"
     ]
    }
   ],
   "source": [
    "for i in abc:\n",
    "    print(i)"
   ]
  },
  {
   "cell_type": "code",
   "execution_count": 10,
   "id": "3c87b1e6",
   "metadata": {},
   "outputs": [
    {
     "ename": "TypeError",
     "evalue": "'str' object cannot be interpreted as an integer",
     "output_type": "error",
     "traceback": [
      "\u001b[1;31m---------------------------------------------------------------------------\u001b[0m",
      "\u001b[1;31mTypeError\u001b[0m                                 Traceback (most recent call last)",
      "\u001b[1;32m~\\AppData\\Local\\Temp/ipykernel_8724/3205880928.py\u001b[0m in \u001b[0;36m<module>\u001b[1;34m\u001b[0m\n\u001b[1;32m----> 1\u001b[1;33m \u001b[1;32mfor\u001b[0m \u001b[0mi\u001b[0m \u001b[1;32min\u001b[0m \u001b[0mrange\u001b[0m\u001b[1;33m(\u001b[0m\u001b[0mabc\u001b[0m\u001b[1;33m)\u001b[0m\u001b[1;33m:\u001b[0m\u001b[1;33m\u001b[0m\u001b[1;33m\u001b[0m\u001b[0m\n\u001b[0m\u001b[0;32m      2\u001b[0m     \u001b[0mprint\u001b[0m\u001b[1;33m(\u001b[0m\u001b[0mi\u001b[0m\u001b[1;33m)\u001b[0m\u001b[1;33m\u001b[0m\u001b[1;33m\u001b[0m\u001b[0m\n",
      "\u001b[1;31mTypeError\u001b[0m: 'str' object cannot be interpreted as an integer"
     ]
    }
   ],
   "source": [
    "for i in range(abc):\n",
    "    print(i)"
   ]
  },
  {
   "cell_type": "code",
   "execution_count": 11,
   "id": "ba1e4bae",
   "metadata": {},
   "outputs": [
    {
     "name": "stdout",
     "output_type": "stream",
     "text": [
      "0\n",
      "1\n",
      "2\n",
      "3\n",
      "4\n",
      "5\n",
      "6\n",
      "7\n",
      "8\n",
      "9\n",
      "10\n"
     ]
    }
   ],
   "source": [
    "for i in range(len(abc)):\n",
    "    print(i)"
   ]
  },
  {
   "cell_type": "code",
   "execution_count": 12,
   "id": "9dad95f8",
   "metadata": {},
   "outputs": [
    {
     "name": "stdout",
     "output_type": "stream",
     "text": [
      "0\n",
      "1\n",
      "2\n",
      "3\n",
      "4\n",
      "5\n",
      "6\n",
      "7\n",
      "8\n",
      "9\n",
      "10\n"
     ]
    }
   ],
   "source": [
    "d = len(abc)\n",
    "for i in range(d):\n",
    "    print(i)"
   ]
  },
  {
   "cell_type": "code",
   "execution_count": null,
   "id": "32c86f25",
   "metadata": {},
   "outputs": [],
   "source": []
  },
  {
   "cell_type": "code",
   "execution_count": 4,
   "id": "00dda51c",
   "metadata": {},
   "outputs": [
    {
     "data": {
      "text/plain": [
       "'moj monu ha'"
      ]
     },
     "execution_count": 4,
     "metadata": {},
     "output_type": "execute_result"
    }
   ],
   "source": [
    "abc"
   ]
  },
  {
   "cell_type": "code",
   "execution_count": 8,
   "id": "e09b3d13",
   "metadata": {},
   "outputs": [
    {
     "name": "stdout",
     "output_type": "stream",
     "text": [
      "0 m\n",
      "4 m\n"
     ]
    }
   ],
   "source": [
    "for i in range(len(abc)):    \n",
    "    if abc[i] == 'm':      #it will reiterate single letter\n",
    "        print(i, abc[i])"
   ]
  },
  {
   "cell_type": "code",
   "execution_count": 36,
   "id": "edd2b615",
   "metadata": {},
   "outputs": [],
   "source": [
    "for i in range(len(abc)):    \n",
    "    if abc[i] == 'monu':      #it will not reiterate word\n",
    "        print(i)"
   ]
  },
  {
   "cell_type": "code",
   "execution_count": null,
   "id": "a66d0b56",
   "metadata": {},
   "outputs": [],
   "source": []
  },
  {
   "cell_type": "code",
   "execution_count": 52,
   "id": "8b5929a2",
   "metadata": {},
   "outputs": [
    {
     "data": {
      "text/plain": [
       "3"
      ]
     },
     "execution_count": 52,
     "metadata": {},
     "output_type": "execute_result"
    }
   ],
   "source": [
    "s=\"my name is\"\n",
    "s.find('name')"
   ]
  },
  {
   "cell_type": "code",
   "execution_count": 27,
   "id": "a0b6e947",
   "metadata": {},
   "outputs": [
    {
     "name": "stdout",
     "output_type": "stream",
     "text": [
      "3\n",
      "4\n",
      "5\n",
      "6\n"
     ]
    }
   ],
   "source": [
    "s=\"my name is\"\n",
    "a = s.find('name')\n",
    "for i in range(len('name')):\n",
    "    print(a+i)\n"
   ]
  },
  {
   "cell_type": "code",
   "execution_count": 28,
   "id": "d15c446e",
   "metadata": {},
   "outputs": [
    {
     "data": {
      "text/plain": [
       "4"
      ]
     },
     "execution_count": 28,
     "metadata": {},
     "output_type": "execute_result"
    }
   ],
   "source": [
    "len(\"name\")"
   ]
  },
  {
   "cell_type": "code",
   "execution_count": 29,
   "id": "e94eea76",
   "metadata": {},
   "outputs": [],
   "source": [
    "a=s.find(\"name\")"
   ]
  },
  {
   "cell_type": "code",
   "execution_count": 30,
   "id": "d335a65a",
   "metadata": {},
   "outputs": [
    {
     "data": {
      "text/plain": [
       "3"
      ]
     },
     "execution_count": 30,
     "metadata": {},
     "output_type": "execute_result"
    }
   ],
   "source": [
    "a"
   ]
  },
  {
   "cell_type": "code",
   "execution_count": 47,
   "id": "10e2ea93",
   "metadata": {},
   "outputs": [
    {
     "data": {
      "text/plain": [
       "'my name is'"
      ]
     },
     "execution_count": 47,
     "metadata": {},
     "output_type": "execute_result"
    }
   ],
   "source": [
    "s"
   ]
  },
  {
   "cell_type": "code",
   "execution_count": 48,
   "id": "fbb931e7",
   "metadata": {},
   "outputs": [
    {
     "data": {
      "text/plain": [
       "2"
      ]
     },
     "execution_count": 48,
     "metadata": {},
     "output_type": "execute_result"
    }
   ],
   "source": [
    "s.count(\"m\")"
   ]
  },
  {
   "cell_type": "code",
   "execution_count": 49,
   "id": "99181bdc",
   "metadata": {},
   "outputs": [
    {
     "data": {
      "text/plain": [
       "1"
      ]
     },
     "execution_count": 49,
     "metadata": {},
     "output_type": "execute_result"
    }
   ],
   "source": [
    "s.count(\"my\")"
   ]
  },
  {
   "cell_type": "code",
   "execution_count": 54,
   "id": "6de4e4f7",
   "metadata": {},
   "outputs": [
    {
     "data": {
      "text/plain": [
       "['my', 'name', 'is']"
      ]
     },
     "execution_count": 54,
     "metadata": {},
     "output_type": "execute_result"
    }
   ],
   "source": [
    "s.split()"
   ]
  },
  {
   "cell_type": "code",
   "execution_count": 75,
   "id": "e749e9d3",
   "metadata": {},
   "outputs": [],
   "source": [
    "d=\"My NamE IS maNoJ sharma, namE of orG is Ineuron\""
   ]
  },
  {
   "cell_type": "code",
   "execution_count": 76,
   "id": "dad37739",
   "metadata": {},
   "outputs": [
    {
     "data": {
      "text/plain": [
       "['My', 'NamE', 'IS', 'maNoJ', 'sharma,', 'namE', 'of', 'orG', 'is', 'Ineuron']"
      ]
     },
     "execution_count": 76,
     "metadata": {},
     "output_type": "execute_result"
    }
   ],
   "source": [
    "d.split()"
   ]
  },
  {
   "cell_type": "code",
   "execution_count": 77,
   "id": "c3cc2d4d",
   "metadata": {},
   "outputs": [
    {
     "data": {
      "text/plain": [
       "['My NamE IS maNoJ sharma', ' namE of orG is Ineuron']"
      ]
     },
     "execution_count": 77,
     "metadata": {},
     "output_type": "execute_result"
    }
   ],
   "source": [
    "d.split(',')"
   ]
  },
  {
   "cell_type": "code",
   "execution_count": 78,
   "id": "d2e592b6",
   "metadata": {},
   "outputs": [
    {
     "data": {
      "text/plain": [
       "['My N', 'mE IS m', 'NoJ sh', 'rm', ', n', 'mE of orG is Ineuron']"
      ]
     },
     "execution_count": 78,
     "metadata": {},
     "output_type": "execute_result"
    }
   ],
   "source": [
    "d.split('a')"
   ]
  },
  {
   "cell_type": "code",
   "execution_count": 79,
   "id": "1fd4800d",
   "metadata": {},
   "outputs": [
    {
     "data": {
      "text/plain": [
       "['My NamE IS maNoJ ', ', namE of orG is Ineuron']"
      ]
     },
     "execution_count": 79,
     "metadata": {},
     "output_type": "execute_result"
    }
   ],
   "source": [
    "d.split('sharma')"
   ]
  },
  {
   "cell_type": "code",
   "execution_count": 80,
   "id": "beb4b04f",
   "metadata": {},
   "outputs": [
    {
     "data": {
      "text/plain": [
       "['My NamE IS maNoJ sharma, namE of orG is Ineuron']"
      ]
     },
     "execution_count": 80,
     "metadata": {},
     "output_type": "execute_result"
    }
   ],
   "source": [
    "d.split('name')"
   ]
  },
  {
   "cell_type": "code",
   "execution_count": 81,
   "id": "097276c5",
   "metadata": {},
   "outputs": [
    {
     "data": {
      "text/plain": [
       "'My NamE IS maNoJ sharma, namE of orG is Ineuron'"
      ]
     },
     "execution_count": 81,
     "metadata": {},
     "output_type": "execute_result"
    }
   ],
   "source": [
    "d"
   ]
  },
  {
   "cell_type": "code",
   "execution_count": 82,
   "id": "a9bf0f18",
   "metadata": {},
   "outputs": [
    {
     "data": {
      "text/plain": [
       "'MY NAME IS MANOJ SHARMA, NAME OF ORG IS INEURON'"
      ]
     },
     "execution_count": 82,
     "metadata": {},
     "output_type": "execute_result"
    }
   ],
   "source": [
    "d.upper()"
   ]
  },
  {
   "cell_type": "code",
   "execution_count": 83,
   "id": "5f5f910f",
   "metadata": {},
   "outputs": [
    {
     "data": {
      "text/plain": [
       "'my name is manoj sharma, name of org is ineuron'"
      ]
     },
     "execution_count": 83,
     "metadata": {},
     "output_type": "execute_result"
    }
   ],
   "source": [
    "d.lower()"
   ]
  },
  {
   "cell_type": "code",
   "execution_count": 84,
   "id": "67d76c6d",
   "metadata": {},
   "outputs": [
    {
     "data": {
      "text/plain": [
       "'mY nAMe is MAnOj SHARMA, NAMe OF ORg IS iNEURON'"
      ]
     },
     "execution_count": 84,
     "metadata": {},
     "output_type": "execute_result"
    }
   ],
   "source": [
    "d.swapcase()                         "
   ]
  },
  {
   "cell_type": "code",
   "execution_count": 85,
   "id": "ef4de3fd",
   "metadata": {},
   "outputs": [
    {
     "data": {
      "text/plain": [
       "'M y   N a m E   I S   m a N o J   s h a r m a ,   n a m E   o f   o r G   i s   I n e u r o n'"
      ]
     },
     "execution_count": 85,
     "metadata": {},
     "output_type": "execute_result"
    }
   ],
   "source": [
    "\" \" . join(d)"
   ]
  },
  {
   "cell_type": "code",
   "execution_count": 86,
   "id": "89b14512",
   "metadata": {},
   "outputs": [
    {
     "data": {
      "text/plain": [
       "'Mzyz zNzazmzEz zIzSz zmzazNzozJz zszhzazrzmzaz,z znzazmzEz zozfz zozrzGz zizsz zIznzezuzrzozn'"
      ]
     },
     "execution_count": 86,
     "metadata": {},
     "output_type": "execute_result"
    }
   ],
   "source": [
    "\"z\".join(d)"
   ]
  },
  {
   "cell_type": "code",
   "execution_count": 90,
   "id": "bf8021b6",
   "metadata": {},
   "outputs": [
    {
     "data": {
      "text/plain": [
       "'noruenI si Gro fo Eman ,amrahs JoNam SI EmaN yM'"
      ]
     },
     "execution_count": 90,
     "metadata": {},
     "output_type": "execute_result"
    }
   ],
   "source": [
    "d[::-1]"
   ]
  },
  {
   "cell_type": "code",
   "execution_count": 91,
   "id": "3371b0fd",
   "metadata": {},
   "outputs": [
    {
     "data": {
      "text/plain": [
       "['n',\n",
       " 'o',\n",
       " 'r',\n",
       " 'u',\n",
       " 'e',\n",
       " 'n',\n",
       " 'I',\n",
       " ' ',\n",
       " 's',\n",
       " 'i',\n",
       " ' ',\n",
       " 'G',\n",
       " 'r',\n",
       " 'o',\n",
       " ' ',\n",
       " 'f',\n",
       " 'o',\n",
       " ' ',\n",
       " 'E',\n",
       " 'm',\n",
       " 'a',\n",
       " 'n',\n",
       " ' ',\n",
       " ',',\n",
       " 'a',\n",
       " 'm',\n",
       " 'r',\n",
       " 'a',\n",
       " 'h',\n",
       " 's',\n",
       " ' ',\n",
       " 'J',\n",
       " 'o',\n",
       " 'N',\n",
       " 'a',\n",
       " 'm',\n",
       " ' ',\n",
       " 'S',\n",
       " 'I',\n",
       " ' ',\n",
       " 'E',\n",
       " 'm',\n",
       " 'a',\n",
       " 'N',\n",
       " ' ',\n",
       " 'y',\n",
       " 'M']"
      ]
     },
     "execution_count": 91,
     "metadata": {},
     "output_type": "execute_result"
    }
   ],
   "source": [
    "list(reversed(d))"
   ]
  },
  {
   "cell_type": "code",
   "execution_count": 92,
   "id": "8927c0c1",
   "metadata": {},
   "outputs": [
    {
     "data": {
      "text/plain": [
       "'My NamE IS maNoJ sharma, namE of orG is Ineuron'"
      ]
     },
     "execution_count": 92,
     "metadata": {},
     "output_type": "execute_result"
    }
   ],
   "source": [
    "d"
   ]
  },
  {
   "cell_type": "code",
   "execution_count": 95,
   "id": "58b687d9",
   "metadata": {},
   "outputs": [
    {
     "name": "stdout",
     "output_type": "stream",
     "text": [
      "n\n",
      "o\n",
      "r\n",
      "u\n",
      "e\n",
      "n\n",
      "I\n",
      " \n",
      "s\n",
      "i\n",
      " \n",
      "G\n",
      "r\n",
      "o\n",
      " \n",
      "f\n",
      "o\n",
      " \n",
      "E\n",
      "m\n",
      "a\n",
      "n\n",
      " \n",
      ",\n",
      "a\n",
      "m\n",
      "r\n",
      "a\n",
      "h\n",
      "s\n",
      " \n",
      "J\n",
      "o\n",
      "N\n",
      "a\n",
      "m\n",
      " \n",
      "S\n",
      "I\n",
      " \n",
      "E\n",
      "m\n",
      "a\n",
      "N\n",
      " \n",
      "y\n",
      "M\n"
     ]
    }
   ],
   "source": [
    "for i in reversed(d):\n",
    "    print(i)"
   ]
  },
  {
   "cell_type": "code",
   "execution_count": 98,
   "id": "743cdd91",
   "metadata": {},
   "outputs": [],
   "source": [
    "s=\"    manoj\""
   ]
  },
  {
   "cell_type": "code",
   "execution_count": 99,
   "id": "a5223efa",
   "metadata": {},
   "outputs": [
    {
     "data": {
      "text/plain": [
       "'manoj'"
      ]
     },
     "execution_count": 99,
     "metadata": {},
     "output_type": "execute_result"
    }
   ],
   "source": [
    "s.strip()"
   ]
  },
  {
   "cell_type": "code",
   "execution_count": 7,
   "id": "026fea1a",
   "metadata": {},
   "outputs": [],
   "source": [
    "a= \"   man   oj    \""
   ]
  },
  {
   "cell_type": "code",
   "execution_count": 8,
   "id": "4de674d4",
   "metadata": {},
   "outputs": [
    {
     "data": {
      "text/plain": [
       "'man   oj'"
      ]
     },
     "execution_count": 8,
     "metadata": {},
     "output_type": "execute_result"
    }
   ],
   "source": [
    "a.strip()"
   ]
  },
  {
   "cell_type": "code",
   "execution_count": 9,
   "id": "7675a7f4",
   "metadata": {},
   "outputs": [
    {
     "data": {
      "text/plain": [
       "'man   oj    '"
      ]
     },
     "execution_count": 9,
     "metadata": {},
     "output_type": "execute_result"
    }
   ],
   "source": [
    "a.lstrip()"
   ]
  },
  {
   "cell_type": "code",
   "execution_count": 10,
   "id": "7a278248",
   "metadata": {},
   "outputs": [
    {
     "data": {
      "text/plain": [
       "'   man   oj'"
      ]
     },
     "execution_count": 10,
     "metadata": {},
     "output_type": "execute_result"
    }
   ],
   "source": [
    "a.rstrip()"
   ]
  },
  {
   "cell_type": "code",
   "execution_count": 1,
   "id": "9cd2d88b",
   "metadata": {},
   "outputs": [],
   "source": [
    "s = \"greeting to world\""
   ]
  },
  {
   "cell_type": "code",
   "execution_count": null,
   "id": "fadd3052",
   "metadata": {},
   "outputs": [],
   "source": []
  },
  {
   "cell_type": "code",
   "execution_count": 3,
   "id": "15d768c8",
   "metadata": {},
   "outputs": [
    {
     "data": {
      "text/plain": [
       "'greeting to child'"
      ]
     },
     "execution_count": 3,
     "metadata": {},
     "output_type": "execute_result"
    }
   ],
   "source": [
    "s.replace(\"world\",\"child\")"
   ]
  },
  {
   "cell_type": "code",
   "execution_count": 4,
   "id": "b207bd0a",
   "metadata": {},
   "outputs": [],
   "source": [
    "s = \"greeting to world\"2"
   ]
  },
  {
   "cell_type": "code",
   "execution_count": 5,
   "id": "580560e5",
   "metadata": {},
   "outputs": [
    {
     "data": {
      "text/plain": [
       "'manojreetinmanoj to world'"
      ]
     },
     "execution_count": 5,
     "metadata": {},
     "output_type": "execute_result"
    }
   ],
   "source": [
    "s.replace(\"g\",\"manoj\")"
   ]
  },
  {
   "cell_type": "code",
   "execution_count": 6,
   "id": "6697399a",
   "metadata": {},
   "outputs": [],
   "source": [
    "s= \"sudh\""
   ]
  },
  {
   "cell_type": "code",
   "execution_count": 12,
   "id": "ec81a589",
   "metadata": {},
   "outputs": [
    {
     "data": {
      "text/plain": [
       "'###sudh###'"
      ]
     },
     "execution_count": 12,
     "metadata": {},
     "output_type": "execute_result"
    }
   ],
   "source": [
    "s.center(10,'#')"
   ]
  },
  {
   "cell_type": "raw",
   "id": "cdc3c1e1",
   "metadata": {},
   "source": []
  },
  {
   "cell_type": "code",
   "execution_count": 6,
   "id": "766349af",
   "metadata": {},
   "outputs": [],
   "source": [
    "b = \"manoj\\tsharma\""
   ]
  },
  {
   "cell_type": "code",
   "execution_count": 7,
   "id": "0eb65728",
   "metadata": {},
   "outputs": [
    {
     "data": {
      "text/plain": [
       "'manoj\\tsharma'"
      ]
     },
     "execution_count": 7,
     "metadata": {},
     "output_type": "execute_result"
    }
   ],
   "source": [
    "b"
   ]
  },
  {
   "cell_type": "code",
   "execution_count": 8,
   "id": "4e1228e2",
   "metadata": {},
   "outputs": [
    {
     "data": {
      "text/plain": [
       "'manoj   sharma'"
      ]
     },
     "execution_count": 8,
     "metadata": {},
     "output_type": "execute_result"
    }
   ],
   "source": [
    "b.expandtabs()"
   ]
  },
  {
   "cell_type": "code",
   "execution_count": 9,
   "id": "879995a1",
   "metadata": {},
   "outputs": [],
   "source": [
    "b = \"ma\\tnoj\\tsha\\trma\""
   ]
  },
  {
   "cell_type": "code",
   "execution_count": 10,
   "id": "f5fb5455",
   "metadata": {},
   "outputs": [
    {
     "data": {
      "text/plain": [
       "'ma      noj     sha     rma'"
      ]
     },
     "execution_count": 10,
     "metadata": {},
     "output_type": "execute_result"
    }
   ],
   "source": [
    "b.expandtabs()"
   ]
  },
  {
   "cell_type": "code",
   "execution_count": 11,
   "id": "156db25f",
   "metadata": {},
   "outputs": [],
   "source": [
    "c = 'my\\thouse is in\\tchanchal\\tpark'"
   ]
  },
  {
   "cell_type": "code",
   "execution_count": 12,
   "id": "ac968085",
   "metadata": {},
   "outputs": [
    {
     "data": {
      "text/plain": [
       "'my      house is in     chanchal        park'"
      ]
     },
     "execution_count": 12,
     "metadata": {},
     "output_type": "execute_result"
    }
   ],
   "source": [
    "c.expandtabs()"
   ]
  },
  {
   "cell_type": "code",
   "execution_count": 31,
   "id": "1b02b3c0",
   "metadata": {},
   "outputs": [],
   "source": [
    "a = \"We all are a part of Full Stack\""
   ]
  },
  {
   "cell_type": "code",
   "execution_count": 56,
   "id": "c5b47655",
   "metadata": {},
   "outputs": [
    {
     "data": {
      "text/plain": [
       "'we all are a part of full stack'"
      ]
     },
     "execution_count": 56,
     "metadata": {},
     "output_type": "execute_result"
    }
   ],
   "source": [
    "a.lower()"
   ]
  },
  {
   "cell_type": "code",
   "execution_count": 58,
   "id": "6ba50f4d",
   "metadata": {},
   "outputs": [
    {
     "data": {
      "text/plain": [
       "5"
      ]
     },
     "execution_count": 58,
     "metadata": {},
     "output_type": "execute_result"
    }
   ],
   "source": [
    "a.count(\"a\")"
   ]
  },
  {
   "cell_type": "code",
   "execution_count": 60,
   "id": "b8396496",
   "metadata": {},
   "outputs": [
    {
     "data": {
      "text/plain": [
       "'We ineuronll ineuronre ineuron pineuronrt of Full Stineuronck'"
      ]
     },
     "execution_count": 60,
     "metadata": {},
     "output_type": "execute_result"
    }
   ],
   "source": [
    "for c in range(len(a)):a.replace(\"a\",\"ineuron\")"
   ]
  },
  {
   "cell_type": "code",
   "execution_count": null,
   "id": "54d2b664",
   "metadata": {},
   "outputs": [],
   "source": []
  },
  {
   "cell_type": "code",
   "execution_count": 35,
   "id": "b6410d01",
   "metadata": {},
   "outputs": [
    {
     "name": "stdout",
     "output_type": "stream",
     "text": [
      "3\n",
      "7\n",
      "11\n",
      "14\n",
      "28\n"
     ]
    }
   ],
   "source": [
    "for b in range(len(a)):\n",
    "    if(a[b]==\"a\"):\n",
    "        print(b)"
   ]
  },
  {
   "cell_type": "code",
   "execution_count": 74,
   "id": "1d0d34af",
   "metadata": {},
   "outputs": [
    {
     "data": {
      "text/plain": [
       "'W'"
      ]
     },
     "execution_count": 74,
     "metadata": {},
     "output_type": "execute_result"
    }
   ],
   "source": [
    "a[0]"
   ]
  },
  {
   "cell_type": "code",
   "execution_count": 85,
   "id": "3ee1d8e2",
   "metadata": {},
   "outputs": [
    {
     "data": {
      "text/plain": [
       "['We', 'all', 'are', 'a', 'part', 'of', 'Full', 'Stack']"
      ]
     },
     "execution_count": 85,
     "metadata": {},
     "output_type": "execute_result"
    }
   ],
   "source": [
    "a.split()"
   ]
  },
  {
   "cell_type": "code",
   "execution_count": 86,
   "id": "4ad8a536",
   "metadata": {},
   "outputs": [
    {
     "data": {
      "text/plain": [
       "False"
      ]
     },
     "execution_count": 86,
     "metadata": {},
     "output_type": "execute_result"
    }
   ],
   "source": [
    "a.isupper()"
   ]
  },
  {
   "cell_type": "code",
   "execution_count": 87,
   "id": "37d1c0ee",
   "metadata": {},
   "outputs": [],
   "source": [
    "s = \"MANOJ\""
   ]
  },
  {
   "cell_type": "code",
   "execution_count": 88,
   "id": "a3ad15fb",
   "metadata": {},
   "outputs": [
    {
     "data": {
      "text/plain": [
       "True"
      ]
     },
     "execution_count": 88,
     "metadata": {},
     "output_type": "execute_result"
    }
   ],
   "source": [
    "s.isupper()"
   ]
  },
  {
   "cell_type": "code",
   "execution_count": 89,
   "id": "67c379c1",
   "metadata": {},
   "outputs": [
    {
     "data": {
      "text/plain": [
       "False"
      ]
     },
     "execution_count": 89,
     "metadata": {},
     "output_type": "execute_result"
    }
   ],
   "source": [
    "s.islower()"
   ]
  },
  {
   "cell_type": "code",
   "execution_count": 90,
   "id": "407185d4",
   "metadata": {},
   "outputs": [
    {
     "data": {
      "text/plain": [
       "False"
      ]
     },
     "execution_count": 90,
     "metadata": {},
     "output_type": "execute_result"
    }
   ],
   "source": [
    "s.isspace()"
   ]
  },
  {
   "cell_type": "code",
   "execution_count": 91,
   "id": "8b95f825",
   "metadata": {},
   "outputs": [],
   "source": [
    "s = \"     MANOJ\""
   ]
  },
  {
   "cell_type": "code",
   "execution_count": 92,
   "id": "49feeae1",
   "metadata": {},
   "outputs": [
    {
     "data": {
      "text/plain": [
       "False"
      ]
     },
     "execution_count": 92,
     "metadata": {},
     "output_type": "execute_result"
    }
   ],
   "source": [
    "s.isspace()"
   ]
  },
  {
   "cell_type": "code",
   "execution_count": 93,
   "id": "41659429",
   "metadata": {},
   "outputs": [],
   "source": [
    "s = \"   \"\n"
   ]
  },
  {
   "cell_type": "code",
   "execution_count": 94,
   "id": "334a4123",
   "metadata": {},
   "outputs": [
    {
     "data": {
      "text/plain": [
       "True"
      ]
     },
     "execution_count": 94,
     "metadata": {},
     "output_type": "execute_result"
    }
   ],
   "source": [
    "s.isspace()"
   ]
  },
  {
   "cell_type": "code",
   "execution_count": 95,
   "id": "9716c005",
   "metadata": {},
   "outputs": [
    {
     "data": {
      "text/plain": [
       "False"
      ]
     },
     "execution_count": 95,
     "metadata": {},
     "output_type": "execute_result"
    }
   ],
   "source": [
    "s.isdigit()"
   ]
  },
  {
   "cell_type": "code",
   "execution_count": 96,
   "id": "c0181c93",
   "metadata": {},
   "outputs": [],
   "source": [
    "s= \"1354\""
   ]
  },
  {
   "cell_type": "code",
   "execution_count": 97,
   "id": "cd49720c",
   "metadata": {},
   "outputs": [
    {
     "data": {
      "text/plain": [
       "True"
      ]
     },
     "execution_count": 97,
     "metadata": {},
     "output_type": "execute_result"
    }
   ],
   "source": [
    "s.isdigit()"
   ]
  },
  {
   "cell_type": "code",
   "execution_count": 101,
   "id": "48370b6a",
   "metadata": {},
   "outputs": [],
   "source": [
    "d = \"131\""
   ]
  },
  {
   "cell_type": "code",
   "execution_count": 102,
   "id": "b27fd58d",
   "metadata": {},
   "outputs": [
    {
     "data": {
      "text/plain": [
       "True"
      ]
     },
     "execution_count": 102,
     "metadata": {},
     "output_type": "execute_result"
    }
   ],
   "source": [
    "d.isdigit()"
   ]
  },
  {
   "cell_type": "code",
   "execution_count": 104,
   "id": "9b8c2565",
   "metadata": {},
   "outputs": [],
   "source": [
    "s = \"manoj\""
   ]
  },
  {
   "cell_type": "code",
   "execution_count": 105,
   "id": "71f9a644",
   "metadata": {},
   "outputs": [
    {
     "data": {
      "text/plain": [
       "False"
      ]
     },
     "execution_count": 105,
     "metadata": {},
     "output_type": "execute_result"
    }
   ],
   "source": [
    "s.endswith(\"s\")"
   ]
  },
  {
   "cell_type": "code",
   "execution_count": 107,
   "id": "6ac075a1",
   "metadata": {},
   "outputs": [
    {
     "data": {
      "text/plain": [
       "False"
      ]
     },
     "execution_count": 107,
     "metadata": {},
     "output_type": "execute_result"
    }
   ],
   "source": [
    "s.endswith('m')"
   ]
  },
  {
   "cell_type": "code",
   "execution_count": 108,
   "id": "0ad1db80",
   "metadata": {},
   "outputs": [
    {
     "data": {
      "text/plain": [
       "True"
      ]
     },
     "execution_count": 108,
     "metadata": {},
     "output_type": "execute_result"
    }
   ],
   "source": [
    "s.endswith(\"j\")"
   ]
  },
  {
   "cell_type": "code",
   "execution_count": 109,
   "id": "d07c8e20",
   "metadata": {},
   "outputs": [
    {
     "data": {
      "text/plain": [
       "False"
      ]
     },
     "execution_count": 109,
     "metadata": {},
     "output_type": "execute_result"
    }
   ],
   "source": [
    "s.startswith(\"l\")"
   ]
  },
  {
   "cell_type": "code",
   "execution_count": 110,
   "id": "4873df3a",
   "metadata": {},
   "outputs": [
    {
     "data": {
      "text/plain": [
       "False"
      ]
     },
     "execution_count": 110,
     "metadata": {},
     "output_type": "execute_result"
    }
   ],
   "source": [
    "s.startswith(\"M\")"
   ]
  },
  {
   "cell_type": "code",
   "execution_count": 111,
   "id": "237201d0",
   "metadata": {},
   "outputs": [
    {
     "data": {
      "text/plain": [
       "True"
      ]
     },
     "execution_count": 111,
     "metadata": {},
     "output_type": "execute_result"
    }
   ],
   "source": [
    "s.startswith('m')"
   ]
  },
  {
   "cell_type": "code",
   "execution_count": 112,
   "id": "4f1ad943",
   "metadata": {},
   "outputs": [
    {
     "data": {
      "text/plain": [
       "'manoj'"
      ]
     },
     "execution_count": 112,
     "metadata": {},
     "output_type": "execute_result"
    }
   ],
   "source": [
    "s"
   ]
  },
  {
   "cell_type": "code",
   "execution_count": 113,
   "id": "837d53f0",
   "metadata": {},
   "outputs": [
    {
     "data": {
      "text/plain": [
       "True"
      ]
     },
     "execution_count": 113,
     "metadata": {},
     "output_type": "execute_result"
    }
   ],
   "source": [
    "s.isalnum()"
   ]
  },
  {
   "cell_type": "code",
   "execution_count": 114,
   "id": "f5317590",
   "metadata": {},
   "outputs": [
    {
     "data": {
      "text/plain": [
       "True"
      ]
     },
     "execution_count": 114,
     "metadata": {},
     "output_type": "execute_result"
    }
   ],
   "source": [
    "s.isalpha()"
   ]
  },
  {
   "cell_type": "code",
   "execution_count": 115,
   "id": "4ffd987f",
   "metadata": {},
   "outputs": [
    {
     "data": {
      "text/plain": [
       "False"
      ]
     },
     "execution_count": 115,
     "metadata": {},
     "output_type": "execute_result"
    }
   ],
   "source": [
    "s.isnumeric()"
   ]
  },
  {
   "cell_type": "code",
   "execution_count": 116,
   "id": "0d8d589a",
   "metadata": {},
   "outputs": [
    {
     "data": {
      "text/plain": [
       "False"
      ]
     },
     "execution_count": 116,
     "metadata": {},
     "output_type": "execute_result"
    }
   ],
   "source": [
    "s.istitle()"
   ]
  },
  {
   "cell_type": "code",
   "execution_count": 117,
   "id": "8e71bd8a",
   "metadata": {},
   "outputs": [],
   "source": [
    "s=\"Mnaoj\""
   ]
  },
  {
   "cell_type": "code",
   "execution_count": 118,
   "id": "000d4d89",
   "metadata": {},
   "outputs": [
    {
     "data": {
      "text/plain": [
       "True"
      ]
     },
     "execution_count": 118,
     "metadata": {},
     "output_type": "execute_result"
    }
   ],
   "source": [
    "s.istitle()"
   ]
  },
  {
   "cell_type": "code",
   "execution_count": 119,
   "id": "4f8d6dc0",
   "metadata": {},
   "outputs": [],
   "source": [
    "s= \"manoj123\""
   ]
  },
  {
   "cell_type": "code",
   "execution_count": 120,
   "id": "ae2359aa",
   "metadata": {},
   "outputs": [
    {
     "data": {
      "text/plain": [
       "True"
      ]
     },
     "execution_count": 120,
     "metadata": {},
     "output_type": "execute_result"
    }
   ],
   "source": [
    "s.isalnum()"
   ]
  },
  {
   "cell_type": "code",
   "execution_count": 122,
   "id": "5a910ee3",
   "metadata": {},
   "outputs": [
    {
     "data": {
      "text/plain": [
       "False"
      ]
     },
     "execution_count": 122,
     "metadata": {},
     "output_type": "execute_result"
    }
   ],
   "source": [
    "s.isnumeric()"
   ]
  },
  {
   "cell_type": "code",
   "execution_count": 126,
   "id": "d3395c52",
   "metadata": {},
   "outputs": [
    {
     "data": {
      "text/plain": [
       "False"
      ]
     },
     "execution_count": 126,
     "metadata": {},
     "output_type": "execute_result"
    }
   ],
   "source": [
    "s.isalpha()"
   ]
  },
  {
   "cell_type": "code",
   "execution_count": 128,
   "id": "1520e0b4",
   "metadata": {},
   "outputs": [],
   "source": [
    "s= \"this is a full stack batch\""
   ]
  },
  {
   "cell_type": "code",
   "execution_count": 129,
   "id": "36feb0bf",
   "metadata": {},
   "outputs": [
    {
     "data": {
      "text/plain": [
       "26"
      ]
     },
     "execution_count": 129,
     "metadata": {},
     "output_type": "execute_result"
    }
   ],
   "source": [
    "len(s)"
   ]
  },
  {
   "cell_type": "code",
   "execution_count": 147,
   "id": "8f5c6c23",
   "metadata": {},
   "outputs": [
    {
     "name": "stdout",
     "output_type": "stream",
     "text": [
      "8\n",
      "17\n",
      "22\n"
     ]
    }
   ],
   "source": [
    "for i in range(len(s)):\n",
    "    if(s[i]=='a'):\n",
    "        print(i)\n",
    "    "
   ]
  },
  {
   "cell_type": "code",
   "execution_count": 148,
   "id": "8f273cab",
   "metadata": {},
   "outputs": [
    {
     "name": "stdout",
     "output_type": "stream",
     "text": [
      "t\n",
      "h\n",
      "i\n",
      "s\n",
      " \n",
      "i\n",
      "s\n",
      " \n",
      "a\n",
      " \n",
      "f\n",
      "u\n",
      "l\n",
      "l\n",
      " \n",
      "s\n",
      "t\n",
      "a\n",
      "c\n",
      "k\n",
      " \n",
      "b\n",
      "a\n",
      "t\n",
      "c\n",
      "h\n"
     ]
    }
   ],
   "source": [
    "for i in s:\n",
    "    print(i)"
   ]
  },
  {
   "cell_type": "code",
   "execution_count": 149,
   "id": "e07df810",
   "metadata": {},
   "outputs": [
    {
     "data": {
      "text/plain": [
       "'this is a full stack batch'"
      ]
     },
     "execution_count": 149,
     "metadata": {},
     "output_type": "execute_result"
    }
   ],
   "source": [
    "s"
   ]
  },
  {
   "cell_type": "code",
   "execution_count": 150,
   "id": "4677d9e5",
   "metadata": {},
   "outputs": [
    {
     "name": "stdout",
     "output_type": "stream",
     "text": [
      "0\n",
      "1\n",
      "2\n",
      "3\n",
      "4\n",
      "5\n",
      "6\n",
      "7\n",
      "8\n",
      "9\n",
      "10\n",
      "11\n",
      "12\n",
      "13\n",
      "14\n",
      "15\n",
      "16\n",
      "17\n",
      "18\n",
      "19\n",
      "20\n",
      "21\n",
      "22\n",
      "23\n",
      "24\n",
      "25\n"
     ]
    }
   ],
   "source": [
    "for i in range(len(s)):\n",
    "    print(i)"
   ]
  },
  {
   "cell_type": "code",
   "execution_count": 17,
   "id": "a0ff8516",
   "metadata": {},
   "outputs": [
    {
     "data": {
      "text/plain": [
       "'my name is'"
      ]
     },
     "execution_count": 17,
     "metadata": {},
     "output_type": "execute_result"
    }
   ],
   "source": [
    "s"
   ]
  },
  {
   "cell_type": "code",
   "execution_count": 18,
   "id": "4751cc20",
   "metadata": {},
   "outputs": [
    {
     "data": {
      "text/plain": [
       "10"
      ]
     },
     "execution_count": 18,
     "metadata": {},
     "output_type": "execute_result"
    }
   ],
   "source": [
    "len(s)      #or without len function"
   ]
  },
  {
   "cell_type": "code",
   "execution_count": 19,
   "id": "62a097ec",
   "metadata": {},
   "outputs": [
    {
     "name": "stdout",
     "output_type": "stream",
     "text": [
      "10\n"
     ]
    }
   ],
   "source": [
    "count=0\n",
    "for i in s:\n",
    "    count=count+1\n",
    "print(count) "
   ]
  },
  {
   "cell_type": "code",
   "execution_count": 21,
   "id": "a9d2c29a",
   "metadata": {},
   "outputs": [],
   "source": [
    "s=\"manoj\""
   ]
  },
  {
   "cell_type": "code",
   "execution_count": 22,
   "id": "5605724e",
   "metadata": {},
   "outputs": [
    {
     "name": "stdout",
     "output_type": "stream",
     "text": [
      "m\n",
      "a\n",
      "n\n",
      "o\n",
      "j\n"
     ]
    }
   ],
   "source": [
    "for i in s:\n",
    "    print(i)"
   ]
  },
  {
   "cell_type": "code",
   "execution_count": 23,
   "id": "052868dc",
   "metadata": {},
   "outputs": [
    {
     "name": "stdout",
     "output_type": "stream",
     "text": [
      "0\n",
      "1\n",
      "2\n",
      "3\n",
      "4\n"
     ]
    }
   ],
   "source": [
    "for i in range(len(s)):\n",
    "    print(i)"
   ]
  },
  {
   "cell_type": "code",
   "execution_count": 33,
   "id": "55508595",
   "metadata": {},
   "outputs": [],
   "source": [
    "ss = 'manoj monu sharma'"
   ]
  },
  {
   "cell_type": "code",
   "execution_count": 34,
   "id": "deef4bde",
   "metadata": {},
   "outputs": [
    {
     "name": "stdout",
     "output_type": "stream",
     "text": [
      "6\n",
      "7\n",
      "8\n",
      "9\n"
     ]
    }
   ],
   "source": [
    "b= ss.find('monu')\n",
    "for i in range(len('monu')):\n",
    "    print(i+b)"
   ]
  },
  {
   "cell_type": "code",
   "execution_count": 66,
   "id": "d6918ad3",
   "metadata": {},
   "outputs": [
    {
     "name": "stdout",
     "output_type": "stream",
     "text": [
      "m\n",
      "j\n",
      "o\n",
      "n\n",
      "a\n"
     ]
    }
   ],
   "source": [
    "s = 'manoj'\n",
    "for i in range(len(s)):\n",
    "    print(s[-i])"
   ]
  },
  {
   "cell_type": "code",
   "execution_count": 37,
   "id": "85e27e76",
   "metadata": {},
   "outputs": [
    {
     "ename": "IndexError",
     "evalue": "string index out of range",
     "output_type": "error",
     "traceback": [
      "\u001b[1;31m---------------------------------------------------------------------------\u001b[0m",
      "\u001b[1;31mIndexError\u001b[0m                                Traceback (most recent call last)",
      "\u001b[1;32m~\\AppData\\Local\\Temp/ipykernel_14884/3074013798.py\u001b[0m in \u001b[0;36m<module>\u001b[1;34m\u001b[0m\n\u001b[0;32m      2\u001b[0m \u001b[0ma\u001b[0m \u001b[1;33m=\u001b[0m \u001b[0mlen\u001b[0m\u001b[1;33m(\u001b[0m\u001b[0ms\u001b[0m\u001b[1;33m)\u001b[0m\u001b[1;33m\u001b[0m\u001b[1;33m\u001b[0m\u001b[0m\n\u001b[0;32m      3\u001b[0m \u001b[1;32mwhile\u001b[0m \u001b[0ma\u001b[0m\u001b[1;33m>=\u001b[0m\u001b[1;36m0\u001b[0m\u001b[1;33m:\u001b[0m\u001b[1;33m\u001b[0m\u001b[1;33m\u001b[0m\u001b[0m\n\u001b[1;32m----> 4\u001b[1;33m     \u001b[0mprint\u001b[0m\u001b[1;33m(\u001b[0m\u001b[0ms\u001b[0m\u001b[1;33m[\u001b[0m\u001b[0ma\u001b[0m\u001b[1;33m]\u001b[0m\u001b[1;33m)\u001b[0m\u001b[1;33m\u001b[0m\u001b[1;33m\u001b[0m\u001b[0m\n\u001b[0m\u001b[0;32m      5\u001b[0m     \u001b[0ma\u001b[0m\u001b[1;33m=\u001b[0m\u001b[0ma\u001b[0m\u001b[1;33m-\u001b[0m\u001b[1;36m1\u001b[0m\u001b[1;33m\u001b[0m\u001b[1;33m\u001b[0m\u001b[0m\n",
      "\u001b[1;31mIndexError\u001b[0m: string index out of range"
     ]
    }
   ],
   "source": [
    "s = \"manoj\"\n",
    "a = len(s)   #because len function will give value count 5 however index start from 0\n",
    "while a>=0:\n",
    "    print(s[a])\n",
    "    a=a-1"
   ]
  },
  {
   "cell_type": "code",
   "execution_count": 209,
   "id": "fce31520",
   "metadata": {},
   "outputs": [
    {
     "name": "stdout",
     "output_type": "stream",
     "text": [
      "j\n",
      "o\n",
      "n\n",
      "a\n",
      "m\n"
     ]
    }
   ],
   "source": [
    "s = \"manoj\"\n",
    "a = len(s)-1 \n",
    "while a>=0:\n",
    "    print(s[a])\n",
    "    a=a-1\n"
   ]
  },
  {
   "cell_type": "code",
   "execution_count": 216,
   "id": "3c9249e7",
   "metadata": {},
   "outputs": [
    {
     "name": "stdout",
     "output_type": "stream",
     "text": [
      "i is a vowel\n",
      "n is not a vowel\n",
      "e is a vowel\n",
      "r is not a vowel\n",
      "u is a vowel\n",
      "o is a vowel\n",
      "n is not a vowel\n"
     ]
    }
   ],
   "source": [
    "a = \"ineruon\"\n",
    "b = \"AeEeIiOoUu\" \n",
    " \n",
    "for i in a:\n",
    "    if i in b:\n",
    "        print(\"{} is a vowel\".format(i))\n",
    "    else:\n",
    "        print(\"{} is not a vowel\".format(i))"
   ]
  },
  {
   "cell_type": "code",
   "execution_count": 219,
   "id": "55d2709c",
   "metadata": {},
   "outputs": [
    {
     "data": {
      "text/plain": [
       "'manoj is my name'"
      ]
     },
     "execution_count": 219,
     "metadata": {},
     "output_type": "execute_result"
    }
   ],
   "source": [
    "\"{} is my name\".format(\"manoj\")"
   ]
  },
  {
   "cell_type": "markdown",
   "id": "a7cfabc7",
   "metadata": {},
   "source": []
  },
  {
   "cell_type": "code",
   "execution_count": 223,
   "id": "d35d78a3",
   "metadata": {},
   "outputs": [
    {
     "data": {
      "text/plain": [
       "'manoj is my frist and sharma is my second name'"
      ]
     },
     "execution_count": 223,
     "metadata": {},
     "output_type": "execute_result"
    }
   ],
   "source": [
    "\"{} is my frist and {} is my second name\".format(\"manoj\",\"sharma\")"
   ]
  },
  {
   "cell_type": "code",
   "execution_count": 227,
   "id": "f0a30787",
   "metadata": {},
   "outputs": [
    {
     "name": "stdout",
     "output_type": "stream",
     "text": [
      "manoj\n",
      "sharma\n"
     ]
    }
   ],
   "source": [
    "a = input()\n",
    "b = input()"
   ]
  },
  {
   "cell_type": "code",
   "execution_count": 229,
   "id": "4b2f5282",
   "metadata": {},
   "outputs": [
    {
     "data": {
      "text/plain": [
       "'manoj is my frist and sharma is my second name'"
      ]
     },
     "execution_count": 229,
     "metadata": {},
     "output_type": "execute_result"
    }
   ],
   "source": [
    "\"{} is my frist and {} is my second name\".format(a,b)"
   ]
  },
  {
   "cell_type": "code",
   "execution_count": 8,
   "id": "358355c3",
   "metadata": {},
   "outputs": [
    {
     "name": "stdout",
     "output_type": "stream",
     "text": [
      "manoj\n",
      "sharma\n",
      "33\n",
      "40k\n"
     ]
    }
   ],
   "source": [
    "a = input()\n",
    "b = input()\n",
    "c = input()\n",
    "d = input()"
   ]
  },
  {
   "cell_type": "code",
   "execution_count": 10,
   "id": "33ac39cc",
   "metadata": {},
   "outputs": [
    {
     "data": {
      "text/plain": [
       "'manoj is my frist and sharma is my last name, my age is 33 and I earn 40k salary'"
      ]
     },
     "execution_count": 10,
     "metadata": {},
     "output_type": "execute_result"
    }
   ],
   "source": [
    "\"{} is my frist and {} is my last name, my age is {} and I earn {} salary\".format(a,b,c,d)"
   ]
  },
  {
   "cell_type": "code",
   "execution_count": 12,
   "id": "6c657bdb",
   "metadata": {},
   "outputs": [],
   "source": [
    "a = \"xyx\"\n",
    "b = 2002\n",
    "c = \"eye\"\n",
    "d = \"nitin\"\n"
   ]
  },
  {
   "cell_type": "code",
   "execution_count": 69,
   "id": "35652355",
   "metadata": {},
   "outputs": [
    {
     "name": "stdout",
     "output_type": "stream",
     "text": [
      "enter a data for which you would like to check pelindrom :- eye eye\n",
      "its a same\n"
     ]
    }
   ],
   "source": [
    "s = input(\"enter a data for which you would like to check pelindrom :-  \")\n",
    "s1 = s[::-1]\n",
    "if s ==s1:\n",
    "    print(\"its a same\")\n",
    "else :\n",
    "    print(\"its not a same\")"
   ]
  },
  {
   "cell_type": "code",
   "execution_count": 24,
   "id": "9b4f4699",
   "metadata": {},
   "outputs": [],
   "source": [
    "l = [\"sudh\",34,35,45,[24,55]]"
   ]
  },
  {
   "cell_type": "code",
   "execution_count": 25,
   "id": "705c764c",
   "metadata": {},
   "outputs": [
    {
     "data": {
      "text/plain": [
       "45"
      ]
     },
     "execution_count": 25,
     "metadata": {},
     "output_type": "execute_result"
    }
   ],
   "source": [
    "l[3]"
   ]
  },
  {
   "cell_type": "code",
   "execution_count": 26,
   "id": "96c9080e",
   "metadata": {},
   "outputs": [
    {
     "data": {
      "text/plain": [
       "['sudh', 34, 35]"
      ]
     },
     "execution_count": 26,
     "metadata": {},
     "output_type": "execute_result"
    }
   ],
   "source": [
    "l[0:3]"
   ]
  },
  {
   "cell_type": "code",
   "execution_count": 27,
   "id": "01811c3a",
   "metadata": {},
   "outputs": [
    {
     "data": {
      "text/plain": [
       "[]"
      ]
     },
     "execution_count": 27,
     "metadata": {},
     "output_type": "execute_result"
    }
   ],
   "source": [
    "l[0:3:-1]"
   ]
  },
  {
   "cell_type": "code",
   "execution_count": 28,
   "id": "fbb8b343",
   "metadata": {},
   "outputs": [
    {
     "data": {
      "text/plain": [
       "[45, 35, 34]"
      ]
     },
     "execution_count": 28,
     "metadata": {},
     "output_type": "execute_result"
    }
   ],
   "source": [
    "l[3:0:-1]"
   ]
  },
  {
   "cell_type": "code",
   "execution_count": 29,
   "id": "059018fa",
   "metadata": {},
   "outputs": [
    {
     "data": {
      "text/plain": [
       "[[24, 55], 45, 35, 34, 'sudh']"
      ]
     },
     "execution_count": 29,
     "metadata": {},
     "output_type": "execute_result"
    }
   ],
   "source": [
    "l[::-1]"
   ]
  },
  {
   "cell_type": "code",
   "execution_count": 30,
   "id": "16aa31e4",
   "metadata": {},
   "outputs": [
    {
     "data": {
      "text/plain": [
       "['sudh', 34, 35, 45, [24, 55]]"
      ]
     },
     "execution_count": 30,
     "metadata": {},
     "output_type": "execute_result"
    }
   ],
   "source": [
    "l"
   ]
  },
  {
   "cell_type": "code",
   "execution_count": 31,
   "id": "a1aa7b72",
   "metadata": {},
   "outputs": [],
   "source": [
    "s = \"manoj\""
   ]
  },
  {
   "cell_type": "code",
   "execution_count": 32,
   "id": "8aa3abc9",
   "metadata": {},
   "outputs": [
    {
     "ename": "TypeError",
     "evalue": "can only concatenate list (not \"str\") to list",
     "output_type": "error",
     "traceback": [
      "\u001b[1;31m---------------------------------------------------------------------------\u001b[0m",
      "\u001b[1;31mTypeError\u001b[0m                                 Traceback (most recent call last)",
      "\u001b[1;32m~\\AppData\\Local\\Temp/ipykernel_7416/1140923193.py\u001b[0m in \u001b[0;36m<module>\u001b[1;34m\u001b[0m\n\u001b[1;32m----> 1\u001b[1;33m \u001b[0ml\u001b[0m\u001b[1;33m+\u001b[0m\u001b[0ms\u001b[0m\u001b[1;33m\u001b[0m\u001b[1;33m\u001b[0m\u001b[0m\n\u001b[0m",
      "\u001b[1;31mTypeError\u001b[0m: can only concatenate list (not \"str\") to list"
     ]
    }
   ],
   "source": [
    "l+s"
   ]
  },
  {
   "cell_type": "code",
   "execution_count": 34,
   "id": "07d65ea3",
   "metadata": {},
   "outputs": [],
   "source": [
    "s = list(s)"
   ]
  },
  {
   "cell_type": "code",
   "execution_count": 35,
   "id": "9a826339",
   "metadata": {},
   "outputs": [
    {
     "data": {
      "text/plain": [
       "['sudh', 34, 35, 45, [24, 55], 'm', 'a', 'n', 'o', 'j']"
      ]
     },
     "execution_count": 35,
     "metadata": {},
     "output_type": "execute_result"
    }
   ],
   "source": [
    "l+s"
   ]
  },
  {
   "cell_type": "code",
   "execution_count": 36,
   "id": "4dd2278e",
   "metadata": {},
   "outputs": [],
   "source": [
    "s = [\"manoj\"]"
   ]
  },
  {
   "cell_type": "code",
   "execution_count": 37,
   "id": "22df29a4",
   "metadata": {},
   "outputs": [
    {
     "data": {
      "text/plain": [
       "['sudh', 34, 35, 45, [24, 55], 'manoj']"
      ]
     },
     "execution_count": 37,
     "metadata": {},
     "output_type": "execute_result"
    }
   ],
   "source": [
    "l+s"
   ]
  },
  {
   "cell_type": "code",
   "execution_count": 40,
   "id": "3bd9fc00",
   "metadata": {},
   "outputs": [
    {
     "data": {
      "text/plain": [
       "5"
      ]
     },
     "execution_count": 40,
     "metadata": {},
     "output_type": "execute_result"
    }
   ],
   "source": [
    "len(l)"
   ]
  },
  {
   "cell_type": "code",
   "execution_count": 42,
   "id": "c4bcbac9",
   "metadata": {},
   "outputs": [
    {
     "data": {
      "text/plain": [
       "True"
      ]
     },
     "execution_count": 42,
     "metadata": {},
     "output_type": "execute_result"
    }
   ],
   "source": [
    "\"sudh\" in l"
   ]
  },
  {
   "cell_type": "code",
   "execution_count": null,
   "id": "0636a5f9",
   "metadata": {},
   "outputs": [],
   "source": []
  }
 ],
 "metadata": {
  "kernelspec": {
   "display_name": "Python 3 (ipykernel)",
   "language": "python",
   "name": "python3"
  },
  "language_info": {
   "codemirror_mode": {
    "name": "ipython",
    "version": 3
   },
   "file_extension": ".py",
   "mimetype": "text/x-python",
   "name": "python",
   "nbconvert_exporter": "python",
   "pygments_lexer": "ipython3",
   "version": "3.9.7"
  }
 },
 "nbformat": 4,
 "nbformat_minor": 5
}
