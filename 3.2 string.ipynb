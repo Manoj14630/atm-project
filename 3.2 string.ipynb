{
 "cells": [
  {
   "cell_type": "code",
   "execution_count": 4,
   "id": "6ed32e4f",
   "metadata": {},
   "outputs": [],
   "source": [
    "a = \" maNoJshARmA123  monu   \""
   ]
  },
  {
   "cell_type": "code",
   "execution_count": 19,
   "id": "ce375b8e",
   "metadata": {},
   "outputs": [
    {
     "name": "stdout",
     "output_type": "stream",
     "text": [
      " MANOJSHARMA123  MONU   \n",
      " manojsharma123  monu   \n",
      " manojsharma123  monu   \n",
      " Manojsharma123  Monu   \n"
     ]
    }
   ],
   "source": [
    "print(a.upper())\n",
    "print(a.lower())\n",
    "print(a.capitalize())\n",
    "print(a.title())"
   ]
  },
  {
   "cell_type": "code",
   "execution_count": 8,
   "id": "95b3c68d",
   "metadata": {},
   "outputs": [
    {
     "name": "stdout",
     "output_type": "stream",
     "text": [
      "   unom  321AmRAhsJoNam \n"
     ]
    }
   ],
   "source": [
    "print(a[::-1])\n"
   ]
  },
  {
   "cell_type": "code",
   "execution_count": 10,
   "id": "94850b8f",
   "metadata": {},
   "outputs": [
    {
     "name": "stdout",
     "output_type": "stream",
     "text": [
      "   unom  321AmRAhsJoNam \n",
      "### maNoJshARmA123  monu   ###\n",
      "False\n",
      "False\n",
      "False\n",
      "False\n",
      "False\n"
     ]
    }
   ],
   "source": [
    "print(''.join(reversed(a)))\n",
    "print(a.center(30,'#'))\n",
    "print(a.isspace())\n",
    "print(a.isdigit())\n",
    "print(a.isnumeric())\n",
    "print(a.isalpha())\n",
    "print(a.isalnum())\n"
   ]
  },
  {
   "cell_type": "code",
   "execution_count": 13,
   "id": "2927615f",
   "metadata": {},
   "outputs": [
    {
     "name": "stdout",
     "output_type": "stream",
     "text": [
      "False\n",
      "False\n",
      "False\n",
      "False\n",
      "True\n",
      "False\n",
      "False\n"
     ]
    }
   ],
   "source": [
    "print(a.startswith('a'))\n",
    "print(a.startswith('m'))\n",
    "print(a.startswith('M'))\n",
    "print(a.endswith('3'))\n",
    "print(a.isascii())\n",
    "print(a.islower())\n",
    "print(a.isupper())\n"
   ]
  },
  {
   "cell_type": "code",
   "execution_count": 15,
   "id": "6fe8ca9b",
   "metadata": {},
   "outputs": [
    {
     "name": "stdout",
     "output_type": "stream",
     "text": [
      "maNoJshARmA123  monu\n",
      "maNoJshARmA123  monu   \n",
      " maNoJshARmA123  monu\n"
     ]
    }
   ],
   "source": [
    "print(a.strip())\n",
    "print(a.lstrip())\n",
    "print(a.rstrip())\n"
   ]
  },
  {
   "cell_type": "code",
   "execution_count": 17,
   "id": "eb875446",
   "metadata": {},
   "outputs": [
    {
     "name": "stdout",
     "output_type": "stream",
     "text": [
      "['maNoJshARmA123', 'monu']\n",
      "[' maNo', 'shARmA123  monu   ']\n"
     ]
    }
   ],
   "source": [
    "print(a.split( ))\n",
    "print(a.split('J' ))\n",
    "\n"
   ]
  },
  {
   "cell_type": "code",
   "execution_count": 27,
   "id": "075c6ba0",
   "metadata": {},
   "outputs": [
    {
     "ename": "AttributeError",
     "evalue": "'list' object has no attribute 'splitlines'",
     "output_type": "error",
     "traceback": [
      "\u001b[1;31m---------------------------------------------------------------------------\u001b[0m",
      "\u001b[1;31mAttributeError\u001b[0m                            Traceback (most recent call last)",
      "\u001b[1;32m~\\AppData\\Local\\Temp/ipykernel_16676/2236703287.py\u001b[0m in \u001b[0;36m<module>\u001b[1;34m\u001b[0m\n\u001b[1;32m----> 1\u001b[1;33m \u001b[0mprint\u001b[0m\u001b[1;33m(\u001b[0m\u001b[0ma\u001b[0m\u001b[1;33m.\u001b[0m\u001b[0msplitlines\u001b[0m\u001b[1;33m(\u001b[0m\u001b[1;33m)\u001b[0m\u001b[1;33m)\u001b[0m \u001b[1;31m#there is no line\u001b[0m\u001b[1;33m\u001b[0m\u001b[1;33m\u001b[0m\u001b[0m\n\u001b[0m\u001b[0;32m      2\u001b[0m \u001b[0mb\u001b[0m \u001b[1;33m=\u001b[0m \u001b[1;34m\"maNo\\JshA\\RmA\\mam\"\u001b[0m\u001b[1;33m\u001b[0m\u001b[1;33m\u001b[0m\u001b[0m\n\u001b[0;32m      3\u001b[0m \u001b[0mprint\u001b[0m\u001b[1;33m(\u001b[0m\u001b[0mb\u001b[0m\u001b[1;33m.\u001b[0m\u001b[0mexpandtabs\u001b[0m\u001b[1;33m(\u001b[0m\u001b[1;33m)\u001b[0m\u001b[1;33m)\u001b[0m\u001b[1;33m\u001b[0m\u001b[1;33m\u001b[0m\u001b[0m\n\u001b[0;32m      4\u001b[0m \u001b[1;33m\u001b[0m\u001b[0m\n",
      "\u001b[1;31mAttributeError\u001b[0m: 'list' object has no attribute 'splitlines'"
     ]
    }
   ],
   "source": [
    "print(a.splitlines()) #there is no line\n",
    "b = \"maNo\\JshA\\RmA\\mam\"\n",
    "print(b.expandtabs())\n",
    "\n"
   ]
  },
  {
   "cell_type": "code",
   "execution_count": 28,
   "id": "c4c66487",
   "metadata": {},
   "outputs": [
    {
     "name": "stdout",
     "output_type": "stream",
     "text": [
      "['Hi', 'we', 'are', 'here', 'to', 'learn', 'new', 'things', 'and', 'want', 'your', 'output.']\n",
      "12\n",
      "4\n"
     ]
    }
   ],
   "source": [
    "c = \"Hi we are here to learn new things and want your output.\"\n",
    "print(c.split())\n",
    "print(len(c.split()))\n",
    "d = \"Hi we\\n are here to\\n learn new things\\n and want your output.\"\n",
    "print(len(d.splitlines()))"
   ]
  },
  {
   "cell_type": "code",
   "execution_count": null,
   "id": "8c4df70d",
   "metadata": {},
   "outputs": [],
   "source": []
  },
  {
   "cell_type": "code",
   "execution_count": 22,
   "id": "40e26b01",
   "metadata": {},
   "outputs": [
    {
     "name": "stdout",
     "output_type": "stream",
     "text": [
      "None\n"
     ]
    }
   ],
   "source": [
    "a =[2,6,7,0,\"manoj\",True]\n",
    "print(a.append(\"M\"))"
   ]
  },
  {
   "cell_type": "code",
   "execution_count": 23,
   "id": "c74c1085",
   "metadata": {},
   "outputs": [
    {
     "data": {
      "text/plain": [
       "[2, 6, 7, 0, 'manoj', True, 'M']"
      ]
     },
     "execution_count": 23,
     "metadata": {},
     "output_type": "execute_result"
    }
   ],
   "source": [
    "a"
   ]
  },
  {
   "cell_type": "code",
   "execution_count": 10,
   "id": "b050ba3c",
   "metadata": {},
   "outputs": [
    {
     "name": "stdout",
     "output_type": "stream",
     "text": [
      "None\n"
     ]
    }
   ],
   "source": [
    "a =[2,6,7,0,\"manoj\",True,[203,5,5,1,16]]\n",
    "print(a.extend(\"momu\"))"
   ]
  },
  {
   "cell_type": "code",
   "execution_count": null,
   "id": "c572c9ad",
   "metadata": {},
   "outputs": [],
   "source": []
  }
 ],
 "metadata": {
  "kernelspec": {
   "display_name": "Python 3 (ipykernel)",
   "language": "python",
   "name": "python3"
  },
  "language_info": {
   "codemirror_mode": {
    "name": "ipython",
    "version": 3
   },
   "file_extension": ".py",
   "mimetype": "text/x-python",
   "name": "python",
   "nbconvert_exporter": "python",
   "pygments_lexer": "ipython3",
   "version": "3.9.7"
  }
 },
 "nbformat": 4,
 "nbformat_minor": 5
}
