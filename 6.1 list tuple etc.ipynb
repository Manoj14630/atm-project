{
 "cells": [
  {
   "cell_type": "code",
   "execution_count": 1,
   "id": "cdb75b6f",
   "metadata": {},
   "outputs": [],
   "source": [
    "a = [1,23,[1,56],\"manoj\",True]"
   ]
  },
  {
   "cell_type": "code",
   "execution_count": 2,
   "id": "5e659a7e",
   "metadata": {},
   "outputs": [],
   "source": [
    "a.append(\"monu\")"
   ]
  },
  {
   "cell_type": "code",
   "execution_count": 3,
   "id": "ca296993",
   "metadata": {},
   "outputs": [
    {
     "data": {
      "text/plain": [
       "[1, 23, [1, 56], 'manoj', True, 'monu']"
      ]
     },
     "execution_count": 3,
     "metadata": {},
     "output_type": "execute_result"
    }
   ],
   "source": [
    "a"
   ]
  },
  {
   "cell_type": "code",
   "execution_count": 4,
   "id": "ee74b5b1",
   "metadata": {},
   "outputs": [],
   "source": [
    "a.extend(\"sonu\")"
   ]
  },
  {
   "cell_type": "code",
   "execution_count": 5,
   "id": "6f47cfa1",
   "metadata": {},
   "outputs": [
    {
     "data": {
      "text/plain": [
       "[1, 23, [1, 56], 'manoj', True, 'monu', 's', 'o', 'n', 'u']"
      ]
     },
     "execution_count": 5,
     "metadata": {},
     "output_type": "execute_result"
    }
   ],
   "source": [
    "a"
   ]
  },
  {
   "cell_type": "code",
   "execution_count": 6,
   "id": "916270a7",
   "metadata": {},
   "outputs": [],
   "source": [
    "a.insert(1,[5,6,8])"
   ]
  },
  {
   "cell_type": "code",
   "execution_count": 7,
   "id": "f44d02d1",
   "metadata": {},
   "outputs": [
    {
     "data": {
      "text/plain": [
       "[1, [5, 6, 8], 23, [1, 56], 'manoj', True, 'monu', 's', 'o', 'n', 'u']"
      ]
     },
     "execution_count": 7,
     "metadata": {},
     "output_type": "execute_result"
    }
   ],
   "source": [
    "a"
   ]
  },
  {
   "cell_type": "code",
   "execution_count": 8,
   "id": "a0eeab1a",
   "metadata": {},
   "outputs": [],
   "source": [
    "b = {\"name\":\"manoj\",\"surname\":\"sharma\",\"k2\":\"keval\",\"name\":\"monu\"}"
   ]
  },
  {
   "cell_type": "code",
   "execution_count": 10,
   "id": "24e0a92e",
   "metadata": {},
   "outputs": [
    {
     "data": {
      "text/plain": [
       "{'name': 'monu', 'surname': 'sharma', 'k2': 'keval'}"
      ]
     },
     "execution_count": 10,
     "metadata": {},
     "output_type": "execute_result"
    }
   ],
   "source": [
    "b      #if key is same in dic it will executive last one only"
   ]
  },
  {
   "cell_type": "code",
   "execution_count": 11,
   "id": "d901dcde",
   "metadata": {},
   "outputs": [],
   "source": [
    "b[\"m2\"]=\"jana\""
   ]
  },
  {
   "cell_type": "code",
   "execution_count": 12,
   "id": "3955ea56",
   "metadata": {},
   "outputs": [
    {
     "data": {
      "text/plain": [
       "{'name': 'monu', 'surname': 'sharma', 'k2': 'keval', 'm2': 'jana'}"
      ]
     },
     "execution_count": 12,
     "metadata": {},
     "output_type": "execute_result"
    }
   ],
   "source": [
    "b"
   ]
  },
  {
   "cell_type": "code",
   "execution_count": null,
   "id": "d461173f",
   "metadata": {},
   "outputs": [],
   "source": []
  }
 ],
 "metadata": {
  "kernelspec": {
   "display_name": "Python 3 (ipykernel)",
   "language": "python",
   "name": "python3"
  },
  "language_info": {
   "codemirror_mode": {
    "name": "ipython",
    "version": 3
   },
   "file_extension": ".py",
   "mimetype": "text/x-python",
   "name": "python",
   "nbconvert_exporter": "python",
   "pygments_lexer": "ipython3",
   "version": "3.9.7"
  }
 },
 "nbformat": 4,
 "nbformat_minor": 5
}
